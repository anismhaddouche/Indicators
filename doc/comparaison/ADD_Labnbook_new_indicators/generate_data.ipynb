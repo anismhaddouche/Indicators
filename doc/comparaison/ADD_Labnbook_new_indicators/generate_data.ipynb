{
 "cells": [
  {
   "cell_type": "code",
   "execution_count": 1,
   "metadata": {},
   "outputs": [],
   "source": [
    "import sys\n",
    "sys.path.insert(\n",
    "    0, \"/Users/anis/test_labnbook/test_3_indicateurs/traces_contribution/sources\")\n",
    "sys.path.insert(\n",
    "    0, \"/Users/anis/test_labnbook/test_3_indicateurs/traces_collaboration_Anis_dispersion/sources\")\n",
    "sys.path.insert(\n",
    "    0, \"/Users/anis/test_labnbook/test_3_indicateurs/traces_collaboration_Anis_sans_ponderation/sources\")\n",
    "import numpy as np\n",
    "import config\n",
    "import mysql.connector as mariadb\n",
    "import pandas as pd\n",
    "\n",
    "\n",
    "pd.set_option('display.max_rows', 500)\n",
    "pd.set_option('display.max_columns', 500)\n",
    "pd.set_option('display.width', 1000)\n",
    "pd.set_option('display.max_colwidth', 100)\n",
    "\n",
    "try:\n",
    "    conn = mariadb.connect(user=config.USER, password=config.PASSWORD,\n",
    "                           host=config.HOST, database=config.DATABASE)\n",
    "except mariadb.Error as e:\n",
    "    print(f\"Error connecting to MariaDB Platform: {e}\")\n",
    "\n",
    "# Récupération du curseur\n",
    "cursor = conn.cursor()\n"
   ]
  },
  {
   "cell_type": "code",
   "execution_count": 2,
   "metadata": {},
   "outputs": [
    {
     "name": "stdout",
     "output_type": "stream",
     "text": [
      "<class 'pandas.core.frame.DataFrame'>\n",
      "RangeIndex: 20295 entries, 0 to 20294\n",
      "Data columns (total 7 columns):\n",
      " #   Column                        Non-Null Count  Dtype  \n",
      "---  ------                        --------------  -----  \n",
      " 0   id_labdoc                     20295 non-null  int64  \n",
      " 1   n_users                       20295 non-null  int64  \n",
      " 2   n_mots                        20295 non-null  int64  \n",
      " 3   equilibre_contribution        20295 non-null  float64\n",
      " 4   co_ecriture                   20295 non-null  float64\n",
      " 5   co_ecriture_sans_ponderation  20295 non-null  float64\n",
      " 6   co_ecriture_dispersion        20295 non-null  float64\n",
      "dtypes: float64(4), int64(3)\n",
      "memory usage: 1.1 MB\n"
     ]
    },
    {
     "data": {
      "text/plain": [
       "None"
      ]
     },
     "metadata": {},
     "output_type": "display_data"
    },
    {
     "data": {
      "text/html": [
       "<div>\n",
       "<style scoped>\n",
       "    .dataframe tbody tr th:only-of-type {\n",
       "        vertical-align: middle;\n",
       "    }\n",
       "\n",
       "    .dataframe tbody tr th {\n",
       "        vertical-align: top;\n",
       "    }\n",
       "\n",
       "    .dataframe thead th {\n",
       "        text-align: right;\n",
       "    }\n",
       "</style>\n",
       "<table border=\"1\" class=\"dataframe\">\n",
       "  <thead>\n",
       "    <tr style=\"text-align: right;\">\n",
       "      <th></th>\n",
       "      <th>id_labdoc</th>\n",
       "      <th>n_users</th>\n",
       "      <th>n_mots</th>\n",
       "      <th>equilibre_contribution</th>\n",
       "      <th>co_ecriture</th>\n",
       "      <th>co_ecriture_sans_ponderation</th>\n",
       "      <th>co_ecriture_dispersion</th>\n",
       "    </tr>\n",
       "  </thead>\n",
       "  <tbody>\n",
       "    <tr>\n",
       "      <th>0</th>\n",
       "      <td>313544</td>\n",
       "      <td>3</td>\n",
       "      <td>67</td>\n",
       "      <td>0.089902</td>\n",
       "      <td>0.086970</td>\n",
       "      <td>0.097949</td>\n",
       "      <td>0.175216</td>\n",
       "    </tr>\n",
       "    <tr>\n",
       "      <th>1</th>\n",
       "      <td>325259</td>\n",
       "      <td>2</td>\n",
       "      <td>180</td>\n",
       "      <td>0.947732</td>\n",
       "      <td>0.616471</td>\n",
       "      <td>0.606979</td>\n",
       "      <td>0.656825</td>\n",
       "    </tr>\n",
       "    <tr>\n",
       "      <th>2</th>\n",
       "      <td>313676</td>\n",
       "      <td>3</td>\n",
       "      <td>110</td>\n",
       "      <td>0.036662</td>\n",
       "      <td>0.035226</td>\n",
       "      <td>0.039054</td>\n",
       "      <td>0.073016</td>\n",
       "    </tr>\n",
       "    <tr>\n",
       "      <th>3</th>\n",
       "      <td>326302</td>\n",
       "      <td>3</td>\n",
       "      <td>180</td>\n",
       "      <td>0.000000</td>\n",
       "      <td>0.000000</td>\n",
       "      <td>0.000000</td>\n",
       "      <td>0.000000</td>\n",
       "    </tr>\n",
       "    <tr>\n",
       "      <th>4</th>\n",
       "      <td>313555</td>\n",
       "      <td>3</td>\n",
       "      <td>152</td>\n",
       "      <td>0.069033</td>\n",
       "      <td>0.066678</td>\n",
       "      <td>0.147966</td>\n",
       "      <td>0.261730</td>\n",
       "    </tr>\n",
       "  </tbody>\n",
       "</table>\n",
       "</div>"
      ],
      "text/plain": [
       "   id_labdoc  n_users  n_mots  equilibre_contribution  co_ecriture  co_ecriture_sans_ponderation  co_ecriture_dispersion\n",
       "0     313544        3      67                0.089902     0.086970                      0.097949                0.175216\n",
       "1     325259        2     180                0.947732     0.616471                      0.606979                0.656825\n",
       "2     313676        3     110                0.036662     0.035226                      0.039054                0.073016\n",
       "3     326302        3     180                0.000000     0.000000                      0.000000                0.000000\n",
       "4     313555        3     152                0.069033     0.066678                      0.147966                0.261730"
      ]
     },
     "metadata": {},
     "output_type": "display_data"
    }
   ],
   "source": [
    "# Importer les sorties des algo qui calculent nos indicateurs  \n",
    "data = pd.read_csv(\n",
    "    \"/Users/anis/test_labnbook/test_3_indicateurs/traces_contribution/tmp/Contribution.csv\")\n",
    "data.rename(columns={'indice_collab': 'equilibre_contribution'}, inplace=True)\n",
    "\n",
    "co_ecriture = pd.read_csv(\n",
    "    \"/Users/anis/test_labnbook/test_3_indicateurs/traces_collaboration_Anis/tmp/collab_Anis.csv\")['indice_collab']\n",
    "\n",
    "co_ecriture_dispersion = pd.read_csv(\n",
    "    '/Users/anis/test_labnbook/test_3_indicateurs/traces_collaboration_Anis_dispersion/tmp/collab_Anis_dispersion.csv')['indice_collab']\n",
    "\n",
    "co_ecriture_sans_ponderation = pd.read_csv(\n",
    "    \"/Users/anis/test_labnbook/test_3_indicateurs/traces_collaboration_Anis_sans_ponderation/tmp/collab_Anis_sans_ponderation.csv\")[\"indice_collab\"]\n",
    "\n",
    "\n",
    "data.insert(7, 'co_ecriture', co_ecriture)\n",
    "data.insert(8, 'co_ecriture_sans_ponderation', co_ecriture_sans_ponderation)\n",
    "\n",
    "data.insert(9, 'co_ecriture_dispersion', co_ecriture_dispersion)\n",
    "\n",
    "# Garder que la dérniére trace de chaque labdoc\n",
    "idx_labdocs = data['id_labdoc'].diff(\n",
    ")[data['id_labdoc'].diff() != 0].index.values\n",
    "idx_labdocs = np.delete(idx_labdocs, 0) - 1\n",
    "data = data[data.index.isin(idx_labdocs)]\n",
    "\n",
    "\n",
    "data = data.drop(data[data['n_users'] == 1].index).reset_index()\n",
    "data = data.drop([ \"id_mission\", \"id_report\", \"id_trace\",\"index\"], axis=1)\n",
    "display(data.info(),data.head())"
   ]
  },
  {
   "cell_type": "code",
   "execution_count": 3,
   "metadata": {},
   "outputs": [],
   "source": [
    "# Je récupère  l'id_action = 9  (trace de modification)  de tous les labdocs dans la table trace\n",
    "trace = pd.read_sql(\n",
    "    \" SELECT id_labdoc, action_time from trace WHERE  id_action=9 Order By id_labdoc ASC, action_time ASC\", conn)\n"
   ]
  },
  {
   "cell_type": "code",
   "execution_count": 4,
   "metadata": {},
   "outputs": [],
   "source": [
    "# Je fusionne trace et data avec l'intersection en id_labdoc pour avoir uniquement la trace des labdocs dont j'ai besoin \n",
    "df2 = pd.merge(data, trace, how='inner', on=['id_labdoc'])\n",
    "#display(df2.head(),df2.info())"
   ]
  },
  {
   "cell_type": "code",
   "execution_count": 5,
   "metadata": {},
   "outputs": [],
   "source": [
    "# Je récupére le nombre de trace modify de chaque labdoc \n",
    "size = df2.groupby(df2.id_labdoc,  as_index=False).size()\n",
    "#size.head()"
   ]
  },
  {
   "cell_type": "code",
   "execution_count": 6,
   "metadata": {},
   "outputs": [],
   "source": [
    "# Je rajoute ce nombre a la table \n",
    "df2 = pd.merge(df2, size, how='inner', on=['id_labdoc'])\n",
    "#df2.head()"
   ]
  },
  {
   "cell_type": "code",
   "execution_count": 7,
   "metadata": {},
   "outputs": [],
   "source": [
    "# Récupérer les index du changement de labdoc \n",
    "idx_time_change = df2['id_labdoc'].diff()[df2['id_labdoc'].diff() != 0].index.values"
   ]
  },
  {
   "cell_type": "code",
   "execution_count": 8,
   "metadata": {},
   "outputs": [],
   "source": [
    "#debut\n",
    "debut = df2.iloc[idx_time_change[:-1]].reset_index()\n",
    "debut.drop([\"index\"],axis=1,inplace=True )\n"
   ]
  },
  {
   "cell_type": "code",
   "execution_count": 9,
   "metadata": {},
   "outputs": [],
   "source": [
    "#fin\n",
    "fin_idx = np.delete(idx_time_change - 1, 0)\n",
    "fin = df2.iloc[fin_idx].reset_index()\n",
    "fin.drop([\"index\"], axis=1, inplace=True)\n"
   ]
  },
  {
   "cell_type": "code",
   "execution_count": 10,
   "metadata": {},
   "outputs": [],
   "source": [
    "fin[\"time\"] = fin.action_time - debut.action_time\n",
    "df = fin.drop([\"action_time\"], axis = 1)\n",
    "df.columns = [\"id_labdoc\"\t,\"n_users\",\t\"n_mots\", 'equilibre_contribution', 'co_ecriture', 'co_ecriture_sans_ponderation', 'co_ecriture_dispersion', \"n_modif\", \"duree\"]\n",
    "#df "
   ]
  },
  {
   "cell_type": "code",
   "execution_count": 11,
   "metadata": {},
   "outputs": [],
   "source": [
    "df.duree = df.duree.dt.total_seconds()\n",
    "#df.info()"
   ]
  },
  {
   "cell_type": "code",
   "execution_count": 12,
   "metadata": {},
   "outputs": [],
   "source": [
    "# Je recupére encore une fois la table trace \n",
    "trace2 = pd.read_sql(\n",
    "    \" SELECT id_labdoc, id_user from trace WHERE  id_action=9 Order By id_labdoc ASC, action_time ASC\", conn)\n"
   ]
  },
  {
   "cell_type": "code",
   "execution_count": 13,
   "metadata": {},
   "outputs": [],
   "source": [
    "# Je merge la table des traces dans la bdd avec mon data frame pour garder que les labdocs qui m'intéressent \n",
    "trace_df_merge = pd.merge(df, trace2, how='inner', on=['id_labdoc'])"
   ]
  },
  {
   "cell_type": "code",
   "execution_count": 14,
   "metadata": {},
   "outputs": [],
   "source": [
    "# Je calcule l'indice de coécriture \n",
    "indic_coec = []\n",
    "for _, id in enumerate(trace_df_merge[\"id_labdoc\"].unique()):\n",
    "    indic_coec.append(\n",
    "        np.sum(trace_df_merge[trace_df_merge[\"id_labdoc\"] == id][\"id_user\"].diff() != 0)-1)\n",
    "\n",
    "df[\"indice_coec\"] = indic_coec\n",
    "df.rename(columns={'indice_coec': 'passage_main'}, inplace=True)\n",
    "df.rename(columns={'duree': 'plage_travail'}, inplace=True)\n",
    "df.rename(columns={'n_modif': 'durée_écriture'}, inplace=True)\n",
    "df.durée_écriture = df.durée_écriture *20"
   ]
  },
  {
   "cell_type": "code",
   "execution_count": 15,
   "metadata": {},
   "outputs": [],
   "source": [
    "# J'ai remarquer une anomalie sur certains labdoc. Il on un score de coécriture 0 et des indice de collaboration contribution non nulles. Je supprime ces labdocs \n",
    "df.drop(df[df[\"equilibre_contribution\"] == 0].index, axis=0, inplace=True)\n",
    "df.drop(df[df[\"passage_main\"] == 0].index, axis=0, inplace=True)\n",
    "# Je supprime un labdocs avec des score pour tous les indicateurs qui est négative (je sais pas prq)\n",
    "df.drop(index=df[df[\"equilibre_contribution\"]\n",
    "               < 0].index.values, inplace=True)\n",
    "# Enléver les labdocs ayant un une plage de travail supérieur au temps d'écriture\n",
    "df = df[df.plage_travail > df.durée_écriture]\n",
    "# Enlever les labdocs ayant un nombre de mots < 15\n",
    "df = df[df[\"n_mots\"] > 15]\n",
    "columns_filtred = [\"n_mots\", \"plage_travail\", \"durée_écriture\"]\n",
    "\n",
    "for x in columns_filtred:\n",
    "    q75, q25, intr_qr, max, min = 0, 0, 0, 0, 0\n",
    "    q75, q25 = np.percentile(sorted(df.loc[:, x]), [\n",
    "                             75, 25], interpolation='midpoint')\n",
    "    intr_qr = q75-q25\n",
    "\n",
    "    max = q75+(1.5*intr_qr)\n",
    "    min = q25-(1.5*intr_qr)\n",
    "\n",
    "    df.loc[df[x] <= min, x] = np.nan\n",
    "    df.loc[df[x] >= max, x] = np.nan\n",
    "df.dropna(axis=0, inplace=True)\n"
   ]
  },
  {
   "cell_type": "code",
   "execution_count": 16,
   "metadata": {},
   "outputs": [
    {
     "data": {
      "text/plain": [
       "id_labdoc                       False\n",
       "n_users                         False\n",
       "n_mots                          False\n",
       "equilibre_contribution          False\n",
       "co_ecriture                     False\n",
       "co_ecriture_sans_ponderation    False\n",
       "co_ecriture_dispersion          False\n",
       "durée_écriture                  False\n",
       "plage_travail                   False\n",
       "passage_main                    False\n",
       "dtype: bool"
      ]
     },
     "execution_count": 16,
     "metadata": {},
     "output_type": "execute_result"
    }
   ],
   "source": [
    "df.isna().any()\n"
   ]
  },
  {
   "cell_type": "code",
   "execution_count": 17,
   "metadata": {},
   "outputs": [],
   "source": [
    "df.to_excel(\n",
    "    \"/Users/anis/test_labnbook/test_3_indicateurs/comparaison/ADD_Labnbook_new_indicators/data.xlsx\")\n",
    "df.to_csv(\n",
    "    \"/Users/anis/test_labnbook/test_3_indicateurs/comparaison/ADD_Labnbook_new_indicators/data.csv\")\n"
   ]
  },
  {
   "cell_type": "code",
   "execution_count": null,
   "metadata": {},
   "outputs": [],
   "source": []
  }
 ],
 "metadata": {
  "interpreter": {
   "hash": "b7bae802a98f43a68296acc593990a17ba8bb804956ac47e96ba419f2775cbfc"
  },
  "kernelspec": {
   "display_name": "Python 3.9.9 64-bit ('base': conda)",
   "language": "python",
   "name": "python3"
  },
  "language_info": {
   "codemirror_mode": {
    "name": "ipython",
    "version": 3
   },
   "file_extension": ".py",
   "mimetype": "text/x-python",
   "name": "python",
   "nbconvert_exporter": "python",
   "pygments_lexer": "ipython3",
   "version": "3.9.9"
  },
  "orig_nbformat": 4
 },
 "nbformat": 4,
 "nbformat_minor": 2
}
