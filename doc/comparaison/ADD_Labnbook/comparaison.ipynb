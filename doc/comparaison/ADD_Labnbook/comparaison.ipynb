{
 "cells": [
  {
   "cell_type": "code",
   "execution_count": 589,
   "metadata": {},
   "outputs": [],
   "source": [
    "import mysql.connector as mariadb\n",
    "import pandas as pd \n",
    "import sys \n",
    "sys.path.insert(0, \"/Users/anis/test_labnbook/test_3_indicateurs/traces_contribution/sources\")\n",
    "import config \n",
    "import numpy as np \n",
    "\n",
    "pd.set_option('display.max_rows', 500)\n",
    "pd.set_option('display.max_columns', 500)\n",
    "pd.set_option('display.width', 1000)\n",
    "pd.set_option('display.max_colwidth', 100)\n"
   ]
  },
  {
   "cell_type": "code",
   "execution_count": 590,
   "metadata": {},
   "outputs": [
    {
     "data": {
      "text/html": [
       "<div>\n",
       "<style scoped>\n",
       "    .dataframe tbody tr th:only-of-type {\n",
       "        vertical-align: middle;\n",
       "    }\n",
       "\n",
       "    .dataframe tbody tr th {\n",
       "        vertical-align: top;\n",
       "    }\n",
       "\n",
       "    .dataframe thead th {\n",
       "        text-align: right;\n",
       "    }\n",
       "</style>\n",
       "<table border=\"1\" class=\"dataframe\">\n",
       "  <thead>\n",
       "    <tr style=\"text-align: right;\">\n",
       "      <th></th>\n",
       "      <th>id_mission</th>\n",
       "      <th>id_report</th>\n",
       "      <th>id_labdoc</th>\n",
       "      <th>id_trace</th>\n",
       "      <th>n_users</th>\n",
       "      <th>n_mots</th>\n",
       "      <th>indice_collab</th>\n",
       "      <th>indice_contrib</th>\n",
       "    </tr>\n",
       "  </thead>\n",
       "  <tbody>\n",
       "    <tr>\n",
       "      <th>1</th>\n",
       "      <td>1655</td>\n",
       "      <td>46912</td>\n",
       "      <td>457572</td>\n",
       "      <td>7998870</td>\n",
       "      <td>1</td>\n",
       "      <td>244</td>\n",
       "      <td>0.0</td>\n",
       "      <td>0.0</td>\n",
       "    </tr>\n",
       "    <tr>\n",
       "      <th>5</th>\n",
       "      <td>1655</td>\n",
       "      <td>46912</td>\n",
       "      <td>457573</td>\n",
       "      <td>7999307</td>\n",
       "      <td>1</td>\n",
       "      <td>272</td>\n",
       "      <td>0.0</td>\n",
       "      <td>0.0</td>\n",
       "    </tr>\n",
       "    <tr>\n",
       "      <th>7</th>\n",
       "      <td>1655</td>\n",
       "      <td>46912</td>\n",
       "      <td>457571</td>\n",
       "      <td>7961374</td>\n",
       "      <td>1</td>\n",
       "      <td>336</td>\n",
       "      <td>0.0</td>\n",
       "      <td>0.0</td>\n",
       "    </tr>\n",
       "    <tr>\n",
       "      <th>11</th>\n",
       "      <td>1655</td>\n",
       "      <td>46920</td>\n",
       "      <td>457562</td>\n",
       "      <td>8010069</td>\n",
       "      <td>1</td>\n",
       "      <td>465</td>\n",
       "      <td>0.0</td>\n",
       "      <td>0.0</td>\n",
       "    </tr>\n",
       "    <tr>\n",
       "      <th>15</th>\n",
       "      <td>1655</td>\n",
       "      <td>46920</td>\n",
       "      <td>457561</td>\n",
       "      <td>8007887</td>\n",
       "      <td>1</td>\n",
       "      <td>483</td>\n",
       "      <td>0.0</td>\n",
       "      <td>0.0</td>\n",
       "    </tr>\n",
       "  </tbody>\n",
       "</table>\n",
       "</div>"
      ],
      "text/plain": [
       "    id_mission  id_report  id_labdoc  id_trace  n_users  n_mots  indice_collab  indice_contrib\n",
       "1         1655      46912     457572   7998870        1     244            0.0             0.0\n",
       "5         1655      46912     457573   7999307        1     272            0.0             0.0\n",
       "7         1655      46912     457571   7961374        1     336            0.0             0.0\n",
       "11        1655      46920     457562   8010069        1     465            0.0             0.0\n",
       "15        1655      46920     457561   8007887        1     483            0.0             0.0"
      ]
     },
     "execution_count": 590,
     "metadata": {},
     "output_type": "execute_result"
    }
   ],
   "source": [
    "# Créer un nouveau fichier cvs et xlsx des deux indicateur \n",
    "data= pd.read_csv(\"/Users/anis/test_labnbook/test_3_indicateurs/traces_collaboration_Anis/tmp/collab_Anis.csv\")\n",
    "contrib= pd.read_csv(\"/Users/anis/test_labnbook/test_3_indicateurs/traces_contribution/tmp/Contribution.csv\")['indice_collab']\n",
    "data.insert(7,'indice_contrib', contrib)\n",
    "# Garder que la dérniére trace de chaque labdoc\n",
    "idx_labdocs = data['id_labdoc'].diff()[data['id_labdoc'].diff() != 0].index.values\n",
    "idx_labdocs = np.delete(idx_labdocs, 0) - 1\n",
    "data = data[data.index.isin(idx_labdocs)]\n",
    "# Sauvegarder la table \n",
    "data.to_excel(\"/Users/anis/test_labnbook/test_3_indicateurs/comparaison/comparaison.xlsx\")\n",
    "data.to_csv(\"/Users/anis/test_labnbook/test_3_indicateurs/comparaison/comparaison.csv\")\n",
    "\n",
    "data.head()"
   ]
  },
  {
   "cell_type": "code",
   "execution_count": null,
   "metadata": {},
   "outputs": [],
   "source": []
  },
  {
   "cell_type": "code",
   "execution_count": null,
   "metadata": {},
   "outputs": [],
   "source": []
  }
 ],
 "metadata": {
  "interpreter": {
   "hash": "7e315959e713b155ad38f96c246a48079e6e1f5fd849cca35f57dca6bd291312"
  },
  "kernelspec": {
   "display_name": "Python 3.8.12 64-bit ('MyPython': conda)",
   "language": "python",
   "name": "python3"
  },
  "language_info": {
   "codemirror_mode": {
    "name": "ipython",
    "version": 3
   },
   "file_extension": ".py",
   "mimetype": "text/x-python",
   "name": "python",
   "nbconvert_exporter": "python",
   "pygments_lexer": "ipython3",
   "version": "3.9.9"
  },
  "orig_nbformat": 4
 },
 "nbformat": 4,
 "nbformat_minor": 2
}
