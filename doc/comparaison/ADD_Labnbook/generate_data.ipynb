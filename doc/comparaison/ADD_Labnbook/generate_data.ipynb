{
 "cells": [
  {
   "cell_type": "code",
   "execution_count": 1,
   "metadata": {},
   "outputs": [],
   "source": [
    "import sys\n",
    "sys.path.insert(\n",
    "    0, \"/Users/anis/test_labnbook/test_3_indicateurs/traces_contribution/sources\")\n",
    "import numpy as np\n",
    "import config\n",
    "import mysql.connector as mariadb\n",
    "import pandas as pd\n",
    "\n",
    "\n",
    "pd.set_option('display.max_rows', 500)\n",
    "pd.set_option('display.max_columns', 500)\n",
    "pd.set_option('display.width', 1000)\n",
    "pd.set_option('display.max_colwidth', 100)\n",
    "\n",
    "try:\n",
    "    conn = mariadb.connect(user=config.USER, password=config.PASSWORD,\n",
    "                           host=config.HOST, database=config.DATABASE)\n",
    "except mariadb.Error as e:\n",
    "    print(f\"Error connecting to MariaDB Platform: {e}\")\n",
    "\n",
    "# Récupération du curseur\n",
    "cursor = conn.cursor()\n"
   ]
  },
  {
   "cell_type": "code",
   "execution_count": 2,
   "metadata": {},
   "outputs": [],
   "source": [
    "# Importer les sorties des algo qui calculent nos indicateurs  \n",
    "data = pd.read_csv(\n",
    "    \"/Users/anis/test_labnbook/test_3_indicateurs/traces_collaboration_Anis/tmp/collab_Anis.csv\")\n",
    "contrib = pd.read_csv(\n",
    "    \"/Users/anis/test_labnbook/test_3_indicateurs/traces_contribution/tmp/Contribution.csv\")['indice_collab']\n",
    "data.insert(7, 'indice_contrib', contrib)\n",
    "# Garder que la dérniére trace de chaque labdoc\n",
    "idx_labdocs = data['id_labdoc'].diff(\n",
    ")[data['id_labdoc'].diff() != 0].index.values\n",
    "idx_labdocs = np.delete(idx_labdocs, 0) - 1\n",
    "data = data[data.index.isin(idx_labdocs)]\n",
    "\n",
    "\n",
    "data = data.drop(data[data['n_users'] == 1].index).reset_index()\n",
    "data = data.drop([ \"id_mission\", \"id_report\", \"id_trace\",\"index\"], axis=1)\n",
    "#display(data.info(),data.head())"
   ]
  },
  {
   "cell_type": "code",
   "execution_count": 3,
   "metadata": {},
   "outputs": [],
   "source": [
    "# Je récupère  l'id_action =9  (trace de modification)  de tous les labdocs dans la table trace\n",
    "trace = pd.read_sql(\n",
    "    \" SELECT id_labdoc, action_time from trace WHERE  id_action=9 Order By id_labdoc ASC, action_time ASC\", conn)\n"
   ]
  },
  {
   "cell_type": "code",
   "execution_count": 4,
   "metadata": {},
   "outputs": [],
   "source": [
    "# Je fusionne trace et data avec l'intersection en id_labdoc pour avoir uniquement la trace des labdocs dont j'ai besoin \n",
    "df2 = pd.merge(data, trace, how='inner', on=['id_labdoc'])\n",
    "#display(df2.head(),df2.info())"
   ]
  },
  {
   "cell_type": "code",
   "execution_count": 5,
   "metadata": {},
   "outputs": [],
   "source": [
    "# Je récupére le nombre de trace modify de chaque labdoc \n",
    "size = df2.groupby(df2.id_labdoc,  as_index=False).size()\n",
    "#size.head()"
   ]
  },
  {
   "cell_type": "code",
   "execution_count": 6,
   "metadata": {},
   "outputs": [],
   "source": [
    "# Je rajoute ce nombre a la table \n",
    "df2 = pd.merge(df2, size, how='inner', on=['id_labdoc'])\n",
    "#df2.head()"
   ]
  },
  {
   "cell_type": "code",
   "execution_count": 7,
   "metadata": {},
   "outputs": [],
   "source": [
    "# Récupérer les index du changement de labdoc \n",
    "idx_time_change = df2['id_labdoc'].diff()[df2['id_labdoc'].diff() != 0].index.values"
   ]
  },
  {
   "cell_type": "code",
   "execution_count": 8,
   "metadata": {},
   "outputs": [],
   "source": [
    "debut = df2.iloc[idx_time_change[:-1]].reset_index()\n",
    "debut.drop([\"index\"],axis=1,inplace=True )\n",
    "#debut"
   ]
  },
  {
   "cell_type": "code",
   "execution_count": 9,
   "metadata": {},
   "outputs": [],
   "source": [
    "fin_idx = np.delete(idx_time_change - 1, 0)\n",
    "fin = df2.iloc[fin_idx].reset_index()\n",
    "fin.drop([\"index\"], axis=1, inplace=True)\n",
    "#fin"
   ]
  },
  {
   "cell_type": "code",
   "execution_count": 10,
   "metadata": {},
   "outputs": [],
   "source": [
    "fin[\"time\"] = fin.action_time - debut.action_time\n",
    "df = fin.drop([\"action_time\"], axis = 1)\n",
    "df.columns = [\"id_labdoc\"\t,\"n_users\",\t\"n_mots\", \"indice_collab\", \"indice_contrib\", \"n_modif\", \"duree\"]\n",
    "#df "
   ]
  },
  {
   "cell_type": "code",
   "execution_count": 11,
   "metadata": {},
   "outputs": [],
   "source": [
    "df.duree = df.duree.dt.total_seconds()\n",
    "#df.info()"
   ]
  },
  {
   "cell_type": "code",
   "execution_count": 12,
   "metadata": {},
   "outputs": [],
   "source": [
    "# Je recupére encore une fois la table trace \n",
    "trace2 = pd.read_sql(\n",
    "    \" SELECT id_labdoc, id_user from trace WHERE  id_action=9 Order By id_labdoc ASC, action_time ASC\", conn)\n"
   ]
  },
  {
   "cell_type": "code",
   "execution_count": 13,
   "metadata": {},
   "outputs": [],
   "source": [
    "# Je merge la table des traces dans la bdd avec mon data frame pour garder que les labdocs qui m'intéressent \n",
    "trace_df_merge = pd.merge(df, trace2, how='inner', on=['id_labdoc'])"
   ]
  },
  {
   "cell_type": "code",
   "execution_count": 14,
   "metadata": {},
   "outputs": [],
   "source": [
    "# Je calcule l'indice de coécriture \n",
    "indic_coec = []\n",
    "for _, id in enumerate(trace_df_merge[\"id_labdoc\"].unique()):\n",
    "    indic_coec.append(\n",
    "        np.sum(trace_df_merge[trace_df_merge[\"id_labdoc\"] == id][\"id_user\"].diff() != 0)-1)\n",
    "\n",
    "df[\"indice_coec\"] = indic_coec\n"
   ]
  },
  {
   "cell_type": "code",
   "execution_count": 15,
   "metadata": {},
   "outputs": [],
   "source": [
    "# J'ai remarquer une anomalie sur certains labdoc. Il on un score de coécriture 0 et des indice de collaboration contribution non nulles. Je supprime ces labdocs \n",
    "df.drop(df[df[\"indice_coec\"] == 0].index, axis=0, inplace=True)\n",
    "\n",
    "#Renomer les colonnes\n",
    "df.set_axis(['id_labdoc', 'n_users', 'n_mots', \"collab\", \"equi_contrib\", 'n_modif', 'duree', \"pass_main\"], axis=1, inplace =True)\n",
    "\n",
    "#df.set_axis(['V', 'W', 'X', 'Y', 'Z'], axis=1, inplace=False)\n",
    "\n"
   ]
  },
  {
   "cell_type": "code",
   "execution_count": 16,
   "metadata": {},
   "outputs": [],
   "source": [
    "df.to_excel(\n",
    "    \"/Users/anis/test_labnbook/test_3_indicateurs/comparaison/data.xlsx\")\n",
    "df.to_csv(\n",
    "    \"/Users/anis/test_labnbook/test_3_indicateurs/comparaison/data.csv\")\n"
   ]
  },
  {
   "cell_type": "code",
   "execution_count": 17,
   "metadata": {},
   "outputs": [
    {
     "data": {
      "text/plain": [
       "Index(['id_labdoc', 'n_users', 'n_mots', 'collab', 'equi_contrib', 'n_modif', 'duree', 'pass_main'], dtype='object')"
      ]
     },
     "execution_count": 17,
     "metadata": {},
     "output_type": "execute_result"
    }
   ],
   "source": [
    "df.columns"
   ]
  },
  {
   "cell_type": "code",
   "execution_count": null,
   "metadata": {},
   "outputs": [],
   "source": []
  }
 ],
 "metadata": {
  "interpreter": {
   "hash": "b7bae802a98f43a68296acc593990a17ba8bb804956ac47e96ba419f2775cbfc"
  },
  "kernelspec": {
   "display_name": "Python 3.9.9 64-bit ('base': conda)",
   "language": "python",
   "name": "python3"
  },
  "language_info": {
   "codemirror_mode": {
    "name": "ipython",
    "version": 3
   },
   "file_extension": ".py",
   "mimetype": "text/x-python",
   "name": "python",
   "nbconvert_exporter": "python",
   "pygments_lexer": "ipython3",
   "version": "3.9.9"
  },
  "orig_nbformat": 4
 },
 "nbformat": 4,
 "nbformat_minor": 2
}
