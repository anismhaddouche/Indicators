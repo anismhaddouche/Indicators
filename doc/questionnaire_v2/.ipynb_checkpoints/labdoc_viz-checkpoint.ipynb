{
 "cells": [
  {
   "cell_type": "code",
   "execution_count": 1,
   "id": "c19ccebb",
   "metadata": {},
   "outputs": [],
   "source": [
    "import pandas as pd \n",
    "import mitosheet\n",
    "import plotly.express as px\n",
    "import numpy as np \n",
    "import plotly.graph_objects as go\n",
    "import skfuzzy as fuzz\n",
    "import seaborn as sns \n",
    "\n",
    "class Fuzzify(object):\n",
    "    def __init__(self, data_series, Min, Max, Mid):\n",
    "        \"\"\"Create a triangular membership function with a data series and its max, min and median\"\"\"\n",
    "        \n",
    "        self.data = data_series\n",
    "        self.low = Min\n",
    "        self.high = Max\n",
    "        self.mid = Mid\n",
    "        self.universe = np.arange(np.floor(self.low), np.ceil(self.high)+0.2, 0.1)\n",
    "        self.trimf_low  = fuzz.trimf(self.universe, [self.low, self.low, self.mid])\n",
    "        self.trimf_mid = fuzz.trimf(self.universe, [self.low, self.mid, self.high+0.1])\n",
    "        self.trimf_hi  =  fuzz.trimf(self.universe, [self.mid, self.high+0.1, self.high+0.1])\n",
    "        \n",
    "    def get_universe(self):\n",
    "        return self.universe\n",
    "        \n",
    "    def get_membership(self):\n",
    "        \"\"\"Assign fuzzy membership to each observation in the data series and return a dataframe of the result\"\"\"\n",
    "        \n",
    "        new_df = pd.DataFrame(self.data)\n",
    "        new_df['low'] = fuzz.interp_membership(self.universe, self.trimf_low, self.data)\n",
    "        new_df['mid'] = fuzz.interp_membership(self.universe, self.trimf_mid, self.data)\n",
    "        new_df['high'] = fuzz.interp_membership(self.universe, self.trimf_hi, self.data)\n",
    "        new_df['membership'] = new_df.loc[:, ['low', 'mid', 'high']].idxmax(axis = 1)\n",
    "        new_df['degree'] = new_df.loc[:, ['low', 'mid', 'high']].max(axis = 1)\n",
    "        return new_df\n"
   ]
  },
  {
   "cell_type": "code",
   "execution_count": 2,
   "id": "233117a5",
   "metadata": {},
   "outputs": [],
   "source": [
    "# Importer les données \n",
    "lds_original = pd.read_csv('teachers.csv',sep=';')\n",
    "val = pd.read_csv(\"indicators_val.csv\",index_col=0)\n",
    "# Remarque : dans val, ligne 1 = machine value (mv) avec RC, ligne 2 sont rmsd, ligne 3 mv avec RC et ligne 4 sont rmsd\n",
    "#mv = val.iloc[0] ; mv_rmsd = val.iloc[1] ; mvsr = val.iloc[2]; mvsr_rmsd = val.iloc[3]\n",
    "lds = lds_original.copy()"
   ]
  },
  {
   "cell_type": "code",
   "execution_count": 3,
   "id": "d220d0e7",
   "metadata": {
    "scrolled": true
   },
   "outputs": [
    {
     "data": {
      "text/html": [
       "<div><div id=b661b837-0be4-4b59-87b3-9344462df526 style=\"display:none; background-color:#9D6CFF; color:white; width:200px; height:30px; padding-left:5px; border-radius:4px; flex-direction:row; justify-content:space-around; align-items:center;\" onmouseover=\"this.style.backgroundColor='#BA9BF8'\" onmouseout=\"this.style.backgroundColor='#9D6CFF'\" onclick=\"window.commands?.execute('create-mitosheet-from-dataframe-output');\">See Full Dataframe in Mito</div> <script> if (window.commands.hasCommand('create-mitosheet-from-dataframe-output')) document.getElementById('b661b837-0be4-4b59-87b3-9344462df526').style.display = 'flex' </script> <table border=\"1\" class=\"dataframe\">\n",
       "  <thead>\n",
       "    <tr style=\"text-align: right;\">\n",
       "      <th></th>\n",
       "      <th>id_teacher</th>\n",
       "      <th>st_1</th>\n",
       "      <th>eqc_1_lev</th>\n",
       "      <th>eqc_1_val</th>\n",
       "      <th>coec_1_lev</th>\n",
       "      <th>coec_1_val</th>\n",
       "      <th>st_2</th>\n",
       "      <th>eqc_2_lev</th>\n",
       "      <th>eqc_2_val</th>\n",
       "      <th>coec_2_lev</th>\n",
       "      <th>...</th>\n",
       "      <th>st_11</th>\n",
       "      <th>eqc_11_lev</th>\n",
       "      <th>eqc_11_val</th>\n",
       "      <th>coec_11_lev</th>\n",
       "      <th>coec_11_val</th>\n",
       "      <th>st_12</th>\n",
       "      <th>eqc_12_lev</th>\n",
       "      <th>eqc_12_val</th>\n",
       "      <th>coec_12_lev</th>\n",
       "      <th>coec_12_val</th>\n",
       "    </tr>\n",
       "  </thead>\n",
       "  <tbody>\n",
       "    <tr>\n",
       "      <th>0</th>\n",
       "      <td>1</td>\n",
       "      <td>Entièrement intégrative</td>\n",
       "      <td>Fort</td>\n",
       "      <td>0.8</td>\n",
       "      <td>Fort</td>\n",
       "      <td>0.8</td>\n",
       "      <td>Entièrement sommative</td>\n",
       "      <td>Moyen</td>\n",
       "      <td>0.60</td>\n",
       "      <td>Faible</td>\n",
       "      <td>...</td>\n",
       "      <td>Entièrement sommative</td>\n",
       "      <td>Faible</td>\n",
       "      <td>0.1</td>\n",
       "      <td>Faible</td>\n",
       "      <td>0.0</td>\n",
       "      <td>Entièrement intégrative</td>\n",
       "      <td>Faible</td>\n",
       "      <td>0.1</td>\n",
       "      <td>Faible</td>\n",
       "      <td>0.2</td>\n",
       "    </tr>\n",
       "    <tr>\n",
       "      <th>1</th>\n",
       "      <td>2</td>\n",
       "      <td>Entièrement intégrative</td>\n",
       "      <td>Fort</td>\n",
       "      <td>0.8</td>\n",
       "      <td>Fort</td>\n",
       "      <td>0.8</td>\n",
       "      <td>Entièrement sommative</td>\n",
       "      <td>Moyen</td>\n",
       "      <td>0.70</td>\n",
       "      <td>Faible</td>\n",
       "      <td>...</td>\n",
       "      <td>Entièrement sommative</td>\n",
       "      <td>Faible</td>\n",
       "      <td>0.1</td>\n",
       "      <td>Faible</td>\n",
       "      <td>0.0</td>\n",
       "      <td>Plutôt sommative</td>\n",
       "      <td>Faible</td>\n",
       "      <td>0.1</td>\n",
       "      <td>Faible</td>\n",
       "      <td>0.2</td>\n",
       "    </tr>\n",
       "    <tr>\n",
       "      <th>2</th>\n",
       "      <td>3</td>\n",
       "      <td>Entre sommative et intégrative</td>\n",
       "      <td>Moyen</td>\n",
       "      <td>0.7</td>\n",
       "      <td>Fort</td>\n",
       "      <td>0.9</td>\n",
       "      <td>Entièrement sommative</td>\n",
       "      <td>Moyen</td>\n",
       "      <td>0.60</td>\n",
       "      <td>Faible</td>\n",
       "      <td>...</td>\n",
       "      <td>Entièrement sommative</td>\n",
       "      <td>Faible</td>\n",
       "      <td>0.2</td>\n",
       "      <td>Faible</td>\n",
       "      <td>0.0</td>\n",
       "      <td>Entièrement intégrative</td>\n",
       "      <td>Faible</td>\n",
       "      <td>0.2</td>\n",
       "      <td>Faible</td>\n",
       "      <td>0.3</td>\n",
       "    </tr>\n",
       "    <tr>\n",
       "      <th>3</th>\n",
       "      <td>4</td>\n",
       "      <td>Entre sommative et intégrative</td>\n",
       "      <td>Fort</td>\n",
       "      <td>0.6</td>\n",
       "      <td>Fort</td>\n",
       "      <td>0.6</td>\n",
       "      <td>Entièrement sommative</td>\n",
       "      <td>Fort</td>\n",
       "      <td>0.67</td>\n",
       "      <td>Faible</td>\n",
       "      <td>...</td>\n",
       "      <td>Entièrement sommative</td>\n",
       "      <td>Faible</td>\n",
       "      <td>0.1</td>\n",
       "      <td>Faible</td>\n",
       "      <td>0.0</td>\n",
       "      <td>Plutôt sommative</td>\n",
       "      <td>Faible</td>\n",
       "      <td>0.1</td>\n",
       "      <td>Faible</td>\n",
       "      <td>0.1</td>\n",
       "    </tr>\n",
       "    <tr>\n",
       "      <th>4</th>\n",
       "      <td>5</td>\n",
       "      <td>Entièrement intégrative</td>\n",
       "      <td>Fort</td>\n",
       "      <td>1.0</td>\n",
       "      <td>Fort</td>\n",
       "      <td>1.0</td>\n",
       "      <td>Entièrement sommative</td>\n",
       "      <td>Fort</td>\n",
       "      <td>1.00</td>\n",
       "      <td>Faible</td>\n",
       "      <td>...</td>\n",
       "      <td>Entièrement sommative</td>\n",
       "      <td>Faible</td>\n",
       "      <td>0.2</td>\n",
       "      <td>Faible</td>\n",
       "      <td>0.0</td>\n",
       "      <td>Entièrement intégrative</td>\n",
       "      <td>Faible</td>\n",
       "      <td>0.1</td>\n",
       "      <td>Faible</td>\n",
       "      <td>0.1</td>\n",
       "    </tr>\n",
       "  </tbody>\n",
       "</table></div>"
      ],
      "text/plain": [
       "   id_teacher                            st_1 eqc_1_lev  eqc_1_val coec_1_lev  \\\n",
       "0           1         Entièrement intégrative      Fort        0.8       Fort   \n",
       "1           2         Entièrement intégrative      Fort        0.8       Fort   \n",
       "2           3  Entre sommative et intégrative     Moyen        0.7       Fort   \n",
       "3           4  Entre sommative et intégrative      Fort        0.6       Fort   \n",
       "4           5         Entièrement intégrative      Fort        1.0       Fort   \n",
       "\n",
       "   coec_1_val                   st_2 eqc_2_lev  eqc_2_val coec_2_lev  ...  \\\n",
       "0         0.8  Entièrement sommative     Moyen       0.60     Faible  ...   \n",
       "1         0.8  Entièrement sommative     Moyen       0.70     Faible  ...   \n",
       "2         0.9  Entièrement sommative     Moyen       0.60     Faible  ...   \n",
       "3         0.6  Entièrement sommative      Fort       0.67     Faible  ...   \n",
       "4         1.0  Entièrement sommative      Fort       1.00     Faible  ...   \n",
       "\n",
       "                   st_11 eqc_11_lev eqc_11_val  coec_11_lev coec_11_val  \\\n",
       "0  Entièrement sommative     Faible        0.1       Faible         0.0   \n",
       "1  Entièrement sommative     Faible        0.1       Faible         0.0   \n",
       "2  Entièrement sommative     Faible        0.2       Faible         0.0   \n",
       "3  Entièrement sommative     Faible        0.1       Faible         0.0   \n",
       "4  Entièrement sommative     Faible        0.2       Faible         0.0   \n",
       "\n",
       "                     st_12 eqc_12_lev eqc_12_val  coec_12_lev coec_12_val  \n",
       "0  Entièrement intégrative     Faible        0.1       Faible         0.2  \n",
       "1         Plutôt sommative     Faible        0.1       Faible         0.2  \n",
       "2  Entièrement intégrative     Faible        0.2       Faible         0.3  \n",
       "3         Plutôt sommative     Faible        0.1       Faible         0.1  \n",
       "4  Entièrement intégrative     Faible        0.1       Faible         0.1  \n",
       "\n",
       "[5 rows x 61 columns]"
      ]
     },
     "execution_count": 3,
     "metadata": {},
     "output_type": "execute_result"
    }
   ],
   "source": [
    "lds.head()"
   ]
  },
  {
   "cell_type": "code",
   "execution_count": 4,
   "id": "72572b7d",
   "metadata": {},
   "outputs": [
    {
     "data": {
      "text/html": [
       "<div><div id=e1afae72-0c98-409f-8eac-4086c8766b91 style=\"display:none; background-color:#9D6CFF; color:white; width:200px; height:30px; padding-left:5px; border-radius:4px; flex-direction:row; justify-content:space-around; align-items:center;\" onmouseover=\"this.style.backgroundColor='#BA9BF8'\" onmouseout=\"this.style.backgroundColor='#9D6CFF'\" onclick=\"window.commands?.execute('create-mitosheet-from-dataframe-output');\">See Full Dataframe in Mito</div> <script> if (window.commands.hasCommand('create-mitosheet-from-dataframe-output')) document.getElementById('e1afae72-0c98-409f-8eac-4086c8766b91').style.display = 'flex' </script> <table border=\"1\" class=\"dataframe\">\n",
       "  <thead>\n",
       "    <tr style=\"text-align: right;\">\n",
       "      <th></th>\n",
       "      <th>eqc_1</th>\n",
       "      <th>coec_1</th>\n",
       "      <th>eqc_2</th>\n",
       "      <th>coec_2</th>\n",
       "      <th>eqc_3</th>\n",
       "      <th>coec_3</th>\n",
       "      <th>eqc_4</th>\n",
       "      <th>coec_4</th>\n",
       "      <th>eqc_5</th>\n",
       "      <th>coec_5</th>\n",
       "      <th>...</th>\n",
       "      <th>eqc_8</th>\n",
       "      <th>coec_8</th>\n",
       "      <th>eqc_9</th>\n",
       "      <th>coec_9</th>\n",
       "      <th>eqc_10</th>\n",
       "      <th>coec_10</th>\n",
       "      <th>eqc_11</th>\n",
       "      <th>coec_11</th>\n",
       "      <th>eqc_12</th>\n",
       "      <th>coec_12</th>\n",
       "    </tr>\n",
       "  </thead>\n",
       "  <tbody>\n",
       "    <tr>\n",
       "      <th>0</th>\n",
       "      <td>0.289</td>\n",
       "      <td>0.233</td>\n",
       "      <td>0.639</td>\n",
       "      <td>0.058</td>\n",
       "      <td>0.603</td>\n",
       "      <td>0.516</td>\n",
       "      <td>0.96</td>\n",
       "      <td>0.234</td>\n",
       "      <td>0.286</td>\n",
       "      <td>0.252</td>\n",
       "      <td>...</td>\n",
       "      <td>0.90</td>\n",
       "      <td>0.49</td>\n",
       "      <td>0.280</td>\n",
       "      <td>0.088</td>\n",
       "      <td>0.717</td>\n",
       "      <td>0.047</td>\n",
       "      <td>0.160</td>\n",
       "      <td>0.020</td>\n",
       "      <td>0.072</td>\n",
       "      <td>0.048</td>\n",
       "    </tr>\n",
       "    <tr>\n",
       "      <th>1</th>\n",
       "      <td>0.500</td>\n",
       "      <td>0.580</td>\n",
       "      <td>0.230</td>\n",
       "      <td>0.150</td>\n",
       "      <td>0.350</td>\n",
       "      <td>0.440</td>\n",
       "      <td>0.20</td>\n",
       "      <td>0.320</td>\n",
       "      <td>0.160</td>\n",
       "      <td>0.300</td>\n",
       "      <td>...</td>\n",
       "      <td>0.23</td>\n",
       "      <td>0.23</td>\n",
       "      <td>0.110</td>\n",
       "      <td>0.160</td>\n",
       "      <td>0.210</td>\n",
       "      <td>0.090</td>\n",
       "      <td>0.070</td>\n",
       "      <td>0.030</td>\n",
       "      <td>0.080</td>\n",
       "      <td>0.110</td>\n",
       "    </tr>\n",
       "    <tr>\n",
       "      <th>0</th>\n",
       "      <td>0.490</td>\n",
       "      <td>0.410</td>\n",
       "      <td>0.870</td>\n",
       "      <td>0.113</td>\n",
       "      <td>0.842</td>\n",
       "      <td>0.766</td>\n",
       "      <td>0.99</td>\n",
       "      <td>0.414</td>\n",
       "      <td>0.490</td>\n",
       "      <td>0.440</td>\n",
       "      <td>...</td>\n",
       "      <td>0.99</td>\n",
       "      <td>0.74</td>\n",
       "      <td>0.483</td>\n",
       "      <td>0.170</td>\n",
       "      <td>0.920</td>\n",
       "      <td>0.092</td>\n",
       "      <td>0.296</td>\n",
       "      <td>0.041</td>\n",
       "      <td>0.140</td>\n",
       "      <td>0.095</td>\n",
       "    </tr>\n",
       "    <tr>\n",
       "      <th>1</th>\n",
       "      <td>0.320</td>\n",
       "      <td>0.420</td>\n",
       "      <td>0.190</td>\n",
       "      <td>0.150</td>\n",
       "      <td>0.240</td>\n",
       "      <td>0.280</td>\n",
       "      <td>0.21</td>\n",
       "      <td>0.220</td>\n",
       "      <td>0.360</td>\n",
       "      <td>0.350</td>\n",
       "      <td>...</td>\n",
       "      <td>0.30</td>\n",
       "      <td>0.21</td>\n",
       "      <td>0.270</td>\n",
       "      <td>0.120</td>\n",
       "      <td>0.390</td>\n",
       "      <td>0.100</td>\n",
       "      <td>0.190</td>\n",
       "      <td>0.040</td>\n",
       "      <td>0.070</td>\n",
       "      <td>0.090</td>\n",
       "    </tr>\n",
       "  </tbody>\n",
       "</table></div>"
      ],
      "text/plain": [
       "   eqc_1  coec_1  eqc_2  coec_2  eqc_3  coec_3  eqc_4  coec_4  eqc_5  coec_5  \\\n",
       "0  0.289   0.233  0.639   0.058  0.603   0.516   0.96   0.234  0.286   0.252   \n",
       "1  0.500   0.580  0.230   0.150  0.350   0.440   0.20   0.320  0.160   0.300   \n",
       "0  0.490   0.410  0.870   0.113  0.842   0.766   0.99   0.414  0.490   0.440   \n",
       "1  0.320   0.420  0.190   0.150  0.240   0.280   0.21   0.220  0.360   0.350   \n",
       "\n",
       "   ...  eqc_8  coec_8  eqc_9  coec_9  eqc_10  coec_10  eqc_11  coec_11  \\\n",
       "0  ...   0.90    0.49  0.280   0.088   0.717    0.047   0.160    0.020   \n",
       "1  ...   0.23    0.23  0.110   0.160   0.210    0.090   0.070    0.030   \n",
       "0  ...   0.99    0.74  0.483   0.170   0.920    0.092   0.296    0.041   \n",
       "1  ...   0.30    0.21  0.270   0.120   0.390    0.100   0.190    0.040   \n",
       "\n",
       "   eqc_12  coec_12  \n",
       "0   0.072    0.048  \n",
       "1   0.080    0.110  \n",
       "0   0.140    0.095  \n",
       "1   0.070    0.090  \n",
       "\n",
       "[4 rows x 24 columns]"
      ]
     },
     "execution_count": 4,
     "metadata": {},
     "output_type": "execute_result"
    }
   ],
   "source": [
    "val.head()"
   ]
  },
  {
   "cell_type": "code",
   "execution_count": 5,
   "id": "73db9cad",
   "metadata": {
    "scrolled": true
   },
   "outputs": [],
   "source": [
    "#mitosheet.sheet(lds, analysis_to_replay=\"id-rbmxehrmdu\")"
   ]
  },
  {
   "cell_type": "code",
   "execution_count": 6,
   "id": "217a58e0",
   "metadata": {},
   "outputs": [],
   "source": [
    "#mitosheet.sheet(val, analysis_to_replay=\"id-fbarghxvpd\")"
   ]
  },
  {
   "cell_type": "code",
   "execution_count": 5,
   "id": "bbaeb4a7",
   "metadata": {},
   "outputs": [],
   "source": [
    "\n",
    "# calcul de RMSD et RMSD_RC pour chaque enseignant \n",
    "\n",
    "# Boucle sur les indicateurs. Pour chaque indicateurs on a deux RMSD\n",
    "\n",
    "results = {'rmsd_eqc':[],'rmsd_sr_eqc':[], 'rmsd_coec':[],'rmsd_sr_coec':[]}\n",
    "for ind in [\"eqc\",\"coec\"]:\n",
    "    #Table des résultats de tout les enseigants d'un indicateur\n",
    "    teacher_res = lds[[f\"{ind}_{i}_val\" for i in range(1,13) ]] \n",
    "    # Les vraies valeurs de l'indicateur avec et sans la racine carrée\n",
    "    val_res = val[[f\"{ind}_{i}\" for i in range(1,13)]]\n",
    "    rmsd = []\n",
    "    rmsd_sr = []\n",
    "    # Boucle sur tout les enseignants\n",
    "    for id_teacher in range(0,15):\n",
    "        diff = []\n",
    "        diff_sr = []\n",
    "        # Boucle sur toute les réponses (ld) d'un enseignant \n",
    "        for i,ld in  enumerate(teacher_res.columns):\n",
    "            diff.append((teacher_res[ld].loc[id_teacher] - val_res[f\"{ind}_{i+1}\"].iloc[2])**2)\n",
    "            diff_sr.append((teacher_res[ld].loc[id_teacher] - val_res[f\"{ind}_{i+1}\"].iloc[0])**2)\n",
    "\n",
    "        rmsd.append(np.mean(diff))\n",
    "        rmsd_sr.append(np.mean(diff_sr))\n",
    "    \n",
    "    results[f'rmsd_{ind}'] = np.round(rmsd,2)\n",
    "    results[f'rmsd_sr_{ind}'] = np.round(rmsd_sr,2)\n",
    "\n",
    "    \n",
    "#print(f\"for teacher {id_teacher} and {ind}:\\n  \",rmsd,\"\\n\",rmsd_sr )\n",
    "    #results = {f'rmsd_{ind}': rmsd, f'rmsd_sr_rmsd_{ind}': rmsd_sr}\n",
    "#prendre la derniére sortie de rmsd et rmsd_sr\n",
    "lds_new = lds.join(pd.DataFrame(results))"
   ]
  },
  {
   "cell_type": "code",
   "execution_count": 6,
   "id": "6615afb0",
   "metadata": {},
   "outputs": [
    {
     "data": {
      "application/vnd.jupyter.widget-view+json": {
       "model_id": "62867b278f194c4fa2e736715f206668",
       "version_major": 2,
       "version_minor": 0
      },
      "text/plain": [
       "MitoWidget(analysis_data_json='{\"analysisName\": \"id-kofnxehllr\", \"analysisToReplay\": {\"analysisName\": \"id-xpvk…"
      ]
     },
     "metadata": {},
     "output_type": "display_data"
    }
   ],
   "source": [
    "mitosheet.sheet(lds_new, analysis_to_replay=\"id-xpvkfmrtdn\")"
   ]
  },
  {
   "cell_type": "code",
   "execution_count": null,
   "id": "219fcee3",
   "metadata": {},
   "outputs": [],
   "source": []
  },
  {
   "cell_type": "code",
   "execution_count": 9,
   "id": "c9787f96",
   "metadata": {
    "scrolled": true
   },
   "outputs": [],
   "source": [
    "# Calcul des rayon pour chaque enseignant\n",
    "dictt = {}\n",
    "for i in range(1,13):\n",
    "    dictt.update({f'radius_{i}':[]})\n",
    "    dictt.update({f'radius_sr_{i}':[]})\n",
    "\n",
    "results_radius = dictt\n",
    "\n",
    "col = []\n",
    "for i in range(1,13):\n",
    "    col.append(f\"eqc_{i}_val\")\n",
    "    col.append(f\"coec_{i}_val\")\n",
    "    \n",
    "teacher_res = lds[col]    \n",
    "\n",
    "for i in range(1,13):\n",
    "    declta_eqc =  ( (teacher_res[f'eqc_{i}_val'] - val[f'eqc_{i}'].iloc[2])) **2\n",
    "    delta_coec = ( (teacher_res[f'coec_{i}_val'] - val[f'coec_{i}'].iloc[2]) ) **2\n",
    "    radius = np.sqrt(declta_eqc + delta_coec )\n",
    "    \n",
    "    declta_eqc_sr =  ( (teacher_res[f'eqc_{i}_val'] - val[f'eqc_{i}'].iloc[0])) **2\n",
    "    delta_coec_sr = ( (teacher_res[f'coec_{i}_val'] - val[f'coec_{i}'].iloc[0]) ) **2\n",
    "    radius_sr = np.sqrt(declta_eqc_sr + delta_coec_sr )\n",
    "    \n",
    "    results_radius[f'radius_{i}'] = np.round(radius,2)\n",
    "    results_radius[f'radius_sr_{i}'] = np.round(radius_sr,2)\n",
    "    \n",
    "        \n",
    "#print(delta_coec,delta_eqc)\n",
    "        \n",
    "\n",
    "lds_new_copy = lds_new.copy()\n",
    "lds_new_radius = lds_new_copy.join(pd.DataFrame(results_radius))\n",
    "#mitosheet.sheet(lds_new_radius, analysis_to_replay=\"id-adssgqzopx\")"
   ]
  },
  {
   "cell_type": "code",
   "execution_count": 10,
   "id": "66b83f8f",
   "metadata": {},
   "outputs": [
    {
     "data": {
      "application/vnd.plotly.v1+json": {
       "config": {
        "plotlyServerURL": "https://plot.ly",
        "scrollZoom": false
       },
       "data": [
        {
         "alignmentgroup": "True",
         "boxpoints": "all",
         "customdata": [
          [
           "Entièrement intégrative",
           "Fort",
           "Fort",
           0.09,
           0.06,
           0.04,
           0.06,
           0.76,
           0.5
          ]
         ],
         "fillcolor": "rgba(255,255,255,0)",
         "hoveron": "points",
         "hovertemplate": "<b>%{hovertext}</b><br><br>id_teacher=1<br>eqc_1_val=%{x}<br>coec_1_val=%{y}<br>st_1=%{customdata[0]}<br>eqc_1_lev=%{customdata[1]}<br>coec_1_lev=%{customdata[2]}<br>rmsd_eqc=%{customdata[3]}<br>rmsd_sr_eqc=%{customdata[4]}<br>rmsd_coec=%{customdata[5]}<br>rmsd_sr_coec=%{customdata[6]}<br>radius_sr_1=%{customdata[7]}<br>radius_1=%{customdata[8]}<extra></extra>",
         "hovertext": [
          1
         ],
         "legendgroup": "1",
         "line": {
          "color": "rgba(255,255,255,0)"
         },
         "marker": {
          "color": "#636efa",
          "size": 10
         },
         "name": "1",
         "offsetgroup": "1",
         "orientation": "v",
         "pointpos": 0,
         "showlegend": true,
         "type": "box",
         "x": [
          0.8
         ],
         "x0": " ",
         "xaxis": "x",
         "y": [
          0.8
         ],
         "y0": " ",
         "yaxis": "y"
        },
        {
         "alignmentgroup": "True",
         "boxpoints": "all",
         "customdata": [
          [
           "Entièrement intégrative",
           "Fort",
           "Fort",
           0.07,
           0.06,
           0.02,
           0.06,
           0.76,
           0.5
          ]
         ],
         "fillcolor": "rgba(255,255,255,0)",
         "hoveron": "points",
         "hovertemplate": "<b>%{hovertext}</b><br><br>id_teacher=2<br>eqc_1_val=%{x}<br>coec_1_val=%{y}<br>st_1=%{customdata[0]}<br>eqc_1_lev=%{customdata[1]}<br>coec_1_lev=%{customdata[2]}<br>rmsd_eqc=%{customdata[3]}<br>rmsd_sr_eqc=%{customdata[4]}<br>rmsd_coec=%{customdata[5]}<br>rmsd_sr_coec=%{customdata[6]}<br>radius_sr_1=%{customdata[7]}<br>radius_1=%{customdata[8]}<extra></extra>",
         "hovertext": [
          2
         ],
         "legendgroup": "2",
         "line": {
          "color": "rgba(255,255,255,0)"
         },
         "marker": {
          "color": "#EF553B",
          "size": 10
         },
         "name": "2",
         "offsetgroup": "2",
         "orientation": "v",
         "pointpos": 0,
         "showlegend": true,
         "type": "box",
         "x": [
          0.8
         ],
         "x0": " ",
         "xaxis": "x",
         "y": [
          0.8
         ],
         "y0": " ",
         "yaxis": "y"
        },
        {
         "alignmentgroup": "True",
         "boxpoints": "all",
         "customdata": [
          [
           "Entre sommative et intégrative",
           "Moyen",
           "Fort",
           0.03,
           0.02,
           0.06,
           0.15,
           0.78,
           0.53
          ]
         ],
         "fillcolor": "rgba(255,255,255,0)",
         "hoveron": "points",
         "hovertemplate": "<b>%{hovertext}</b><br><br>id_teacher=3<br>eqc_1_val=%{x}<br>coec_1_val=%{y}<br>st_1=%{customdata[0]}<br>eqc_1_lev=%{customdata[1]}<br>coec_1_lev=%{customdata[2]}<br>rmsd_eqc=%{customdata[3]}<br>rmsd_sr_eqc=%{customdata[4]}<br>rmsd_coec=%{customdata[5]}<br>rmsd_sr_coec=%{customdata[6]}<br>radius_sr_1=%{customdata[7]}<br>radius_1=%{customdata[8]}<extra></extra>",
         "hovertext": [
          3
         ],
         "legendgroup": "3",
         "line": {
          "color": "rgba(255,255,255,0)"
         },
         "marker": {
          "color": "#00cc96",
          "size": 10
         },
         "name": "3",
         "offsetgroup": "3",
         "orientation": "v",
         "pointpos": 0,
         "showlegend": true,
         "type": "box",
         "x": [
          0.7
         ],
         "x0": " ",
         "xaxis": "x",
         "y": [
          0.9
         ],
         "y0": " ",
         "yaxis": "y"
        },
        {
         "alignmentgroup": "True",
         "boxpoints": "all",
         "customdata": [
          [
           "Entre sommative et intégrative",
           "Fort",
           "Fort",
           0.05,
           0.03,
           0.02,
           0.04,
           0.48,
           0.22
          ]
         ],
         "fillcolor": "rgba(255,255,255,0)",
         "hoveron": "points",
         "hovertemplate": "<b>%{hovertext}</b><br><br>id_teacher=4<br>eqc_1_val=%{x}<br>coec_1_val=%{y}<br>st_1=%{customdata[0]}<br>eqc_1_lev=%{customdata[1]}<br>coec_1_lev=%{customdata[2]}<br>rmsd_eqc=%{customdata[3]}<br>rmsd_sr_eqc=%{customdata[4]}<br>rmsd_coec=%{customdata[5]}<br>rmsd_sr_coec=%{customdata[6]}<br>radius_sr_1=%{customdata[7]}<br>radius_1=%{customdata[8]}<extra></extra>",
         "hovertext": [
          4
         ],
         "legendgroup": "4",
         "line": {
          "color": "rgba(255,255,255,0)"
         },
         "marker": {
          "color": "#ab63fa",
          "size": 10
         },
         "name": "4",
         "offsetgroup": "4",
         "orientation": "v",
         "pointpos": 0,
         "showlegend": true,
         "type": "box",
         "x": [
          0.6
         ],
         "x0": " ",
         "xaxis": "x",
         "y": [
          0.6
         ],
         "y0": " ",
         "yaxis": "y"
        },
        {
         "alignmentgroup": "True",
         "boxpoints": "all",
         "customdata": [
          [
           "Entièrement intégrative",
           "Fort",
           "Fort",
           0.05,
           0.07,
           0.04,
           0.1,
           1.05,
           0.78
          ]
         ],
         "fillcolor": "rgba(255,255,255,0)",
         "hoveron": "points",
         "hovertemplate": "<b>%{hovertext}</b><br><br>id_teacher=5<br>eqc_1_val=%{x}<br>coec_1_val=%{y}<br>st_1=%{customdata[0]}<br>eqc_1_lev=%{customdata[1]}<br>coec_1_lev=%{customdata[2]}<br>rmsd_eqc=%{customdata[3]}<br>rmsd_sr_eqc=%{customdata[4]}<br>rmsd_coec=%{customdata[5]}<br>rmsd_sr_coec=%{customdata[6]}<br>radius_sr_1=%{customdata[7]}<br>radius_1=%{customdata[8]}<extra></extra>",
         "hovertext": [
          5
         ],
         "legendgroup": "5",
         "line": {
          "color": "rgba(255,255,255,0)"
         },
         "marker": {
          "color": "#FFA15A",
          "size": 10
         },
         "name": "5",
         "offsetgroup": "5",
         "orientation": "v",
         "pointpos": 0,
         "showlegend": true,
         "type": "box",
         "x": [
          1
         ],
         "x0": " ",
         "xaxis": "x",
         "y": [
          1
         ],
         "y0": " ",
         "yaxis": "y"
        },
        {
         "alignmentgroup": "True",
         "boxpoints": "all",
         "customdata": [
          [
           "Plutôt intégrative",
           "Moyen",
           "Moyen",
           0.03,
           0.03,
           0.03,
           0.03,
           0.41,
           0.14
          ]
         ],
         "fillcolor": "rgba(255,255,255,0)",
         "hoveron": "points",
         "hovertemplate": "<b>%{hovertext}</b><br><br>id_teacher=6<br>eqc_1_val=%{x}<br>coec_1_val=%{y}<br>st_1=%{customdata[0]}<br>eqc_1_lev=%{customdata[1]}<br>coec_1_lev=%{customdata[2]}<br>rmsd_eqc=%{customdata[3]}<br>rmsd_sr_eqc=%{customdata[4]}<br>rmsd_coec=%{customdata[5]}<br>rmsd_sr_coec=%{customdata[6]}<br>radius_sr_1=%{customdata[7]}<br>radius_1=%{customdata[8]}<extra></extra>",
         "hovertext": [
          6
         ],
         "legendgroup": "6",
         "line": {
          "color": "rgba(255,255,255,0)"
         },
         "marker": {
          "color": "#19d3f3",
          "size": 10
         },
         "name": "6",
         "offsetgroup": "6",
         "orientation": "v",
         "pointpos": 0,
         "showlegend": true,
         "type": "box",
         "x": [
          0.6
         ],
         "x0": " ",
         "xaxis": "x",
         "y": [
          0.5
         ],
         "y0": " ",
         "yaxis": "y"
        },
        {
         "alignmentgroup": "True",
         "boxpoints": "all",
         "customdata": [
          [
           "Entièrement intégrative",
           "Fort",
           "Fort",
           0.08,
           0.08,
           0.06,
           0.08,
           1.05,
           0.78
          ]
         ],
         "fillcolor": "rgba(255,255,255,0)",
         "hoveron": "points",
         "hovertemplate": "<b>%{hovertext}</b><br><br>id_teacher=7<br>eqc_1_val=%{x}<br>coec_1_val=%{y}<br>st_1=%{customdata[0]}<br>eqc_1_lev=%{customdata[1]}<br>coec_1_lev=%{customdata[2]}<br>rmsd_eqc=%{customdata[3]}<br>rmsd_sr_eqc=%{customdata[4]}<br>rmsd_coec=%{customdata[5]}<br>rmsd_sr_coec=%{customdata[6]}<br>radius_sr_1=%{customdata[7]}<br>radius_1=%{customdata[8]}<extra></extra>",
         "hovertext": [
          7
         ],
         "legendgroup": "7",
         "line": {
          "color": "rgba(255,255,255,0)"
         },
         "marker": {
          "color": "#FF6692",
          "size": 10
         },
         "name": "7",
         "offsetgroup": "7",
         "orientation": "v",
         "pointpos": 0,
         "showlegend": true,
         "type": "box",
         "x": [
          1
         ],
         "x0": " ",
         "xaxis": "x",
         "y": [
          1
         ],
         "y0": " ",
         "yaxis": "y"
        },
        {
         "alignmentgroup": "True",
         "boxpoints": "all",
         "customdata": [
          [
           "Plutôt sommative",
           "Moyen",
           "Fort",
           0.06,
           0.03,
           0.04,
           0.02,
           0.41,
           0.14
          ]
         ],
         "fillcolor": "rgba(255,255,255,0)",
         "hoveron": "points",
         "hovertemplate": "<b>%{hovertext}</b><br><br>id_teacher=8<br>eqc_1_val=%{x}<br>coec_1_val=%{y}<br>st_1=%{customdata[0]}<br>eqc_1_lev=%{customdata[1]}<br>coec_1_lev=%{customdata[2]}<br>rmsd_eqc=%{customdata[3]}<br>rmsd_sr_eqc=%{customdata[4]}<br>rmsd_coec=%{customdata[5]}<br>rmsd_sr_coec=%{customdata[6]}<br>radius_sr_1=%{customdata[7]}<br>radius_1=%{customdata[8]}<extra></extra>",
         "hovertext": [
          8
         ],
         "legendgroup": "8",
         "line": {
          "color": "rgba(255,255,255,0)"
         },
         "marker": {
          "color": "#B6E880",
          "size": 10
         },
         "name": "8",
         "offsetgroup": "8",
         "orientation": "v",
         "pointpos": 0,
         "showlegend": true,
         "type": "box",
         "x": [
          0.6
         ],
         "x0": " ",
         "xaxis": "x",
         "y": [
          0.5
         ],
         "y0": " ",
         "yaxis": "y"
        },
        {
         "alignmentgroup": "True",
         "boxpoints": "all",
         "customdata": [
          [
           "Entre sommative et intégrative",
           "Fort",
           "Moyen",
           0.16,
           0.08,
           0.05,
           0.04,
           0.34,
           0.09
          ]
         ],
         "fillcolor": "rgba(255,255,255,0)",
         "hoveron": "points",
         "hovertemplate": "<b>%{hovertext}</b><br><br>id_teacher=9<br>eqc_1_val=%{x}<br>coec_1_val=%{y}<br>st_1=%{customdata[0]}<br>eqc_1_lev=%{customdata[1]}<br>coec_1_lev=%{customdata[2]}<br>rmsd_eqc=%{customdata[3]}<br>rmsd_sr_eqc=%{customdata[4]}<br>rmsd_coec=%{customdata[5]}<br>rmsd_sr_coec=%{customdata[6]}<br>radius_sr_1=%{customdata[7]}<br>radius_1=%{customdata[8]}<extra></extra>",
         "hovertext": [
          9
         ],
         "legendgroup": "9",
         "line": {
          "color": "rgba(255,255,255,0)"
         },
         "marker": {
          "color": "#FF97FF",
          "size": 10
         },
         "name": "9",
         "offsetgroup": "9",
         "orientation": "v",
         "pointpos": 0,
         "showlegend": true,
         "type": "box",
         "x": [
          0.5
         ],
         "x0": " ",
         "xaxis": "x",
         "y": [
          0.5
         ],
         "y0": " ",
         "yaxis": "y"
        },
        {
         "alignmentgroup": "True",
         "boxpoints": "all",
         "customdata": [
          [
           "Entre sommative et intégrative",
           "Moyen",
           "Moyen",
           0.05,
           0.03,
           0.05,
           0.09,
           0.32,
           0.16
          ]
         ],
         "fillcolor": "rgba(255,255,255,0)",
         "hoveron": "points",
         "hovertemplate": "<b>%{hovertext}</b><br><br>id_teacher=10<br>eqc_1_val=%{x}<br>coec_1_val=%{y}<br>st_1=%{customdata[0]}<br>eqc_1_lev=%{customdata[1]}<br>coec_1_lev=%{customdata[2]}<br>rmsd_eqc=%{customdata[3]}<br>rmsd_sr_eqc=%{customdata[4]}<br>rmsd_coec=%{customdata[5]}<br>rmsd_sr_coec=%{customdata[6]}<br>radius_sr_1=%{customdata[7]}<br>radius_1=%{customdata[8]}<extra></extra>",
         "hovertext": [
          10
         ],
         "legendgroup": "10",
         "line": {
          "color": "rgba(255,255,255,0)"
         },
         "marker": {
          "color": "#FECB52",
          "size": 10
         },
         "name": "10",
         "offsetgroup": "10",
         "orientation": "v",
         "pointpos": 0,
         "showlegend": true,
         "type": "box",
         "x": [
          0.6
         ],
         "x0": " ",
         "xaxis": "x",
         "y": [
          0.3
         ],
         "y0": " ",
         "yaxis": "y"
        },
        {
         "alignmentgroup": "True",
         "boxpoints": "all",
         "customdata": [
          [
           "Entièrement intégrative",
           "Moyen",
           "Fort",
           0.06,
           0.05,
           0.04,
           0.09,
           0.95,
           0.69
          ]
         ],
         "fillcolor": "rgba(255,255,255,0)",
         "hoveron": "points",
         "hovertemplate": "<b>%{hovertext}</b><br><br>id_teacher=11<br>eqc_1_val=%{x}<br>coec_1_val=%{y}<br>st_1=%{customdata[0]}<br>eqc_1_lev=%{customdata[1]}<br>coec_1_lev=%{customdata[2]}<br>rmsd_eqc=%{customdata[3]}<br>rmsd_sr_eqc=%{customdata[4]}<br>rmsd_coec=%{customdata[5]}<br>rmsd_sr_coec=%{customdata[6]}<br>radius_sr_1=%{customdata[7]}<br>radius_1=%{customdata[8]}<extra></extra>",
         "hovertext": [
          11
         ],
         "legendgroup": "11",
         "line": {
          "color": "rgba(255,255,255,0)"
         },
         "marker": {
          "color": "#636efa",
          "size": 10
         },
         "name": "11",
         "offsetgroup": "11",
         "orientation": "v",
         "pointpos": 0,
         "showlegend": true,
         "type": "box",
         "x": [
          0.85
         ],
         "x0": " ",
         "xaxis": "x",
         "y": [
          1
         ],
         "y0": " ",
         "yaxis": "y"
        },
        {
         "alignmentgroup": "True",
         "boxpoints": "all",
         "customdata": [
          [
           "Entièrement intégrative",
           "Fort",
           "Fort",
           0.08,
           0.09,
           0.07,
           0.08,
           1.05,
           0.78
          ]
         ],
         "fillcolor": "rgba(255,255,255,0)",
         "hoveron": "points",
         "hovertemplate": "<b>%{hovertext}</b><br><br>id_teacher=12<br>eqc_1_val=%{x}<br>coec_1_val=%{y}<br>st_1=%{customdata[0]}<br>eqc_1_lev=%{customdata[1]}<br>coec_1_lev=%{customdata[2]}<br>rmsd_eqc=%{customdata[3]}<br>rmsd_sr_eqc=%{customdata[4]}<br>rmsd_coec=%{customdata[5]}<br>rmsd_sr_coec=%{customdata[6]}<br>radius_sr_1=%{customdata[7]}<br>radius_1=%{customdata[8]}<extra></extra>",
         "hovertext": [
          12
         ],
         "legendgroup": "12",
         "line": {
          "color": "rgba(255,255,255,0)"
         },
         "marker": {
          "color": "#EF553B",
          "size": 10
         },
         "name": "12",
         "offsetgroup": "12",
         "orientation": "v",
         "pointpos": 0,
         "showlegend": true,
         "type": "box",
         "x": [
          1
         ],
         "x0": " ",
         "xaxis": "x",
         "y": [
          1
         ],
         "y0": " ",
         "yaxis": "y"
        },
        {
         "alignmentgroup": "True",
         "boxpoints": "all",
         "customdata": [
          [
           "Plutôt intégrative",
           "Moyen",
           "Moyen",
           0.04,
           0.04,
           0.05,
           0.12,
           0.34,
           0.09
          ]
         ],
         "fillcolor": "rgba(255,255,255,0)",
         "hoveron": "points",
         "hovertemplate": "<b>%{hovertext}</b><br><br>id_teacher=13<br>eqc_1_val=%{x}<br>coec_1_val=%{y}<br>st_1=%{customdata[0]}<br>eqc_1_lev=%{customdata[1]}<br>coec_1_lev=%{customdata[2]}<br>rmsd_eqc=%{customdata[3]}<br>rmsd_sr_eqc=%{customdata[4]}<br>rmsd_coec=%{customdata[5]}<br>rmsd_sr_coec=%{customdata[6]}<br>radius_sr_1=%{customdata[7]}<br>radius_1=%{customdata[8]}<extra></extra>",
         "hovertext": [
          13
         ],
         "legendgroup": "13",
         "line": {
          "color": "rgba(255,255,255,0)"
         },
         "marker": {
          "color": "#00cc96",
          "size": 10
         },
         "name": "13",
         "offsetgroup": "13",
         "orientation": "v",
         "pointpos": 0,
         "showlegend": true,
         "type": "box",
         "x": [
          0.5
         ],
         "x0": " ",
         "xaxis": "x",
         "y": [
          0.5
         ],
         "y0": " ",
         "yaxis": "y"
        },
        {
         "alignmentgroup": "True",
         "boxpoints": "all",
         "customdata": [
          [
           "Plutôt intégrative",
           "Moyen",
           "Fort",
           0.13,
           0.06,
           0.07,
           0.06,
           0.35,
           0.11
          ]
         ],
         "fillcolor": "rgba(255,255,255,0)",
         "hoveron": "points",
         "hovertemplate": "<b>%{hovertext}</b><br><br>id_teacher=14<br>eqc_1_val=%{x}<br>coec_1_val=%{y}<br>st_1=%{customdata[0]}<br>eqc_1_lev=%{customdata[1]}<br>coec_1_lev=%{customdata[2]}<br>rmsd_eqc=%{customdata[3]}<br>rmsd_sr_eqc=%{customdata[4]}<br>rmsd_coec=%{customdata[5]}<br>rmsd_sr_coec=%{customdata[6]}<br>radius_sr_1=%{customdata[7]}<br>radius_1=%{customdata[8]}<extra></extra>",
         "hovertext": [
          14
         ],
         "legendgroup": "14",
         "line": {
          "color": "rgba(255,255,255,0)"
         },
         "marker": {
          "color": "#ab63fa",
          "size": 10
         },
         "name": "14",
         "offsetgroup": "14",
         "orientation": "v",
         "pointpos": 0,
         "showlegend": true,
         "type": "box",
         "x": [
          0.6
         ],
         "x0": " ",
         "xaxis": "x",
         "y": [
          0.4
         ],
         "y0": " ",
         "yaxis": "y"
        },
        {
         "alignmentgroup": "True",
         "boxpoints": "all",
         "customdata": [
          [
           "Plutôt sommative",
           "Fort",
           "Fort",
           0.06,
           0.05,
           0.05,
           0.08,
           0.92,
           0.67
          ]
         ],
         "fillcolor": "rgba(255,255,255,0)",
         "hoveron": "points",
         "hovertemplate": "<b>%{hovertext}</b><br><br>id_teacher=15<br>eqc_1_val=%{x}<br>coec_1_val=%{y}<br>st_1=%{customdata[0]}<br>eqc_1_lev=%{customdata[1]}<br>coec_1_lev=%{customdata[2]}<br>rmsd_eqc=%{customdata[3]}<br>rmsd_sr_eqc=%{customdata[4]}<br>rmsd_coec=%{customdata[5]}<br>rmsd_sr_coec=%{customdata[6]}<br>radius_sr_1=%{customdata[7]}<br>radius_1=%{customdata[8]}<extra></extra>",
         "hovertext": [
          15
         ],
         "legendgroup": "15",
         "line": {
          "color": "rgba(255,255,255,0)"
         },
         "marker": {
          "color": "#FFA15A",
          "size": 10
         },
         "name": "15",
         "offsetgroup": "15",
         "orientation": "v",
         "pointpos": 0,
         "showlegend": true,
         "type": "box",
         "x": [
          0.8
         ],
         "x0": " ",
         "xaxis": "x",
         "y": [
          1
         ],
         "y0": " ",
         "yaxis": "y"
        },
        {
         "marker": {
          "color": [
           2,
           3
          ],
          "size": [
           30,
           30
          ]
         },
         "mode": "markers",
         "type": "scatter",
         "x": [
          0.289,
          0.49
         ],
         "y": [
          0.233,
          0.41
         ]
        }
       ],
       "layout": {
        "boxmode": "group",
        "height": 700,
        "legend": {
         "title": {
          "text": "id_teacher"
         },
         "tracegroupgap": 0
        },
        "margin": {
         "t": 60
        },
        "shapes": [
         {
          "type": "line",
          "x0": 0,
          "x1": 1,
          "y0": 0,
          "y1": 1
         },
         {
          "type": "line",
          "x0": 0.5,
          "y0": 0.5
         }
        ],
        "template": {
         "data": {
          "bar": [
           {
            "error_x": {
             "color": "#2a3f5f"
            },
            "error_y": {
             "color": "#2a3f5f"
            },
            "marker": {
             "line": {
              "color": "#E5ECF6",
              "width": 0.5
             },
             "pattern": {
              "fillmode": "overlay",
              "size": 10,
              "solidity": 0.2
             }
            },
            "type": "bar"
           }
          ],
          "barpolar": [
           {
            "marker": {
             "line": {
              "color": "#E5ECF6",
              "width": 0.5
             },
             "pattern": {
              "fillmode": "overlay",
              "size": 10,
              "solidity": 0.2
             }
            },
            "type": "barpolar"
           }
          ],
          "carpet": [
           {
            "aaxis": {
             "endlinecolor": "#2a3f5f",
             "gridcolor": "white",
             "linecolor": "white",
             "minorgridcolor": "white",
             "startlinecolor": "#2a3f5f"
            },
            "baxis": {
             "endlinecolor": "#2a3f5f",
             "gridcolor": "white",
             "linecolor": "white",
             "minorgridcolor": "white",
             "startlinecolor": "#2a3f5f"
            },
            "type": "carpet"
           }
          ],
          "choropleth": [
           {
            "colorbar": {
             "outlinewidth": 0,
             "ticks": ""
            },
            "type": "choropleth"
           }
          ],
          "contour": [
           {
            "colorbar": {
             "outlinewidth": 0,
             "ticks": ""
            },
            "colorscale": [
             [
              0,
              "#0d0887"
             ],
             [
              0.1111111111111111,
              "#46039f"
             ],
             [
              0.2222222222222222,
              "#7201a8"
             ],
             [
              0.3333333333333333,
              "#9c179e"
             ],
             [
              0.4444444444444444,
              "#bd3786"
             ],
             [
              0.5555555555555556,
              "#d8576b"
             ],
             [
              0.6666666666666666,
              "#ed7953"
             ],
             [
              0.7777777777777778,
              "#fb9f3a"
             ],
             [
              0.8888888888888888,
              "#fdca26"
             ],
             [
              1,
              "#f0f921"
             ]
            ],
            "type": "contour"
           }
          ],
          "contourcarpet": [
           {
            "colorbar": {
             "outlinewidth": 0,
             "ticks": ""
            },
            "type": "contourcarpet"
           }
          ],
          "heatmap": [
           {
            "colorbar": {
             "outlinewidth": 0,
             "ticks": ""
            },
            "colorscale": [
             [
              0,
              "#0d0887"
             ],
             [
              0.1111111111111111,
              "#46039f"
             ],
             [
              0.2222222222222222,
              "#7201a8"
             ],
             [
              0.3333333333333333,
              "#9c179e"
             ],
             [
              0.4444444444444444,
              "#bd3786"
             ],
             [
              0.5555555555555556,
              "#d8576b"
             ],
             [
              0.6666666666666666,
              "#ed7953"
             ],
             [
              0.7777777777777778,
              "#fb9f3a"
             ],
             [
              0.8888888888888888,
              "#fdca26"
             ],
             [
              1,
              "#f0f921"
             ]
            ],
            "type": "heatmap"
           }
          ],
          "heatmapgl": [
           {
            "colorbar": {
             "outlinewidth": 0,
             "ticks": ""
            },
            "colorscale": [
             [
              0,
              "#0d0887"
             ],
             [
              0.1111111111111111,
              "#46039f"
             ],
             [
              0.2222222222222222,
              "#7201a8"
             ],
             [
              0.3333333333333333,
              "#9c179e"
             ],
             [
              0.4444444444444444,
              "#bd3786"
             ],
             [
              0.5555555555555556,
              "#d8576b"
             ],
             [
              0.6666666666666666,
              "#ed7953"
             ],
             [
              0.7777777777777778,
              "#fb9f3a"
             ],
             [
              0.8888888888888888,
              "#fdca26"
             ],
             [
              1,
              "#f0f921"
             ]
            ],
            "type": "heatmapgl"
           }
          ],
          "histogram": [
           {
            "marker": {
             "pattern": {
              "fillmode": "overlay",
              "size": 10,
              "solidity": 0.2
             }
            },
            "type": "histogram"
           }
          ],
          "histogram2d": [
           {
            "colorbar": {
             "outlinewidth": 0,
             "ticks": ""
            },
            "colorscale": [
             [
              0,
              "#0d0887"
             ],
             [
              0.1111111111111111,
              "#46039f"
             ],
             [
              0.2222222222222222,
              "#7201a8"
             ],
             [
              0.3333333333333333,
              "#9c179e"
             ],
             [
              0.4444444444444444,
              "#bd3786"
             ],
             [
              0.5555555555555556,
              "#d8576b"
             ],
             [
              0.6666666666666666,
              "#ed7953"
             ],
             [
              0.7777777777777778,
              "#fb9f3a"
             ],
             [
              0.8888888888888888,
              "#fdca26"
             ],
             [
              1,
              "#f0f921"
             ]
            ],
            "type": "histogram2d"
           }
          ],
          "histogram2dcontour": [
           {
            "colorbar": {
             "outlinewidth": 0,
             "ticks": ""
            },
            "colorscale": [
             [
              0,
              "#0d0887"
             ],
             [
              0.1111111111111111,
              "#46039f"
             ],
             [
              0.2222222222222222,
              "#7201a8"
             ],
             [
              0.3333333333333333,
              "#9c179e"
             ],
             [
              0.4444444444444444,
              "#bd3786"
             ],
             [
              0.5555555555555556,
              "#d8576b"
             ],
             [
              0.6666666666666666,
              "#ed7953"
             ],
             [
              0.7777777777777778,
              "#fb9f3a"
             ],
             [
              0.8888888888888888,
              "#fdca26"
             ],
             [
              1,
              "#f0f921"
             ]
            ],
            "type": "histogram2dcontour"
           }
          ],
          "mesh3d": [
           {
            "colorbar": {
             "outlinewidth": 0,
             "ticks": ""
            },
            "type": "mesh3d"
           }
          ],
          "parcoords": [
           {
            "line": {
             "colorbar": {
              "outlinewidth": 0,
              "ticks": ""
             }
            },
            "type": "parcoords"
           }
          ],
          "pie": [
           {
            "automargin": true,
            "type": "pie"
           }
          ],
          "scatter": [
           {
            "marker": {
             "colorbar": {
              "outlinewidth": 0,
              "ticks": ""
             }
            },
            "type": "scatter"
           }
          ],
          "scatter3d": [
           {
            "line": {
             "colorbar": {
              "outlinewidth": 0,
              "ticks": ""
             }
            },
            "marker": {
             "colorbar": {
              "outlinewidth": 0,
              "ticks": ""
             }
            },
            "type": "scatter3d"
           }
          ],
          "scattercarpet": [
           {
            "marker": {
             "colorbar": {
              "outlinewidth": 0,
              "ticks": ""
             }
            },
            "type": "scattercarpet"
           }
          ],
          "scattergeo": [
           {
            "marker": {
             "colorbar": {
              "outlinewidth": 0,
              "ticks": ""
             }
            },
            "type": "scattergeo"
           }
          ],
          "scattergl": [
           {
            "marker": {
             "colorbar": {
              "outlinewidth": 0,
              "ticks": ""
             }
            },
            "type": "scattergl"
           }
          ],
          "scattermapbox": [
           {
            "marker": {
             "colorbar": {
              "outlinewidth": 0,
              "ticks": ""
             }
            },
            "type": "scattermapbox"
           }
          ],
          "scatterpolar": [
           {
            "marker": {
             "colorbar": {
              "outlinewidth": 0,
              "ticks": ""
             }
            },
            "type": "scatterpolar"
           }
          ],
          "scatterpolargl": [
           {
            "marker": {
             "colorbar": {
              "outlinewidth": 0,
              "ticks": ""
             }
            },
            "type": "scatterpolargl"
           }
          ],
          "scatterternary": [
           {
            "marker": {
             "colorbar": {
              "outlinewidth": 0,
              "ticks": ""
             }
            },
            "type": "scatterternary"
           }
          ],
          "surface": [
           {
            "colorbar": {
             "outlinewidth": 0,
             "ticks": ""
            },
            "colorscale": [
             [
              0,
              "#0d0887"
             ],
             [
              0.1111111111111111,
              "#46039f"
             ],
             [
              0.2222222222222222,
              "#7201a8"
             ],
             [
              0.3333333333333333,
              "#9c179e"
             ],
             [
              0.4444444444444444,
              "#bd3786"
             ],
             [
              0.5555555555555556,
              "#d8576b"
             ],
             [
              0.6666666666666666,
              "#ed7953"
             ],
             [
              0.7777777777777778,
              "#fb9f3a"
             ],
             [
              0.8888888888888888,
              "#fdca26"
             ],
             [
              1,
              "#f0f921"
             ]
            ],
            "type": "surface"
           }
          ],
          "table": [
           {
            "cells": {
             "fill": {
              "color": "#EBF0F8"
             },
             "line": {
              "color": "white"
             }
            },
            "header": {
             "fill": {
              "color": "#C8D4E3"
             },
             "line": {
              "color": "white"
             }
            },
            "type": "table"
           }
          ]
         },
         "layout": {
          "annotationdefaults": {
           "arrowcolor": "#2a3f5f",
           "arrowhead": 0,
           "arrowwidth": 1
          },
          "autotypenumbers": "strict",
          "coloraxis": {
           "colorbar": {
            "outlinewidth": 0,
            "ticks": ""
           }
          },
          "colorscale": {
           "diverging": [
            [
             0,
             "#8e0152"
            ],
            [
             0.1,
             "#c51b7d"
            ],
            [
             0.2,
             "#de77ae"
            ],
            [
             0.3,
             "#f1b6da"
            ],
            [
             0.4,
             "#fde0ef"
            ],
            [
             0.5,
             "#f7f7f7"
            ],
            [
             0.6,
             "#e6f5d0"
            ],
            [
             0.7,
             "#b8e186"
            ],
            [
             0.8,
             "#7fbc41"
            ],
            [
             0.9,
             "#4d9221"
            ],
            [
             1,
             "#276419"
            ]
           ],
           "sequential": [
            [
             0,
             "#0d0887"
            ],
            [
             0.1111111111111111,
             "#46039f"
            ],
            [
             0.2222222222222222,
             "#7201a8"
            ],
            [
             0.3333333333333333,
             "#9c179e"
            ],
            [
             0.4444444444444444,
             "#bd3786"
            ],
            [
             0.5555555555555556,
             "#d8576b"
            ],
            [
             0.6666666666666666,
             "#ed7953"
            ],
            [
             0.7777777777777778,
             "#fb9f3a"
            ],
            [
             0.8888888888888888,
             "#fdca26"
            ],
            [
             1,
             "#f0f921"
            ]
           ],
           "sequentialminus": [
            [
             0,
             "#0d0887"
            ],
            [
             0.1111111111111111,
             "#46039f"
            ],
            [
             0.2222222222222222,
             "#7201a8"
            ],
            [
             0.3333333333333333,
             "#9c179e"
            ],
            [
             0.4444444444444444,
             "#bd3786"
            ],
            [
             0.5555555555555556,
             "#d8576b"
            ],
            [
             0.6666666666666666,
             "#ed7953"
            ],
            [
             0.7777777777777778,
             "#fb9f3a"
            ],
            [
             0.8888888888888888,
             "#fdca26"
            ],
            [
             1,
             "#f0f921"
            ]
           ]
          },
          "colorway": [
           "#636efa",
           "#EF553B",
           "#00cc96",
           "#ab63fa",
           "#FFA15A",
           "#19d3f3",
           "#FF6692",
           "#B6E880",
           "#FF97FF",
           "#FECB52"
          ],
          "font": {
           "color": "#2a3f5f"
          },
          "geo": {
           "bgcolor": "white",
           "lakecolor": "white",
           "landcolor": "#E5ECF6",
           "showlakes": true,
           "showland": true,
           "subunitcolor": "white"
          },
          "hoverlabel": {
           "align": "left"
          },
          "hovermode": "closest",
          "mapbox": {
           "style": "light"
          },
          "paper_bgcolor": "white",
          "plot_bgcolor": "#E5ECF6",
          "polar": {
           "angularaxis": {
            "gridcolor": "white",
            "linecolor": "white",
            "ticks": ""
           },
           "bgcolor": "#E5ECF6",
           "radialaxis": {
            "gridcolor": "white",
            "linecolor": "white",
            "ticks": ""
           }
          },
          "scene": {
           "xaxis": {
            "backgroundcolor": "#E5ECF6",
            "gridcolor": "white",
            "gridwidth": 2,
            "linecolor": "white",
            "showbackground": true,
            "ticks": "",
            "zerolinecolor": "white"
           },
           "yaxis": {
            "backgroundcolor": "#E5ECF6",
            "gridcolor": "white",
            "gridwidth": 2,
            "linecolor": "white",
            "showbackground": true,
            "ticks": "",
            "zerolinecolor": "white"
           },
           "zaxis": {
            "backgroundcolor": "#E5ECF6",
            "gridcolor": "white",
            "gridwidth": 2,
            "linecolor": "white",
            "showbackground": true,
            "ticks": "",
            "zerolinecolor": "white"
           }
          },
          "shapedefaults": {
           "line": {
            "color": "#2a3f5f"
           }
          },
          "ternary": {
           "aaxis": {
            "gridcolor": "white",
            "linecolor": "white",
            "ticks": ""
           },
           "baxis": {
            "gridcolor": "white",
            "linecolor": "white",
            "ticks": ""
           },
           "bgcolor": "#E5ECF6",
           "caxis": {
            "gridcolor": "white",
            "linecolor": "white",
            "ticks": ""
           }
          },
          "title": {
           "x": 0.05
          },
          "xaxis": {
           "automargin": true,
           "gridcolor": "white",
           "linecolor": "white",
           "ticks": "",
           "title": {
            "standoff": 15
           },
           "zerolinecolor": "white",
           "zerolinewidth": 2
          },
          "yaxis": {
           "automargin": true,
           "gridcolor": "white",
           "linecolor": "white",
           "ticks": "",
           "title": {
            "standoff": 15
           },
           "zerolinecolor": "white",
           "zerolinewidth": 2
          }
         }
        },
        "title": {
         "text": "LabDoc 1"
        },
        "width": 900,
        "xaxis": {
         "anchor": "y",
         "domain": [
          0,
          1
         ],
         "range": [
          -0.05,
          1.05
         ],
         "title": {
          "text": "eqc_1_val"
         }
        },
        "yaxis": {
         "anchor": "x",
         "domain": [
          0,
          1
         ],
         "range": [
          -0.05,
          1.05
         ],
         "title": {
          "text": "coec_1_val"
         }
        }
       }
      }
     },
     "metadata": {},
     "output_type": "display_data"
    },
    {
     "data": {
      "application/vnd.plotly.v1+json": {
       "config": {
        "plotlyServerURL": "https://plot.ly",
        "scrollZoom": false
       },
       "data": [
        {
         "alignmentgroup": "True",
         "boxpoints": "all",
         "customdata": [
          [
           "Entièrement sommative",
           "Moyen",
           "Faible",
           0.09,
           0.06,
           0.04,
           0.06,
           0.07,
           0.29
          ]
         ],
         "fillcolor": "rgba(255,255,255,0)",
         "hoveron": "points",
         "hovertemplate": "<b>%{hovertext}</b><br><br>id_teacher=1<br>eqc_2_val=%{x}<br>coec_2_val=%{y}<br>st_2=%{customdata[0]}<br>eqc_2_lev=%{customdata[1]}<br>coec_2_lev=%{customdata[2]}<br>rmsd_eqc=%{customdata[3]}<br>rmsd_sr_eqc=%{customdata[4]}<br>rmsd_coec=%{customdata[5]}<br>rmsd_sr_coec=%{customdata[6]}<br>radius_sr_2=%{customdata[7]}<br>radius_2=%{customdata[8]}<extra></extra>",
         "hovertext": [
          1
         ],
         "legendgroup": "1",
         "line": {
          "color": "rgba(255,255,255,0)"
         },
         "marker": {
          "color": "#636efa",
          "size": 10
         },
         "name": "1",
         "offsetgroup": "1",
         "orientation": "v",
         "pointpos": 0,
         "showlegend": true,
         "type": "box",
         "x": [
          0.6
         ],
         "x0": " ",
         "xaxis": "x",
         "y": [
          0
         ],
         "y0": " ",
         "yaxis": "y"
        },
        {
         "alignmentgroup": "True",
         "boxpoints": "all",
         "customdata": [
          [
           "Entièrement sommative",
           "Moyen",
           "Faible",
           0.07,
           0.06,
           0.02,
           0.06,
           0.08,
           0.2
          ]
         ],
         "fillcolor": "rgba(255,255,255,0)",
         "hoveron": "points",
         "hovertemplate": "<b>%{hovertext}</b><br><br>id_teacher=2<br>eqc_2_val=%{x}<br>coec_2_val=%{y}<br>st_2=%{customdata[0]}<br>eqc_2_lev=%{customdata[1]}<br>coec_2_lev=%{customdata[2]}<br>rmsd_eqc=%{customdata[3]}<br>rmsd_sr_eqc=%{customdata[4]}<br>rmsd_coec=%{customdata[5]}<br>rmsd_sr_coec=%{customdata[6]}<br>radius_sr_2=%{customdata[7]}<br>radius_2=%{customdata[8]}<extra></extra>",
         "hovertext": [
          2
         ],
         "legendgroup": "2",
         "line": {
          "color": "rgba(255,255,255,0)"
         },
         "marker": {
          "color": "#EF553B",
          "size": 10
         },
         "name": "2",
         "offsetgroup": "2",
         "orientation": "v",
         "pointpos": 0,
         "showlegend": true,
         "type": "box",
         "x": [
          0.7
         ],
         "x0": " ",
         "xaxis": "x",
         "y": [
          0
         ],
         "y0": " ",
         "yaxis": "y"
        },
        {
         "alignmentgroup": "True",
         "boxpoints": "all",
         "customdata": [
          [
           "Entièrement sommative",
           "Moyen",
           "Faible",
           0.03,
           0.02,
           0.06,
           0.15,
           0.07,
           0.29
          ]
         ],
         "fillcolor": "rgba(255,255,255,0)",
         "hoveron": "points",
         "hovertemplate": "<b>%{hovertext}</b><br><br>id_teacher=3<br>eqc_2_val=%{x}<br>coec_2_val=%{y}<br>st_2=%{customdata[0]}<br>eqc_2_lev=%{customdata[1]}<br>coec_2_lev=%{customdata[2]}<br>rmsd_eqc=%{customdata[3]}<br>rmsd_sr_eqc=%{customdata[4]}<br>rmsd_coec=%{customdata[5]}<br>rmsd_sr_coec=%{customdata[6]}<br>radius_sr_2=%{customdata[7]}<br>radius_2=%{customdata[8]}<extra></extra>",
         "hovertext": [
          3
         ],
         "legendgroup": "3",
         "line": {
          "color": "rgba(255,255,255,0)"
         },
         "marker": {
          "color": "#00cc96",
          "size": 10
         },
         "name": "3",
         "offsetgroup": "3",
         "orientation": "v",
         "pointpos": 0,
         "showlegend": true,
         "type": "box",
         "x": [
          0.6
         ],
         "x0": " ",
         "xaxis": "x",
         "y": [
          0
         ],
         "y0": " ",
         "yaxis": "y"
        },
        {
         "alignmentgroup": "True",
         "boxpoints": "all",
         "customdata": [
          [
           "Entièrement sommative",
           "Fort",
           "Faible",
           0.05,
           0.03,
           0.02,
           0.04,
           0.05,
           0.2
          ]
         ],
         "fillcolor": "rgba(255,255,255,0)",
         "hoveron": "points",
         "hovertemplate": "<b>%{hovertext}</b><br><br>id_teacher=4<br>eqc_2_val=%{x}<br>coec_2_val=%{y}<br>st_2=%{customdata[0]}<br>eqc_2_lev=%{customdata[1]}<br>coec_2_lev=%{customdata[2]}<br>rmsd_eqc=%{customdata[3]}<br>rmsd_sr_eqc=%{customdata[4]}<br>rmsd_coec=%{customdata[5]}<br>rmsd_sr_coec=%{customdata[6]}<br>radius_sr_2=%{customdata[7]}<br>radius_2=%{customdata[8]}<extra></extra>",
         "hovertext": [
          4
         ],
         "legendgroup": "4",
         "line": {
          "color": "rgba(255,255,255,0)"
         },
         "marker": {
          "color": "#ab63fa",
          "size": 10
         },
         "name": "4",
         "offsetgroup": "4",
         "orientation": "v",
         "pointpos": 0,
         "showlegend": true,
         "type": "box",
         "x": [
          0.67
         ],
         "x0": " ",
         "xaxis": "x",
         "y": [
          0.1
         ],
         "y0": " ",
         "yaxis": "y"
        },
        {
         "alignmentgroup": "True",
         "boxpoints": "all",
         "customdata": [
          [
           "Entièrement sommative",
           "Fort",
           "Faible",
           0.05,
           0.07,
           0.04,
           0.1,
           0.37,
           0.17
          ]
         ],
         "fillcolor": "rgba(255,255,255,0)",
         "hoveron": "points",
         "hovertemplate": "<b>%{hovertext}</b><br><br>id_teacher=5<br>eqc_2_val=%{x}<br>coec_2_val=%{y}<br>st_2=%{customdata[0]}<br>eqc_2_lev=%{customdata[1]}<br>coec_2_lev=%{customdata[2]}<br>rmsd_eqc=%{customdata[3]}<br>rmsd_sr_eqc=%{customdata[4]}<br>rmsd_coec=%{customdata[5]}<br>rmsd_sr_coec=%{customdata[6]}<br>radius_sr_2=%{customdata[7]}<br>radius_2=%{customdata[8]}<extra></extra>",
         "hovertext": [
          5
         ],
         "legendgroup": "5",
         "line": {
          "color": "rgba(255,255,255,0)"
         },
         "marker": {
          "color": "#FFA15A",
          "size": 10
         },
         "name": "5",
         "offsetgroup": "5",
         "orientation": "v",
         "pointpos": 0,
         "showlegend": true,
         "type": "box",
         "x": [
          1
         ],
         "x0": " ",
         "xaxis": "x",
         "y": [
          0
         ],
         "y0": " ",
         "yaxis": "y"
        },
        {
         "alignmentgroup": "True",
         "boxpoints": "all",
         "customdata": [
          [
           "Entièrement sommative",
           "Fort",
           "Faible",
           0.03,
           0.03,
           0.03,
           0.03,
           0.17,
           0.13
          ]
         ],
         "fillcolor": "rgba(255,255,255,0)",
         "hoveron": "points",
         "hovertemplate": "<b>%{hovertext}</b><br><br>id_teacher=6<br>eqc_2_val=%{x}<br>coec_2_val=%{y}<br>st_2=%{customdata[0]}<br>eqc_2_lev=%{customdata[1]}<br>coec_2_lev=%{customdata[2]}<br>rmsd_eqc=%{customdata[3]}<br>rmsd_sr_eqc=%{customdata[4]}<br>rmsd_coec=%{customdata[5]}<br>rmsd_sr_coec=%{customdata[6]}<br>radius_sr_2=%{customdata[7]}<br>radius_2=%{customdata[8]}<extra></extra>",
         "hovertext": [
          6
         ],
         "legendgroup": "6",
         "line": {
          "color": "rgba(255,255,255,0)"
         },
         "marker": {
          "color": "#19d3f3",
          "size": 10
         },
         "name": "6",
         "offsetgroup": "6",
         "orientation": "v",
         "pointpos": 0,
         "showlegend": true,
         "type": "box",
         "x": [
          0.8
         ],
         "x0": " ",
         "xaxis": "x",
         "y": [
          0
         ],
         "y0": " ",
         "yaxis": "y"
        },
        {
         "alignmentgroup": "True",
         "boxpoints": "all",
         "customdata": [
          [
           "Entièrement sommative",
           "Fort",
           "Faible",
           0.08,
           0.08,
           0.06,
           0.08,
           0.37,
           0.17
          ]
         ],
         "fillcolor": "rgba(255,255,255,0)",
         "hoveron": "points",
         "hovertemplate": "<b>%{hovertext}</b><br><br>id_teacher=7<br>eqc_2_val=%{x}<br>coec_2_val=%{y}<br>st_2=%{customdata[0]}<br>eqc_2_lev=%{customdata[1]}<br>coec_2_lev=%{customdata[2]}<br>rmsd_eqc=%{customdata[3]}<br>rmsd_sr_eqc=%{customdata[4]}<br>rmsd_coec=%{customdata[5]}<br>rmsd_sr_coec=%{customdata[6]}<br>radius_sr_2=%{customdata[7]}<br>radius_2=%{customdata[8]}<extra></extra>",
         "hovertext": [
          7
         ],
         "legendgroup": "7",
         "line": {
          "color": "rgba(255,255,255,0)"
         },
         "marker": {
          "color": "#FF6692",
          "size": 10
         },
         "name": "7",
         "offsetgroup": "7",
         "orientation": "v",
         "pointpos": 0,
         "showlegend": true,
         "type": "box",
         "x": [
          1
         ],
         "x0": " ",
         "xaxis": "x",
         "y": [
          0
         ],
         "y0": " ",
         "yaxis": "y"
        },
        {
         "alignmentgroup": "True",
         "boxpoints": "all",
         "customdata": [
          [
           "Entièrement sommative",
           "Fort",
           "Faible",
           0.06,
           0.03,
           0.04,
           0.02,
           0.16,
           0.09
          ]
         ],
         "fillcolor": "rgba(255,255,255,0)",
         "hoveron": "points",
         "hovertemplate": "<b>%{hovertext}</b><br><br>id_teacher=8<br>eqc_2_val=%{x}<br>coec_2_val=%{y}<br>st_2=%{customdata[0]}<br>eqc_2_lev=%{customdata[1]}<br>coec_2_lev=%{customdata[2]}<br>rmsd_eqc=%{customdata[3]}<br>rmsd_sr_eqc=%{customdata[4]}<br>rmsd_coec=%{customdata[5]}<br>rmsd_sr_coec=%{customdata[6]}<br>radius_sr_2=%{customdata[7]}<br>radius_2=%{customdata[8]}<extra></extra>",
         "hovertext": [
          8
         ],
         "legendgroup": "8",
         "line": {
          "color": "rgba(255,255,255,0)"
         },
         "marker": {
          "color": "#B6E880",
          "size": 10
         },
         "name": "8",
         "offsetgroup": "8",
         "orientation": "v",
         "pointpos": 0,
         "showlegend": true,
         "type": "box",
         "x": [
          0.8
         ],
         "x0": " ",
         "xaxis": "x",
         "y": [
          0.05
         ],
         "y0": " ",
         "yaxis": "y"
        },
        {
         "alignmentgroup": "True",
         "boxpoints": "all",
         "customdata": [
          [
           "Entièrement sommative",
           "Fort",
           "Faible",
           0.16,
           0.08,
           0.05,
           0.04,
           0.41,
           0.55
          ]
         ],
         "fillcolor": "rgba(255,255,255,0)",
         "hoveron": "points",
         "hovertemplate": "<b>%{hovertext}</b><br><br>id_teacher=9<br>eqc_2_val=%{x}<br>coec_2_val=%{y}<br>st_2=%{customdata[0]}<br>eqc_2_lev=%{customdata[1]}<br>coec_2_lev=%{customdata[2]}<br>rmsd_eqc=%{customdata[3]}<br>rmsd_sr_eqc=%{customdata[4]}<br>rmsd_coec=%{customdata[5]}<br>rmsd_sr_coec=%{customdata[6]}<br>radius_sr_2=%{customdata[7]}<br>radius_2=%{customdata[8]}<extra></extra>",
         "hovertext": [
          9
         ],
         "legendgroup": "9",
         "line": {
          "color": "rgba(255,255,255,0)"
         },
         "marker": {
          "color": "#FF97FF",
          "size": 10
         },
         "name": "9",
         "offsetgroup": "9",
         "orientation": "v",
         "pointpos": 0,
         "showlegend": true,
         "type": "box",
         "x": [
          0.4
         ],
         "x0": " ",
         "xaxis": "x",
         "y": [
          0.39
         ],
         "y0": " ",
         "yaxis": "y"
        },
        {
         "alignmentgroup": "True",
         "boxpoints": "all",
         "customdata": [
          [
           "Entre sommative et intégrative",
           "Moyen",
           "Moyen",
           0.05,
           0.03,
           0.05,
           0.09,
           0.25,
           0.33
          ]
         ],
         "fillcolor": "rgba(255,255,255,0)",
         "hoveron": "points",
         "hovertemplate": "<b>%{hovertext}</b><br><br>id_teacher=10<br>eqc_2_val=%{x}<br>coec_2_val=%{y}<br>st_2=%{customdata[0]}<br>eqc_2_lev=%{customdata[1]}<br>coec_2_lev=%{customdata[2]}<br>rmsd_eqc=%{customdata[3]}<br>rmsd_sr_eqc=%{customdata[4]}<br>rmsd_coec=%{customdata[5]}<br>rmsd_sr_coec=%{customdata[6]}<br>radius_sr_2=%{customdata[7]}<br>radius_2=%{customdata[8]}<extra></extra>",
         "hovertext": [
          10
         ],
         "legendgroup": "10",
         "line": {
          "color": "rgba(255,255,255,0)"
         },
         "marker": {
          "color": "#FECB52",
          "size": 10
         },
         "name": "10",
         "offsetgroup": "10",
         "orientation": "v",
         "pointpos": 0,
         "showlegend": true,
         "type": "box",
         "x": [
          0.6
         ],
         "x0": " ",
         "xaxis": "x",
         "y": [
          0.3
         ],
         "y0": " ",
         "yaxis": "y"
        },
        {
         "alignmentgroup": "True",
         "boxpoints": "all",
         "customdata": [
          [
           "Entièrement sommative",
           "Moyen",
           "Faible",
           0.06,
           0.05,
           0.04,
           0.09,
           0.17,
           0.07
          ]
         ],
         "fillcolor": "rgba(255,255,255,0)",
         "hoveron": "points",
         "hovertemplate": "<b>%{hovertext}</b><br><br>id_teacher=11<br>eqc_2_val=%{x}<br>coec_2_val=%{y}<br>st_2=%{customdata[0]}<br>eqc_2_lev=%{customdata[1]}<br>coec_2_lev=%{customdata[2]}<br>rmsd_eqc=%{customdata[3]}<br>rmsd_sr_eqc=%{customdata[4]}<br>rmsd_coec=%{customdata[5]}<br>rmsd_sr_coec=%{customdata[6]}<br>radius_sr_2=%{customdata[7]}<br>radius_2=%{customdata[8]}<extra></extra>",
         "hovertext": [
          11
         ],
         "legendgroup": "11",
         "line": {
          "color": "rgba(255,255,255,0)"
         },
         "marker": {
          "color": "#636efa",
          "size": 10
         },
         "name": "11",
         "offsetgroup": "11",
         "orientation": "v",
         "pointpos": 0,
         "showlegend": true,
         "type": "box",
         "x": [
          0.8
         ],
         "x0": " ",
         "xaxis": "x",
         "y": [
          0.1
         ],
         "y0": " ",
         "yaxis": "y"
        },
        {
         "alignmentgroup": "True",
         "boxpoints": "all",
         "customdata": [
          [
           "Plutôt sommative",
           "Fort",
           "Faible",
           0.08,
           0.09,
           0.07,
           0.08,
           0.36,
           0.13
          ]
         ],
         "fillcolor": "rgba(255,255,255,0)",
         "hoveron": "points",
         "hovertemplate": "<b>%{hovertext}</b><br><br>id_teacher=12<br>eqc_2_val=%{x}<br>coec_2_val=%{y}<br>st_2=%{customdata[0]}<br>eqc_2_lev=%{customdata[1]}<br>coec_2_lev=%{customdata[2]}<br>rmsd_eqc=%{customdata[3]}<br>rmsd_sr_eqc=%{customdata[4]}<br>rmsd_coec=%{customdata[5]}<br>rmsd_sr_coec=%{customdata[6]}<br>radius_sr_2=%{customdata[7]}<br>radius_2=%{customdata[8]}<extra></extra>",
         "hovertext": [
          12
         ],
         "legendgroup": "12",
         "line": {
          "color": "rgba(255,255,255,0)"
         },
         "marker": {
          "color": "#EF553B",
          "size": 10
         },
         "name": "12",
         "offsetgroup": "12",
         "orientation": "v",
         "pointpos": 0,
         "showlegend": true,
         "type": "box",
         "x": [
          1
         ],
         "x0": " ",
         "xaxis": "x",
         "y": [
          0.1
         ],
         "y0": " ",
         "yaxis": "y"
        },
        {
         "alignmentgroup": "True",
         "boxpoints": "all",
         "customdata": [
          [
           "Plutôt sommative",
           "Fort",
           "Faible",
           0.04,
           0.04,
           0.05,
           0.12,
           0.36,
           0.13
          ]
         ],
         "fillcolor": "rgba(255,255,255,0)",
         "hoveron": "points",
         "hovertemplate": "<b>%{hovertext}</b><br><br>id_teacher=13<br>eqc_2_val=%{x}<br>coec_2_val=%{y}<br>st_2=%{customdata[0]}<br>eqc_2_lev=%{customdata[1]}<br>coec_2_lev=%{customdata[2]}<br>rmsd_eqc=%{customdata[3]}<br>rmsd_sr_eqc=%{customdata[4]}<br>rmsd_coec=%{customdata[5]}<br>rmsd_sr_coec=%{customdata[6]}<br>radius_sr_2=%{customdata[7]}<br>radius_2=%{customdata[8]}<extra></extra>",
         "hovertext": [
          13
         ],
         "legendgroup": "13",
         "line": {
          "color": "rgba(255,255,255,0)"
         },
         "marker": {
          "color": "#00cc96",
          "size": 10
         },
         "name": "13",
         "offsetgroup": "13",
         "orientation": "v",
         "pointpos": 0,
         "showlegend": true,
         "type": "box",
         "x": [
          1
         ],
         "x0": " ",
         "xaxis": "x",
         "y": [
          0.1
         ],
         "y0": " ",
         "yaxis": "y"
        },
        {
         "alignmentgroup": "True",
         "boxpoints": "all",
         "customdata": [
          [
           "Plutôt intégrative",
           "Fort",
           "Fort",
           0.13,
           0.06,
           0.07,
           0.06,
           0.45,
           0.42
          ]
         ],
         "fillcolor": "rgba(255,255,255,0)",
         "hoveron": "points",
         "hovertemplate": "<b>%{hovertext}</b><br><br>id_teacher=14<br>eqc_2_val=%{x}<br>coec_2_val=%{y}<br>st_2=%{customdata[0]}<br>eqc_2_lev=%{customdata[1]}<br>coec_2_lev=%{customdata[2]}<br>rmsd_eqc=%{customdata[3]}<br>rmsd_sr_eqc=%{customdata[4]}<br>rmsd_coec=%{customdata[5]}<br>rmsd_sr_coec=%{customdata[6]}<br>radius_sr_2=%{customdata[7]}<br>radius_2=%{customdata[8]}<extra></extra>",
         "hovertext": [
          14
         ],
         "legendgroup": "14",
         "line": {
          "color": "rgba(255,255,255,0)"
         },
         "marker": {
          "color": "#ab63fa",
          "size": 10
         },
         "name": "14",
         "offsetgroup": "14",
         "orientation": "v",
         "pointpos": 0,
         "showlegend": true,
         "type": "box",
         "x": [
          0.7
         ],
         "x0": " ",
         "xaxis": "x",
         "y": [
          0.5
         ],
         "y0": " ",
         "yaxis": "y"
        },
        {
         "alignmentgroup": "True",
         "boxpoints": "all",
         "customdata": [
          [
           "Entièrement sommative",
           "Moyen",
           "Faible",
           0.06,
           0.05,
           0.05,
           0.08,
           0.17,
           0.13
          ]
         ],
         "fillcolor": "rgba(255,255,255,0)",
         "hoveron": "points",
         "hovertemplate": "<b>%{hovertext}</b><br><br>id_teacher=15<br>eqc_2_val=%{x}<br>coec_2_val=%{y}<br>st_2=%{customdata[0]}<br>eqc_2_lev=%{customdata[1]}<br>coec_2_lev=%{customdata[2]}<br>rmsd_eqc=%{customdata[3]}<br>rmsd_sr_eqc=%{customdata[4]}<br>rmsd_coec=%{customdata[5]}<br>rmsd_sr_coec=%{customdata[6]}<br>radius_sr_2=%{customdata[7]}<br>radius_2=%{customdata[8]}<extra></extra>",
         "hovertext": [
          15
         ],
         "legendgroup": "15",
         "line": {
          "color": "rgba(255,255,255,0)"
         },
         "marker": {
          "color": "#FFA15A",
          "size": 10
         },
         "name": "15",
         "offsetgroup": "15",
         "orientation": "v",
         "pointpos": 0,
         "showlegend": true,
         "type": "box",
         "x": [
          0.8
         ],
         "x0": " ",
         "xaxis": "x",
         "y": [
          0
         ],
         "y0": " ",
         "yaxis": "y"
        },
        {
         "marker": {
          "color": [
           2,
           3
          ],
          "size": [
           30,
           30
          ]
         },
         "mode": "markers",
         "type": "scatter",
         "x": [
          0.639,
          0.87
         ],
         "y": [
          0.058,
          0.113
         ]
        }
       ],
       "layout": {
        "boxmode": "group",
        "height": 700,
        "legend": {
         "title": {
          "text": "id_teacher"
         },
         "tracegroupgap": 0
        },
        "margin": {
         "t": 60
        },
        "shapes": [
         {
          "type": "line",
          "x0": 0,
          "x1": 1,
          "y0": 0,
          "y1": 1
         },
         {
          "type": "line",
          "x0": 0.5,
          "y0": 0.5
         }
        ],
        "template": {
         "data": {
          "bar": [
           {
            "error_x": {
             "color": "#2a3f5f"
            },
            "error_y": {
             "color": "#2a3f5f"
            },
            "marker": {
             "line": {
              "color": "#E5ECF6",
              "width": 0.5
             },
             "pattern": {
              "fillmode": "overlay",
              "size": 10,
              "solidity": 0.2
             }
            },
            "type": "bar"
           }
          ],
          "barpolar": [
           {
            "marker": {
             "line": {
              "color": "#E5ECF6",
              "width": 0.5
             },
             "pattern": {
              "fillmode": "overlay",
              "size": 10,
              "solidity": 0.2
             }
            },
            "type": "barpolar"
           }
          ],
          "carpet": [
           {
            "aaxis": {
             "endlinecolor": "#2a3f5f",
             "gridcolor": "white",
             "linecolor": "white",
             "minorgridcolor": "white",
             "startlinecolor": "#2a3f5f"
            },
            "baxis": {
             "endlinecolor": "#2a3f5f",
             "gridcolor": "white",
             "linecolor": "white",
             "minorgridcolor": "white",
             "startlinecolor": "#2a3f5f"
            },
            "type": "carpet"
           }
          ],
          "choropleth": [
           {
            "colorbar": {
             "outlinewidth": 0,
             "ticks": ""
            },
            "type": "choropleth"
           }
          ],
          "contour": [
           {
            "colorbar": {
             "outlinewidth": 0,
             "ticks": ""
            },
            "colorscale": [
             [
              0,
              "#0d0887"
             ],
             [
              0.1111111111111111,
              "#46039f"
             ],
             [
              0.2222222222222222,
              "#7201a8"
             ],
             [
              0.3333333333333333,
              "#9c179e"
             ],
             [
              0.4444444444444444,
              "#bd3786"
             ],
             [
              0.5555555555555556,
              "#d8576b"
             ],
             [
              0.6666666666666666,
              "#ed7953"
             ],
             [
              0.7777777777777778,
              "#fb9f3a"
             ],
             [
              0.8888888888888888,
              "#fdca26"
             ],
             [
              1,
              "#f0f921"
             ]
            ],
            "type": "contour"
           }
          ],
          "contourcarpet": [
           {
            "colorbar": {
             "outlinewidth": 0,
             "ticks": ""
            },
            "type": "contourcarpet"
           }
          ],
          "heatmap": [
           {
            "colorbar": {
             "outlinewidth": 0,
             "ticks": ""
            },
            "colorscale": [
             [
              0,
              "#0d0887"
             ],
             [
              0.1111111111111111,
              "#46039f"
             ],
             [
              0.2222222222222222,
              "#7201a8"
             ],
             [
              0.3333333333333333,
              "#9c179e"
             ],
             [
              0.4444444444444444,
              "#bd3786"
             ],
             [
              0.5555555555555556,
              "#d8576b"
             ],
             [
              0.6666666666666666,
              "#ed7953"
             ],
             [
              0.7777777777777778,
              "#fb9f3a"
             ],
             [
              0.8888888888888888,
              "#fdca26"
             ],
             [
              1,
              "#f0f921"
             ]
            ],
            "type": "heatmap"
           }
          ],
          "heatmapgl": [
           {
            "colorbar": {
             "outlinewidth": 0,
             "ticks": ""
            },
            "colorscale": [
             [
              0,
              "#0d0887"
             ],
             [
              0.1111111111111111,
              "#46039f"
             ],
             [
              0.2222222222222222,
              "#7201a8"
             ],
             [
              0.3333333333333333,
              "#9c179e"
             ],
             [
              0.4444444444444444,
              "#bd3786"
             ],
             [
              0.5555555555555556,
              "#d8576b"
             ],
             [
              0.6666666666666666,
              "#ed7953"
             ],
             [
              0.7777777777777778,
              "#fb9f3a"
             ],
             [
              0.8888888888888888,
              "#fdca26"
             ],
             [
              1,
              "#f0f921"
             ]
            ],
            "type": "heatmapgl"
           }
          ],
          "histogram": [
           {
            "marker": {
             "pattern": {
              "fillmode": "overlay",
              "size": 10,
              "solidity": 0.2
             }
            },
            "type": "histogram"
           }
          ],
          "histogram2d": [
           {
            "colorbar": {
             "outlinewidth": 0,
             "ticks": ""
            },
            "colorscale": [
             [
              0,
              "#0d0887"
             ],
             [
              0.1111111111111111,
              "#46039f"
             ],
             [
              0.2222222222222222,
              "#7201a8"
             ],
             [
              0.3333333333333333,
              "#9c179e"
             ],
             [
              0.4444444444444444,
              "#bd3786"
             ],
             [
              0.5555555555555556,
              "#d8576b"
             ],
             [
              0.6666666666666666,
              "#ed7953"
             ],
             [
              0.7777777777777778,
              "#fb9f3a"
             ],
             [
              0.8888888888888888,
              "#fdca26"
             ],
             [
              1,
              "#f0f921"
             ]
            ],
            "type": "histogram2d"
           }
          ],
          "histogram2dcontour": [
           {
            "colorbar": {
             "outlinewidth": 0,
             "ticks": ""
            },
            "colorscale": [
             [
              0,
              "#0d0887"
             ],
             [
              0.1111111111111111,
              "#46039f"
             ],
             [
              0.2222222222222222,
              "#7201a8"
             ],
             [
              0.3333333333333333,
              "#9c179e"
             ],
             [
              0.4444444444444444,
              "#bd3786"
             ],
             [
              0.5555555555555556,
              "#d8576b"
             ],
             [
              0.6666666666666666,
              "#ed7953"
             ],
             [
              0.7777777777777778,
              "#fb9f3a"
             ],
             [
              0.8888888888888888,
              "#fdca26"
             ],
             [
              1,
              "#f0f921"
             ]
            ],
            "type": "histogram2dcontour"
           }
          ],
          "mesh3d": [
           {
            "colorbar": {
             "outlinewidth": 0,
             "ticks": ""
            },
            "type": "mesh3d"
           }
          ],
          "parcoords": [
           {
            "line": {
             "colorbar": {
              "outlinewidth": 0,
              "ticks": ""
             }
            },
            "type": "parcoords"
           }
          ],
          "pie": [
           {
            "automargin": true,
            "type": "pie"
           }
          ],
          "scatter": [
           {
            "marker": {
             "colorbar": {
              "outlinewidth": 0,
              "ticks": ""
             }
            },
            "type": "scatter"
           }
          ],
          "scatter3d": [
           {
            "line": {
             "colorbar": {
              "outlinewidth": 0,
              "ticks": ""
             }
            },
            "marker": {
             "colorbar": {
              "outlinewidth": 0,
              "ticks": ""
             }
            },
            "type": "scatter3d"
           }
          ],
          "scattercarpet": [
           {
            "marker": {
             "colorbar": {
              "outlinewidth": 0,
              "ticks": ""
             }
            },
            "type": "scattercarpet"
           }
          ],
          "scattergeo": [
           {
            "marker": {
             "colorbar": {
              "outlinewidth": 0,
              "ticks": ""
             }
            },
            "type": "scattergeo"
           }
          ],
          "scattergl": [
           {
            "marker": {
             "colorbar": {
              "outlinewidth": 0,
              "ticks": ""
             }
            },
            "type": "scattergl"
           }
          ],
          "scattermapbox": [
           {
            "marker": {
             "colorbar": {
              "outlinewidth": 0,
              "ticks": ""
             }
            },
            "type": "scattermapbox"
           }
          ],
          "scatterpolar": [
           {
            "marker": {
             "colorbar": {
              "outlinewidth": 0,
              "ticks": ""
             }
            },
            "type": "scatterpolar"
           }
          ],
          "scatterpolargl": [
           {
            "marker": {
             "colorbar": {
              "outlinewidth": 0,
              "ticks": ""
             }
            },
            "type": "scatterpolargl"
           }
          ],
          "scatterternary": [
           {
            "marker": {
             "colorbar": {
              "outlinewidth": 0,
              "ticks": ""
             }
            },
            "type": "scatterternary"
           }
          ],
          "surface": [
           {
            "colorbar": {
             "outlinewidth": 0,
             "ticks": ""
            },
            "colorscale": [
             [
              0,
              "#0d0887"
             ],
             [
              0.1111111111111111,
              "#46039f"
             ],
             [
              0.2222222222222222,
              "#7201a8"
             ],
             [
              0.3333333333333333,
              "#9c179e"
             ],
             [
              0.4444444444444444,
              "#bd3786"
             ],
             [
              0.5555555555555556,
              "#d8576b"
             ],
             [
              0.6666666666666666,
              "#ed7953"
             ],
             [
              0.7777777777777778,
              "#fb9f3a"
             ],
             [
              0.8888888888888888,
              "#fdca26"
             ],
             [
              1,
              "#f0f921"
             ]
            ],
            "type": "surface"
           }
          ],
          "table": [
           {
            "cells": {
             "fill": {
              "color": "#EBF0F8"
             },
             "line": {
              "color": "white"
             }
            },
            "header": {
             "fill": {
              "color": "#C8D4E3"
             },
             "line": {
              "color": "white"
             }
            },
            "type": "table"
           }
          ]
         },
         "layout": {
          "annotationdefaults": {
           "arrowcolor": "#2a3f5f",
           "arrowhead": 0,
           "arrowwidth": 1
          },
          "autotypenumbers": "strict",
          "coloraxis": {
           "colorbar": {
            "outlinewidth": 0,
            "ticks": ""
           }
          },
          "colorscale": {
           "diverging": [
            [
             0,
             "#8e0152"
            ],
            [
             0.1,
             "#c51b7d"
            ],
            [
             0.2,
             "#de77ae"
            ],
            [
             0.3,
             "#f1b6da"
            ],
            [
             0.4,
             "#fde0ef"
            ],
            [
             0.5,
             "#f7f7f7"
            ],
            [
             0.6,
             "#e6f5d0"
            ],
            [
             0.7,
             "#b8e186"
            ],
            [
             0.8,
             "#7fbc41"
            ],
            [
             0.9,
             "#4d9221"
            ],
            [
             1,
             "#276419"
            ]
           ],
           "sequential": [
            [
             0,
             "#0d0887"
            ],
            [
             0.1111111111111111,
             "#46039f"
            ],
            [
             0.2222222222222222,
             "#7201a8"
            ],
            [
             0.3333333333333333,
             "#9c179e"
            ],
            [
             0.4444444444444444,
             "#bd3786"
            ],
            [
             0.5555555555555556,
             "#d8576b"
            ],
            [
             0.6666666666666666,
             "#ed7953"
            ],
            [
             0.7777777777777778,
             "#fb9f3a"
            ],
            [
             0.8888888888888888,
             "#fdca26"
            ],
            [
             1,
             "#f0f921"
            ]
           ],
           "sequentialminus": [
            [
             0,
             "#0d0887"
            ],
            [
             0.1111111111111111,
             "#46039f"
            ],
            [
             0.2222222222222222,
             "#7201a8"
            ],
            [
             0.3333333333333333,
             "#9c179e"
            ],
            [
             0.4444444444444444,
             "#bd3786"
            ],
            [
             0.5555555555555556,
             "#d8576b"
            ],
            [
             0.6666666666666666,
             "#ed7953"
            ],
            [
             0.7777777777777778,
             "#fb9f3a"
            ],
            [
             0.8888888888888888,
             "#fdca26"
            ],
            [
             1,
             "#f0f921"
            ]
           ]
          },
          "colorway": [
           "#636efa",
           "#EF553B",
           "#00cc96",
           "#ab63fa",
           "#FFA15A",
           "#19d3f3",
           "#FF6692",
           "#B6E880",
           "#FF97FF",
           "#FECB52"
          ],
          "font": {
           "color": "#2a3f5f"
          },
          "geo": {
           "bgcolor": "white",
           "lakecolor": "white",
           "landcolor": "#E5ECF6",
           "showlakes": true,
           "showland": true,
           "subunitcolor": "white"
          },
          "hoverlabel": {
           "align": "left"
          },
          "hovermode": "closest",
          "mapbox": {
           "style": "light"
          },
          "paper_bgcolor": "white",
          "plot_bgcolor": "#E5ECF6",
          "polar": {
           "angularaxis": {
            "gridcolor": "white",
            "linecolor": "white",
            "ticks": ""
           },
           "bgcolor": "#E5ECF6",
           "radialaxis": {
            "gridcolor": "white",
            "linecolor": "white",
            "ticks": ""
           }
          },
          "scene": {
           "xaxis": {
            "backgroundcolor": "#E5ECF6",
            "gridcolor": "white",
            "gridwidth": 2,
            "linecolor": "white",
            "showbackground": true,
            "ticks": "",
            "zerolinecolor": "white"
           },
           "yaxis": {
            "backgroundcolor": "#E5ECF6",
            "gridcolor": "white",
            "gridwidth": 2,
            "linecolor": "white",
            "showbackground": true,
            "ticks": "",
            "zerolinecolor": "white"
           },
           "zaxis": {
            "backgroundcolor": "#E5ECF6",
            "gridcolor": "white",
            "gridwidth": 2,
            "linecolor": "white",
            "showbackground": true,
            "ticks": "",
            "zerolinecolor": "white"
           }
          },
          "shapedefaults": {
           "line": {
            "color": "#2a3f5f"
           }
          },
          "ternary": {
           "aaxis": {
            "gridcolor": "white",
            "linecolor": "white",
            "ticks": ""
           },
           "baxis": {
            "gridcolor": "white",
            "linecolor": "white",
            "ticks": ""
           },
           "bgcolor": "#E5ECF6",
           "caxis": {
            "gridcolor": "white",
            "linecolor": "white",
            "ticks": ""
           }
          },
          "title": {
           "x": 0.05
          },
          "xaxis": {
           "automargin": true,
           "gridcolor": "white",
           "linecolor": "white",
           "ticks": "",
           "title": {
            "standoff": 15
           },
           "zerolinecolor": "white",
           "zerolinewidth": 2
          },
          "yaxis": {
           "automargin": true,
           "gridcolor": "white",
           "linecolor": "white",
           "ticks": "",
           "title": {
            "standoff": 15
           },
           "zerolinecolor": "white",
           "zerolinewidth": 2
          }
         }
        },
        "title": {
         "text": "LabDoc 2"
        },
        "width": 900,
        "xaxis": {
         "anchor": "y",
         "domain": [
          0,
          1
         ],
         "range": [
          -0.05,
          1.05
         ],
         "title": {
          "text": "eqc_2_val"
         }
        },
        "yaxis": {
         "anchor": "x",
         "domain": [
          0,
          1
         ],
         "range": [
          -0.05,
          1.05
         ],
         "title": {
          "text": "coec_2_val"
         }
        }
       }
      }
     },
     "metadata": {},
     "output_type": "display_data"
    },
    {
     "data": {
      "application/vnd.plotly.v1+json": {
       "config": {
        "plotlyServerURL": "https://plot.ly",
        "scrollZoom": false
       },
       "data": [
        {
         "alignmentgroup": "True",
         "boxpoints": "all",
         "customdata": [
          [
           "Entièrement intégrative",
           "Fort",
           "Fort",
           0.09,
           0.06,
           0.04,
           0.06,
           0.63,
           0.28
          ]
         ],
         "fillcolor": "rgba(255,255,255,0)",
         "hoveron": "points",
         "hovertemplate": "<b>%{hovertext}</b><br><br>id_teacher=1<br>eqc_3_val=%{x}<br>coec_3_val=%{y}<br>st_3=%{customdata[0]}<br>eqc_3_lev=%{customdata[1]}<br>coec_3_lev=%{customdata[2]}<br>rmsd_eqc=%{customdata[3]}<br>rmsd_sr_eqc=%{customdata[4]}<br>rmsd_coec=%{customdata[5]}<br>rmsd_sr_coec=%{customdata[6]}<br>radius_sr_3=%{customdata[7]}<br>radius_3=%{customdata[8]}<extra></extra>",
         "hovertext": [
          1
         ],
         "legendgroup": "1",
         "line": {
          "color": "rgba(255,255,255,0)"
         },
         "marker": {
          "color": "#636efa",
          "size": 10
         },
         "name": "1",
         "offsetgroup": "1",
         "orientation": "v",
         "pointpos": 0,
         "showlegend": true,
         "type": "box",
         "x": [
          1
         ],
         "x0": " ",
         "xaxis": "x",
         "y": [
          1
         ],
         "y0": " ",
         "yaxis": "y"
        },
        {
         "alignmentgroup": "True",
         "boxpoints": "all",
         "customdata": [
          [
           "Entièrement intégrative",
           "Fort",
           "Fort",
           0.07,
           0.06,
           0.02,
           0.06,
           0.63,
           0.28
          ]
         ],
         "fillcolor": "rgba(255,255,255,0)",
         "hoveron": "points",
         "hovertemplate": "<b>%{hovertext}</b><br><br>id_teacher=2<br>eqc_3_val=%{x}<br>coec_3_val=%{y}<br>st_3=%{customdata[0]}<br>eqc_3_lev=%{customdata[1]}<br>coec_3_lev=%{customdata[2]}<br>rmsd_eqc=%{customdata[3]}<br>rmsd_sr_eqc=%{customdata[4]}<br>rmsd_coec=%{customdata[5]}<br>rmsd_sr_coec=%{customdata[6]}<br>radius_sr_3=%{customdata[7]}<br>radius_3=%{customdata[8]}<extra></extra>",
         "hovertext": [
          2
         ],
         "legendgroup": "2",
         "line": {
          "color": "rgba(255,255,255,0)"
         },
         "marker": {
          "color": "#EF553B",
          "size": 10
         },
         "name": "2",
         "offsetgroup": "2",
         "orientation": "v",
         "pointpos": 0,
         "showlegend": true,
         "type": "box",
         "x": [
          1
         ],
         "x0": " ",
         "xaxis": "x",
         "y": [
          1
         ],
         "y0": " ",
         "yaxis": "y"
        },
        {
         "alignmentgroup": "True",
         "boxpoints": "all",
         "customdata": [
          [
           "Entre sommative et intégrative",
           "Moyen",
           "Fort",
           0.03,
           0.02,
           0.06,
           0.15,
           0.49,
           0.27
          ]
         ],
         "fillcolor": "rgba(255,255,255,0)",
         "hoveron": "points",
         "hovertemplate": "<b>%{hovertext}</b><br><br>id_teacher=3<br>eqc_3_val=%{x}<br>coec_3_val=%{y}<br>st_3=%{customdata[0]}<br>eqc_3_lev=%{customdata[1]}<br>coec_3_lev=%{customdata[2]}<br>rmsd_eqc=%{customdata[3]}<br>rmsd_sr_eqc=%{customdata[4]}<br>rmsd_coec=%{customdata[5]}<br>rmsd_sr_coec=%{customdata[6]}<br>radius_sr_3=%{customdata[7]}<br>radius_3=%{customdata[8]}<extra></extra>",
         "hovertext": [
          3
         ],
         "legendgroup": "3",
         "line": {
          "color": "rgba(255,255,255,0)"
         },
         "marker": {
          "color": "#00cc96",
          "size": 10
         },
         "name": "3",
         "offsetgroup": "3",
         "orientation": "v",
         "pointpos": 0,
         "showlegend": true,
         "type": "box",
         "x": [
          0.7
         ],
         "x0": " ",
         "xaxis": "x",
         "y": [
          1
         ],
         "y0": " ",
         "yaxis": "y"
        },
        {
         "alignmentgroup": "True",
         "boxpoints": "all",
         "customdata": [
          [
           "Entièrement intégrative",
           "Fort",
           "Fort",
           0.05,
           0.03,
           0.02,
           0.04,
           0.63,
           0.28
          ]
         ],
         "fillcolor": "rgba(255,255,255,0)",
         "hoveron": "points",
         "hovertemplate": "<b>%{hovertext}</b><br><br>id_teacher=4<br>eqc_3_val=%{x}<br>coec_3_val=%{y}<br>st_3=%{customdata[0]}<br>eqc_3_lev=%{customdata[1]}<br>coec_3_lev=%{customdata[2]}<br>rmsd_eqc=%{customdata[3]}<br>rmsd_sr_eqc=%{customdata[4]}<br>rmsd_coec=%{customdata[5]}<br>rmsd_sr_coec=%{customdata[6]}<br>radius_sr_3=%{customdata[7]}<br>radius_3=%{customdata[8]}<extra></extra>",
         "hovertext": [
          4
         ],
         "legendgroup": "4",
         "line": {
          "color": "rgba(255,255,255,0)"
         },
         "marker": {
          "color": "#ab63fa",
          "size": 10
         },
         "name": "4",
         "offsetgroup": "4",
         "orientation": "v",
         "pointpos": 0,
         "showlegend": true,
         "type": "box",
         "x": [
          1
         ],
         "x0": " ",
         "xaxis": "x",
         "y": [
          1
         ],
         "y0": " ",
         "yaxis": "y"
        },
        {
         "alignmentgroup": "True",
         "boxpoints": "all",
         "customdata": [
          [
           "Entièrement intégrative",
           "Fort",
           "Fort",
           0.05,
           0.07,
           0.04,
           0.1,
           0.63,
           0.28
          ]
         ],
         "fillcolor": "rgba(255,255,255,0)",
         "hoveron": "points",
         "hovertemplate": "<b>%{hovertext}</b><br><br>id_teacher=5<br>eqc_3_val=%{x}<br>coec_3_val=%{y}<br>st_3=%{customdata[0]}<br>eqc_3_lev=%{customdata[1]}<br>coec_3_lev=%{customdata[2]}<br>rmsd_eqc=%{customdata[3]}<br>rmsd_sr_eqc=%{customdata[4]}<br>rmsd_coec=%{customdata[5]}<br>rmsd_sr_coec=%{customdata[6]}<br>radius_sr_3=%{customdata[7]}<br>radius_3=%{customdata[8]}<extra></extra>",
         "hovertext": [
          5
         ],
         "legendgroup": "5",
         "line": {
          "color": "rgba(255,255,255,0)"
         },
         "marker": {
          "color": "#FFA15A",
          "size": 10
         },
         "name": "5",
         "offsetgroup": "5",
         "orientation": "v",
         "pointpos": 0,
         "showlegend": true,
         "type": "box",
         "x": [
          1
         ],
         "x0": " ",
         "xaxis": "x",
         "y": [
          1
         ],
         "y0": " ",
         "yaxis": "y"
        },
        {
         "alignmentgroup": "True",
         "boxpoints": "all",
         "customdata": [
          [
           "Entièrement intégrative",
           "Fort",
           "Fort",
           0.03,
           0.03,
           0.03,
           0.03,
           0.41,
           0.07
          ]
         ],
         "fillcolor": "rgba(255,255,255,0)",
         "hoveron": "points",
         "hovertemplate": "<b>%{hovertext}</b><br><br>id_teacher=6<br>eqc_3_val=%{x}<br>coec_3_val=%{y}<br>st_3=%{customdata[0]}<br>eqc_3_lev=%{customdata[1]}<br>coec_3_lev=%{customdata[2]}<br>rmsd_eqc=%{customdata[3]}<br>rmsd_sr_eqc=%{customdata[4]}<br>rmsd_coec=%{customdata[5]}<br>rmsd_sr_coec=%{customdata[6]}<br>radius_sr_3=%{customdata[7]}<br>radius_3=%{customdata[8]}<extra></extra>",
         "hovertext": [
          6
         ],
         "legendgroup": "6",
         "line": {
          "color": "rgba(255,255,255,0)"
         },
         "marker": {
          "color": "#19d3f3",
          "size": 10
         },
         "name": "6",
         "offsetgroup": "6",
         "orientation": "v",
         "pointpos": 0,
         "showlegend": true,
         "type": "box",
         "x": [
          0.9
         ],
         "x0": " ",
         "xaxis": "x",
         "y": [
          0.8
         ],
         "y0": " ",
         "yaxis": "y"
        },
        {
         "alignmentgroup": "True",
         "boxpoints": "all",
         "customdata": [
          [
           "Entièrement intégrative",
           "Fort",
           "Fort",
           0.08,
           0.08,
           0.06,
           0.08,
           0.63,
           0.28
          ]
         ],
         "fillcolor": "rgba(255,255,255,0)",
         "hoveron": "points",
         "hovertemplate": "<b>%{hovertext}</b><br><br>id_teacher=7<br>eqc_3_val=%{x}<br>coec_3_val=%{y}<br>st_3=%{customdata[0]}<br>eqc_3_lev=%{customdata[1]}<br>coec_3_lev=%{customdata[2]}<br>rmsd_eqc=%{customdata[3]}<br>rmsd_sr_eqc=%{customdata[4]}<br>rmsd_coec=%{customdata[5]}<br>rmsd_sr_coec=%{customdata[6]}<br>radius_sr_3=%{customdata[7]}<br>radius_3=%{customdata[8]}<extra></extra>",
         "hovertext": [
          7
         ],
         "legendgroup": "7",
         "line": {
          "color": "rgba(255,255,255,0)"
         },
         "marker": {
          "color": "#FF6692",
          "size": 10
         },
         "name": "7",
         "offsetgroup": "7",
         "orientation": "v",
         "pointpos": 0,
         "showlegend": true,
         "type": "box",
         "x": [
          1
         ],
         "x0": " ",
         "xaxis": "x",
         "y": [
          1
         ],
         "y0": " ",
         "yaxis": "y"
        },
        {
         "alignmentgroup": "True",
         "boxpoints": "all",
         "customdata": [
          [
           "Entièrement intégrative",
           "Moyen",
           "Fort",
           0.06,
           0.03,
           0.04,
           0.02,
           0.14,
           0.22
          ]
         ],
         "fillcolor": "rgba(255,255,255,0)",
         "hoveron": "points",
         "hovertemplate": "<b>%{hovertext}</b><br><br>id_teacher=8<br>eqc_3_val=%{x}<br>coec_3_val=%{y}<br>st_3=%{customdata[0]}<br>eqc_3_lev=%{customdata[1]}<br>coec_3_lev=%{customdata[2]}<br>rmsd_eqc=%{customdata[3]}<br>rmsd_sr_eqc=%{customdata[4]}<br>rmsd_coec=%{customdata[5]}<br>rmsd_sr_coec=%{customdata[6]}<br>radius_sr_3=%{customdata[7]}<br>radius_3=%{customdata[8]}<extra></extra>",
         "hovertext": [
          8
         ],
         "legendgroup": "8",
         "line": {
          "color": "rgba(255,255,255,0)"
         },
         "marker": {
          "color": "#B6E880",
          "size": 10
         },
         "name": "8",
         "offsetgroup": "8",
         "orientation": "v",
         "pointpos": 0,
         "showlegend": true,
         "type": "box",
         "x": [
          0.65
         ],
         "x0": " ",
         "xaxis": "x",
         "y": [
          0.65
         ],
         "y0": " ",
         "yaxis": "y"
        },
        {
         "alignmentgroup": "True",
         "boxpoints": "all",
         "customdata": [
          [
           "Plutôt intégrative",
           "Fort",
           "Fort",
           0.16,
           0.08,
           0.05,
           0.04,
           0.11,
           0.44
          ]
         ],
         "fillcolor": "rgba(255,255,255,0)",
         "hoveron": "points",
         "hovertemplate": "<b>%{hovertext}</b><br><br>id_teacher=9<br>eqc_3_val=%{x}<br>coec_3_val=%{y}<br>st_3=%{customdata[0]}<br>eqc_3_lev=%{customdata[1]}<br>coec_3_lev=%{customdata[2]}<br>rmsd_eqc=%{customdata[3]}<br>rmsd_sr_eqc=%{customdata[4]}<br>rmsd_coec=%{customdata[5]}<br>rmsd_sr_coec=%{customdata[6]}<br>radius_sr_3=%{customdata[7]}<br>radius_3=%{customdata[8]}<extra></extra>",
         "hovertext": [
          9
         ],
         "legendgroup": "9",
         "line": {
          "color": "rgba(255,255,255,0)"
         },
         "marker": {
          "color": "#FF97FF",
          "size": 10
         },
         "name": "9",
         "offsetgroup": "9",
         "orientation": "v",
         "pointpos": 0,
         "showlegend": true,
         "type": "box",
         "x": [
          0.5
         ],
         "x0": " ",
         "xaxis": "x",
         "y": [
          0.49
         ],
         "y0": " ",
         "yaxis": "y"
        },
        {
         "alignmentgroup": "True",
         "boxpoints": "all",
         "customdata": [
          [
           "Entièrement intégrative",
           "Fort",
           "Fort",
           0.05,
           0.03,
           0.05,
           0.09,
           0.63,
           0.28
          ]
         ],
         "fillcolor": "rgba(255,255,255,0)",
         "hoveron": "points",
         "hovertemplate": "<b>%{hovertext}</b><br><br>id_teacher=10<br>eqc_3_val=%{x}<br>coec_3_val=%{y}<br>st_3=%{customdata[0]}<br>eqc_3_lev=%{customdata[1]}<br>coec_3_lev=%{customdata[2]}<br>rmsd_eqc=%{customdata[3]}<br>rmsd_sr_eqc=%{customdata[4]}<br>rmsd_coec=%{customdata[5]}<br>rmsd_sr_coec=%{customdata[6]}<br>radius_sr_3=%{customdata[7]}<br>radius_3=%{customdata[8]}<extra></extra>",
         "hovertext": [
          10
         ],
         "legendgroup": "10",
         "line": {
          "color": "rgba(255,255,255,0)"
         },
         "marker": {
          "color": "#FECB52",
          "size": 10
         },
         "name": "10",
         "offsetgroup": "10",
         "orientation": "v",
         "pointpos": 0,
         "showlegend": true,
         "type": "box",
         "x": [
          1
         ],
         "x0": " ",
         "xaxis": "x",
         "y": [
          1
         ],
         "y0": " ",
         "yaxis": "y"
        },
        {
         "alignmentgroup": "True",
         "boxpoints": "all",
         "customdata": [
          [
           "Entièrement intégrative",
           "Fort",
           "Fort",
           0.06,
           0.05,
           0.04,
           0.09,
           0.63,
           0.28
          ]
         ],
         "fillcolor": "rgba(255,255,255,0)",
         "hoveron": "points",
         "hovertemplate": "<b>%{hovertext}</b><br><br>id_teacher=11<br>eqc_3_val=%{x}<br>coec_3_val=%{y}<br>st_3=%{customdata[0]}<br>eqc_3_lev=%{customdata[1]}<br>coec_3_lev=%{customdata[2]}<br>rmsd_eqc=%{customdata[3]}<br>rmsd_sr_eqc=%{customdata[4]}<br>rmsd_coec=%{customdata[5]}<br>rmsd_sr_coec=%{customdata[6]}<br>radius_sr_3=%{customdata[7]}<br>radius_3=%{customdata[8]}<extra></extra>",
         "hovertext": [
          11
         ],
         "legendgroup": "11",
         "line": {
          "color": "rgba(255,255,255,0)"
         },
         "marker": {
          "color": "#636efa",
          "size": 10
         },
         "name": "11",
         "offsetgroup": "11",
         "orientation": "v",
         "pointpos": 0,
         "showlegend": true,
         "type": "box",
         "x": [
          1
         ],
         "x0": " ",
         "xaxis": "x",
         "y": [
          1
         ],
         "y0": " ",
         "yaxis": "y"
        },
        {
         "alignmentgroup": "True",
         "boxpoints": "all",
         "customdata": [
          [
           "Entièrement intégrative",
           "Fort",
           "Fort",
           0.08,
           0.09,
           0.07,
           0.08,
           0.63,
           0.28
          ]
         ],
         "fillcolor": "rgba(255,255,255,0)",
         "hoveron": "points",
         "hovertemplate": "<b>%{hovertext}</b><br><br>id_teacher=12<br>eqc_3_val=%{x}<br>coec_3_val=%{y}<br>st_3=%{customdata[0]}<br>eqc_3_lev=%{customdata[1]}<br>coec_3_lev=%{customdata[2]}<br>rmsd_eqc=%{customdata[3]}<br>rmsd_sr_eqc=%{customdata[4]}<br>rmsd_coec=%{customdata[5]}<br>rmsd_sr_coec=%{customdata[6]}<br>radius_sr_3=%{customdata[7]}<br>radius_3=%{customdata[8]}<extra></extra>",
         "hovertext": [
          12
         ],
         "legendgroup": "12",
         "line": {
          "color": "rgba(255,255,255,0)"
         },
         "marker": {
          "color": "#EF553B",
          "size": 10
         },
         "name": "12",
         "offsetgroup": "12",
         "orientation": "v",
         "pointpos": 0,
         "showlegend": true,
         "type": "box",
         "x": [
          1
         ],
         "x0": " ",
         "xaxis": "x",
         "y": [
          1
         ],
         "y0": " ",
         "yaxis": "y"
        },
        {
         "alignmentgroup": "True",
         "boxpoints": "all",
         "customdata": [
          [
           "Entièrement intégrative",
           "Fort",
           "Fort",
           0.04,
           0.04,
           0.05,
           0.12,
           0.63,
           0.28
          ]
         ],
         "fillcolor": "rgba(255,255,255,0)",
         "hoveron": "points",
         "hovertemplate": "<b>%{hovertext}</b><br><br>id_teacher=13<br>eqc_3_val=%{x}<br>coec_3_val=%{y}<br>st_3=%{customdata[0]}<br>eqc_3_lev=%{customdata[1]}<br>coec_3_lev=%{customdata[2]}<br>rmsd_eqc=%{customdata[3]}<br>rmsd_sr_eqc=%{customdata[4]}<br>rmsd_coec=%{customdata[5]}<br>rmsd_sr_coec=%{customdata[6]}<br>radius_sr_3=%{customdata[7]}<br>radius_3=%{customdata[8]}<extra></extra>",
         "hovertext": [
          13
         ],
         "legendgroup": "13",
         "line": {
          "color": "rgba(255,255,255,0)"
         },
         "marker": {
          "color": "#00cc96",
          "size": 10
         },
         "name": "13",
         "offsetgroup": "13",
         "orientation": "v",
         "pointpos": 0,
         "showlegend": true,
         "type": "box",
         "x": [
          1
         ],
         "x0": " ",
         "xaxis": "x",
         "y": [
          1
         ],
         "y0": " ",
         "yaxis": "y"
        },
        {
         "alignmentgroup": "True",
         "boxpoints": "all",
         "customdata": [
          [
           "Plutôt sommative",
           "Faible",
           "Faible",
           0.13,
           0.06,
           0.07,
           0.06,
           0.58,
           0.93
          ]
         ],
         "fillcolor": "rgba(255,255,255,0)",
         "hoveron": "points",
         "hovertemplate": "<b>%{hovertext}</b><br><br>id_teacher=14<br>eqc_3_val=%{x}<br>coec_3_val=%{y}<br>st_3=%{customdata[0]}<br>eqc_3_lev=%{customdata[1]}<br>coec_3_lev=%{customdata[2]}<br>rmsd_eqc=%{customdata[3]}<br>rmsd_sr_eqc=%{customdata[4]}<br>rmsd_coec=%{customdata[5]}<br>rmsd_sr_coec=%{customdata[6]}<br>radius_sr_3=%{customdata[7]}<br>radius_3=%{customdata[8]}<extra></extra>",
         "hovertext": [
          14
         ],
         "legendgroup": "14",
         "line": {
          "color": "rgba(255,255,255,0)"
         },
         "marker": {
          "color": "#ab63fa",
          "size": 10
         },
         "name": "14",
         "offsetgroup": "14",
         "orientation": "v",
         "pointpos": 0,
         "showlegend": true,
         "type": "box",
         "x": [
          0.2
         ],
         "x0": " ",
         "xaxis": "x",
         "y": [
          0.1
         ],
         "y0": " ",
         "yaxis": "y"
        },
        {
         "alignmentgroup": "True",
         "boxpoints": "all",
         "customdata": [
          [
           "Entièrement intégrative",
           "Fort",
           "Fort",
           0.06,
           0.05,
           0.05,
           0.08,
           0.63,
           0.28
          ]
         ],
         "fillcolor": "rgba(255,255,255,0)",
         "hoveron": "points",
         "hovertemplate": "<b>%{hovertext}</b><br><br>id_teacher=15<br>eqc_3_val=%{x}<br>coec_3_val=%{y}<br>st_3=%{customdata[0]}<br>eqc_3_lev=%{customdata[1]}<br>coec_3_lev=%{customdata[2]}<br>rmsd_eqc=%{customdata[3]}<br>rmsd_sr_eqc=%{customdata[4]}<br>rmsd_coec=%{customdata[5]}<br>rmsd_sr_coec=%{customdata[6]}<br>radius_sr_3=%{customdata[7]}<br>radius_3=%{customdata[8]}<extra></extra>",
         "hovertext": [
          15
         ],
         "legendgroup": "15",
         "line": {
          "color": "rgba(255,255,255,0)"
         },
         "marker": {
          "color": "#FFA15A",
          "size": 10
         },
         "name": "15",
         "offsetgroup": "15",
         "orientation": "v",
         "pointpos": 0,
         "showlegend": true,
         "type": "box",
         "x": [
          1
         ],
         "x0": " ",
         "xaxis": "x",
         "y": [
          1
         ],
         "y0": " ",
         "yaxis": "y"
        },
        {
         "marker": {
          "color": [
           2,
           3
          ],
          "size": [
           30,
           30
          ]
         },
         "mode": "markers",
         "type": "scatter",
         "x": [
          0.603,
          0.842
         ],
         "y": [
          0.516,
          0.766
         ]
        }
       ],
       "layout": {
        "boxmode": "group",
        "height": 700,
        "legend": {
         "title": {
          "text": "id_teacher"
         },
         "tracegroupgap": 0
        },
        "margin": {
         "t": 60
        },
        "shapes": [
         {
          "type": "line",
          "x0": 0,
          "x1": 1,
          "y0": 0,
          "y1": 1
         },
         {
          "type": "line",
          "x0": 0.5,
          "y0": 0.5
         }
        ],
        "template": {
         "data": {
          "bar": [
           {
            "error_x": {
             "color": "#2a3f5f"
            },
            "error_y": {
             "color": "#2a3f5f"
            },
            "marker": {
             "line": {
              "color": "#E5ECF6",
              "width": 0.5
             },
             "pattern": {
              "fillmode": "overlay",
              "size": 10,
              "solidity": 0.2
             }
            },
            "type": "bar"
           }
          ],
          "barpolar": [
           {
            "marker": {
             "line": {
              "color": "#E5ECF6",
              "width": 0.5
             },
             "pattern": {
              "fillmode": "overlay",
              "size": 10,
              "solidity": 0.2
             }
            },
            "type": "barpolar"
           }
          ],
          "carpet": [
           {
            "aaxis": {
             "endlinecolor": "#2a3f5f",
             "gridcolor": "white",
             "linecolor": "white",
             "minorgridcolor": "white",
             "startlinecolor": "#2a3f5f"
            },
            "baxis": {
             "endlinecolor": "#2a3f5f",
             "gridcolor": "white",
             "linecolor": "white",
             "minorgridcolor": "white",
             "startlinecolor": "#2a3f5f"
            },
            "type": "carpet"
           }
          ],
          "choropleth": [
           {
            "colorbar": {
             "outlinewidth": 0,
             "ticks": ""
            },
            "type": "choropleth"
           }
          ],
          "contour": [
           {
            "colorbar": {
             "outlinewidth": 0,
             "ticks": ""
            },
            "colorscale": [
             [
              0,
              "#0d0887"
             ],
             [
              0.1111111111111111,
              "#46039f"
             ],
             [
              0.2222222222222222,
              "#7201a8"
             ],
             [
              0.3333333333333333,
              "#9c179e"
             ],
             [
              0.4444444444444444,
              "#bd3786"
             ],
             [
              0.5555555555555556,
              "#d8576b"
             ],
             [
              0.6666666666666666,
              "#ed7953"
             ],
             [
              0.7777777777777778,
              "#fb9f3a"
             ],
             [
              0.8888888888888888,
              "#fdca26"
             ],
             [
              1,
              "#f0f921"
             ]
            ],
            "type": "contour"
           }
          ],
          "contourcarpet": [
           {
            "colorbar": {
             "outlinewidth": 0,
             "ticks": ""
            },
            "type": "contourcarpet"
           }
          ],
          "heatmap": [
           {
            "colorbar": {
             "outlinewidth": 0,
             "ticks": ""
            },
            "colorscale": [
             [
              0,
              "#0d0887"
             ],
             [
              0.1111111111111111,
              "#46039f"
             ],
             [
              0.2222222222222222,
              "#7201a8"
             ],
             [
              0.3333333333333333,
              "#9c179e"
             ],
             [
              0.4444444444444444,
              "#bd3786"
             ],
             [
              0.5555555555555556,
              "#d8576b"
             ],
             [
              0.6666666666666666,
              "#ed7953"
             ],
             [
              0.7777777777777778,
              "#fb9f3a"
             ],
             [
              0.8888888888888888,
              "#fdca26"
             ],
             [
              1,
              "#f0f921"
             ]
            ],
            "type": "heatmap"
           }
          ],
          "heatmapgl": [
           {
            "colorbar": {
             "outlinewidth": 0,
             "ticks": ""
            },
            "colorscale": [
             [
              0,
              "#0d0887"
             ],
             [
              0.1111111111111111,
              "#46039f"
             ],
             [
              0.2222222222222222,
              "#7201a8"
             ],
             [
              0.3333333333333333,
              "#9c179e"
             ],
             [
              0.4444444444444444,
              "#bd3786"
             ],
             [
              0.5555555555555556,
              "#d8576b"
             ],
             [
              0.6666666666666666,
              "#ed7953"
             ],
             [
              0.7777777777777778,
              "#fb9f3a"
             ],
             [
              0.8888888888888888,
              "#fdca26"
             ],
             [
              1,
              "#f0f921"
             ]
            ],
            "type": "heatmapgl"
           }
          ],
          "histogram": [
           {
            "marker": {
             "pattern": {
              "fillmode": "overlay",
              "size": 10,
              "solidity": 0.2
             }
            },
            "type": "histogram"
           }
          ],
          "histogram2d": [
           {
            "colorbar": {
             "outlinewidth": 0,
             "ticks": ""
            },
            "colorscale": [
             [
              0,
              "#0d0887"
             ],
             [
              0.1111111111111111,
              "#46039f"
             ],
             [
              0.2222222222222222,
              "#7201a8"
             ],
             [
              0.3333333333333333,
              "#9c179e"
             ],
             [
              0.4444444444444444,
              "#bd3786"
             ],
             [
              0.5555555555555556,
              "#d8576b"
             ],
             [
              0.6666666666666666,
              "#ed7953"
             ],
             [
              0.7777777777777778,
              "#fb9f3a"
             ],
             [
              0.8888888888888888,
              "#fdca26"
             ],
             [
              1,
              "#f0f921"
             ]
            ],
            "type": "histogram2d"
           }
          ],
          "histogram2dcontour": [
           {
            "colorbar": {
             "outlinewidth": 0,
             "ticks": ""
            },
            "colorscale": [
             [
              0,
              "#0d0887"
             ],
             [
              0.1111111111111111,
              "#46039f"
             ],
             [
              0.2222222222222222,
              "#7201a8"
             ],
             [
              0.3333333333333333,
              "#9c179e"
             ],
             [
              0.4444444444444444,
              "#bd3786"
             ],
             [
              0.5555555555555556,
              "#d8576b"
             ],
             [
              0.6666666666666666,
              "#ed7953"
             ],
             [
              0.7777777777777778,
              "#fb9f3a"
             ],
             [
              0.8888888888888888,
              "#fdca26"
             ],
             [
              1,
              "#f0f921"
             ]
            ],
            "type": "histogram2dcontour"
           }
          ],
          "mesh3d": [
           {
            "colorbar": {
             "outlinewidth": 0,
             "ticks": ""
            },
            "type": "mesh3d"
           }
          ],
          "parcoords": [
           {
            "line": {
             "colorbar": {
              "outlinewidth": 0,
              "ticks": ""
             }
            },
            "type": "parcoords"
           }
          ],
          "pie": [
           {
            "automargin": true,
            "type": "pie"
           }
          ],
          "scatter": [
           {
            "marker": {
             "colorbar": {
              "outlinewidth": 0,
              "ticks": ""
             }
            },
            "type": "scatter"
           }
          ],
          "scatter3d": [
           {
            "line": {
             "colorbar": {
              "outlinewidth": 0,
              "ticks": ""
             }
            },
            "marker": {
             "colorbar": {
              "outlinewidth": 0,
              "ticks": ""
             }
            },
            "type": "scatter3d"
           }
          ],
          "scattercarpet": [
           {
            "marker": {
             "colorbar": {
              "outlinewidth": 0,
              "ticks": ""
             }
            },
            "type": "scattercarpet"
           }
          ],
          "scattergeo": [
           {
            "marker": {
             "colorbar": {
              "outlinewidth": 0,
              "ticks": ""
             }
            },
            "type": "scattergeo"
           }
          ],
          "scattergl": [
           {
            "marker": {
             "colorbar": {
              "outlinewidth": 0,
              "ticks": ""
             }
            },
            "type": "scattergl"
           }
          ],
          "scattermapbox": [
           {
            "marker": {
             "colorbar": {
              "outlinewidth": 0,
              "ticks": ""
             }
            },
            "type": "scattermapbox"
           }
          ],
          "scatterpolar": [
           {
            "marker": {
             "colorbar": {
              "outlinewidth": 0,
              "ticks": ""
             }
            },
            "type": "scatterpolar"
           }
          ],
          "scatterpolargl": [
           {
            "marker": {
             "colorbar": {
              "outlinewidth": 0,
              "ticks": ""
             }
            },
            "type": "scatterpolargl"
           }
          ],
          "scatterternary": [
           {
            "marker": {
             "colorbar": {
              "outlinewidth": 0,
              "ticks": ""
             }
            },
            "type": "scatterternary"
           }
          ],
          "surface": [
           {
            "colorbar": {
             "outlinewidth": 0,
             "ticks": ""
            },
            "colorscale": [
             [
              0,
              "#0d0887"
             ],
             [
              0.1111111111111111,
              "#46039f"
             ],
             [
              0.2222222222222222,
              "#7201a8"
             ],
             [
              0.3333333333333333,
              "#9c179e"
             ],
             [
              0.4444444444444444,
              "#bd3786"
             ],
             [
              0.5555555555555556,
              "#d8576b"
             ],
             [
              0.6666666666666666,
              "#ed7953"
             ],
             [
              0.7777777777777778,
              "#fb9f3a"
             ],
             [
              0.8888888888888888,
              "#fdca26"
             ],
             [
              1,
              "#f0f921"
             ]
            ],
            "type": "surface"
           }
          ],
          "table": [
           {
            "cells": {
             "fill": {
              "color": "#EBF0F8"
             },
             "line": {
              "color": "white"
             }
            },
            "header": {
             "fill": {
              "color": "#C8D4E3"
             },
             "line": {
              "color": "white"
             }
            },
            "type": "table"
           }
          ]
         },
         "layout": {
          "annotationdefaults": {
           "arrowcolor": "#2a3f5f",
           "arrowhead": 0,
           "arrowwidth": 1
          },
          "autotypenumbers": "strict",
          "coloraxis": {
           "colorbar": {
            "outlinewidth": 0,
            "ticks": ""
           }
          },
          "colorscale": {
           "diverging": [
            [
             0,
             "#8e0152"
            ],
            [
             0.1,
             "#c51b7d"
            ],
            [
             0.2,
             "#de77ae"
            ],
            [
             0.3,
             "#f1b6da"
            ],
            [
             0.4,
             "#fde0ef"
            ],
            [
             0.5,
             "#f7f7f7"
            ],
            [
             0.6,
             "#e6f5d0"
            ],
            [
             0.7,
             "#b8e186"
            ],
            [
             0.8,
             "#7fbc41"
            ],
            [
             0.9,
             "#4d9221"
            ],
            [
             1,
             "#276419"
            ]
           ],
           "sequential": [
            [
             0,
             "#0d0887"
            ],
            [
             0.1111111111111111,
             "#46039f"
            ],
            [
             0.2222222222222222,
             "#7201a8"
            ],
            [
             0.3333333333333333,
             "#9c179e"
            ],
            [
             0.4444444444444444,
             "#bd3786"
            ],
            [
             0.5555555555555556,
             "#d8576b"
            ],
            [
             0.6666666666666666,
             "#ed7953"
            ],
            [
             0.7777777777777778,
             "#fb9f3a"
            ],
            [
             0.8888888888888888,
             "#fdca26"
            ],
            [
             1,
             "#f0f921"
            ]
           ],
           "sequentialminus": [
            [
             0,
             "#0d0887"
            ],
            [
             0.1111111111111111,
             "#46039f"
            ],
            [
             0.2222222222222222,
             "#7201a8"
            ],
            [
             0.3333333333333333,
             "#9c179e"
            ],
            [
             0.4444444444444444,
             "#bd3786"
            ],
            [
             0.5555555555555556,
             "#d8576b"
            ],
            [
             0.6666666666666666,
             "#ed7953"
            ],
            [
             0.7777777777777778,
             "#fb9f3a"
            ],
            [
             0.8888888888888888,
             "#fdca26"
            ],
            [
             1,
             "#f0f921"
            ]
           ]
          },
          "colorway": [
           "#636efa",
           "#EF553B",
           "#00cc96",
           "#ab63fa",
           "#FFA15A",
           "#19d3f3",
           "#FF6692",
           "#B6E880",
           "#FF97FF",
           "#FECB52"
          ],
          "font": {
           "color": "#2a3f5f"
          },
          "geo": {
           "bgcolor": "white",
           "lakecolor": "white",
           "landcolor": "#E5ECF6",
           "showlakes": true,
           "showland": true,
           "subunitcolor": "white"
          },
          "hoverlabel": {
           "align": "left"
          },
          "hovermode": "closest",
          "mapbox": {
           "style": "light"
          },
          "paper_bgcolor": "white",
          "plot_bgcolor": "#E5ECF6",
          "polar": {
           "angularaxis": {
            "gridcolor": "white",
            "linecolor": "white",
            "ticks": ""
           },
           "bgcolor": "#E5ECF6",
           "radialaxis": {
            "gridcolor": "white",
            "linecolor": "white",
            "ticks": ""
           }
          },
          "scene": {
           "xaxis": {
            "backgroundcolor": "#E5ECF6",
            "gridcolor": "white",
            "gridwidth": 2,
            "linecolor": "white",
            "showbackground": true,
            "ticks": "",
            "zerolinecolor": "white"
           },
           "yaxis": {
            "backgroundcolor": "#E5ECF6",
            "gridcolor": "white",
            "gridwidth": 2,
            "linecolor": "white",
            "showbackground": true,
            "ticks": "",
            "zerolinecolor": "white"
           },
           "zaxis": {
            "backgroundcolor": "#E5ECF6",
            "gridcolor": "white",
            "gridwidth": 2,
            "linecolor": "white",
            "showbackground": true,
            "ticks": "",
            "zerolinecolor": "white"
           }
          },
          "shapedefaults": {
           "line": {
            "color": "#2a3f5f"
           }
          },
          "ternary": {
           "aaxis": {
            "gridcolor": "white",
            "linecolor": "white",
            "ticks": ""
           },
           "baxis": {
            "gridcolor": "white",
            "linecolor": "white",
            "ticks": ""
           },
           "bgcolor": "#E5ECF6",
           "caxis": {
            "gridcolor": "white",
            "linecolor": "white",
            "ticks": ""
           }
          },
          "title": {
           "x": 0.05
          },
          "xaxis": {
           "automargin": true,
           "gridcolor": "white",
           "linecolor": "white",
           "ticks": "",
           "title": {
            "standoff": 15
           },
           "zerolinecolor": "white",
           "zerolinewidth": 2
          },
          "yaxis": {
           "automargin": true,
           "gridcolor": "white",
           "linecolor": "white",
           "ticks": "",
           "title": {
            "standoff": 15
           },
           "zerolinecolor": "white",
           "zerolinewidth": 2
          }
         }
        },
        "title": {
         "text": "LabDoc 3"
        },
        "width": 900,
        "xaxis": {
         "anchor": "y",
         "domain": [
          0,
          1
         ],
         "range": [
          -0.05,
          1.05
         ],
         "title": {
          "text": "eqc_3_val"
         }
        },
        "yaxis": {
         "anchor": "x",
         "domain": [
          0,
          1
         ],
         "range": [
          -0.05,
          1.05
         ],
         "title": {
          "text": "coec_3_val"
         }
        }
       }
      }
     },
     "metadata": {},
     "output_type": "display_data"
    },
    {
     "data": {
      "application/vnd.plotly.v1+json": {
       "config": {
        "plotlyServerURL": "https://plot.ly",
        "scrollZoom": false
       },
       "data": [
        {
         "alignmentgroup": "True",
         "boxpoints": "all",
         "customdata": [
          [
           "Entre sommative et intégrative",
           "Fort",
           "Faible",
           0.09,
           0.06,
           0.04,
           0.06,
           0.16,
           0.29
          ]
         ],
         "fillcolor": "rgba(255,255,255,0)",
         "hoveron": "points",
         "hovertemplate": "<b>%{hovertext}</b><br><br>id_teacher=1<br>eqc_4_val=%{x}<br>coec_4_val=%{y}<br>st_4=%{customdata[0]}<br>eqc_4_lev=%{customdata[1]}<br>coec_4_lev=%{customdata[2]}<br>rmsd_eqc=%{customdata[3]}<br>rmsd_sr_eqc=%{customdata[4]}<br>rmsd_coec=%{customdata[5]}<br>rmsd_sr_coec=%{customdata[6]}<br>radius_sr_4=%{customdata[7]}<br>radius_4=%{customdata[8]}<extra></extra>",
         "hovertext": [
          1
         ],
         "legendgroup": "1",
         "line": {
          "color": "rgba(255,255,255,0)"
         },
         "marker": {
          "color": "#636efa",
          "size": 10
         },
         "name": "1",
         "offsetgroup": "1",
         "orientation": "v",
         "pointpos": 0,
         "showlegend": true,
         "type": "box",
         "x": [
          0.8
         ],
         "x0": " ",
         "xaxis": "x",
         "y": [
          0.2
         ],
         "y0": " ",
         "yaxis": "y"
        },
        {
         "alignmentgroup": "True",
         "boxpoints": "all",
         "customdata": [
          [
           "Entre sommative et intégrative",
           "Fort",
           "Moyen",
           0.07,
           0.06,
           0.02,
           0.06,
           0.27,
           0.09
          ]
         ],
         "fillcolor": "rgba(255,255,255,0)",
         "hoveron": "points",
         "hovertemplate": "<b>%{hovertext}</b><br><br>id_teacher=2<br>eqc_4_val=%{x}<br>coec_4_val=%{y}<br>st_4=%{customdata[0]}<br>eqc_4_lev=%{customdata[1]}<br>coec_4_lev=%{customdata[2]}<br>rmsd_eqc=%{customdata[3]}<br>rmsd_sr_eqc=%{customdata[4]}<br>rmsd_coec=%{customdata[5]}<br>rmsd_sr_coec=%{customdata[6]}<br>radius_sr_4=%{customdata[7]}<br>radius_4=%{customdata[8]}<extra></extra>",
         "hovertext": [
          2
         ],
         "legendgroup": "2",
         "line": {
          "color": "rgba(255,255,255,0)"
         },
         "marker": {
          "color": "#EF553B",
          "size": 10
         },
         "name": "2",
         "offsetgroup": "2",
         "orientation": "v",
         "pointpos": 0,
         "showlegend": true,
         "type": "box",
         "x": [
          1
         ],
         "x0": " ",
         "xaxis": "x",
         "y": [
          0.5
         ],
         "y0": " ",
         "yaxis": "y"
        },
        {
         "alignmentgroup": "True",
         "boxpoints": "all",
         "customdata": [
          [
           "Plutôt intégrative",
           "Fort",
           "Fort",
           0.03,
           0.02,
           0.06,
           0.15,
           0.57,
           0.4
          ]
         ],
         "fillcolor": "rgba(255,255,255,0)",
         "hoveron": "points",
         "hovertemplate": "<b>%{hovertext}</b><br><br>id_teacher=3<br>eqc_4_val=%{x}<br>coec_4_val=%{y}<br>st_4=%{customdata[0]}<br>eqc_4_lev=%{customdata[1]}<br>coec_4_lev=%{customdata[2]}<br>rmsd_eqc=%{customdata[3]}<br>rmsd_sr_eqc=%{customdata[4]}<br>rmsd_coec=%{customdata[5]}<br>rmsd_sr_coec=%{customdata[6]}<br>radius_sr_4=%{customdata[7]}<br>radius_4=%{customdata[8]}<extra></extra>",
         "hovertext": [
          3
         ],
         "legendgroup": "3",
         "line": {
          "color": "rgba(255,255,255,0)"
         },
         "marker": {
          "color": "#00cc96",
          "size": 10
         },
         "name": "3",
         "offsetgroup": "3",
         "orientation": "v",
         "pointpos": 0,
         "showlegend": true,
         "type": "box",
         "x": [
          0.9
         ],
         "x0": " ",
         "xaxis": "x",
         "y": [
          0.8
         ],
         "y0": " ",
         "yaxis": "y"
        },
        {
         "alignmentgroup": "True",
         "boxpoints": "all",
         "customdata": [
          [
           "Plutôt intégrative",
           "Fort",
           "Moyen",
           0.05,
           0.03,
           0.02,
           0.04,
           0.34,
           0.25
          ]
         ],
         "fillcolor": "rgba(255,255,255,0)",
         "hoveron": "points",
         "hovertemplate": "<b>%{hovertext}</b><br><br>id_teacher=4<br>eqc_4_val=%{x}<br>coec_4_val=%{y}<br>st_4=%{customdata[0]}<br>eqc_4_lev=%{customdata[1]}<br>coec_4_lev=%{customdata[2]}<br>rmsd_eqc=%{customdata[3]}<br>rmsd_sr_eqc=%{customdata[4]}<br>rmsd_coec=%{customdata[5]}<br>rmsd_sr_coec=%{customdata[6]}<br>radius_sr_4=%{customdata[7]}<br>radius_4=%{customdata[8]}<extra></extra>",
         "hovertext": [
          4
         ],
         "legendgroup": "4",
         "line": {
          "color": "rgba(255,255,255,0)"
         },
         "marker": {
          "color": "#ab63fa",
          "size": 10
         },
         "name": "4",
         "offsetgroup": "4",
         "orientation": "v",
         "pointpos": 0,
         "showlegend": true,
         "type": "box",
         "x": [
          0.75
         ],
         "x0": " ",
         "xaxis": "x",
         "y": [
          0.5
         ],
         "y0": " ",
         "yaxis": "y"
        },
        {
         "alignmentgroup": "True",
         "boxpoints": "all",
         "customdata": [
          [
           "Entre sommative et intégrative",
           "Fort",
           "Moyen",
           0.05,
           0.07,
           0.04,
           0.1,
           0.27,
           0.09
          ]
         ],
         "fillcolor": "rgba(255,255,255,0)",
         "hoveron": "points",
         "hovertemplate": "<b>%{hovertext}</b><br><br>id_teacher=5<br>eqc_4_val=%{x}<br>coec_4_val=%{y}<br>st_4=%{customdata[0]}<br>eqc_4_lev=%{customdata[1]}<br>coec_4_lev=%{customdata[2]}<br>rmsd_eqc=%{customdata[3]}<br>rmsd_sr_eqc=%{customdata[4]}<br>rmsd_coec=%{customdata[5]}<br>rmsd_sr_coec=%{customdata[6]}<br>radius_sr_4=%{customdata[7]}<br>radius_4=%{customdata[8]}<extra></extra>",
         "hovertext": [
          5
         ],
         "legendgroup": "5",
         "line": {
          "color": "rgba(255,255,255,0)"
         },
         "marker": {
          "color": "#FFA15A",
          "size": 10
         },
         "name": "5",
         "offsetgroup": "5",
         "orientation": "v",
         "pointpos": 0,
         "showlegend": true,
         "type": "box",
         "x": [
          1
         ],
         "x0": " ",
         "xaxis": "x",
         "y": [
          0.5
         ],
         "y0": " ",
         "yaxis": "y"
        },
        {
         "alignmentgroup": "True",
         "boxpoints": "all",
         "customdata": [
          [
           "Entre sommative et intégrative",
           "Fort",
           "Moyen",
           0.03,
           0.03,
           0.03,
           0.03,
           0.31,
           0.21
          ]
         ],
         "fillcolor": "rgba(255,255,255,0)",
         "hoveron": "points",
         "hovertemplate": "<b>%{hovertext}</b><br><br>id_teacher=6<br>eqc_4_val=%{x}<br>coec_4_val=%{y}<br>st_4=%{customdata[0]}<br>eqc_4_lev=%{customdata[1]}<br>coec_4_lev=%{customdata[2]}<br>rmsd_eqc=%{customdata[3]}<br>rmsd_sr_eqc=%{customdata[4]}<br>rmsd_coec=%{customdata[5]}<br>rmsd_sr_coec=%{customdata[6]}<br>radius_sr_4=%{customdata[7]}<br>radius_4=%{customdata[8]}<extra></extra>",
         "hovertext": [
          6
         ],
         "legendgroup": "6",
         "line": {
          "color": "rgba(255,255,255,0)"
         },
         "marker": {
          "color": "#19d3f3",
          "size": 10
         },
         "name": "6",
         "offsetgroup": "6",
         "orientation": "v",
         "pointpos": 0,
         "showlegend": true,
         "type": "box",
         "x": [
          0.8
         ],
         "x0": " ",
         "xaxis": "x",
         "y": [
          0.5
         ],
         "y0": " ",
         "yaxis": "y"
        },
        {
         "alignmentgroup": "True",
         "boxpoints": "all",
         "customdata": [
          [
           "Plutôt intégrative",
           "Fort",
           "Moyen",
           0.08,
           0.08,
           0.06,
           0.08,
           0.27,
           0.09
          ]
         ],
         "fillcolor": "rgba(255,255,255,0)",
         "hoveron": "points",
         "hovertemplate": "<b>%{hovertext}</b><br><br>id_teacher=7<br>eqc_4_val=%{x}<br>coec_4_val=%{y}<br>st_4=%{customdata[0]}<br>eqc_4_lev=%{customdata[1]}<br>coec_4_lev=%{customdata[2]}<br>rmsd_eqc=%{customdata[3]}<br>rmsd_sr_eqc=%{customdata[4]}<br>rmsd_coec=%{customdata[5]}<br>rmsd_sr_coec=%{customdata[6]}<br>radius_sr_4=%{customdata[7]}<br>radius_4=%{customdata[8]}<extra></extra>",
         "hovertext": [
          7
         ],
         "legendgroup": "7",
         "line": {
          "color": "rgba(255,255,255,0)"
         },
         "marker": {
          "color": "#FF6692",
          "size": 10
         },
         "name": "7",
         "offsetgroup": "7",
         "orientation": "v",
         "pointpos": 0,
         "showlegend": true,
         "type": "box",
         "x": [
          1
         ],
         "x0": " ",
         "xaxis": "x",
         "y": [
          0.5
         ],
         "y0": " ",
         "yaxis": "y"
        },
        {
         "alignmentgroup": "True",
         "boxpoints": "all",
         "customdata": [
          [
           "Entre sommative et intégrative",
           "Moyen",
           "Faible",
           0.06,
           0.03,
           0.04,
           0.02,
           0.23,
           0.36
          ]
         ],
         "fillcolor": "rgba(255,255,255,0)",
         "hoveron": "points",
         "hovertemplate": "<b>%{hovertext}</b><br><br>id_teacher=8<br>eqc_4_val=%{x}<br>coec_4_val=%{y}<br>st_4=%{customdata[0]}<br>eqc_4_lev=%{customdata[1]}<br>coec_4_lev=%{customdata[2]}<br>rmsd_eqc=%{customdata[3]}<br>rmsd_sr_eqc=%{customdata[4]}<br>rmsd_coec=%{customdata[5]}<br>rmsd_sr_coec=%{customdata[6]}<br>radius_sr_4=%{customdata[7]}<br>radius_4=%{customdata[8]}<extra></extra>",
         "hovertext": [
          8
         ],
         "legendgroup": "8",
         "line": {
          "color": "rgba(255,255,255,0)"
         },
         "marker": {
          "color": "#B6E880",
          "size": 10
         },
         "name": "8",
         "offsetgroup": "8",
         "orientation": "v",
         "pointpos": 0,
         "showlegend": true,
         "type": "box",
         "x": [
          0.75
         ],
         "x0": " ",
         "xaxis": "x",
         "y": [
          0.15
         ],
         "y0": " ",
         "yaxis": "y"
        },
        {
         "alignmentgroup": "True",
         "boxpoints": "all",
         "customdata": [
          [
           "Entre sommative et intégrative",
           "Fort",
           "Fort",
           0.16,
           0.08,
           0.05,
           0.04,
           0.53,
           0.5
          ]
         ],
         "fillcolor": "rgba(255,255,255,0)",
         "hoveron": "points",
         "hovertemplate": "<b>%{hovertext}</b><br><br>id_teacher=9<br>eqc_4_val=%{x}<br>coec_4_val=%{y}<br>st_4=%{customdata[0]}<br>eqc_4_lev=%{customdata[1]}<br>coec_4_lev=%{customdata[2]}<br>rmsd_eqc=%{customdata[3]}<br>rmsd_sr_eqc=%{customdata[4]}<br>rmsd_coec=%{customdata[5]}<br>rmsd_sr_coec=%{customdata[6]}<br>radius_sr_4=%{customdata[7]}<br>radius_4=%{customdata[8]}<extra></extra>",
         "hovertext": [
          9
         ],
         "legendgroup": "9",
         "line": {
          "color": "rgba(255,255,255,0)"
         },
         "marker": {
          "color": "#FF97FF",
          "size": 10
         },
         "name": "9",
         "offsetgroup": "9",
         "orientation": "v",
         "pointpos": 0,
         "showlegend": true,
         "type": "box",
         "x": [
          0.5
         ],
         "x0": " ",
         "xaxis": "x",
         "y": [
          0.49
         ],
         "y0": " ",
         "yaxis": "y"
        },
        {
         "alignmentgroup": "True",
         "boxpoints": "all",
         "customdata": [
          [
           "Entièrement intégrative",
           "Fort",
           "Fort",
           0.05,
           0.03,
           0.05,
           0.09,
           0.77,
           0.59
          ]
         ],
         "fillcolor": "rgba(255,255,255,0)",
         "hoveron": "points",
         "hovertemplate": "<b>%{hovertext}</b><br><br>id_teacher=10<br>eqc_4_val=%{x}<br>coec_4_val=%{y}<br>st_4=%{customdata[0]}<br>eqc_4_lev=%{customdata[1]}<br>coec_4_lev=%{customdata[2]}<br>rmsd_eqc=%{customdata[3]}<br>rmsd_sr_eqc=%{customdata[4]}<br>rmsd_coec=%{customdata[5]}<br>rmsd_sr_coec=%{customdata[6]}<br>radius_sr_4=%{customdata[7]}<br>radius_4=%{customdata[8]}<extra></extra>",
         "hovertext": [
          10
         ],
         "legendgroup": "10",
         "line": {
          "color": "rgba(255,255,255,0)"
         },
         "marker": {
          "color": "#FECB52",
          "size": 10
         },
         "name": "10",
         "offsetgroup": "10",
         "orientation": "v",
         "pointpos": 0,
         "showlegend": true,
         "type": "box",
         "x": [
          1
         ],
         "x0": " ",
         "xaxis": "x",
         "y": [
          1
         ],
         "y0": " ",
         "yaxis": "y"
        },
        {
         "alignmentgroup": "True",
         "boxpoints": "all",
         "customdata": [
          [
           "Plutôt sommative",
           "Fort",
           "Moyen",
           0.06,
           0.05,
           0.04,
           0.09,
           0.27,
           0.09
          ]
         ],
         "fillcolor": "rgba(255,255,255,0)",
         "hoveron": "points",
         "hovertemplate": "<b>%{hovertext}</b><br><br>id_teacher=11<br>eqc_4_val=%{x}<br>coec_4_val=%{y}<br>st_4=%{customdata[0]}<br>eqc_4_lev=%{customdata[1]}<br>coec_4_lev=%{customdata[2]}<br>rmsd_eqc=%{customdata[3]}<br>rmsd_sr_eqc=%{customdata[4]}<br>rmsd_coec=%{customdata[5]}<br>rmsd_sr_coec=%{customdata[6]}<br>radius_sr_4=%{customdata[7]}<br>radius_4=%{customdata[8]}<extra></extra>",
         "hovertext": [
          11
         ],
         "legendgroup": "11",
         "line": {
          "color": "rgba(255,255,255,0)"
         },
         "marker": {
          "color": "#636efa",
          "size": 10
         },
         "name": "11",
         "offsetgroup": "11",
         "orientation": "v",
         "pointpos": 0,
         "showlegend": true,
         "type": "box",
         "x": [
          1
         ],
         "x0": " ",
         "xaxis": "x",
         "y": [
          0.5
         ],
         "y0": " ",
         "yaxis": "y"
        },
        {
         "alignmentgroup": "True",
         "boxpoints": "all",
         "customdata": [
          [
           "Entre sommative et intégrative",
           "Fort",
           "Moyen",
           0.08,
           0.09,
           0.07,
           0.08,
           0.08,
           0.11
          ]
         ],
         "fillcolor": "rgba(255,255,255,0)",
         "hoveron": "points",
         "hovertemplate": "<b>%{hovertext}</b><br><br>id_teacher=12<br>eqc_4_val=%{x}<br>coec_4_val=%{y}<br>st_4=%{customdata[0]}<br>eqc_4_lev=%{customdata[1]}<br>coec_4_lev=%{customdata[2]}<br>rmsd_eqc=%{customdata[3]}<br>rmsd_sr_eqc=%{customdata[4]}<br>rmsd_coec=%{customdata[5]}<br>rmsd_sr_coec=%{customdata[6]}<br>radius_sr_4=%{customdata[7]}<br>radius_4=%{customdata[8]}<extra></extra>",
         "hovertext": [
          12
         ],
         "legendgroup": "12",
         "line": {
          "color": "rgba(255,255,255,0)"
         },
         "marker": {
          "color": "#EF553B",
          "size": 10
         },
         "name": "12",
         "offsetgroup": "12",
         "orientation": "v",
         "pointpos": 0,
         "showlegend": true,
         "type": "box",
         "x": [
          1
         ],
         "x0": " ",
         "xaxis": "x",
         "y": [
          0.3
         ],
         "y0": " ",
         "yaxis": "y"
        },
        {
         "alignmentgroup": "True",
         "boxpoints": "all",
         "customdata": [
          [
           "Entre sommative et intégrative",
           "Fort",
           "Moyen",
           0.04,
           0.04,
           0.05,
           0.12,
           0.27,
           0.09
          ]
         ],
         "fillcolor": "rgba(255,255,255,0)",
         "hoveron": "points",
         "hovertemplate": "<b>%{hovertext}</b><br><br>id_teacher=13<br>eqc_4_val=%{x}<br>coec_4_val=%{y}<br>st_4=%{customdata[0]}<br>eqc_4_lev=%{customdata[1]}<br>coec_4_lev=%{customdata[2]}<br>rmsd_eqc=%{customdata[3]}<br>rmsd_sr_eqc=%{customdata[4]}<br>rmsd_coec=%{customdata[5]}<br>rmsd_sr_coec=%{customdata[6]}<br>radius_sr_4=%{customdata[7]}<br>radius_4=%{customdata[8]}<extra></extra>",
         "hovertext": [
          13
         ],
         "legendgroup": "13",
         "line": {
          "color": "rgba(255,255,255,0)"
         },
         "marker": {
          "color": "#00cc96",
          "size": 10
         },
         "name": "13",
         "offsetgroup": "13",
         "orientation": "v",
         "pointpos": 0,
         "showlegend": true,
         "type": "box",
         "x": [
          1
         ],
         "x0": " ",
         "xaxis": "x",
         "y": [
          0.5
         ],
         "y0": " ",
         "yaxis": "y"
        },
        {
         "alignmentgroup": "True",
         "boxpoints": "all",
         "customdata": [
          [
           "Plutôt intégrative",
           "Fort",
           "Moyen",
           0.13,
           0.06,
           0.07,
           0.06,
           0.49,
           0.49
          ]
         ],
         "fillcolor": "rgba(255,255,255,0)",
         "hoveron": "points",
         "hovertemplate": "<b>%{hovertext}</b><br><br>id_teacher=14<br>eqc_4_val=%{x}<br>coec_4_val=%{y}<br>st_4=%{customdata[0]}<br>eqc_4_lev=%{customdata[1]}<br>coec_4_lev=%{customdata[2]}<br>rmsd_eqc=%{customdata[3]}<br>rmsd_sr_eqc=%{customdata[4]}<br>rmsd_coec=%{customdata[5]}<br>rmsd_sr_coec=%{customdata[6]}<br>radius_sr_4=%{customdata[7]}<br>radius_4=%{customdata[8]}<extra></extra>",
         "hovertext": [
          14
         ],
         "legendgroup": "14",
         "line": {
          "color": "rgba(255,255,255,0)"
         },
         "marker": {
          "color": "#ab63fa",
          "size": 10
         },
         "name": "14",
         "offsetgroup": "14",
         "orientation": "v",
         "pointpos": 0,
         "showlegend": true,
         "type": "box",
         "x": [
          0.5
         ],
         "x0": " ",
         "xaxis": "x",
         "y": [
          0.4
         ],
         "y0": " ",
         "yaxis": "y"
        },
        {
         "alignmentgroup": "True",
         "boxpoints": "all",
         "customdata": [
          [
           "Plutôt intégrative",
           "Fort",
           "Faible",
           0.06,
           0.05,
           0.05,
           0.08,
           0.05,
           0.21
          ]
         ],
         "fillcolor": "rgba(255,255,255,0)",
         "hoveron": "points",
         "hovertemplate": "<b>%{hovertext}</b><br><br>id_teacher=15<br>eqc_4_val=%{x}<br>coec_4_val=%{y}<br>st_4=%{customdata[0]}<br>eqc_4_lev=%{customdata[1]}<br>coec_4_lev=%{customdata[2]}<br>rmsd_eqc=%{customdata[3]}<br>rmsd_sr_eqc=%{customdata[4]}<br>rmsd_coec=%{customdata[5]}<br>rmsd_sr_coec=%{customdata[6]}<br>radius_sr_4=%{customdata[7]}<br>radius_4=%{customdata[8]}<extra></extra>",
         "hovertext": [
          15
         ],
         "legendgroup": "15",
         "line": {
          "color": "rgba(255,255,255,0)"
         },
         "marker": {
          "color": "#FFA15A",
          "size": 10
         },
         "name": "15",
         "offsetgroup": "15",
         "orientation": "v",
         "pointpos": 0,
         "showlegend": true,
         "type": "box",
         "x": [
          1
         ],
         "x0": " ",
         "xaxis": "x",
         "y": [
          0.2
         ],
         "y0": " ",
         "yaxis": "y"
        },
        {
         "marker": {
          "color": [
           2,
           3
          ],
          "size": [
           30,
           30
          ]
         },
         "mode": "markers",
         "type": "scatter",
         "x": [
          0.96,
          0.99
         ],
         "y": [
          0.234,
          0.414
         ]
        }
       ],
       "layout": {
        "boxmode": "group",
        "height": 700,
        "legend": {
         "title": {
          "text": "id_teacher"
         },
         "tracegroupgap": 0
        },
        "margin": {
         "t": 60
        },
        "shapes": [
         {
          "type": "line",
          "x0": 0,
          "x1": 1,
          "y0": 0,
          "y1": 1
         },
         {
          "type": "line",
          "x0": 0.5,
          "y0": 0.5
         }
        ],
        "template": {
         "data": {
          "bar": [
           {
            "error_x": {
             "color": "#2a3f5f"
            },
            "error_y": {
             "color": "#2a3f5f"
            },
            "marker": {
             "line": {
              "color": "#E5ECF6",
              "width": 0.5
             },
             "pattern": {
              "fillmode": "overlay",
              "size": 10,
              "solidity": 0.2
             }
            },
            "type": "bar"
           }
          ],
          "barpolar": [
           {
            "marker": {
             "line": {
              "color": "#E5ECF6",
              "width": 0.5
             },
             "pattern": {
              "fillmode": "overlay",
              "size": 10,
              "solidity": 0.2
             }
            },
            "type": "barpolar"
           }
          ],
          "carpet": [
           {
            "aaxis": {
             "endlinecolor": "#2a3f5f",
             "gridcolor": "white",
             "linecolor": "white",
             "minorgridcolor": "white",
             "startlinecolor": "#2a3f5f"
            },
            "baxis": {
             "endlinecolor": "#2a3f5f",
             "gridcolor": "white",
             "linecolor": "white",
             "minorgridcolor": "white",
             "startlinecolor": "#2a3f5f"
            },
            "type": "carpet"
           }
          ],
          "choropleth": [
           {
            "colorbar": {
             "outlinewidth": 0,
             "ticks": ""
            },
            "type": "choropleth"
           }
          ],
          "contour": [
           {
            "colorbar": {
             "outlinewidth": 0,
             "ticks": ""
            },
            "colorscale": [
             [
              0,
              "#0d0887"
             ],
             [
              0.1111111111111111,
              "#46039f"
             ],
             [
              0.2222222222222222,
              "#7201a8"
             ],
             [
              0.3333333333333333,
              "#9c179e"
             ],
             [
              0.4444444444444444,
              "#bd3786"
             ],
             [
              0.5555555555555556,
              "#d8576b"
             ],
             [
              0.6666666666666666,
              "#ed7953"
             ],
             [
              0.7777777777777778,
              "#fb9f3a"
             ],
             [
              0.8888888888888888,
              "#fdca26"
             ],
             [
              1,
              "#f0f921"
             ]
            ],
            "type": "contour"
           }
          ],
          "contourcarpet": [
           {
            "colorbar": {
             "outlinewidth": 0,
             "ticks": ""
            },
            "type": "contourcarpet"
           }
          ],
          "heatmap": [
           {
            "colorbar": {
             "outlinewidth": 0,
             "ticks": ""
            },
            "colorscale": [
             [
              0,
              "#0d0887"
             ],
             [
              0.1111111111111111,
              "#46039f"
             ],
             [
              0.2222222222222222,
              "#7201a8"
             ],
             [
              0.3333333333333333,
              "#9c179e"
             ],
             [
              0.4444444444444444,
              "#bd3786"
             ],
             [
              0.5555555555555556,
              "#d8576b"
             ],
             [
              0.6666666666666666,
              "#ed7953"
             ],
             [
              0.7777777777777778,
              "#fb9f3a"
             ],
             [
              0.8888888888888888,
              "#fdca26"
             ],
             [
              1,
              "#f0f921"
             ]
            ],
            "type": "heatmap"
           }
          ],
          "heatmapgl": [
           {
            "colorbar": {
             "outlinewidth": 0,
             "ticks": ""
            },
            "colorscale": [
             [
              0,
              "#0d0887"
             ],
             [
              0.1111111111111111,
              "#46039f"
             ],
             [
              0.2222222222222222,
              "#7201a8"
             ],
             [
              0.3333333333333333,
              "#9c179e"
             ],
             [
              0.4444444444444444,
              "#bd3786"
             ],
             [
              0.5555555555555556,
              "#d8576b"
             ],
             [
              0.6666666666666666,
              "#ed7953"
             ],
             [
              0.7777777777777778,
              "#fb9f3a"
             ],
             [
              0.8888888888888888,
              "#fdca26"
             ],
             [
              1,
              "#f0f921"
             ]
            ],
            "type": "heatmapgl"
           }
          ],
          "histogram": [
           {
            "marker": {
             "pattern": {
              "fillmode": "overlay",
              "size": 10,
              "solidity": 0.2
             }
            },
            "type": "histogram"
           }
          ],
          "histogram2d": [
           {
            "colorbar": {
             "outlinewidth": 0,
             "ticks": ""
            },
            "colorscale": [
             [
              0,
              "#0d0887"
             ],
             [
              0.1111111111111111,
              "#46039f"
             ],
             [
              0.2222222222222222,
              "#7201a8"
             ],
             [
              0.3333333333333333,
              "#9c179e"
             ],
             [
              0.4444444444444444,
              "#bd3786"
             ],
             [
              0.5555555555555556,
              "#d8576b"
             ],
             [
              0.6666666666666666,
              "#ed7953"
             ],
             [
              0.7777777777777778,
              "#fb9f3a"
             ],
             [
              0.8888888888888888,
              "#fdca26"
             ],
             [
              1,
              "#f0f921"
             ]
            ],
            "type": "histogram2d"
           }
          ],
          "histogram2dcontour": [
           {
            "colorbar": {
             "outlinewidth": 0,
             "ticks": ""
            },
            "colorscale": [
             [
              0,
              "#0d0887"
             ],
             [
              0.1111111111111111,
              "#46039f"
             ],
             [
              0.2222222222222222,
              "#7201a8"
             ],
             [
              0.3333333333333333,
              "#9c179e"
             ],
             [
              0.4444444444444444,
              "#bd3786"
             ],
             [
              0.5555555555555556,
              "#d8576b"
             ],
             [
              0.6666666666666666,
              "#ed7953"
             ],
             [
              0.7777777777777778,
              "#fb9f3a"
             ],
             [
              0.8888888888888888,
              "#fdca26"
             ],
             [
              1,
              "#f0f921"
             ]
            ],
            "type": "histogram2dcontour"
           }
          ],
          "mesh3d": [
           {
            "colorbar": {
             "outlinewidth": 0,
             "ticks": ""
            },
            "type": "mesh3d"
           }
          ],
          "parcoords": [
           {
            "line": {
             "colorbar": {
              "outlinewidth": 0,
              "ticks": ""
             }
            },
            "type": "parcoords"
           }
          ],
          "pie": [
           {
            "automargin": true,
            "type": "pie"
           }
          ],
          "scatter": [
           {
            "marker": {
             "colorbar": {
              "outlinewidth": 0,
              "ticks": ""
             }
            },
            "type": "scatter"
           }
          ],
          "scatter3d": [
           {
            "line": {
             "colorbar": {
              "outlinewidth": 0,
              "ticks": ""
             }
            },
            "marker": {
             "colorbar": {
              "outlinewidth": 0,
              "ticks": ""
             }
            },
            "type": "scatter3d"
           }
          ],
          "scattercarpet": [
           {
            "marker": {
             "colorbar": {
              "outlinewidth": 0,
              "ticks": ""
             }
            },
            "type": "scattercarpet"
           }
          ],
          "scattergeo": [
           {
            "marker": {
             "colorbar": {
              "outlinewidth": 0,
              "ticks": ""
             }
            },
            "type": "scattergeo"
           }
          ],
          "scattergl": [
           {
            "marker": {
             "colorbar": {
              "outlinewidth": 0,
              "ticks": ""
             }
            },
            "type": "scattergl"
           }
          ],
          "scattermapbox": [
           {
            "marker": {
             "colorbar": {
              "outlinewidth": 0,
              "ticks": ""
             }
            },
            "type": "scattermapbox"
           }
          ],
          "scatterpolar": [
           {
            "marker": {
             "colorbar": {
              "outlinewidth": 0,
              "ticks": ""
             }
            },
            "type": "scatterpolar"
           }
          ],
          "scatterpolargl": [
           {
            "marker": {
             "colorbar": {
              "outlinewidth": 0,
              "ticks": ""
             }
            },
            "type": "scatterpolargl"
           }
          ],
          "scatterternary": [
           {
            "marker": {
             "colorbar": {
              "outlinewidth": 0,
              "ticks": ""
             }
            },
            "type": "scatterternary"
           }
          ],
          "surface": [
           {
            "colorbar": {
             "outlinewidth": 0,
             "ticks": ""
            },
            "colorscale": [
             [
              0,
              "#0d0887"
             ],
             [
              0.1111111111111111,
              "#46039f"
             ],
             [
              0.2222222222222222,
              "#7201a8"
             ],
             [
              0.3333333333333333,
              "#9c179e"
             ],
             [
              0.4444444444444444,
              "#bd3786"
             ],
             [
              0.5555555555555556,
              "#d8576b"
             ],
             [
              0.6666666666666666,
              "#ed7953"
             ],
             [
              0.7777777777777778,
              "#fb9f3a"
             ],
             [
              0.8888888888888888,
              "#fdca26"
             ],
             [
              1,
              "#f0f921"
             ]
            ],
            "type": "surface"
           }
          ],
          "table": [
           {
            "cells": {
             "fill": {
              "color": "#EBF0F8"
             },
             "line": {
              "color": "white"
             }
            },
            "header": {
             "fill": {
              "color": "#C8D4E3"
             },
             "line": {
              "color": "white"
             }
            },
            "type": "table"
           }
          ]
         },
         "layout": {
          "annotationdefaults": {
           "arrowcolor": "#2a3f5f",
           "arrowhead": 0,
           "arrowwidth": 1
          },
          "autotypenumbers": "strict",
          "coloraxis": {
           "colorbar": {
            "outlinewidth": 0,
            "ticks": ""
           }
          },
          "colorscale": {
           "diverging": [
            [
             0,
             "#8e0152"
            ],
            [
             0.1,
             "#c51b7d"
            ],
            [
             0.2,
             "#de77ae"
            ],
            [
             0.3,
             "#f1b6da"
            ],
            [
             0.4,
             "#fde0ef"
            ],
            [
             0.5,
             "#f7f7f7"
            ],
            [
             0.6,
             "#e6f5d0"
            ],
            [
             0.7,
             "#b8e186"
            ],
            [
             0.8,
             "#7fbc41"
            ],
            [
             0.9,
             "#4d9221"
            ],
            [
             1,
             "#276419"
            ]
           ],
           "sequential": [
            [
             0,
             "#0d0887"
            ],
            [
             0.1111111111111111,
             "#46039f"
            ],
            [
             0.2222222222222222,
             "#7201a8"
            ],
            [
             0.3333333333333333,
             "#9c179e"
            ],
            [
             0.4444444444444444,
             "#bd3786"
            ],
            [
             0.5555555555555556,
             "#d8576b"
            ],
            [
             0.6666666666666666,
             "#ed7953"
            ],
            [
             0.7777777777777778,
             "#fb9f3a"
            ],
            [
             0.8888888888888888,
             "#fdca26"
            ],
            [
             1,
             "#f0f921"
            ]
           ],
           "sequentialminus": [
            [
             0,
             "#0d0887"
            ],
            [
             0.1111111111111111,
             "#46039f"
            ],
            [
             0.2222222222222222,
             "#7201a8"
            ],
            [
             0.3333333333333333,
             "#9c179e"
            ],
            [
             0.4444444444444444,
             "#bd3786"
            ],
            [
             0.5555555555555556,
             "#d8576b"
            ],
            [
             0.6666666666666666,
             "#ed7953"
            ],
            [
             0.7777777777777778,
             "#fb9f3a"
            ],
            [
             0.8888888888888888,
             "#fdca26"
            ],
            [
             1,
             "#f0f921"
            ]
           ]
          },
          "colorway": [
           "#636efa",
           "#EF553B",
           "#00cc96",
           "#ab63fa",
           "#FFA15A",
           "#19d3f3",
           "#FF6692",
           "#B6E880",
           "#FF97FF",
           "#FECB52"
          ],
          "font": {
           "color": "#2a3f5f"
          },
          "geo": {
           "bgcolor": "white",
           "lakecolor": "white",
           "landcolor": "#E5ECF6",
           "showlakes": true,
           "showland": true,
           "subunitcolor": "white"
          },
          "hoverlabel": {
           "align": "left"
          },
          "hovermode": "closest",
          "mapbox": {
           "style": "light"
          },
          "paper_bgcolor": "white",
          "plot_bgcolor": "#E5ECF6",
          "polar": {
           "angularaxis": {
            "gridcolor": "white",
            "linecolor": "white",
            "ticks": ""
           },
           "bgcolor": "#E5ECF6",
           "radialaxis": {
            "gridcolor": "white",
            "linecolor": "white",
            "ticks": ""
           }
          },
          "scene": {
           "xaxis": {
            "backgroundcolor": "#E5ECF6",
            "gridcolor": "white",
            "gridwidth": 2,
            "linecolor": "white",
            "showbackground": true,
            "ticks": "",
            "zerolinecolor": "white"
           },
           "yaxis": {
            "backgroundcolor": "#E5ECF6",
            "gridcolor": "white",
            "gridwidth": 2,
            "linecolor": "white",
            "showbackground": true,
            "ticks": "",
            "zerolinecolor": "white"
           },
           "zaxis": {
            "backgroundcolor": "#E5ECF6",
            "gridcolor": "white",
            "gridwidth": 2,
            "linecolor": "white",
            "showbackground": true,
            "ticks": "",
            "zerolinecolor": "white"
           }
          },
          "shapedefaults": {
           "line": {
            "color": "#2a3f5f"
           }
          },
          "ternary": {
           "aaxis": {
            "gridcolor": "white",
            "linecolor": "white",
            "ticks": ""
           },
           "baxis": {
            "gridcolor": "white",
            "linecolor": "white",
            "ticks": ""
           },
           "bgcolor": "#E5ECF6",
           "caxis": {
            "gridcolor": "white",
            "linecolor": "white",
            "ticks": ""
           }
          },
          "title": {
           "x": 0.05
          },
          "xaxis": {
           "automargin": true,
           "gridcolor": "white",
           "linecolor": "white",
           "ticks": "",
           "title": {
            "standoff": 15
           },
           "zerolinecolor": "white",
           "zerolinewidth": 2
          },
          "yaxis": {
           "automargin": true,
           "gridcolor": "white",
           "linecolor": "white",
           "ticks": "",
           "title": {
            "standoff": 15
           },
           "zerolinecolor": "white",
           "zerolinewidth": 2
          }
         }
        },
        "title": {
         "text": "LabDoc 4"
        },
        "width": 900,
        "xaxis": {
         "anchor": "y",
         "domain": [
          0,
          1
         ],
         "range": [
          -0.05,
          1.05
         ],
         "title": {
          "text": "eqc_4_val"
         }
        },
        "yaxis": {
         "anchor": "x",
         "domain": [
          0,
          1
         ],
         "range": [
          -0.05,
          1.05
         ],
         "title": {
          "text": "coec_4_val"
         }
        }
       }
      }
     },
     "metadata": {},
     "output_type": "display_data"
    },
    {
     "data": {
      "application/vnd.plotly.v1+json": {
       "config": {
        "plotlyServerURL": "https://plot.ly",
        "scrollZoom": false
       },
       "data": [
        {
         "alignmentgroup": "True",
         "boxpoints": "all",
         "customdata": [
          [
           "Entièrement intégrative",
           "Faible",
           "Faible",
           0.09,
           0.06,
           0.04,
           0.06,
           0.19,
           0.46
          ]
         ],
         "fillcolor": "rgba(255,255,255,0)",
         "hoveron": "points",
         "hovertemplate": "<b>%{hovertext}</b><br><br>id_teacher=1<br>eqc_5_val=%{x}<br>coec_5_val=%{y}<br>st_5=%{customdata[0]}<br>eqc_5_lev=%{customdata[1]}<br>coec_5_lev=%{customdata[2]}<br>rmsd_eqc=%{customdata[3]}<br>rmsd_sr_eqc=%{customdata[4]}<br>rmsd_coec=%{customdata[5]}<br>rmsd_sr_coec=%{customdata[6]}<br>radius_sr_5=%{customdata[7]}<br>radius_5=%{customdata[8]}<extra></extra>",
         "hovertext": [
          1
         ],
         "legendgroup": "1",
         "line": {
          "color": "rgba(255,255,255,0)"
         },
         "marker": {
          "color": "#636efa",
          "size": 10
         },
         "name": "1",
         "offsetgroup": "1",
         "orientation": "v",
         "pointpos": 0,
         "showlegend": true,
         "type": "box",
         "x": [
          0.1
         ],
         "x0": " ",
         "xaxis": "x",
         "y": [
          0.2
         ],
         "y0": " ",
         "yaxis": "y"
        },
        {
         "alignmentgroup": "True",
         "boxpoints": "all",
         "customdata": [
          [
           "Entièrement intégrative",
           "Faible",
           "Moyen",
           0.07,
           0.06,
           0.02,
           0.06,
           0.1,
           0.32
          ]
         ],
         "fillcolor": "rgba(255,255,255,0)",
         "hoveron": "points",
         "hovertemplate": "<b>%{hovertext}</b><br><br>id_teacher=2<br>eqc_5_val=%{x}<br>coec_5_val=%{y}<br>st_5=%{customdata[0]}<br>eqc_5_lev=%{customdata[1]}<br>coec_5_lev=%{customdata[2]}<br>rmsd_eqc=%{customdata[3]}<br>rmsd_sr_eqc=%{customdata[4]}<br>rmsd_coec=%{customdata[5]}<br>rmsd_sr_coec=%{customdata[6]}<br>radius_sr_5=%{customdata[7]}<br>radius_5=%{customdata[8]}<extra></extra>",
         "hovertext": [
          2
         ],
         "legendgroup": "2",
         "line": {
          "color": "rgba(255,255,255,0)"
         },
         "marker": {
          "color": "#EF553B",
          "size": 10
         },
         "name": "2",
         "offsetgroup": "2",
         "orientation": "v",
         "pointpos": 0,
         "showlegend": true,
         "type": "box",
         "x": [
          0.2
         ],
         "x0": " ",
         "xaxis": "x",
         "y": [
          0.3
         ],
         "y0": " ",
         "yaxis": "y"
        },
        {
         "alignmentgroup": "True",
         "boxpoints": "all",
         "customdata": [
          [
           "Entièrement intégrative",
           "Faible",
           "Faible",
           0.03,
           0.02,
           0.06,
           0.15,
           0.67,
           0.6
          ]
         ],
         "fillcolor": "rgba(255,255,255,0)",
         "hoveron": "points",
         "hovertemplate": "<b>%{hovertext}</b><br><br>id_teacher=3<br>eqc_5_val=%{x}<br>coec_5_val=%{y}<br>st_5=%{customdata[0]}<br>eqc_5_lev=%{customdata[1]}<br>coec_5_lev=%{customdata[2]}<br>rmsd_eqc=%{customdata[3]}<br>rmsd_sr_eqc=%{customdata[4]}<br>rmsd_coec=%{customdata[5]}<br>rmsd_sr_coec=%{customdata[6]}<br>radius_sr_5=%{customdata[7]}<br>radius_5=%{customdata[8]}<extra></extra>",
         "hovertext": [
          3
         ],
         "legendgroup": "3",
         "line": {
          "color": "rgba(255,255,255,0)"
         },
         "marker": {
          "color": "#00cc96",
          "size": 10
         },
         "name": "3",
         "offsetgroup": "3",
         "orientation": "v",
         "pointpos": 0,
         "showlegend": true,
         "type": "box",
         "x": [
          0.1
         ],
         "x0": " ",
         "xaxis": "x",
         "y": [
          0.9
         ],
         "y0": " ",
         "yaxis": "y"
        },
        {
         "alignmentgroup": "True",
         "boxpoints": "all",
         "customdata": [
          [
           "Entièrement intégrative",
           "Faible",
           "Faible",
           0.05,
           0.03,
           0.02,
           0.04,
           0.17,
           0.45
          ]
         ],
         "fillcolor": "rgba(255,255,255,0)",
         "hoveron": "points",
         "hovertemplate": "<b>%{hovertext}</b><br><br>id_teacher=4<br>eqc_5_val=%{x}<br>coec_5_val=%{y}<br>st_5=%{customdata[0]}<br>eqc_5_lev=%{customdata[1]}<br>coec_5_lev=%{customdata[2]}<br>rmsd_eqc=%{customdata[3]}<br>rmsd_sr_eqc=%{customdata[4]}<br>rmsd_coec=%{customdata[5]}<br>rmsd_sr_coec=%{customdata[6]}<br>radius_sr_5=%{customdata[7]}<br>radius_5=%{customdata[8]}<extra></extra>",
         "hovertext": [
          4
         ],
         "legendgroup": "4",
         "line": {
          "color": "rgba(255,255,255,0)"
         },
         "marker": {
          "color": "#ab63fa",
          "size": 10
         },
         "name": "4",
         "offsetgroup": "4",
         "orientation": "v",
         "pointpos": 0,
         "showlegend": true,
         "type": "box",
         "x": [
          0.2
         ],
         "x0": " ",
         "xaxis": "x",
         "y": [
          0.1
         ],
         "y0": " ",
         "yaxis": "y"
        },
        {
         "alignmentgroup": "True",
         "boxpoints": "all",
         "customdata": [
          [
           "Entièrement intégrative",
           "Faible",
           "Faible",
           0.05,
           0.07,
           0.04,
           0.1,
           0.05,
           0.24
          ]
         ],
         "fillcolor": "rgba(255,255,255,0)",
         "hoveron": "points",
         "hovertemplate": "<b>%{hovertext}</b><br><br>id_teacher=5<br>eqc_5_val=%{x}<br>coec_5_val=%{y}<br>st_5=%{customdata[0]}<br>eqc_5_lev=%{customdata[1]}<br>coec_5_lev=%{customdata[2]}<br>rmsd_eqc=%{customdata[3]}<br>rmsd_sr_eqc=%{customdata[4]}<br>rmsd_coec=%{customdata[5]}<br>rmsd_sr_coec=%{customdata[6]}<br>radius_sr_5=%{customdata[7]}<br>radius_5=%{customdata[8]}<extra></extra>",
         "hovertext": [
          5
         ],
         "legendgroup": "5",
         "line": {
          "color": "rgba(255,255,255,0)"
         },
         "marker": {
          "color": "#FFA15A",
          "size": 10
         },
         "name": "5",
         "offsetgroup": "5",
         "orientation": "v",
         "pointpos": 0,
         "showlegend": true,
         "type": "box",
         "x": [
          0.3
         ],
         "x0": " ",
         "xaxis": "x",
         "y": [
          0.3
         ],
         "y0": " ",
         "yaxis": "y"
        },
        {
         "alignmentgroup": "True",
         "boxpoints": "all",
         "customdata": [
          [
           "Plutôt intégrative",
           "Faible",
           "Faible",
           0.03,
           0.03,
           0.03,
           0.03,
           0.2,
           0.48
          ]
         ],
         "fillcolor": "rgba(255,255,255,0)",
         "hoveron": "points",
         "hovertemplate": "<b>%{hovertext}</b><br><br>id_teacher=6<br>eqc_5_val=%{x}<br>coec_5_val=%{y}<br>st_5=%{customdata[0]}<br>eqc_5_lev=%{customdata[1]}<br>coec_5_lev=%{customdata[2]}<br>rmsd_eqc=%{customdata[3]}<br>rmsd_sr_eqc=%{customdata[4]}<br>rmsd_coec=%{customdata[5]}<br>rmsd_sr_coec=%{customdata[6]}<br>radius_sr_5=%{customdata[7]}<br>radius_5=%{customdata[8]}<extra></extra>",
         "hovertext": [
          6
         ],
         "legendgroup": "6",
         "line": {
          "color": "rgba(255,255,255,0)"
         },
         "marker": {
          "color": "#19d3f3",
          "size": 10
         },
         "name": "6",
         "offsetgroup": "6",
         "orientation": "v",
         "pointpos": 0,
         "showlegend": true,
         "type": "box",
         "x": [
          0.15
         ],
         "x0": " ",
         "xaxis": "x",
         "y": [
          0.1
         ],
         "y0": " ",
         "yaxis": "y"
        },
        {
         "alignmentgroup": "True",
         "boxpoints": "all",
         "customdata": [
          [
           "Entièrement intégrative",
           "Faible",
           "Faible",
           0.08,
           0.08,
           0.06,
           0.08,
           0.24,
           0.52
          ]
         ],
         "fillcolor": "rgba(255,255,255,0)",
         "hoveron": "points",
         "hovertemplate": "<b>%{hovertext}</b><br><br>id_teacher=7<br>eqc_5_val=%{x}<br>coec_5_val=%{y}<br>st_5=%{customdata[0]}<br>eqc_5_lev=%{customdata[1]}<br>coec_5_lev=%{customdata[2]}<br>rmsd_eqc=%{customdata[3]}<br>rmsd_sr_eqc=%{customdata[4]}<br>rmsd_coec=%{customdata[5]}<br>rmsd_sr_coec=%{customdata[6]}<br>radius_sr_5=%{customdata[7]}<br>radius_5=%{customdata[8]}<extra></extra>",
         "hovertext": [
          7
         ],
         "legendgroup": "7",
         "line": {
          "color": "rgba(255,255,255,0)"
         },
         "marker": {
          "color": "#FF6692",
          "size": 10
         },
         "name": "7",
         "offsetgroup": "7",
         "orientation": "v",
         "pointpos": 0,
         "showlegend": true,
         "type": "box",
         "x": [
          0.1
         ],
         "x0": " ",
         "xaxis": "x",
         "y": [
          0.1
         ],
         "y0": " ",
         "yaxis": "y"
        },
        {
         "alignmentgroup": "True",
         "boxpoints": "all",
         "customdata": [
          [
           "Entièrement intégrative",
           "Faible",
           "Faible",
           0.06,
           0.03,
           0.04,
           0.02,
           0.31,
           0.59
          ]
         ],
         "fillcolor": "rgba(255,255,255,0)",
         "hoveron": "points",
         "hovertemplate": "<b>%{hovertext}</b><br><br>id_teacher=8<br>eqc_5_val=%{x}<br>coec_5_val=%{y}<br>st_5=%{customdata[0]}<br>eqc_5_lev=%{customdata[1]}<br>coec_5_lev=%{customdata[2]}<br>rmsd_eqc=%{customdata[3]}<br>rmsd_sr_eqc=%{customdata[4]}<br>rmsd_coec=%{customdata[5]}<br>rmsd_sr_coec=%{customdata[6]}<br>radius_sr_5=%{customdata[7]}<br>radius_5=%{customdata[8]}<extra></extra>",
         "hovertext": [
          8
         ],
         "legendgroup": "8",
         "line": {
          "color": "rgba(255,255,255,0)"
         },
         "marker": {
          "color": "#B6E880",
          "size": 10
         },
         "name": "8",
         "offsetgroup": "8",
         "orientation": "v",
         "pointpos": 0,
         "showlegend": true,
         "type": "box",
         "x": [
          0.05
         ],
         "x0": " ",
         "xaxis": "x",
         "y": [
          0.05
         ],
         "y0": " ",
         "yaxis": "y"
        },
        {
         "alignmentgroup": "True",
         "boxpoints": "all",
         "customdata": [
          [
           "Entièrement sommative",
           "Faible",
           "Faible",
           0.16,
           0.08,
           0.05,
           0.04,
           0.31,
           0.58
          ]
         ],
         "fillcolor": "rgba(255,255,255,0)",
         "hoveron": "points",
         "hovertemplate": "<b>%{hovertext}</b><br><br>id_teacher=9<br>eqc_5_val=%{x}<br>coec_5_val=%{y}<br>st_5=%{customdata[0]}<br>eqc_5_lev=%{customdata[1]}<br>coec_5_lev=%{customdata[2]}<br>rmsd_eqc=%{customdata[3]}<br>rmsd_sr_eqc=%{customdata[4]}<br>rmsd_coec=%{customdata[5]}<br>rmsd_sr_coec=%{customdata[6]}<br>radius_sr_5=%{customdata[7]}<br>radius_5=%{customdata[8]}<extra></extra>",
         "hovertext": [
          9
         ],
         "legendgroup": "9",
         "line": {
          "color": "rgba(255,255,255,0)"
         },
         "marker": {
          "color": "#FF97FF",
          "size": 10
         },
         "name": "9",
         "offsetgroup": "9",
         "orientation": "v",
         "pointpos": 0,
         "showlegend": true,
         "type": "box",
         "x": [
          0.1
         ],
         "x0": " ",
         "xaxis": "x",
         "y": [
          0.01
         ],
         "y0": " ",
         "yaxis": "y"
        },
        {
         "alignmentgroup": "True",
         "boxpoints": "all",
         "customdata": [
          [
           "Entièrement intégrative",
           "Faible",
           "Faible",
           0.05,
           0.03,
           0.05,
           0.09,
           0.24,
           0.52
          ]
         ],
         "fillcolor": "rgba(255,255,255,0)",
         "hoveron": "points",
         "hovertemplate": "<b>%{hovertext}</b><br><br>id_teacher=10<br>eqc_5_val=%{x}<br>coec_5_val=%{y}<br>st_5=%{customdata[0]}<br>eqc_5_lev=%{customdata[1]}<br>coec_5_lev=%{customdata[2]}<br>rmsd_eqc=%{customdata[3]}<br>rmsd_sr_eqc=%{customdata[4]}<br>rmsd_coec=%{customdata[5]}<br>rmsd_sr_coec=%{customdata[6]}<br>radius_sr_5=%{customdata[7]}<br>radius_5=%{customdata[8]}<extra></extra>",
         "hovertext": [
          10
         ],
         "legendgroup": "10",
         "line": {
          "color": "rgba(255,255,255,0)"
         },
         "marker": {
          "color": "#FECB52",
          "size": 10
         },
         "name": "10",
         "offsetgroup": "10",
         "orientation": "v",
         "pointpos": 0,
         "showlegend": true,
         "type": "box",
         "x": [
          0.1
         ],
         "x0": " ",
         "xaxis": "x",
         "y": [
          0.1
         ],
         "y0": " ",
         "yaxis": "y"
        },
        {
         "alignmentgroup": "True",
         "boxpoints": "all",
         "customdata": [
          [
           "Entièrement intégrative",
           "Faible",
           "Fort",
           0.06,
           0.05,
           0.04,
           0.09,
           0.26,
           0.3
          ]
         ],
         "fillcolor": "rgba(255,255,255,0)",
         "hoveron": "points",
         "hovertemplate": "<b>%{hovertext}</b><br><br>id_teacher=11<br>eqc_5_val=%{x}<br>coec_5_val=%{y}<br>st_5=%{customdata[0]}<br>eqc_5_lev=%{customdata[1]}<br>coec_5_lev=%{customdata[2]}<br>rmsd_eqc=%{customdata[3]}<br>rmsd_sr_eqc=%{customdata[4]}<br>rmsd_coec=%{customdata[5]}<br>rmsd_sr_coec=%{customdata[6]}<br>radius_sr_5=%{customdata[7]}<br>radius_5=%{customdata[8]}<extra></extra>",
         "hovertext": [
          11
         ],
         "legendgroup": "11",
         "line": {
          "color": "rgba(255,255,255,0)"
         },
         "marker": {
          "color": "#636efa",
          "size": 10
         },
         "name": "11",
         "offsetgroup": "11",
         "orientation": "v",
         "pointpos": 0,
         "showlegend": true,
         "type": "box",
         "x": [
          0.2
         ],
         "x0": " ",
         "xaxis": "x",
         "y": [
          0.5
         ],
         "y0": " ",
         "yaxis": "y"
        },
        {
         "alignmentgroup": "True",
         "boxpoints": "all",
         "customdata": [
          [
           "Entièrement intégrative",
           "Faible",
           "Faible",
           0.08,
           0.09,
           0.07,
           0.08,
           0.17,
           0.45
          ]
         ],
         "fillcolor": "rgba(255,255,255,0)",
         "hoveron": "points",
         "hovertemplate": "<b>%{hovertext}</b><br><br>id_teacher=12<br>eqc_5_val=%{x}<br>coec_5_val=%{y}<br>st_5=%{customdata[0]}<br>eqc_5_lev=%{customdata[1]}<br>coec_5_lev=%{customdata[2]}<br>rmsd_eqc=%{customdata[3]}<br>rmsd_sr_eqc=%{customdata[4]}<br>rmsd_coec=%{customdata[5]}<br>rmsd_sr_coec=%{customdata[6]}<br>radius_sr_5=%{customdata[7]}<br>radius_5=%{customdata[8]}<extra></extra>",
         "hovertext": [
          12
         ],
         "legendgroup": "12",
         "line": {
          "color": "rgba(255,255,255,0)"
         },
         "marker": {
          "color": "#EF553B",
          "size": 10
         },
         "name": "12",
         "offsetgroup": "12",
         "orientation": "v",
         "pointpos": 0,
         "showlegend": true,
         "type": "box",
         "x": [
          0.2
         ],
         "x0": " ",
         "xaxis": "x",
         "y": [
          0.1
         ],
         "y0": " ",
         "yaxis": "y"
        },
        {
         "alignmentgroup": "True",
         "boxpoints": "all",
         "customdata": [
          [
           "Entièrement intégrative",
           "Faible",
           "Fort",
           0.04,
           0.04,
           0.05,
           0.12,
           0.77,
           0.68
          ]
         ],
         "fillcolor": "rgba(255,255,255,0)",
         "hoveron": "points",
         "hovertemplate": "<b>%{hovertext}</b><br><br>id_teacher=13<br>eqc_5_val=%{x}<br>coec_5_val=%{y}<br>st_5=%{customdata[0]}<br>eqc_5_lev=%{customdata[1]}<br>coec_5_lev=%{customdata[2]}<br>rmsd_eqc=%{customdata[3]}<br>rmsd_sr_eqc=%{customdata[4]}<br>rmsd_coec=%{customdata[5]}<br>rmsd_sr_coec=%{customdata[6]}<br>radius_sr_5=%{customdata[7]}<br>radius_5=%{customdata[8]}<extra></extra>",
         "hovertext": [
          13
         ],
         "legendgroup": "13",
         "line": {
          "color": "rgba(255,255,255,0)"
         },
         "marker": {
          "color": "#00cc96",
          "size": 10
         },
         "name": "13",
         "offsetgroup": "13",
         "orientation": "v",
         "pointpos": 0,
         "showlegend": true,
         "type": "box",
         "x": [
          0.1
         ],
         "x0": " ",
         "xaxis": "x",
         "y": [
          1
         ],
         "y0": " ",
         "yaxis": "y"
        },
        {
         "alignmentgroup": "True",
         "boxpoints": "all",
         "customdata": [
          [
           "Entièrement sommative",
           "Faible",
           "Faible",
           0.13,
           0.06,
           0.07,
           0.06,
           0.31,
           0.59
          ]
         ],
         "fillcolor": "rgba(255,255,255,0)",
         "hoveron": "points",
         "hovertemplate": "<b>%{hovertext}</b><br><br>id_teacher=14<br>eqc_5_val=%{x}<br>coec_5_val=%{y}<br>st_5=%{customdata[0]}<br>eqc_5_lev=%{customdata[1]}<br>coec_5_lev=%{customdata[2]}<br>rmsd_eqc=%{customdata[3]}<br>rmsd_sr_eqc=%{customdata[4]}<br>rmsd_coec=%{customdata[5]}<br>rmsd_sr_coec=%{customdata[6]}<br>radius_sr_5=%{customdata[7]}<br>radius_5=%{customdata[8]}<extra></extra>",
         "hovertext": [
          14
         ],
         "legendgroup": "14",
         "line": {
          "color": "rgba(255,255,255,0)"
         },
         "marker": {
          "color": "#ab63fa",
          "size": 10
         },
         "name": "14",
         "offsetgroup": "14",
         "orientation": "v",
         "pointpos": 0,
         "showlegend": true,
         "type": "box",
         "x": [
          0.1
         ],
         "x0": " ",
         "xaxis": "x",
         "y": [
          0
         ],
         "y0": " ",
         "yaxis": "y"
        },
        {
         "alignmentgroup": "True",
         "boxpoints": "all",
         "customdata": [
          [
           "Plutôt intégrative",
           "Faible",
           "Faible",
           0.06,
           0.05,
           0.05,
           0.08,
           0.24,
           0.52
          ]
         ],
         "fillcolor": "rgba(255,255,255,0)",
         "hoveron": "points",
         "hovertemplate": "<b>%{hovertext}</b><br><br>id_teacher=15<br>eqc_5_val=%{x}<br>coec_5_val=%{y}<br>st_5=%{customdata[0]}<br>eqc_5_lev=%{customdata[1]}<br>coec_5_lev=%{customdata[2]}<br>rmsd_eqc=%{customdata[3]}<br>rmsd_sr_eqc=%{customdata[4]}<br>rmsd_coec=%{customdata[5]}<br>rmsd_sr_coec=%{customdata[6]}<br>radius_sr_5=%{customdata[7]}<br>radius_5=%{customdata[8]}<extra></extra>",
         "hovertext": [
          15
         ],
         "legendgroup": "15",
         "line": {
          "color": "rgba(255,255,255,0)"
         },
         "marker": {
          "color": "#FFA15A",
          "size": 10
         },
         "name": "15",
         "offsetgroup": "15",
         "orientation": "v",
         "pointpos": 0,
         "showlegend": true,
         "type": "box",
         "x": [
          0.1
         ],
         "x0": " ",
         "xaxis": "x",
         "y": [
          0.1
         ],
         "y0": " ",
         "yaxis": "y"
        },
        {
         "marker": {
          "color": [
           2,
           3
          ],
          "size": [
           30,
           30
          ]
         },
         "mode": "markers",
         "type": "scatter",
         "x": [
          0.286,
          0.49
         ],
         "y": [
          0.252,
          0.44
         ]
        }
       ],
       "layout": {
        "boxmode": "group",
        "height": 700,
        "legend": {
         "title": {
          "text": "id_teacher"
         },
         "tracegroupgap": 0
        },
        "margin": {
         "t": 60
        },
        "shapes": [
         {
          "type": "line",
          "x0": 0,
          "x1": 1,
          "y0": 0,
          "y1": 1
         },
         {
          "type": "line",
          "x0": 0.5,
          "y0": 0.5
         }
        ],
        "template": {
         "data": {
          "bar": [
           {
            "error_x": {
             "color": "#2a3f5f"
            },
            "error_y": {
             "color": "#2a3f5f"
            },
            "marker": {
             "line": {
              "color": "#E5ECF6",
              "width": 0.5
             },
             "pattern": {
              "fillmode": "overlay",
              "size": 10,
              "solidity": 0.2
             }
            },
            "type": "bar"
           }
          ],
          "barpolar": [
           {
            "marker": {
             "line": {
              "color": "#E5ECF6",
              "width": 0.5
             },
             "pattern": {
              "fillmode": "overlay",
              "size": 10,
              "solidity": 0.2
             }
            },
            "type": "barpolar"
           }
          ],
          "carpet": [
           {
            "aaxis": {
             "endlinecolor": "#2a3f5f",
             "gridcolor": "white",
             "linecolor": "white",
             "minorgridcolor": "white",
             "startlinecolor": "#2a3f5f"
            },
            "baxis": {
             "endlinecolor": "#2a3f5f",
             "gridcolor": "white",
             "linecolor": "white",
             "minorgridcolor": "white",
             "startlinecolor": "#2a3f5f"
            },
            "type": "carpet"
           }
          ],
          "choropleth": [
           {
            "colorbar": {
             "outlinewidth": 0,
             "ticks": ""
            },
            "type": "choropleth"
           }
          ],
          "contour": [
           {
            "colorbar": {
             "outlinewidth": 0,
             "ticks": ""
            },
            "colorscale": [
             [
              0,
              "#0d0887"
             ],
             [
              0.1111111111111111,
              "#46039f"
             ],
             [
              0.2222222222222222,
              "#7201a8"
             ],
             [
              0.3333333333333333,
              "#9c179e"
             ],
             [
              0.4444444444444444,
              "#bd3786"
             ],
             [
              0.5555555555555556,
              "#d8576b"
             ],
             [
              0.6666666666666666,
              "#ed7953"
             ],
             [
              0.7777777777777778,
              "#fb9f3a"
             ],
             [
              0.8888888888888888,
              "#fdca26"
             ],
             [
              1,
              "#f0f921"
             ]
            ],
            "type": "contour"
           }
          ],
          "contourcarpet": [
           {
            "colorbar": {
             "outlinewidth": 0,
             "ticks": ""
            },
            "type": "contourcarpet"
           }
          ],
          "heatmap": [
           {
            "colorbar": {
             "outlinewidth": 0,
             "ticks": ""
            },
            "colorscale": [
             [
              0,
              "#0d0887"
             ],
             [
              0.1111111111111111,
              "#46039f"
             ],
             [
              0.2222222222222222,
              "#7201a8"
             ],
             [
              0.3333333333333333,
              "#9c179e"
             ],
             [
              0.4444444444444444,
              "#bd3786"
             ],
             [
              0.5555555555555556,
              "#d8576b"
             ],
             [
              0.6666666666666666,
              "#ed7953"
             ],
             [
              0.7777777777777778,
              "#fb9f3a"
             ],
             [
              0.8888888888888888,
              "#fdca26"
             ],
             [
              1,
              "#f0f921"
             ]
            ],
            "type": "heatmap"
           }
          ],
          "heatmapgl": [
           {
            "colorbar": {
             "outlinewidth": 0,
             "ticks": ""
            },
            "colorscale": [
             [
              0,
              "#0d0887"
             ],
             [
              0.1111111111111111,
              "#46039f"
             ],
             [
              0.2222222222222222,
              "#7201a8"
             ],
             [
              0.3333333333333333,
              "#9c179e"
             ],
             [
              0.4444444444444444,
              "#bd3786"
             ],
             [
              0.5555555555555556,
              "#d8576b"
             ],
             [
              0.6666666666666666,
              "#ed7953"
             ],
             [
              0.7777777777777778,
              "#fb9f3a"
             ],
             [
              0.8888888888888888,
              "#fdca26"
             ],
             [
              1,
              "#f0f921"
             ]
            ],
            "type": "heatmapgl"
           }
          ],
          "histogram": [
           {
            "marker": {
             "pattern": {
              "fillmode": "overlay",
              "size": 10,
              "solidity": 0.2
             }
            },
            "type": "histogram"
           }
          ],
          "histogram2d": [
           {
            "colorbar": {
             "outlinewidth": 0,
             "ticks": ""
            },
            "colorscale": [
             [
              0,
              "#0d0887"
             ],
             [
              0.1111111111111111,
              "#46039f"
             ],
             [
              0.2222222222222222,
              "#7201a8"
             ],
             [
              0.3333333333333333,
              "#9c179e"
             ],
             [
              0.4444444444444444,
              "#bd3786"
             ],
             [
              0.5555555555555556,
              "#d8576b"
             ],
             [
              0.6666666666666666,
              "#ed7953"
             ],
             [
              0.7777777777777778,
              "#fb9f3a"
             ],
             [
              0.8888888888888888,
              "#fdca26"
             ],
             [
              1,
              "#f0f921"
             ]
            ],
            "type": "histogram2d"
           }
          ],
          "histogram2dcontour": [
           {
            "colorbar": {
             "outlinewidth": 0,
             "ticks": ""
            },
            "colorscale": [
             [
              0,
              "#0d0887"
             ],
             [
              0.1111111111111111,
              "#46039f"
             ],
             [
              0.2222222222222222,
              "#7201a8"
             ],
             [
              0.3333333333333333,
              "#9c179e"
             ],
             [
              0.4444444444444444,
              "#bd3786"
             ],
             [
              0.5555555555555556,
              "#d8576b"
             ],
             [
              0.6666666666666666,
              "#ed7953"
             ],
             [
              0.7777777777777778,
              "#fb9f3a"
             ],
             [
              0.8888888888888888,
              "#fdca26"
             ],
             [
              1,
              "#f0f921"
             ]
            ],
            "type": "histogram2dcontour"
           }
          ],
          "mesh3d": [
           {
            "colorbar": {
             "outlinewidth": 0,
             "ticks": ""
            },
            "type": "mesh3d"
           }
          ],
          "parcoords": [
           {
            "line": {
             "colorbar": {
              "outlinewidth": 0,
              "ticks": ""
             }
            },
            "type": "parcoords"
           }
          ],
          "pie": [
           {
            "automargin": true,
            "type": "pie"
           }
          ],
          "scatter": [
           {
            "marker": {
             "colorbar": {
              "outlinewidth": 0,
              "ticks": ""
             }
            },
            "type": "scatter"
           }
          ],
          "scatter3d": [
           {
            "line": {
             "colorbar": {
              "outlinewidth": 0,
              "ticks": ""
             }
            },
            "marker": {
             "colorbar": {
              "outlinewidth": 0,
              "ticks": ""
             }
            },
            "type": "scatter3d"
           }
          ],
          "scattercarpet": [
           {
            "marker": {
             "colorbar": {
              "outlinewidth": 0,
              "ticks": ""
             }
            },
            "type": "scattercarpet"
           }
          ],
          "scattergeo": [
           {
            "marker": {
             "colorbar": {
              "outlinewidth": 0,
              "ticks": ""
             }
            },
            "type": "scattergeo"
           }
          ],
          "scattergl": [
           {
            "marker": {
             "colorbar": {
              "outlinewidth": 0,
              "ticks": ""
             }
            },
            "type": "scattergl"
           }
          ],
          "scattermapbox": [
           {
            "marker": {
             "colorbar": {
              "outlinewidth": 0,
              "ticks": ""
             }
            },
            "type": "scattermapbox"
           }
          ],
          "scatterpolar": [
           {
            "marker": {
             "colorbar": {
              "outlinewidth": 0,
              "ticks": ""
             }
            },
            "type": "scatterpolar"
           }
          ],
          "scatterpolargl": [
           {
            "marker": {
             "colorbar": {
              "outlinewidth": 0,
              "ticks": ""
             }
            },
            "type": "scatterpolargl"
           }
          ],
          "scatterternary": [
           {
            "marker": {
             "colorbar": {
              "outlinewidth": 0,
              "ticks": ""
             }
            },
            "type": "scatterternary"
           }
          ],
          "surface": [
           {
            "colorbar": {
             "outlinewidth": 0,
             "ticks": ""
            },
            "colorscale": [
             [
              0,
              "#0d0887"
             ],
             [
              0.1111111111111111,
              "#46039f"
             ],
             [
              0.2222222222222222,
              "#7201a8"
             ],
             [
              0.3333333333333333,
              "#9c179e"
             ],
             [
              0.4444444444444444,
              "#bd3786"
             ],
             [
              0.5555555555555556,
              "#d8576b"
             ],
             [
              0.6666666666666666,
              "#ed7953"
             ],
             [
              0.7777777777777778,
              "#fb9f3a"
             ],
             [
              0.8888888888888888,
              "#fdca26"
             ],
             [
              1,
              "#f0f921"
             ]
            ],
            "type": "surface"
           }
          ],
          "table": [
           {
            "cells": {
             "fill": {
              "color": "#EBF0F8"
             },
             "line": {
              "color": "white"
             }
            },
            "header": {
             "fill": {
              "color": "#C8D4E3"
             },
             "line": {
              "color": "white"
             }
            },
            "type": "table"
           }
          ]
         },
         "layout": {
          "annotationdefaults": {
           "arrowcolor": "#2a3f5f",
           "arrowhead": 0,
           "arrowwidth": 1
          },
          "autotypenumbers": "strict",
          "coloraxis": {
           "colorbar": {
            "outlinewidth": 0,
            "ticks": ""
           }
          },
          "colorscale": {
           "diverging": [
            [
             0,
             "#8e0152"
            ],
            [
             0.1,
             "#c51b7d"
            ],
            [
             0.2,
             "#de77ae"
            ],
            [
             0.3,
             "#f1b6da"
            ],
            [
             0.4,
             "#fde0ef"
            ],
            [
             0.5,
             "#f7f7f7"
            ],
            [
             0.6,
             "#e6f5d0"
            ],
            [
             0.7,
             "#b8e186"
            ],
            [
             0.8,
             "#7fbc41"
            ],
            [
             0.9,
             "#4d9221"
            ],
            [
             1,
             "#276419"
            ]
           ],
           "sequential": [
            [
             0,
             "#0d0887"
            ],
            [
             0.1111111111111111,
             "#46039f"
            ],
            [
             0.2222222222222222,
             "#7201a8"
            ],
            [
             0.3333333333333333,
             "#9c179e"
            ],
            [
             0.4444444444444444,
             "#bd3786"
            ],
            [
             0.5555555555555556,
             "#d8576b"
            ],
            [
             0.6666666666666666,
             "#ed7953"
            ],
            [
             0.7777777777777778,
             "#fb9f3a"
            ],
            [
             0.8888888888888888,
             "#fdca26"
            ],
            [
             1,
             "#f0f921"
            ]
           ],
           "sequentialminus": [
            [
             0,
             "#0d0887"
            ],
            [
             0.1111111111111111,
             "#46039f"
            ],
            [
             0.2222222222222222,
             "#7201a8"
            ],
            [
             0.3333333333333333,
             "#9c179e"
            ],
            [
             0.4444444444444444,
             "#bd3786"
            ],
            [
             0.5555555555555556,
             "#d8576b"
            ],
            [
             0.6666666666666666,
             "#ed7953"
            ],
            [
             0.7777777777777778,
             "#fb9f3a"
            ],
            [
             0.8888888888888888,
             "#fdca26"
            ],
            [
             1,
             "#f0f921"
            ]
           ]
          },
          "colorway": [
           "#636efa",
           "#EF553B",
           "#00cc96",
           "#ab63fa",
           "#FFA15A",
           "#19d3f3",
           "#FF6692",
           "#B6E880",
           "#FF97FF",
           "#FECB52"
          ],
          "font": {
           "color": "#2a3f5f"
          },
          "geo": {
           "bgcolor": "white",
           "lakecolor": "white",
           "landcolor": "#E5ECF6",
           "showlakes": true,
           "showland": true,
           "subunitcolor": "white"
          },
          "hoverlabel": {
           "align": "left"
          },
          "hovermode": "closest",
          "mapbox": {
           "style": "light"
          },
          "paper_bgcolor": "white",
          "plot_bgcolor": "#E5ECF6",
          "polar": {
           "angularaxis": {
            "gridcolor": "white",
            "linecolor": "white",
            "ticks": ""
           },
           "bgcolor": "#E5ECF6",
           "radialaxis": {
            "gridcolor": "white",
            "linecolor": "white",
            "ticks": ""
           }
          },
          "scene": {
           "xaxis": {
            "backgroundcolor": "#E5ECF6",
            "gridcolor": "white",
            "gridwidth": 2,
            "linecolor": "white",
            "showbackground": true,
            "ticks": "",
            "zerolinecolor": "white"
           },
           "yaxis": {
            "backgroundcolor": "#E5ECF6",
            "gridcolor": "white",
            "gridwidth": 2,
            "linecolor": "white",
            "showbackground": true,
            "ticks": "",
            "zerolinecolor": "white"
           },
           "zaxis": {
            "backgroundcolor": "#E5ECF6",
            "gridcolor": "white",
            "gridwidth": 2,
            "linecolor": "white",
            "showbackground": true,
            "ticks": "",
            "zerolinecolor": "white"
           }
          },
          "shapedefaults": {
           "line": {
            "color": "#2a3f5f"
           }
          },
          "ternary": {
           "aaxis": {
            "gridcolor": "white",
            "linecolor": "white",
            "ticks": ""
           },
           "baxis": {
            "gridcolor": "white",
            "linecolor": "white",
            "ticks": ""
           },
           "bgcolor": "#E5ECF6",
           "caxis": {
            "gridcolor": "white",
            "linecolor": "white",
            "ticks": ""
           }
          },
          "title": {
           "x": 0.05
          },
          "xaxis": {
           "automargin": true,
           "gridcolor": "white",
           "linecolor": "white",
           "ticks": "",
           "title": {
            "standoff": 15
           },
           "zerolinecolor": "white",
           "zerolinewidth": 2
          },
          "yaxis": {
           "automargin": true,
           "gridcolor": "white",
           "linecolor": "white",
           "ticks": "",
           "title": {
            "standoff": 15
           },
           "zerolinecolor": "white",
           "zerolinewidth": 2
          }
         }
        },
        "title": {
         "text": "LabDoc 5"
        },
        "width": 900,
        "xaxis": {
         "anchor": "y",
         "domain": [
          0,
          1
         ],
         "range": [
          -0.05,
          1.05
         ],
         "title": {
          "text": "eqc_5_val"
         }
        },
        "yaxis": {
         "anchor": "x",
         "domain": [
          0,
          1
         ],
         "range": [
          -0.05,
          1.05
         ],
         "title": {
          "text": "coec_5_val"
         }
        }
       }
      }
     },
     "metadata": {},
     "output_type": "display_data"
    },
    {
     "data": {
      "application/vnd.plotly.v1+json": {
       "config": {
        "plotlyServerURL": "https://plot.ly",
        "scrollZoom": false
       },
       "data": [
        {
         "alignmentgroup": "True",
         "boxpoints": "all",
         "customdata": [
          [
           "Plutôt sommative",
           "Moyen",
           "Moyen",
           0.09,
           0.06,
           0.04,
           0.06,
           0.42,
           0.4
          ]
         ],
         "fillcolor": "rgba(255,255,255,0)",
         "hoveron": "points",
         "hovertemplate": "<b>%{hovertext}</b><br><br>id_teacher=1<br>eqc_6_val=%{x}<br>coec_6_val=%{y}<br>st_6=%{customdata[0]}<br>eqc_6_lev=%{customdata[1]}<br>coec_6_lev=%{customdata[2]}<br>rmsd_eqc=%{customdata[3]}<br>rmsd_sr_eqc=%{customdata[4]}<br>rmsd_coec=%{customdata[5]}<br>rmsd_sr_coec=%{customdata[6]}<br>radius_sr_6=%{customdata[7]}<br>radius_6=%{customdata[8]}<extra></extra>",
         "hovertext": [
          1
         ],
         "legendgroup": "1",
         "line": {
          "color": "rgba(255,255,255,0)"
         },
         "marker": {
          "color": "#636efa",
          "size": 10
         },
         "name": "1",
         "offsetgroup": "1",
         "orientation": "v",
         "pointpos": 0,
         "showlegend": true,
         "type": "box",
         "x": [
          0.6
         ],
         "x0": " ",
         "xaxis": "x",
         "y": [
          0.6
         ],
         "y0": " ",
         "yaxis": "y"
        },
        {
         "alignmentgroup": "True",
         "boxpoints": "all",
         "customdata": [
          [
           "Entre sommative et intégrative",
           "Fort",
           "Moyen",
           0.07,
           0.06,
           0.02,
           0.06,
           0.22,
           0.01
          ]
         ],
         "fillcolor": "rgba(255,255,255,0)",
         "hoveron": "points",
         "hovertemplate": "<b>%{hovertext}</b><br><br>id_teacher=2<br>eqc_6_val=%{x}<br>coec_6_val=%{y}<br>st_6=%{customdata[0]}<br>eqc_6_lev=%{customdata[1]}<br>coec_6_lev=%{customdata[2]}<br>rmsd_eqc=%{customdata[3]}<br>rmsd_sr_eqc=%{customdata[4]}<br>rmsd_coec=%{customdata[5]}<br>rmsd_sr_coec=%{customdata[6]}<br>radius_sr_6=%{customdata[7]}<br>radius_6=%{customdata[8]}<extra></extra>",
         "hovertext": [
          2
         ],
         "legendgroup": "2",
         "line": {
          "color": "rgba(255,255,255,0)"
         },
         "marker": {
          "color": "#EF553B",
          "size": 10
         },
         "name": "2",
         "offsetgroup": "2",
         "orientation": "v",
         "pointpos": 0,
         "showlegend": true,
         "type": "box",
         "x": [
          1
         ],
         "x0": " ",
         "xaxis": "x",
         "y": [
          0.5
         ],
         "y0": " ",
         "yaxis": "y"
        },
        {
         "alignmentgroup": "True",
         "boxpoints": "all",
         "customdata": [
          [
           "Entre sommative et intégrative",
           "Fort",
           "Moyen",
           0.03,
           0.02,
           0.06,
           0.15,
           0.41,
           0.19
          ]
         ],
         "fillcolor": "rgba(255,255,255,0)",
         "hoveron": "points",
         "hovertemplate": "<b>%{hovertext}</b><br><br>id_teacher=3<br>eqc_6_val=%{x}<br>coec_6_val=%{y}<br>st_6=%{customdata[0]}<br>eqc_6_lev=%{customdata[1]}<br>coec_6_lev=%{customdata[2]}<br>rmsd_eqc=%{customdata[3]}<br>rmsd_sr_eqc=%{customdata[4]}<br>rmsd_coec=%{customdata[5]}<br>rmsd_sr_coec=%{customdata[6]}<br>radius_sr_6=%{customdata[7]}<br>radius_6=%{customdata[8]}<extra></extra>",
         "hovertext": [
          3
         ],
         "legendgroup": "3",
         "line": {
          "color": "rgba(255,255,255,0)"
         },
         "marker": {
          "color": "#00cc96",
          "size": 10
         },
         "name": "3",
         "offsetgroup": "3",
         "orientation": "v",
         "pointpos": 0,
         "showlegend": true,
         "type": "box",
         "x": [
          1
         ],
         "x0": " ",
         "xaxis": "x",
         "y": [
          0.7
         ],
         "y0": " ",
         "yaxis": "y"
        },
        {
         "alignmentgroup": "True",
         "boxpoints": "all",
         "customdata": [
          [
           "Plutôt sommative",
           "Fort",
           "Faible",
           0.05,
           0.03,
           0.02,
           0.04,
           0.1,
           0.26
          ]
         ],
         "fillcolor": "rgba(255,255,255,0)",
         "hoveron": "points",
         "hovertemplate": "<b>%{hovertext}</b><br><br>id_teacher=4<br>eqc_6_val=%{x}<br>coec_6_val=%{y}<br>st_6=%{customdata[0]}<br>eqc_6_lev=%{customdata[1]}<br>coec_6_lev=%{customdata[2]}<br>rmsd_eqc=%{customdata[3]}<br>rmsd_sr_eqc=%{customdata[4]}<br>rmsd_coec=%{customdata[5]}<br>rmsd_sr_coec=%{customdata[6]}<br>radius_sr_6=%{customdata[7]}<br>radius_6=%{customdata[8]}<extra></extra>",
         "hovertext": [
          4
         ],
         "legendgroup": "4",
         "line": {
          "color": "rgba(255,255,255,0)"
         },
         "marker": {
          "color": "#ab63fa",
          "size": 10
         },
         "name": "4",
         "offsetgroup": "4",
         "orientation": "v",
         "pointpos": 0,
         "showlegend": true,
         "type": "box",
         "x": [
          0.8
         ],
         "x0": " ",
         "xaxis": "x",
         "y": [
          0.33
         ],
         "y0": " ",
         "yaxis": "y"
        },
        {
         "alignmentgroup": "True",
         "boxpoints": "all",
         "customdata": [
          [
           "Plutôt sommative",
           "Fort",
           "Moyen",
           0.05,
           0.07,
           0.04,
           0.1,
           0.41,
           0.19
          ]
         ],
         "fillcolor": "rgba(255,255,255,0)",
         "hoveron": "points",
         "hovertemplate": "<b>%{hovertext}</b><br><br>id_teacher=5<br>eqc_6_val=%{x}<br>coec_6_val=%{y}<br>st_6=%{customdata[0]}<br>eqc_6_lev=%{customdata[1]}<br>coec_6_lev=%{customdata[2]}<br>rmsd_eqc=%{customdata[3]}<br>rmsd_sr_eqc=%{customdata[4]}<br>rmsd_coec=%{customdata[5]}<br>rmsd_sr_coec=%{customdata[6]}<br>radius_sr_6=%{customdata[7]}<br>radius_6=%{customdata[8]}<extra></extra>",
         "hovertext": [
          5
         ],
         "legendgroup": "5",
         "line": {
          "color": "rgba(255,255,255,0)"
         },
         "marker": {
          "color": "#FFA15A",
          "size": 10
         },
         "name": "5",
         "offsetgroup": "5",
         "orientation": "v",
         "pointpos": 0,
         "showlegend": true,
         "type": "box",
         "x": [
          1
         ],
         "x0": " ",
         "xaxis": "x",
         "y": [
          0.7
         ],
         "y0": " ",
         "yaxis": "y"
        },
        {
         "alignmentgroup": "True",
         "boxpoints": "all",
         "customdata": [
          [
           "Plutôt sommative",
           "Fort",
           "Faible",
           0.03,
           0.03,
           0.03,
           0.03,
           0.11,
           0.31
          ]
         ],
         "fillcolor": "rgba(255,255,255,0)",
         "hoveron": "points",
         "hovertemplate": "<b>%{hovertext}</b><br><br>id_teacher=6<br>eqc_6_val=%{x}<br>coec_6_val=%{y}<br>st_6=%{customdata[0]}<br>eqc_6_lev=%{customdata[1]}<br>coec_6_lev=%{customdata[2]}<br>rmsd_eqc=%{customdata[3]}<br>rmsd_sr_eqc=%{customdata[4]}<br>rmsd_coec=%{customdata[5]}<br>rmsd_sr_coec=%{customdata[6]}<br>radius_sr_6=%{customdata[7]}<br>radius_6=%{customdata[8]}<extra></extra>",
         "hovertext": [
          6
         ],
         "legendgroup": "6",
         "line": {
          "color": "rgba(255,255,255,0)"
         },
         "marker": {
          "color": "#19d3f3",
          "size": 10
         },
         "name": "6",
         "offsetgroup": "6",
         "orientation": "v",
         "pointpos": 0,
         "showlegend": true,
         "type": "box",
         "x": [
          0.95
         ],
         "x0": " ",
         "xaxis": "x",
         "y": [
          0.2
         ],
         "y0": " ",
         "yaxis": "y"
        },
        {
         "alignmentgroup": "True",
         "boxpoints": "all",
         "customdata": [
          [
           "Entre sommative et intégrative",
           "Fort",
           "Faible",
           0.08,
           0.08,
           0.06,
           0.08,
           0.11,
           0.26
          ]
         ],
         "fillcolor": "rgba(255,255,255,0)",
         "hoveron": "points",
         "hovertemplate": "<b>%{hovertext}</b><br><br>id_teacher=7<br>eqc_6_val=%{x}<br>coec_6_val=%{y}<br>st_6=%{customdata[0]}<br>eqc_6_lev=%{customdata[1]}<br>coec_6_lev=%{customdata[2]}<br>rmsd_eqc=%{customdata[3]}<br>rmsd_sr_eqc=%{customdata[4]}<br>rmsd_coec=%{customdata[5]}<br>rmsd_sr_coec=%{customdata[6]}<br>radius_sr_6=%{customdata[7]}<br>radius_6=%{customdata[8]}<extra></extra>",
         "hovertext": [
          7
         ],
         "legendgroup": "7",
         "line": {
          "color": "rgba(255,255,255,0)"
         },
         "marker": {
          "color": "#FF6692",
          "size": 10
         },
         "name": "7",
         "offsetgroup": "7",
         "orientation": "v",
         "pointpos": 0,
         "showlegend": true,
         "type": "box",
         "x": [
          1
         ],
         "x0": " ",
         "xaxis": "x",
         "y": [
          0.25
         ],
         "y0": " ",
         "yaxis": "y"
        },
        {
         "alignmentgroup": "True",
         "boxpoints": "all",
         "customdata": [
          [
           "Plutôt sommative",
           "Fort",
           "Faible",
           0.06,
           0.03,
           0.04,
           0.02,
           0.22,
           0.41
          ]
         ],
         "fillcolor": "rgba(255,255,255,0)",
         "hoveron": "points",
         "hovertemplate": "<b>%{hovertext}</b><br><br>id_teacher=8<br>eqc_6_val=%{x}<br>coec_6_val=%{y}<br>st_6=%{customdata[0]}<br>eqc_6_lev=%{customdata[1]}<br>coec_6_lev=%{customdata[2]}<br>rmsd_eqc=%{customdata[3]}<br>rmsd_sr_eqc=%{customdata[4]}<br>rmsd_coec=%{customdata[5]}<br>rmsd_sr_coec=%{customdata[6]}<br>radius_sr_6=%{customdata[7]}<br>radius_6=%{customdata[8]}<extra></extra>",
         "hovertext": [
          8
         ],
         "legendgroup": "8",
         "line": {
          "color": "rgba(255,255,255,0)"
         },
         "marker": {
          "color": "#B6E880",
          "size": 10
         },
         "name": "8",
         "offsetgroup": "8",
         "orientation": "v",
         "pointpos": 0,
         "showlegend": true,
         "type": "box",
         "x": [
          1
         ],
         "x0": " ",
         "xaxis": "x",
         "y": [
          0.1
         ],
         "y0": " ",
         "yaxis": "y"
        },
        {
         "alignmentgroup": "True",
         "boxpoints": "all",
         "customdata": [
          [
           "Plutôt sommative",
           "Fort",
           "Faible",
           0.16,
           0.08,
           0.05,
           0.04,
           0.44,
           0.49
          ]
         ],
         "fillcolor": "rgba(255,255,255,0)",
         "hoveron": "points",
         "hovertemplate": "<b>%{hovertext}</b><br><br>id_teacher=9<br>eqc_6_val=%{x}<br>coec_6_val=%{y}<br>st_6=%{customdata[0]}<br>eqc_6_lev=%{customdata[1]}<br>coec_6_lev=%{customdata[2]}<br>rmsd_eqc=%{customdata[3]}<br>rmsd_sr_eqc=%{customdata[4]}<br>rmsd_coec=%{customdata[5]}<br>rmsd_sr_coec=%{customdata[6]}<br>radius_sr_6=%{customdata[7]}<br>radius_6=%{customdata[8]}<extra></extra>",
         "hovertext": [
          9
         ],
         "legendgroup": "9",
         "line": {
          "color": "rgba(255,255,255,0)"
         },
         "marker": {
          "color": "#FF97FF",
          "size": 10
         },
         "name": "9",
         "offsetgroup": "9",
         "orientation": "v",
         "pointpos": 0,
         "showlegend": true,
         "type": "box",
         "x": [
          0.5
         ],
         "x0": " ",
         "xaxis": "x",
         "y": [
          0.49
         ],
         "y0": " ",
         "yaxis": "y"
        },
        {
         "alignmentgroup": "True",
         "boxpoints": "all",
         "customdata": [
          [
           "Entre sommative et intégrative",
           "Fort",
           "Moyen",
           0.05,
           0.03,
           0.05,
           0.09,
           0.22,
           0.01
          ]
         ],
         "fillcolor": "rgba(255,255,255,0)",
         "hoveron": "points",
         "hovertemplate": "<b>%{hovertext}</b><br><br>id_teacher=10<br>eqc_6_val=%{x}<br>coec_6_val=%{y}<br>st_6=%{customdata[0]}<br>eqc_6_lev=%{customdata[1]}<br>coec_6_lev=%{customdata[2]}<br>rmsd_eqc=%{customdata[3]}<br>rmsd_sr_eqc=%{customdata[4]}<br>rmsd_coec=%{customdata[5]}<br>rmsd_sr_coec=%{customdata[6]}<br>radius_sr_6=%{customdata[7]}<br>radius_6=%{customdata[8]}<extra></extra>",
         "hovertext": [
          10
         ],
         "legendgroup": "10",
         "line": {
          "color": "rgba(255,255,255,0)"
         },
         "marker": {
          "color": "#FECB52",
          "size": 10
         },
         "name": "10",
         "offsetgroup": "10",
         "orientation": "v",
         "pointpos": 0,
         "showlegend": true,
         "type": "box",
         "x": [
          1
         ],
         "x0": " ",
         "xaxis": "x",
         "y": [
          0.5
         ],
         "y0": " ",
         "yaxis": "y"
        },
        {
         "alignmentgroup": "True",
         "boxpoints": "all",
         "customdata": [
          [
           "Plutôt intégrative",
           "Fort",
           "Moyen",
           0.06,
           0.05,
           0.04,
           0.09,
           0.22,
           0.01
          ]
         ],
         "fillcolor": "rgba(255,255,255,0)",
         "hoveron": "points",
         "hovertemplate": "<b>%{hovertext}</b><br><br>id_teacher=11<br>eqc_6_val=%{x}<br>coec_6_val=%{y}<br>st_6=%{customdata[0]}<br>eqc_6_lev=%{customdata[1]}<br>coec_6_lev=%{customdata[2]}<br>rmsd_eqc=%{customdata[3]}<br>rmsd_sr_eqc=%{customdata[4]}<br>rmsd_coec=%{customdata[5]}<br>rmsd_sr_coec=%{customdata[6]}<br>radius_sr_6=%{customdata[7]}<br>radius_6=%{customdata[8]}<extra></extra>",
         "hovertext": [
          11
         ],
         "legendgroup": "11",
         "line": {
          "color": "rgba(255,255,255,0)"
         },
         "marker": {
          "color": "#636efa",
          "size": 10
         },
         "name": "11",
         "offsetgroup": "11",
         "orientation": "v",
         "pointpos": 0,
         "showlegend": true,
         "type": "box",
         "x": [
          1
         ],
         "x0": " ",
         "xaxis": "x",
         "y": [
          0.5
         ],
         "y0": " ",
         "yaxis": "y"
        },
        {
         "alignmentgroup": "True",
         "boxpoints": "all",
         "customdata": [
          [
           "Plutôt sommative",
           "Fort",
           "Faible",
           0.08,
           0.09,
           0.07,
           0.08,
           0.14,
           0.31
          ]
         ],
         "fillcolor": "rgba(255,255,255,0)",
         "hoveron": "points",
         "hovertemplate": "<b>%{hovertext}</b><br><br>id_teacher=12<br>eqc_6_val=%{x}<br>coec_6_val=%{y}<br>st_6=%{customdata[0]}<br>eqc_6_lev=%{customdata[1]}<br>coec_6_lev=%{customdata[2]}<br>rmsd_eqc=%{customdata[3]}<br>rmsd_sr_eqc=%{customdata[4]}<br>rmsd_coec=%{customdata[5]}<br>rmsd_sr_coec=%{customdata[6]}<br>radius_sr_6=%{customdata[7]}<br>radius_6=%{customdata[8]}<extra></extra>",
         "hovertext": [
          12
         ],
         "legendgroup": "12",
         "line": {
          "color": "rgba(255,255,255,0)"
         },
         "marker": {
          "color": "#EF553B",
          "size": 10
         },
         "name": "12",
         "offsetgroup": "12",
         "orientation": "v",
         "pointpos": 0,
         "showlegend": true,
         "type": "box",
         "x": [
          1
         ],
         "x0": " ",
         "xaxis": "x",
         "y": [
          0.2
         ],
         "y0": " ",
         "yaxis": "y"
        },
        {
         "alignmentgroup": "True",
         "boxpoints": "all",
         "customdata": [
          [
           "Plutôt sommative",
           "Fort",
           "Moyen",
           0.04,
           0.04,
           0.05,
           0.12,
           0.22,
           0.01
          ]
         ],
         "fillcolor": "rgba(255,255,255,0)",
         "hoveron": "points",
         "hovertemplate": "<b>%{hovertext}</b><br><br>id_teacher=13<br>eqc_6_val=%{x}<br>coec_6_val=%{y}<br>st_6=%{customdata[0]}<br>eqc_6_lev=%{customdata[1]}<br>coec_6_lev=%{customdata[2]}<br>rmsd_eqc=%{customdata[3]}<br>rmsd_sr_eqc=%{customdata[4]}<br>rmsd_coec=%{customdata[5]}<br>rmsd_sr_coec=%{customdata[6]}<br>radius_sr_6=%{customdata[7]}<br>radius_6=%{customdata[8]}<extra></extra>",
         "hovertext": [
          13
         ],
         "legendgroup": "13",
         "line": {
          "color": "rgba(255,255,255,0)"
         },
         "marker": {
          "color": "#00cc96",
          "size": 10
         },
         "name": "13",
         "offsetgroup": "13",
         "orientation": "v",
         "pointpos": 0,
         "showlegend": true,
         "type": "box",
         "x": [
          1
         ],
         "x0": " ",
         "xaxis": "x",
         "y": [
          0.5
         ],
         "y0": " ",
         "yaxis": "y"
        },
        {
         "alignmentgroup": "True",
         "boxpoints": "all",
         "customdata": [
          [
           "Plutôt intégrative",
           "Fort",
           "Fort",
           0.13,
           0.06,
           0.07,
           0.06,
           0.36,
           0.3
          ]
         ],
         "fillcolor": "rgba(255,255,255,0)",
         "hoveron": "points",
         "hovertemplate": "<b>%{hovertext}</b><br><br>id_teacher=14<br>eqc_6_val=%{x}<br>coec_6_val=%{y}<br>st_6=%{customdata[0]}<br>eqc_6_lev=%{customdata[1]}<br>coec_6_lev=%{customdata[2]}<br>rmsd_eqc=%{customdata[3]}<br>rmsd_sr_eqc=%{customdata[4]}<br>rmsd_coec=%{customdata[5]}<br>rmsd_sr_coec=%{customdata[6]}<br>radius_sr_6=%{customdata[7]}<br>radius_6=%{customdata[8]}<extra></extra>",
         "hovertext": [
          14
         ],
         "legendgroup": "14",
         "line": {
          "color": "rgba(255,255,255,0)"
         },
         "marker": {
          "color": "#ab63fa",
          "size": 10
         },
         "name": "14",
         "offsetgroup": "14",
         "orientation": "v",
         "pointpos": 0,
         "showlegend": true,
         "type": "box",
         "x": [
          0.7
         ],
         "x0": " ",
         "xaxis": "x",
         "y": [
          0.6
         ],
         "y0": " ",
         "yaxis": "y"
        },
        {
         "alignmentgroup": "True",
         "boxpoints": "all",
         "customdata": [
          [
           "Entre sommative et intégrative",
           "Fort",
           "Faible",
           0.06,
           0.05,
           0.05,
           0.08,
           0.1,
           0.21
          ]
         ],
         "fillcolor": "rgba(255,255,255,0)",
         "hoveron": "points",
         "hovertemplate": "<b>%{hovertext}</b><br><br>id_teacher=15<br>eqc_6_val=%{x}<br>coec_6_val=%{y}<br>st_6=%{customdata[0]}<br>eqc_6_lev=%{customdata[1]}<br>coec_6_lev=%{customdata[2]}<br>rmsd_eqc=%{customdata[3]}<br>rmsd_sr_eqc=%{customdata[4]}<br>rmsd_coec=%{customdata[5]}<br>rmsd_sr_coec=%{customdata[6]}<br>radius_sr_6=%{customdata[7]}<br>radius_6=%{customdata[8]}<extra></extra>",
         "hovertext": [
          15
         ],
         "legendgroup": "15",
         "line": {
          "color": "rgba(255,255,255,0)"
         },
         "marker": {
          "color": "#FFA15A",
          "size": 10
         },
         "name": "15",
         "offsetgroup": "15",
         "orientation": "v",
         "pointpos": 0,
         "showlegend": true,
         "type": "box",
         "x": [
          1
         ],
         "x0": " ",
         "xaxis": "x",
         "y": [
          0.3
         ],
         "y0": " ",
         "yaxis": "y"
        },
        {
         "marker": {
          "color": [
           2,
           3
          ],
          "size": [
           30,
           30
          ]
         },
         "mode": "markers",
         "type": "scatter",
         "x": [
          0.9,
          0.99
         ],
         "y": [
          0.299,
          0.508
         ]
        }
       ],
       "layout": {
        "boxmode": "group",
        "height": 700,
        "legend": {
         "title": {
          "text": "id_teacher"
         },
         "tracegroupgap": 0
        },
        "margin": {
         "t": 60
        },
        "shapes": [
         {
          "type": "line",
          "x0": 0,
          "x1": 1,
          "y0": 0,
          "y1": 1
         },
         {
          "type": "line",
          "x0": 0.5,
          "y0": 0.5
         }
        ],
        "template": {
         "data": {
          "bar": [
           {
            "error_x": {
             "color": "#2a3f5f"
            },
            "error_y": {
             "color": "#2a3f5f"
            },
            "marker": {
             "line": {
              "color": "#E5ECF6",
              "width": 0.5
             },
             "pattern": {
              "fillmode": "overlay",
              "size": 10,
              "solidity": 0.2
             }
            },
            "type": "bar"
           }
          ],
          "barpolar": [
           {
            "marker": {
             "line": {
              "color": "#E5ECF6",
              "width": 0.5
             },
             "pattern": {
              "fillmode": "overlay",
              "size": 10,
              "solidity": 0.2
             }
            },
            "type": "barpolar"
           }
          ],
          "carpet": [
           {
            "aaxis": {
             "endlinecolor": "#2a3f5f",
             "gridcolor": "white",
             "linecolor": "white",
             "minorgridcolor": "white",
             "startlinecolor": "#2a3f5f"
            },
            "baxis": {
             "endlinecolor": "#2a3f5f",
             "gridcolor": "white",
             "linecolor": "white",
             "minorgridcolor": "white",
             "startlinecolor": "#2a3f5f"
            },
            "type": "carpet"
           }
          ],
          "choropleth": [
           {
            "colorbar": {
             "outlinewidth": 0,
             "ticks": ""
            },
            "type": "choropleth"
           }
          ],
          "contour": [
           {
            "colorbar": {
             "outlinewidth": 0,
             "ticks": ""
            },
            "colorscale": [
             [
              0,
              "#0d0887"
             ],
             [
              0.1111111111111111,
              "#46039f"
             ],
             [
              0.2222222222222222,
              "#7201a8"
             ],
             [
              0.3333333333333333,
              "#9c179e"
             ],
             [
              0.4444444444444444,
              "#bd3786"
             ],
             [
              0.5555555555555556,
              "#d8576b"
             ],
             [
              0.6666666666666666,
              "#ed7953"
             ],
             [
              0.7777777777777778,
              "#fb9f3a"
             ],
             [
              0.8888888888888888,
              "#fdca26"
             ],
             [
              1,
              "#f0f921"
             ]
            ],
            "type": "contour"
           }
          ],
          "contourcarpet": [
           {
            "colorbar": {
             "outlinewidth": 0,
             "ticks": ""
            },
            "type": "contourcarpet"
           }
          ],
          "heatmap": [
           {
            "colorbar": {
             "outlinewidth": 0,
             "ticks": ""
            },
            "colorscale": [
             [
              0,
              "#0d0887"
             ],
             [
              0.1111111111111111,
              "#46039f"
             ],
             [
              0.2222222222222222,
              "#7201a8"
             ],
             [
              0.3333333333333333,
              "#9c179e"
             ],
             [
              0.4444444444444444,
              "#bd3786"
             ],
             [
              0.5555555555555556,
              "#d8576b"
             ],
             [
              0.6666666666666666,
              "#ed7953"
             ],
             [
              0.7777777777777778,
              "#fb9f3a"
             ],
             [
              0.8888888888888888,
              "#fdca26"
             ],
             [
              1,
              "#f0f921"
             ]
            ],
            "type": "heatmap"
           }
          ],
          "heatmapgl": [
           {
            "colorbar": {
             "outlinewidth": 0,
             "ticks": ""
            },
            "colorscale": [
             [
              0,
              "#0d0887"
             ],
             [
              0.1111111111111111,
              "#46039f"
             ],
             [
              0.2222222222222222,
              "#7201a8"
             ],
             [
              0.3333333333333333,
              "#9c179e"
             ],
             [
              0.4444444444444444,
              "#bd3786"
             ],
             [
              0.5555555555555556,
              "#d8576b"
             ],
             [
              0.6666666666666666,
              "#ed7953"
             ],
             [
              0.7777777777777778,
              "#fb9f3a"
             ],
             [
              0.8888888888888888,
              "#fdca26"
             ],
             [
              1,
              "#f0f921"
             ]
            ],
            "type": "heatmapgl"
           }
          ],
          "histogram": [
           {
            "marker": {
             "pattern": {
              "fillmode": "overlay",
              "size": 10,
              "solidity": 0.2
             }
            },
            "type": "histogram"
           }
          ],
          "histogram2d": [
           {
            "colorbar": {
             "outlinewidth": 0,
             "ticks": ""
            },
            "colorscale": [
             [
              0,
              "#0d0887"
             ],
             [
              0.1111111111111111,
              "#46039f"
             ],
             [
              0.2222222222222222,
              "#7201a8"
             ],
             [
              0.3333333333333333,
              "#9c179e"
             ],
             [
              0.4444444444444444,
              "#bd3786"
             ],
             [
              0.5555555555555556,
              "#d8576b"
             ],
             [
              0.6666666666666666,
              "#ed7953"
             ],
             [
              0.7777777777777778,
              "#fb9f3a"
             ],
             [
              0.8888888888888888,
              "#fdca26"
             ],
             [
              1,
              "#f0f921"
             ]
            ],
            "type": "histogram2d"
           }
          ],
          "histogram2dcontour": [
           {
            "colorbar": {
             "outlinewidth": 0,
             "ticks": ""
            },
            "colorscale": [
             [
              0,
              "#0d0887"
             ],
             [
              0.1111111111111111,
              "#46039f"
             ],
             [
              0.2222222222222222,
              "#7201a8"
             ],
             [
              0.3333333333333333,
              "#9c179e"
             ],
             [
              0.4444444444444444,
              "#bd3786"
             ],
             [
              0.5555555555555556,
              "#d8576b"
             ],
             [
              0.6666666666666666,
              "#ed7953"
             ],
             [
              0.7777777777777778,
              "#fb9f3a"
             ],
             [
              0.8888888888888888,
              "#fdca26"
             ],
             [
              1,
              "#f0f921"
             ]
            ],
            "type": "histogram2dcontour"
           }
          ],
          "mesh3d": [
           {
            "colorbar": {
             "outlinewidth": 0,
             "ticks": ""
            },
            "type": "mesh3d"
           }
          ],
          "parcoords": [
           {
            "line": {
             "colorbar": {
              "outlinewidth": 0,
              "ticks": ""
             }
            },
            "type": "parcoords"
           }
          ],
          "pie": [
           {
            "automargin": true,
            "type": "pie"
           }
          ],
          "scatter": [
           {
            "marker": {
             "colorbar": {
              "outlinewidth": 0,
              "ticks": ""
             }
            },
            "type": "scatter"
           }
          ],
          "scatter3d": [
           {
            "line": {
             "colorbar": {
              "outlinewidth": 0,
              "ticks": ""
             }
            },
            "marker": {
             "colorbar": {
              "outlinewidth": 0,
              "ticks": ""
             }
            },
            "type": "scatter3d"
           }
          ],
          "scattercarpet": [
           {
            "marker": {
             "colorbar": {
              "outlinewidth": 0,
              "ticks": ""
             }
            },
            "type": "scattercarpet"
           }
          ],
          "scattergeo": [
           {
            "marker": {
             "colorbar": {
              "outlinewidth": 0,
              "ticks": ""
             }
            },
            "type": "scattergeo"
           }
          ],
          "scattergl": [
           {
            "marker": {
             "colorbar": {
              "outlinewidth": 0,
              "ticks": ""
             }
            },
            "type": "scattergl"
           }
          ],
          "scattermapbox": [
           {
            "marker": {
             "colorbar": {
              "outlinewidth": 0,
              "ticks": ""
             }
            },
            "type": "scattermapbox"
           }
          ],
          "scatterpolar": [
           {
            "marker": {
             "colorbar": {
              "outlinewidth": 0,
              "ticks": ""
             }
            },
            "type": "scatterpolar"
           }
          ],
          "scatterpolargl": [
           {
            "marker": {
             "colorbar": {
              "outlinewidth": 0,
              "ticks": ""
             }
            },
            "type": "scatterpolargl"
           }
          ],
          "scatterternary": [
           {
            "marker": {
             "colorbar": {
              "outlinewidth": 0,
              "ticks": ""
             }
            },
            "type": "scatterternary"
           }
          ],
          "surface": [
           {
            "colorbar": {
             "outlinewidth": 0,
             "ticks": ""
            },
            "colorscale": [
             [
              0,
              "#0d0887"
             ],
             [
              0.1111111111111111,
              "#46039f"
             ],
             [
              0.2222222222222222,
              "#7201a8"
             ],
             [
              0.3333333333333333,
              "#9c179e"
             ],
             [
              0.4444444444444444,
              "#bd3786"
             ],
             [
              0.5555555555555556,
              "#d8576b"
             ],
             [
              0.6666666666666666,
              "#ed7953"
             ],
             [
              0.7777777777777778,
              "#fb9f3a"
             ],
             [
              0.8888888888888888,
              "#fdca26"
             ],
             [
              1,
              "#f0f921"
             ]
            ],
            "type": "surface"
           }
          ],
          "table": [
           {
            "cells": {
             "fill": {
              "color": "#EBF0F8"
             },
             "line": {
              "color": "white"
             }
            },
            "header": {
             "fill": {
              "color": "#C8D4E3"
             },
             "line": {
              "color": "white"
             }
            },
            "type": "table"
           }
          ]
         },
         "layout": {
          "annotationdefaults": {
           "arrowcolor": "#2a3f5f",
           "arrowhead": 0,
           "arrowwidth": 1
          },
          "autotypenumbers": "strict",
          "coloraxis": {
           "colorbar": {
            "outlinewidth": 0,
            "ticks": ""
           }
          },
          "colorscale": {
           "diverging": [
            [
             0,
             "#8e0152"
            ],
            [
             0.1,
             "#c51b7d"
            ],
            [
             0.2,
             "#de77ae"
            ],
            [
             0.3,
             "#f1b6da"
            ],
            [
             0.4,
             "#fde0ef"
            ],
            [
             0.5,
             "#f7f7f7"
            ],
            [
             0.6,
             "#e6f5d0"
            ],
            [
             0.7,
             "#b8e186"
            ],
            [
             0.8,
             "#7fbc41"
            ],
            [
             0.9,
             "#4d9221"
            ],
            [
             1,
             "#276419"
            ]
           ],
           "sequential": [
            [
             0,
             "#0d0887"
            ],
            [
             0.1111111111111111,
             "#46039f"
            ],
            [
             0.2222222222222222,
             "#7201a8"
            ],
            [
             0.3333333333333333,
             "#9c179e"
            ],
            [
             0.4444444444444444,
             "#bd3786"
            ],
            [
             0.5555555555555556,
             "#d8576b"
            ],
            [
             0.6666666666666666,
             "#ed7953"
            ],
            [
             0.7777777777777778,
             "#fb9f3a"
            ],
            [
             0.8888888888888888,
             "#fdca26"
            ],
            [
             1,
             "#f0f921"
            ]
           ],
           "sequentialminus": [
            [
             0,
             "#0d0887"
            ],
            [
             0.1111111111111111,
             "#46039f"
            ],
            [
             0.2222222222222222,
             "#7201a8"
            ],
            [
             0.3333333333333333,
             "#9c179e"
            ],
            [
             0.4444444444444444,
             "#bd3786"
            ],
            [
             0.5555555555555556,
             "#d8576b"
            ],
            [
             0.6666666666666666,
             "#ed7953"
            ],
            [
             0.7777777777777778,
             "#fb9f3a"
            ],
            [
             0.8888888888888888,
             "#fdca26"
            ],
            [
             1,
             "#f0f921"
            ]
           ]
          },
          "colorway": [
           "#636efa",
           "#EF553B",
           "#00cc96",
           "#ab63fa",
           "#FFA15A",
           "#19d3f3",
           "#FF6692",
           "#B6E880",
           "#FF97FF",
           "#FECB52"
          ],
          "font": {
           "color": "#2a3f5f"
          },
          "geo": {
           "bgcolor": "white",
           "lakecolor": "white",
           "landcolor": "#E5ECF6",
           "showlakes": true,
           "showland": true,
           "subunitcolor": "white"
          },
          "hoverlabel": {
           "align": "left"
          },
          "hovermode": "closest",
          "mapbox": {
           "style": "light"
          },
          "paper_bgcolor": "white",
          "plot_bgcolor": "#E5ECF6",
          "polar": {
           "angularaxis": {
            "gridcolor": "white",
            "linecolor": "white",
            "ticks": ""
           },
           "bgcolor": "#E5ECF6",
           "radialaxis": {
            "gridcolor": "white",
            "linecolor": "white",
            "ticks": ""
           }
          },
          "scene": {
           "xaxis": {
            "backgroundcolor": "#E5ECF6",
            "gridcolor": "white",
            "gridwidth": 2,
            "linecolor": "white",
            "showbackground": true,
            "ticks": "",
            "zerolinecolor": "white"
           },
           "yaxis": {
            "backgroundcolor": "#E5ECF6",
            "gridcolor": "white",
            "gridwidth": 2,
            "linecolor": "white",
            "showbackground": true,
            "ticks": "",
            "zerolinecolor": "white"
           },
           "zaxis": {
            "backgroundcolor": "#E5ECF6",
            "gridcolor": "white",
            "gridwidth": 2,
            "linecolor": "white",
            "showbackground": true,
            "ticks": "",
            "zerolinecolor": "white"
           }
          },
          "shapedefaults": {
           "line": {
            "color": "#2a3f5f"
           }
          },
          "ternary": {
           "aaxis": {
            "gridcolor": "white",
            "linecolor": "white",
            "ticks": ""
           },
           "baxis": {
            "gridcolor": "white",
            "linecolor": "white",
            "ticks": ""
           },
           "bgcolor": "#E5ECF6",
           "caxis": {
            "gridcolor": "white",
            "linecolor": "white",
            "ticks": ""
           }
          },
          "title": {
           "x": 0.05
          },
          "xaxis": {
           "automargin": true,
           "gridcolor": "white",
           "linecolor": "white",
           "ticks": "",
           "title": {
            "standoff": 15
           },
           "zerolinecolor": "white",
           "zerolinewidth": 2
          },
          "yaxis": {
           "automargin": true,
           "gridcolor": "white",
           "linecolor": "white",
           "ticks": "",
           "title": {
            "standoff": 15
           },
           "zerolinecolor": "white",
           "zerolinewidth": 2
          }
         }
        },
        "title": {
         "text": "LabDoc 6"
        },
        "width": 900,
        "xaxis": {
         "anchor": "y",
         "domain": [
          0,
          1
         ],
         "range": [
          -0.05,
          1.05
         ],
         "title": {
          "text": "eqc_6_val"
         }
        },
        "yaxis": {
         "anchor": "x",
         "domain": [
          0,
          1
         ],
         "range": [
          -0.05,
          1.05
         ],
         "title": {
          "text": "coec_6_val"
         }
        }
       }
      }
     },
     "metadata": {},
     "output_type": "display_data"
    },
    {
     "data": {
      "application/vnd.plotly.v1+json": {
       "config": {
        "plotlyServerURL": "https://plot.ly",
        "scrollZoom": false
       },
       "data": [
        {
         "alignmentgroup": "True",
         "boxpoints": "all",
         "customdata": [
          [
           "Entièrement sommative",
           "Faible",
           "Faible",
           0.09,
           0.06,
           0.04,
           0.06,
           0.04,
           0.22
          ]
         ],
         "fillcolor": "rgba(255,255,255,0)",
         "hoveron": "points",
         "hovertemplate": "<b>%{hovertext}</b><br><br>id_teacher=1<br>eqc_7_val=%{x}<br>coec_7_val=%{y}<br>st_7=%{customdata[0]}<br>eqc_7_lev=%{customdata[1]}<br>coec_7_lev=%{customdata[2]}<br>rmsd_eqc=%{customdata[3]}<br>rmsd_sr_eqc=%{customdata[4]}<br>rmsd_coec=%{customdata[5]}<br>rmsd_sr_coec=%{customdata[6]}<br>radius_sr_7=%{customdata[7]}<br>radius_7=%{customdata[8]}<extra></extra>",
         "hovertext": [
          1
         ],
         "legendgroup": "1",
         "line": {
          "color": "rgba(255,255,255,0)"
         },
         "marker": {
          "color": "#636efa",
          "size": 10
         },
         "name": "1",
         "offsetgroup": "1",
         "orientation": "v",
         "pointpos": 0,
         "showlegend": true,
         "type": "box",
         "x": [
          0.3
         ],
         "x0": " ",
         "xaxis": "x",
         "y": [
          0
         ],
         "y0": " ",
         "yaxis": "y"
        },
        {
         "alignmentgroup": "True",
         "boxpoints": "all",
         "customdata": [
          [
           "Entièrement sommative",
           "Faible",
           "Faible",
           0.07,
           0.06,
           0.02,
           0.06,
           0.15,
           0.37
          ]
         ],
         "fillcolor": "rgba(255,255,255,0)",
         "hoveron": "points",
         "hovertemplate": "<b>%{hovertext}</b><br><br>id_teacher=2<br>eqc_7_val=%{x}<br>coec_7_val=%{y}<br>st_7=%{customdata[0]}<br>eqc_7_lev=%{customdata[1]}<br>coec_7_lev=%{customdata[2]}<br>rmsd_eqc=%{customdata[3]}<br>rmsd_sr_eqc=%{customdata[4]}<br>rmsd_coec=%{customdata[5]}<br>rmsd_sr_coec=%{customdata[6]}<br>radius_sr_7=%{customdata[7]}<br>radius_7=%{customdata[8]}<extra></extra>",
         "hovertext": [
          2
         ],
         "legendgroup": "2",
         "line": {
          "color": "rgba(255,255,255,0)"
         },
         "marker": {
          "color": "#EF553B",
          "size": 10
         },
         "name": "2",
         "offsetgroup": "2",
         "orientation": "v",
         "pointpos": 0,
         "showlegend": true,
         "type": "box",
         "x": [
          0.15
         ],
         "x0": " ",
         "xaxis": "x",
         "y": [
          0
         ],
         "y0": " ",
         "yaxis": "y"
        },
        {
         "alignmentgroup": "True",
         "boxpoints": "all",
         "customdata": [
          [
           "Entièrement sommative",
           "Faible",
           "Faible",
           0.03,
           0.02,
           0.06,
           0.15,
           0.04,
           0.22
          ]
         ],
         "fillcolor": "rgba(255,255,255,0)",
         "hoveron": "points",
         "hovertemplate": "<b>%{hovertext}</b><br><br>id_teacher=3<br>eqc_7_val=%{x}<br>coec_7_val=%{y}<br>st_7=%{customdata[0]}<br>eqc_7_lev=%{customdata[1]}<br>coec_7_lev=%{customdata[2]}<br>rmsd_eqc=%{customdata[3]}<br>rmsd_sr_eqc=%{customdata[4]}<br>rmsd_coec=%{customdata[5]}<br>rmsd_sr_coec=%{customdata[6]}<br>radius_sr_7=%{customdata[7]}<br>radius_7=%{customdata[8]}<extra></extra>",
         "hovertext": [
          3
         ],
         "legendgroup": "3",
         "line": {
          "color": "rgba(255,255,255,0)"
         },
         "marker": {
          "color": "#00cc96",
          "size": 10
         },
         "name": "3",
         "offsetgroup": "3",
         "orientation": "v",
         "pointpos": 0,
         "showlegend": true,
         "type": "box",
         "x": [
          0.3
         ],
         "x0": " ",
         "xaxis": "x",
         "y": [
          0
         ],
         "y0": " ",
         "yaxis": "y"
        },
        {
         "alignmentgroup": "True",
         "boxpoints": "all",
         "customdata": [
          [
           "Entièrement sommative",
           "Faible",
           "Faible",
           0.05,
           0.03,
           0.02,
           0.04,
           0.06,
           0.27
          ]
         ],
         "fillcolor": "rgba(255,255,255,0)",
         "hoveron": "points",
         "hovertemplate": "<b>%{hovertext}</b><br><br>id_teacher=4<br>eqc_7_val=%{x}<br>coec_7_val=%{y}<br>st_7=%{customdata[0]}<br>eqc_7_lev=%{customdata[1]}<br>coec_7_lev=%{customdata[2]}<br>rmsd_eqc=%{customdata[3]}<br>rmsd_sr_eqc=%{customdata[4]}<br>rmsd_coec=%{customdata[5]}<br>rmsd_sr_coec=%{customdata[6]}<br>radius_sr_7=%{customdata[7]}<br>radius_7=%{customdata[8]}<extra></extra>",
         "hovertext": [
          4
         ],
         "legendgroup": "4",
         "line": {
          "color": "rgba(255,255,255,0)"
         },
         "marker": {
          "color": "#ab63fa",
          "size": 10
         },
         "name": "4",
         "offsetgroup": "4",
         "orientation": "v",
         "pointpos": 0,
         "showlegend": true,
         "type": "box",
         "x": [
          0.25
         ],
         "x0": " ",
         "xaxis": "x",
         "y": [
          0
         ],
         "y0": " ",
         "yaxis": "y"
        },
        {
         "alignmentgroup": "True",
         "boxpoints": "all",
         "customdata": [
          [
           "Entièrement sommative",
           "Faible",
           "Faible",
           0.05,
           0.07,
           0.04,
           0.1,
           0.2,
           0.42
          ]
         ],
         "fillcolor": "rgba(255,255,255,0)",
         "hoveron": "points",
         "hovertemplate": "<b>%{hovertext}</b><br><br>id_teacher=5<br>eqc_7_val=%{x}<br>coec_7_val=%{y}<br>st_7=%{customdata[0]}<br>eqc_7_lev=%{customdata[1]}<br>coec_7_lev=%{customdata[2]}<br>rmsd_eqc=%{customdata[3]}<br>rmsd_sr_eqc=%{customdata[4]}<br>rmsd_coec=%{customdata[5]}<br>rmsd_sr_coec=%{customdata[6]}<br>radius_sr_7=%{customdata[7]}<br>radius_7=%{customdata[8]}<extra></extra>",
         "hovertext": [
          5
         ],
         "legendgroup": "5",
         "line": {
          "color": "rgba(255,255,255,0)"
         },
         "marker": {
          "color": "#FFA15A",
          "size": 10
         },
         "name": "5",
         "offsetgroup": "5",
         "orientation": "v",
         "pointpos": 0,
         "showlegend": true,
         "type": "box",
         "x": [
          0.1
         ],
         "x0": " ",
         "xaxis": "x",
         "y": [
          0
         ],
         "y0": " ",
         "yaxis": "y"
        },
        {
         "alignmentgroup": "True",
         "boxpoints": "all",
         "customdata": [
          [
           "Entièrement sommative",
           "Faible",
           "Faible",
           0.03,
           0.03,
           0.03,
           0.03,
           0.04,
           0.22
          ]
         ],
         "fillcolor": "rgba(255,255,255,0)",
         "hoveron": "points",
         "hovertemplate": "<b>%{hovertext}</b><br><br>id_teacher=6<br>eqc_7_val=%{x}<br>coec_7_val=%{y}<br>st_7=%{customdata[0]}<br>eqc_7_lev=%{customdata[1]}<br>coec_7_lev=%{customdata[2]}<br>rmsd_eqc=%{customdata[3]}<br>rmsd_sr_eqc=%{customdata[4]}<br>rmsd_coec=%{customdata[5]}<br>rmsd_sr_coec=%{customdata[6]}<br>radius_sr_7=%{customdata[7]}<br>radius_7=%{customdata[8]}<extra></extra>",
         "hovertext": [
          6
         ],
         "legendgroup": "6",
         "line": {
          "color": "rgba(255,255,255,0)"
         },
         "marker": {
          "color": "#19d3f3",
          "size": 10
         },
         "name": "6",
         "offsetgroup": "6",
         "orientation": "v",
         "pointpos": 0,
         "showlegend": true,
         "type": "box",
         "x": [
          0.3
         ],
         "x0": " ",
         "xaxis": "x",
         "y": [
          0
         ],
         "y0": " ",
         "yaxis": "y"
        },
        {
         "alignmentgroup": "True",
         "boxpoints": "all",
         "customdata": [
          [
           "Entièrement sommative",
           "Faible",
           "Faible",
           0.08,
           0.08,
           0.06,
           0.08,
           0.06,
           0.27
          ]
         ],
         "fillcolor": "rgba(255,255,255,0)",
         "hoveron": "points",
         "hovertemplate": "<b>%{hovertext}</b><br><br>id_teacher=7<br>eqc_7_val=%{x}<br>coec_7_val=%{y}<br>st_7=%{customdata[0]}<br>eqc_7_lev=%{customdata[1]}<br>coec_7_lev=%{customdata[2]}<br>rmsd_eqc=%{customdata[3]}<br>rmsd_sr_eqc=%{customdata[4]}<br>rmsd_coec=%{customdata[5]}<br>rmsd_sr_coec=%{customdata[6]}<br>radius_sr_7=%{customdata[7]}<br>radius_7=%{customdata[8]}<extra></extra>",
         "hovertext": [
          7
         ],
         "legendgroup": "7",
         "line": {
          "color": "rgba(255,255,255,0)"
         },
         "marker": {
          "color": "#FF6692",
          "size": 10
         },
         "name": "7",
         "offsetgroup": "7",
         "orientation": "v",
         "pointpos": 0,
         "showlegend": true,
         "type": "box",
         "x": [
          0.25
         ],
         "x0": " ",
         "xaxis": "x",
         "y": [
          0
         ],
         "y0": " ",
         "yaxis": "y"
        },
        {
         "alignmentgroup": "True",
         "boxpoints": "all",
         "customdata": [
          [
           "Entièrement sommative",
           "Faible",
           "Faible",
           0.06,
           0.03,
           0.04,
           0.02,
           0.11,
           0.32
          ]
         ],
         "fillcolor": "rgba(255,255,255,0)",
         "hoveron": "points",
         "hovertemplate": "<b>%{hovertext}</b><br><br>id_teacher=8<br>eqc_7_val=%{x}<br>coec_7_val=%{y}<br>st_7=%{customdata[0]}<br>eqc_7_lev=%{customdata[1]}<br>coec_7_lev=%{customdata[2]}<br>rmsd_eqc=%{customdata[3]}<br>rmsd_sr_eqc=%{customdata[4]}<br>rmsd_coec=%{customdata[5]}<br>rmsd_sr_coec=%{customdata[6]}<br>radius_sr_7=%{customdata[7]}<br>radius_7=%{customdata[8]}<extra></extra>",
         "hovertext": [
          8
         ],
         "legendgroup": "8",
         "line": {
          "color": "rgba(255,255,255,0)"
         },
         "marker": {
          "color": "#B6E880",
          "size": 10
         },
         "name": "8",
         "offsetgroup": "8",
         "orientation": "v",
         "pointpos": 0,
         "showlegend": true,
         "type": "box",
         "x": [
          0.2
         ],
         "x0": " ",
         "xaxis": "x",
         "y": [
          0
         ],
         "y0": " ",
         "yaxis": "y"
        },
        {
         "alignmentgroup": "True",
         "boxpoints": "all",
         "customdata": [
          [
           "Entièrement intégrative",
           "Moyen",
           "Moyen",
           0.16,
           0.08,
           0.05,
           0.04,
           0.26,
           0.3
          ]
         ],
         "fillcolor": "rgba(255,255,255,0)",
         "hoveron": "points",
         "hovertemplate": "<b>%{hovertext}</b><br><br>id_teacher=9<br>eqc_7_val=%{x}<br>coec_7_val=%{y}<br>st_7=%{customdata[0]}<br>eqc_7_lev=%{customdata[1]}<br>coec_7_lev=%{customdata[2]}<br>rmsd_eqc=%{customdata[3]}<br>rmsd_sr_eqc=%{customdata[4]}<br>rmsd_coec=%{customdata[5]}<br>rmsd_sr_coec=%{customdata[6]}<br>radius_sr_7=%{customdata[7]}<br>radius_7=%{customdata[8]}<extra></extra>",
         "hovertext": [
          9
         ],
         "legendgroup": "9",
         "line": {
          "color": "rgba(255,255,255,0)"
         },
         "marker": {
          "color": "#FF97FF",
          "size": 10
         },
         "name": "9",
         "offsetgroup": "9",
         "orientation": "v",
         "pointpos": 0,
         "showlegend": true,
         "type": "box",
         "x": [
          0.3
         ],
         "x0": " ",
         "xaxis": "x",
         "y": [
          0.29
         ],
         "y0": " ",
         "yaxis": "y"
        },
        {
         "alignmentgroup": "True",
         "boxpoints": "all",
         "customdata": [
          [
           "Entièrement sommative",
           "Moyen",
           "Faible",
           0.05,
           0.03,
           0.05,
           0.09,
           0.2,
           0.07
          ]
         ],
         "fillcolor": "rgba(255,255,255,0)",
         "hoveron": "points",
         "hovertemplate": "<b>%{hovertext}</b><br><br>id_teacher=10<br>eqc_7_val=%{x}<br>coec_7_val=%{y}<br>st_7=%{customdata[0]}<br>eqc_7_lev=%{customdata[1]}<br>coec_7_lev=%{customdata[2]}<br>rmsd_eqc=%{customdata[3]}<br>rmsd_sr_eqc=%{customdata[4]}<br>rmsd_coec=%{customdata[5]}<br>rmsd_sr_coec=%{customdata[6]}<br>radius_sr_7=%{customdata[7]}<br>radius_7=%{customdata[8]}<extra></extra>",
         "hovertext": [
          10
         ],
         "legendgroup": "10",
         "line": {
          "color": "rgba(255,255,255,0)"
         },
         "marker": {
          "color": "#FECB52",
          "size": 10
         },
         "name": "10",
         "offsetgroup": "10",
         "orientation": "v",
         "pointpos": 0,
         "showlegend": true,
         "type": "box",
         "x": [
          0.5
         ],
         "x0": " ",
         "xaxis": "x",
         "y": [
          0
         ],
         "y0": " ",
         "yaxis": "y"
        },
        {
         "alignmentgroup": "True",
         "boxpoints": "all",
         "customdata": [
          [
           "Entièrement intégrative",
           "Faible",
           "Faible",
           0.06,
           0.05,
           0.04,
           0.09,
           0.11,
           0.32
          ]
         ],
         "fillcolor": "rgba(255,255,255,0)",
         "hoveron": "points",
         "hovertemplate": "<b>%{hovertext}</b><br><br>id_teacher=11<br>eqc_7_val=%{x}<br>coec_7_val=%{y}<br>st_7=%{customdata[0]}<br>eqc_7_lev=%{customdata[1]}<br>coec_7_lev=%{customdata[2]}<br>rmsd_eqc=%{customdata[3]}<br>rmsd_sr_eqc=%{customdata[4]}<br>rmsd_coec=%{customdata[5]}<br>rmsd_sr_coec=%{customdata[6]}<br>radius_sr_7=%{customdata[7]}<br>radius_7=%{customdata[8]}<extra></extra>",
         "hovertext": [
          11
         ],
         "legendgroup": "11",
         "line": {
          "color": "rgba(255,255,255,0)"
         },
         "marker": {
          "color": "#636efa",
          "size": 10
         },
         "name": "11",
         "offsetgroup": "11",
         "orientation": "v",
         "pointpos": 0,
         "showlegend": true,
         "type": "box",
         "x": [
          0.2
         ],
         "x0": " ",
         "xaxis": "x",
         "y": [
          0
         ],
         "y0": " ",
         "yaxis": "y"
        },
        {
         "alignmentgroup": "True",
         "boxpoints": "all",
         "customdata": [
          [
           "Entièrement sommative",
           "Faible",
           "Faible",
           0.08,
           0.09,
           0.07,
           0.08,
           0.11,
           0.32
          ]
         ],
         "fillcolor": "rgba(255,255,255,0)",
         "hoveron": "points",
         "hovertemplate": "<b>%{hovertext}</b><br><br>id_teacher=12<br>eqc_7_val=%{x}<br>coec_7_val=%{y}<br>st_7=%{customdata[0]}<br>eqc_7_lev=%{customdata[1]}<br>coec_7_lev=%{customdata[2]}<br>rmsd_eqc=%{customdata[3]}<br>rmsd_sr_eqc=%{customdata[4]}<br>rmsd_coec=%{customdata[5]}<br>rmsd_sr_coec=%{customdata[6]}<br>radius_sr_7=%{customdata[7]}<br>radius_7=%{customdata[8]}<extra></extra>",
         "hovertext": [
          12
         ],
         "legendgroup": "12",
         "line": {
          "color": "rgba(255,255,255,0)"
         },
         "marker": {
          "color": "#EF553B",
          "size": 10
         },
         "name": "12",
         "offsetgroup": "12",
         "orientation": "v",
         "pointpos": 0,
         "showlegend": true,
         "type": "box",
         "x": [
          0.2
         ],
         "x0": " ",
         "xaxis": "x",
         "y": [
          0
         ],
         "y0": " ",
         "yaxis": "y"
        },
        {
         "alignmentgroup": "True",
         "boxpoints": "all",
         "customdata": [
          [
           "Entièrement sommative",
           "Faible",
           "Faible",
           0.04,
           0.04,
           0.05,
           0.12,
           0.2,
           0.42
          ]
         ],
         "fillcolor": "rgba(255,255,255,0)",
         "hoveron": "points",
         "hovertemplate": "<b>%{hovertext}</b><br><br>id_teacher=13<br>eqc_7_val=%{x}<br>coec_7_val=%{y}<br>st_7=%{customdata[0]}<br>eqc_7_lev=%{customdata[1]}<br>coec_7_lev=%{customdata[2]}<br>rmsd_eqc=%{customdata[3]}<br>rmsd_sr_eqc=%{customdata[4]}<br>rmsd_coec=%{customdata[5]}<br>rmsd_sr_coec=%{customdata[6]}<br>radius_sr_7=%{customdata[7]}<br>radius_7=%{customdata[8]}<extra></extra>",
         "hovertext": [
          13
         ],
         "legendgroup": "13",
         "line": {
          "color": "rgba(255,255,255,0)"
         },
         "marker": {
          "color": "#00cc96",
          "size": 10
         },
         "name": "13",
         "offsetgroup": "13",
         "orientation": "v",
         "pointpos": 0,
         "showlegend": true,
         "type": "box",
         "x": [
          0.1
         ],
         "x0": " ",
         "xaxis": "x",
         "y": [
          0
         ],
         "y0": " ",
         "yaxis": "y"
        },
        {
         "alignmentgroup": "True",
         "boxpoints": "all",
         "customdata": [
          [
           "Plutôt sommative",
           "Faible",
           "Faible",
           0.13,
           0.06,
           0.07,
           0.06,
           0.12,
           0.31
          ]
         ],
         "fillcolor": "rgba(255,255,255,0)",
         "hoveron": "points",
         "hovertemplate": "<b>%{hovertext}</b><br><br>id_teacher=14<br>eqc_7_val=%{x}<br>coec_7_val=%{y}<br>st_7=%{customdata[0]}<br>eqc_7_lev=%{customdata[1]}<br>coec_7_lev=%{customdata[2]}<br>rmsd_eqc=%{customdata[3]}<br>rmsd_sr_eqc=%{customdata[4]}<br>rmsd_coec=%{customdata[5]}<br>rmsd_sr_coec=%{customdata[6]}<br>radius_sr_7=%{customdata[7]}<br>radius_7=%{customdata[8]}<extra></extra>",
         "hovertext": [
          14
         ],
         "legendgroup": "14",
         "line": {
          "color": "rgba(255,255,255,0)"
         },
         "marker": {
          "color": "#ab63fa",
          "size": 10
         },
         "name": "14",
         "offsetgroup": "14",
         "orientation": "v",
         "pointpos": 0,
         "showlegend": true,
         "type": "box",
         "x": [
          0.2
         ],
         "x0": " ",
         "xaxis": "x",
         "y": [
          0.1
         ],
         "y0": " ",
         "yaxis": "y"
        },
        {
         "alignmentgroup": "True",
         "boxpoints": "all",
         "customdata": [
          [
           "Entièrement sommative",
           "Faible",
           "Faible",
           0.06,
           0.05,
           0.05,
           0.08,
           0.2,
           0.42
          ]
         ],
         "fillcolor": "rgba(255,255,255,0)",
         "hoveron": "points",
         "hovertemplate": "<b>%{hovertext}</b><br><br>id_teacher=15<br>eqc_7_val=%{x}<br>coec_7_val=%{y}<br>st_7=%{customdata[0]}<br>eqc_7_lev=%{customdata[1]}<br>coec_7_lev=%{customdata[2]}<br>rmsd_eqc=%{customdata[3]}<br>rmsd_sr_eqc=%{customdata[4]}<br>rmsd_coec=%{customdata[5]}<br>rmsd_sr_coec=%{customdata[6]}<br>radius_sr_7=%{customdata[7]}<br>radius_7=%{customdata[8]}<extra></extra>",
         "hovertext": [
          15
         ],
         "legendgroup": "15",
         "line": {
          "color": "rgba(255,255,255,0)"
         },
         "marker": {
          "color": "#FFA15A",
          "size": 10
         },
         "name": "15",
         "offsetgroup": "15",
         "orientation": "v",
         "pointpos": 0,
         "showlegend": true,
         "type": "box",
         "x": [
          0.1
         ],
         "x0": " ",
         "xaxis": "x",
         "y": [
          0
         ],
         "y0": " ",
         "yaxis": "y"
        },
        {
         "marker": {
          "color": [
           2,
           3
          ],
          "size": [
           30,
           30
          ]
         },
         "mode": "markers",
         "type": "scatter",
         "x": [
          0.3,
          0.51
         ],
         "y": [
          0.035,
          0.07
         ]
        }
       ],
       "layout": {
        "boxmode": "group",
        "height": 700,
        "legend": {
         "title": {
          "text": "id_teacher"
         },
         "tracegroupgap": 0
        },
        "margin": {
         "t": 60
        },
        "shapes": [
         {
          "type": "line",
          "x0": 0,
          "x1": 1,
          "y0": 0,
          "y1": 1
         },
         {
          "type": "line",
          "x0": 0.5,
          "y0": 0.5
         }
        ],
        "template": {
         "data": {
          "bar": [
           {
            "error_x": {
             "color": "#2a3f5f"
            },
            "error_y": {
             "color": "#2a3f5f"
            },
            "marker": {
             "line": {
              "color": "#E5ECF6",
              "width": 0.5
             },
             "pattern": {
              "fillmode": "overlay",
              "size": 10,
              "solidity": 0.2
             }
            },
            "type": "bar"
           }
          ],
          "barpolar": [
           {
            "marker": {
             "line": {
              "color": "#E5ECF6",
              "width": 0.5
             },
             "pattern": {
              "fillmode": "overlay",
              "size": 10,
              "solidity": 0.2
             }
            },
            "type": "barpolar"
           }
          ],
          "carpet": [
           {
            "aaxis": {
             "endlinecolor": "#2a3f5f",
             "gridcolor": "white",
             "linecolor": "white",
             "minorgridcolor": "white",
             "startlinecolor": "#2a3f5f"
            },
            "baxis": {
             "endlinecolor": "#2a3f5f",
             "gridcolor": "white",
             "linecolor": "white",
             "minorgridcolor": "white",
             "startlinecolor": "#2a3f5f"
            },
            "type": "carpet"
           }
          ],
          "choropleth": [
           {
            "colorbar": {
             "outlinewidth": 0,
             "ticks": ""
            },
            "type": "choropleth"
           }
          ],
          "contour": [
           {
            "colorbar": {
             "outlinewidth": 0,
             "ticks": ""
            },
            "colorscale": [
             [
              0,
              "#0d0887"
             ],
             [
              0.1111111111111111,
              "#46039f"
             ],
             [
              0.2222222222222222,
              "#7201a8"
             ],
             [
              0.3333333333333333,
              "#9c179e"
             ],
             [
              0.4444444444444444,
              "#bd3786"
             ],
             [
              0.5555555555555556,
              "#d8576b"
             ],
             [
              0.6666666666666666,
              "#ed7953"
             ],
             [
              0.7777777777777778,
              "#fb9f3a"
             ],
             [
              0.8888888888888888,
              "#fdca26"
             ],
             [
              1,
              "#f0f921"
             ]
            ],
            "type": "contour"
           }
          ],
          "contourcarpet": [
           {
            "colorbar": {
             "outlinewidth": 0,
             "ticks": ""
            },
            "type": "contourcarpet"
           }
          ],
          "heatmap": [
           {
            "colorbar": {
             "outlinewidth": 0,
             "ticks": ""
            },
            "colorscale": [
             [
              0,
              "#0d0887"
             ],
             [
              0.1111111111111111,
              "#46039f"
             ],
             [
              0.2222222222222222,
              "#7201a8"
             ],
             [
              0.3333333333333333,
              "#9c179e"
             ],
             [
              0.4444444444444444,
              "#bd3786"
             ],
             [
              0.5555555555555556,
              "#d8576b"
             ],
             [
              0.6666666666666666,
              "#ed7953"
             ],
             [
              0.7777777777777778,
              "#fb9f3a"
             ],
             [
              0.8888888888888888,
              "#fdca26"
             ],
             [
              1,
              "#f0f921"
             ]
            ],
            "type": "heatmap"
           }
          ],
          "heatmapgl": [
           {
            "colorbar": {
             "outlinewidth": 0,
             "ticks": ""
            },
            "colorscale": [
             [
              0,
              "#0d0887"
             ],
             [
              0.1111111111111111,
              "#46039f"
             ],
             [
              0.2222222222222222,
              "#7201a8"
             ],
             [
              0.3333333333333333,
              "#9c179e"
             ],
             [
              0.4444444444444444,
              "#bd3786"
             ],
             [
              0.5555555555555556,
              "#d8576b"
             ],
             [
              0.6666666666666666,
              "#ed7953"
             ],
             [
              0.7777777777777778,
              "#fb9f3a"
             ],
             [
              0.8888888888888888,
              "#fdca26"
             ],
             [
              1,
              "#f0f921"
             ]
            ],
            "type": "heatmapgl"
           }
          ],
          "histogram": [
           {
            "marker": {
             "pattern": {
              "fillmode": "overlay",
              "size": 10,
              "solidity": 0.2
             }
            },
            "type": "histogram"
           }
          ],
          "histogram2d": [
           {
            "colorbar": {
             "outlinewidth": 0,
             "ticks": ""
            },
            "colorscale": [
             [
              0,
              "#0d0887"
             ],
             [
              0.1111111111111111,
              "#46039f"
             ],
             [
              0.2222222222222222,
              "#7201a8"
             ],
             [
              0.3333333333333333,
              "#9c179e"
             ],
             [
              0.4444444444444444,
              "#bd3786"
             ],
             [
              0.5555555555555556,
              "#d8576b"
             ],
             [
              0.6666666666666666,
              "#ed7953"
             ],
             [
              0.7777777777777778,
              "#fb9f3a"
             ],
             [
              0.8888888888888888,
              "#fdca26"
             ],
             [
              1,
              "#f0f921"
             ]
            ],
            "type": "histogram2d"
           }
          ],
          "histogram2dcontour": [
           {
            "colorbar": {
             "outlinewidth": 0,
             "ticks": ""
            },
            "colorscale": [
             [
              0,
              "#0d0887"
             ],
             [
              0.1111111111111111,
              "#46039f"
             ],
             [
              0.2222222222222222,
              "#7201a8"
             ],
             [
              0.3333333333333333,
              "#9c179e"
             ],
             [
              0.4444444444444444,
              "#bd3786"
             ],
             [
              0.5555555555555556,
              "#d8576b"
             ],
             [
              0.6666666666666666,
              "#ed7953"
             ],
             [
              0.7777777777777778,
              "#fb9f3a"
             ],
             [
              0.8888888888888888,
              "#fdca26"
             ],
             [
              1,
              "#f0f921"
             ]
            ],
            "type": "histogram2dcontour"
           }
          ],
          "mesh3d": [
           {
            "colorbar": {
             "outlinewidth": 0,
             "ticks": ""
            },
            "type": "mesh3d"
           }
          ],
          "parcoords": [
           {
            "line": {
             "colorbar": {
              "outlinewidth": 0,
              "ticks": ""
             }
            },
            "type": "parcoords"
           }
          ],
          "pie": [
           {
            "automargin": true,
            "type": "pie"
           }
          ],
          "scatter": [
           {
            "marker": {
             "colorbar": {
              "outlinewidth": 0,
              "ticks": ""
             }
            },
            "type": "scatter"
           }
          ],
          "scatter3d": [
           {
            "line": {
             "colorbar": {
              "outlinewidth": 0,
              "ticks": ""
             }
            },
            "marker": {
             "colorbar": {
              "outlinewidth": 0,
              "ticks": ""
             }
            },
            "type": "scatter3d"
           }
          ],
          "scattercarpet": [
           {
            "marker": {
             "colorbar": {
              "outlinewidth": 0,
              "ticks": ""
             }
            },
            "type": "scattercarpet"
           }
          ],
          "scattergeo": [
           {
            "marker": {
             "colorbar": {
              "outlinewidth": 0,
              "ticks": ""
             }
            },
            "type": "scattergeo"
           }
          ],
          "scattergl": [
           {
            "marker": {
             "colorbar": {
              "outlinewidth": 0,
              "ticks": ""
             }
            },
            "type": "scattergl"
           }
          ],
          "scattermapbox": [
           {
            "marker": {
             "colorbar": {
              "outlinewidth": 0,
              "ticks": ""
             }
            },
            "type": "scattermapbox"
           }
          ],
          "scatterpolar": [
           {
            "marker": {
             "colorbar": {
              "outlinewidth": 0,
              "ticks": ""
             }
            },
            "type": "scatterpolar"
           }
          ],
          "scatterpolargl": [
           {
            "marker": {
             "colorbar": {
              "outlinewidth": 0,
              "ticks": ""
             }
            },
            "type": "scatterpolargl"
           }
          ],
          "scatterternary": [
           {
            "marker": {
             "colorbar": {
              "outlinewidth": 0,
              "ticks": ""
             }
            },
            "type": "scatterternary"
           }
          ],
          "surface": [
           {
            "colorbar": {
             "outlinewidth": 0,
             "ticks": ""
            },
            "colorscale": [
             [
              0,
              "#0d0887"
             ],
             [
              0.1111111111111111,
              "#46039f"
             ],
             [
              0.2222222222222222,
              "#7201a8"
             ],
             [
              0.3333333333333333,
              "#9c179e"
             ],
             [
              0.4444444444444444,
              "#bd3786"
             ],
             [
              0.5555555555555556,
              "#d8576b"
             ],
             [
              0.6666666666666666,
              "#ed7953"
             ],
             [
              0.7777777777777778,
              "#fb9f3a"
             ],
             [
              0.8888888888888888,
              "#fdca26"
             ],
             [
              1,
              "#f0f921"
             ]
            ],
            "type": "surface"
           }
          ],
          "table": [
           {
            "cells": {
             "fill": {
              "color": "#EBF0F8"
             },
             "line": {
              "color": "white"
             }
            },
            "header": {
             "fill": {
              "color": "#C8D4E3"
             },
             "line": {
              "color": "white"
             }
            },
            "type": "table"
           }
          ]
         },
         "layout": {
          "annotationdefaults": {
           "arrowcolor": "#2a3f5f",
           "arrowhead": 0,
           "arrowwidth": 1
          },
          "autotypenumbers": "strict",
          "coloraxis": {
           "colorbar": {
            "outlinewidth": 0,
            "ticks": ""
           }
          },
          "colorscale": {
           "diverging": [
            [
             0,
             "#8e0152"
            ],
            [
             0.1,
             "#c51b7d"
            ],
            [
             0.2,
             "#de77ae"
            ],
            [
             0.3,
             "#f1b6da"
            ],
            [
             0.4,
             "#fde0ef"
            ],
            [
             0.5,
             "#f7f7f7"
            ],
            [
             0.6,
             "#e6f5d0"
            ],
            [
             0.7,
             "#b8e186"
            ],
            [
             0.8,
             "#7fbc41"
            ],
            [
             0.9,
             "#4d9221"
            ],
            [
             1,
             "#276419"
            ]
           ],
           "sequential": [
            [
             0,
             "#0d0887"
            ],
            [
             0.1111111111111111,
             "#46039f"
            ],
            [
             0.2222222222222222,
             "#7201a8"
            ],
            [
             0.3333333333333333,
             "#9c179e"
            ],
            [
             0.4444444444444444,
             "#bd3786"
            ],
            [
             0.5555555555555556,
             "#d8576b"
            ],
            [
             0.6666666666666666,
             "#ed7953"
            ],
            [
             0.7777777777777778,
             "#fb9f3a"
            ],
            [
             0.8888888888888888,
             "#fdca26"
            ],
            [
             1,
             "#f0f921"
            ]
           ],
           "sequentialminus": [
            [
             0,
             "#0d0887"
            ],
            [
             0.1111111111111111,
             "#46039f"
            ],
            [
             0.2222222222222222,
             "#7201a8"
            ],
            [
             0.3333333333333333,
             "#9c179e"
            ],
            [
             0.4444444444444444,
             "#bd3786"
            ],
            [
             0.5555555555555556,
             "#d8576b"
            ],
            [
             0.6666666666666666,
             "#ed7953"
            ],
            [
             0.7777777777777778,
             "#fb9f3a"
            ],
            [
             0.8888888888888888,
             "#fdca26"
            ],
            [
             1,
             "#f0f921"
            ]
           ]
          },
          "colorway": [
           "#636efa",
           "#EF553B",
           "#00cc96",
           "#ab63fa",
           "#FFA15A",
           "#19d3f3",
           "#FF6692",
           "#B6E880",
           "#FF97FF",
           "#FECB52"
          ],
          "font": {
           "color": "#2a3f5f"
          },
          "geo": {
           "bgcolor": "white",
           "lakecolor": "white",
           "landcolor": "#E5ECF6",
           "showlakes": true,
           "showland": true,
           "subunitcolor": "white"
          },
          "hoverlabel": {
           "align": "left"
          },
          "hovermode": "closest",
          "mapbox": {
           "style": "light"
          },
          "paper_bgcolor": "white",
          "plot_bgcolor": "#E5ECF6",
          "polar": {
           "angularaxis": {
            "gridcolor": "white",
            "linecolor": "white",
            "ticks": ""
           },
           "bgcolor": "#E5ECF6",
           "radialaxis": {
            "gridcolor": "white",
            "linecolor": "white",
            "ticks": ""
           }
          },
          "scene": {
           "xaxis": {
            "backgroundcolor": "#E5ECF6",
            "gridcolor": "white",
            "gridwidth": 2,
            "linecolor": "white",
            "showbackground": true,
            "ticks": "",
            "zerolinecolor": "white"
           },
           "yaxis": {
            "backgroundcolor": "#E5ECF6",
            "gridcolor": "white",
            "gridwidth": 2,
            "linecolor": "white",
            "showbackground": true,
            "ticks": "",
            "zerolinecolor": "white"
           },
           "zaxis": {
            "backgroundcolor": "#E5ECF6",
            "gridcolor": "white",
            "gridwidth": 2,
            "linecolor": "white",
            "showbackground": true,
            "ticks": "",
            "zerolinecolor": "white"
           }
          },
          "shapedefaults": {
           "line": {
            "color": "#2a3f5f"
           }
          },
          "ternary": {
           "aaxis": {
            "gridcolor": "white",
            "linecolor": "white",
            "ticks": ""
           },
           "baxis": {
            "gridcolor": "white",
            "linecolor": "white",
            "ticks": ""
           },
           "bgcolor": "#E5ECF6",
           "caxis": {
            "gridcolor": "white",
            "linecolor": "white",
            "ticks": ""
           }
          },
          "title": {
           "x": 0.05
          },
          "xaxis": {
           "automargin": true,
           "gridcolor": "white",
           "linecolor": "white",
           "ticks": "",
           "title": {
            "standoff": 15
           },
           "zerolinecolor": "white",
           "zerolinewidth": 2
          },
          "yaxis": {
           "automargin": true,
           "gridcolor": "white",
           "linecolor": "white",
           "ticks": "",
           "title": {
            "standoff": 15
           },
           "zerolinecolor": "white",
           "zerolinewidth": 2
          }
         }
        },
        "title": {
         "text": "LabDoc 7"
        },
        "width": 900,
        "xaxis": {
         "anchor": "y",
         "domain": [
          0,
          1
         ],
         "range": [
          -0.05,
          1.05
         ],
         "title": {
          "text": "eqc_7_val"
         }
        },
        "yaxis": {
         "anchor": "x",
         "domain": [
          0,
          1
         ],
         "range": [
          -0.05,
          1.05
         ],
         "title": {
          "text": "coec_7_val"
         }
        }
       }
      }
     },
     "metadata": {},
     "output_type": "display_data"
    },
    {
     "data": {
      "application/vnd.plotly.v1+json": {
       "config": {
        "plotlyServerURL": "https://plot.ly",
        "scrollZoom": false
       },
       "data": [
        {
         "alignmentgroup": "True",
         "boxpoints": "all",
         "customdata": [
          [
           "Plutôt intégrative",
           "Moyen",
           "Moyen",
           0.09,
           0.06,
           0.04,
           0.06,
           0.22,
           0.45
          ]
         ],
         "fillcolor": "rgba(255,255,255,0)",
         "hoveron": "points",
         "hovertemplate": "<b>%{hovertext}</b><br><br>id_teacher=1<br>eqc_8_val=%{x}<br>coec_8_val=%{y}<br>st_8=%{customdata[0]}<br>eqc_8_lev=%{customdata[1]}<br>coec_8_lev=%{customdata[2]}<br>rmsd_eqc=%{customdata[3]}<br>rmsd_sr_eqc=%{customdata[4]}<br>rmsd_coec=%{customdata[5]}<br>rmsd_sr_coec=%{customdata[6]}<br>radius_sr_8=%{customdata[7]}<br>radius_8=%{customdata[8]}<extra></extra>",
         "hovertext": [
          1
         ],
         "legendgroup": "1",
         "line": {
          "color": "rgba(255,255,255,0)"
         },
         "marker": {
          "color": "#636efa",
          "size": 10
         },
         "name": "1",
         "offsetgroup": "1",
         "orientation": "v",
         "pointpos": 0,
         "showlegend": true,
         "type": "box",
         "x": [
          0.7
         ],
         "x0": " ",
         "xaxis": "x",
         "y": [
          0.4
         ],
         "y0": " ",
         "yaxis": "y"
        },
        {
         "alignmentgroup": "True",
         "boxpoints": "all",
         "customdata": [
          [
           "Plutôt intégrative",
           "Moyen",
           "Fort",
           0.07,
           0.06,
           0.02,
           0.06,
           0.45,
           0.49
          ]
         ],
         "fillcolor": "rgba(255,255,255,0)",
         "hoveron": "points",
         "hovertemplate": "<b>%{hovertext}</b><br><br>id_teacher=2<br>eqc_8_val=%{x}<br>coec_8_val=%{y}<br>st_8=%{customdata[0]}<br>eqc_8_lev=%{customdata[1]}<br>coec_8_lev=%{customdata[2]}<br>rmsd_eqc=%{customdata[3]}<br>rmsd_sr_eqc=%{customdata[4]}<br>rmsd_coec=%{customdata[5]}<br>rmsd_sr_coec=%{customdata[6]}<br>radius_sr_8=%{customdata[7]}<br>radius_8=%{customdata[8]}<extra></extra>",
         "hovertext": [
          2
         ],
         "legendgroup": "2",
         "line": {
          "color": "rgba(255,255,255,0)"
         },
         "marker": {
          "color": "#EF553B",
          "size": 10
         },
         "name": "2",
         "offsetgroup": "2",
         "orientation": "v",
         "pointpos": 0,
         "showlegend": true,
         "type": "box",
         "x": [
          0.5
         ],
         "x0": " ",
         "xaxis": "x",
         "y": [
          0.7
         ],
         "y0": " ",
         "yaxis": "y"
        },
        {
         "alignmentgroup": "True",
         "boxpoints": "all",
         "customdata": [
          [
           "Entre sommative et intégrative",
           "Fort",
           "Fort",
           0.03,
           0.02,
           0.06,
           0.15,
           0.31,
           0.11
          ]
         ],
         "fillcolor": "rgba(255,255,255,0)",
         "hoveron": "points",
         "hovertemplate": "<b>%{hovertext}</b><br><br>id_teacher=3<br>eqc_8_val=%{x}<br>coec_8_val=%{y}<br>st_8=%{customdata[0]}<br>eqc_8_lev=%{customdata[1]}<br>coec_8_lev=%{customdata[2]}<br>rmsd_eqc=%{customdata[3]}<br>rmsd_sr_eqc=%{customdata[4]}<br>rmsd_coec=%{customdata[5]}<br>rmsd_sr_coec=%{customdata[6]}<br>radius_sr_8=%{customdata[7]}<br>radius_8=%{customdata[8]}<extra></extra>",
         "hovertext": [
          3
         ],
         "legendgroup": "3",
         "line": {
          "color": "rgba(255,255,255,0)"
         },
         "marker": {
          "color": "#00cc96",
          "size": 10
         },
         "name": "3",
         "offsetgroup": "3",
         "orientation": "v",
         "pointpos": 0,
         "showlegend": true,
         "type": "box",
         "x": [
          0.9
         ],
         "x0": " ",
         "xaxis": "x",
         "y": [
          0.8
         ],
         "y0": " ",
         "yaxis": "y"
        },
        {
         "alignmentgroup": "True",
         "boxpoints": "all",
         "customdata": [
          [
           "Entre sommative et intégrative",
           "Moyen",
           "Fort",
           0.05,
           0.03,
           0.02,
           0.04,
           0.23,
           0.25
          ]
         ],
         "fillcolor": "rgba(255,255,255,0)",
         "hoveron": "points",
         "hovertemplate": "<b>%{hovertext}</b><br><br>id_teacher=4<br>eqc_8_val=%{x}<br>coec_8_val=%{y}<br>st_8=%{customdata[0]}<br>eqc_8_lev=%{customdata[1]}<br>coec_8_lev=%{customdata[2]}<br>rmsd_eqc=%{customdata[3]}<br>rmsd_sr_eqc=%{customdata[4]}<br>rmsd_coec=%{customdata[5]}<br>rmsd_sr_coec=%{customdata[6]}<br>radius_sr_8=%{customdata[7]}<br>radius_8=%{customdata[8]}<extra></extra>",
         "hovertext": [
          4
         ],
         "legendgroup": "4",
         "line": {
          "color": "rgba(255,255,255,0)"
         },
         "marker": {
          "color": "#ab63fa",
          "size": 10
         },
         "name": "4",
         "offsetgroup": "4",
         "orientation": "v",
         "pointpos": 0,
         "showlegend": true,
         "type": "box",
         "x": [
          0.75
         ],
         "x0": " ",
         "xaxis": "x",
         "y": [
          0.67
         ],
         "y0": " ",
         "yaxis": "y"
        },
        {
         "alignmentgroup": "True",
         "boxpoints": "all",
         "customdata": [
          [
           "Entièrement intégrative",
           "Fort",
           "Fort",
           0.05,
           0.07,
           0.04,
           0.1,
           0.21,
           0.1
          ]
         ],
         "fillcolor": "rgba(255,255,255,0)",
         "hoveron": "points",
         "hovertemplate": "<b>%{hovertext}</b><br><br>id_teacher=5<br>eqc_8_val=%{x}<br>coec_8_val=%{y}<br>st_8=%{customdata[0]}<br>eqc_8_lev=%{customdata[1]}<br>coec_8_lev=%{customdata[2]}<br>rmsd_eqc=%{customdata[3]}<br>rmsd_sr_eqc=%{customdata[4]}<br>rmsd_coec=%{customdata[5]}<br>rmsd_sr_coec=%{customdata[6]}<br>radius_sr_8=%{customdata[7]}<br>radius_8=%{customdata[8]}<extra></extra>",
         "hovertext": [
          5
         ],
         "legendgroup": "5",
         "line": {
          "color": "rgba(255,255,255,0)"
         },
         "marker": {
          "color": "#FFA15A",
          "size": 10
         },
         "name": "5",
         "offsetgroup": "5",
         "orientation": "v",
         "pointpos": 0,
         "showlegend": true,
         "type": "box",
         "x": [
          0.9
         ],
         "x0": " ",
         "xaxis": "x",
         "y": [
          0.7
         ],
         "y0": " ",
         "yaxis": "y"
        },
        {
         "alignmentgroup": "True",
         "boxpoints": "all",
         "customdata": [
          [
           "Plutôt intégrative",
           "Fort",
           "Moyen",
           0.03,
           0.03,
           0.03,
           0.03,
           0.15,
           0.24
          ]
         ],
         "fillcolor": "rgba(255,255,255,0)",
         "hoveron": "points",
         "hovertemplate": "<b>%{hovertext}</b><br><br>id_teacher=6<br>eqc_8_val=%{x}<br>coec_8_val=%{y}<br>st_8=%{customdata[0]}<br>eqc_8_lev=%{customdata[1]}<br>coec_8_lev=%{customdata[2]}<br>rmsd_eqc=%{customdata[3]}<br>rmsd_sr_eqc=%{customdata[4]}<br>rmsd_coec=%{customdata[5]}<br>rmsd_sr_coec=%{customdata[6]}<br>radius_sr_8=%{customdata[7]}<br>radius_8=%{customdata[8]}<extra></extra>",
         "hovertext": [
          6
         ],
         "legendgroup": "6",
         "line": {
          "color": "rgba(255,255,255,0)"
         },
         "marker": {
          "color": "#19d3f3",
          "size": 10
         },
         "name": "6",
         "offsetgroup": "6",
         "orientation": "v",
         "pointpos": 0,
         "showlegend": true,
         "type": "box",
         "x": [
          0.8
         ],
         "x0": " ",
         "xaxis": "x",
         "y": [
          0.6
         ],
         "y0": " ",
         "yaxis": "y"
        },
        {
         "alignmentgroup": "True",
         "boxpoints": "all",
         "customdata": [
          [
           "Entièrement intégrative",
           "Moyen",
           "Moyen",
           0.08,
           0.08,
           0.06,
           0.08,
           0.1,
           0.31
          ]
         ],
         "fillcolor": "rgba(255,255,255,0)",
         "hoveron": "points",
         "hovertemplate": "<b>%{hovertext}</b><br><br>id_teacher=7<br>eqc_8_val=%{x}<br>coec_8_val=%{y}<br>st_8=%{customdata[0]}<br>eqc_8_lev=%{customdata[1]}<br>coec_8_lev=%{customdata[2]}<br>rmsd_eqc=%{customdata[3]}<br>rmsd_sr_eqc=%{customdata[4]}<br>rmsd_coec=%{customdata[5]}<br>rmsd_sr_coec=%{customdata[6]}<br>radius_sr_8=%{customdata[7]}<br>radius_8=%{customdata[8]}<extra></extra>",
         "hovertext": [
          7
         ],
         "legendgroup": "7",
         "line": {
          "color": "rgba(255,255,255,0)"
         },
         "marker": {
          "color": "#FF6692",
          "size": 10
         },
         "name": "7",
         "offsetgroup": "7",
         "orientation": "v",
         "pointpos": 0,
         "showlegend": true,
         "type": "box",
         "x": [
          0.8
         ],
         "x0": " ",
         "xaxis": "x",
         "y": [
          0.5
         ],
         "y0": " ",
         "yaxis": "y"
        },
        {
         "alignmentgroup": "True",
         "boxpoints": "all",
         "customdata": [
          [
           "Plutôt intégrative",
           "Moyen",
           "Moyen",
           0.06,
           0.03,
           0.04,
           0.02,
           0.3,
           0.46
          ]
         ],
         "fillcolor": "rgba(255,255,255,0)",
         "hoveron": "points",
         "hovertemplate": "<b>%{hovertext}</b><br><br>id_teacher=8<br>eqc_8_val=%{x}<br>coec_8_val=%{y}<br>st_8=%{customdata[0]}<br>eqc_8_lev=%{customdata[1]}<br>coec_8_lev=%{customdata[2]}<br>rmsd_eqc=%{customdata[3]}<br>rmsd_sr_eqc=%{customdata[4]}<br>rmsd_coec=%{customdata[5]}<br>rmsd_sr_coec=%{customdata[6]}<br>radius_sr_8=%{customdata[7]}<br>radius_8=%{customdata[8]}<extra></extra>",
         "hovertext": [
          8
         ],
         "legendgroup": "8",
         "line": {
          "color": "rgba(255,255,255,0)"
         },
         "marker": {
          "color": "#B6E880",
          "size": 10
         },
         "name": "8",
         "offsetgroup": "8",
         "orientation": "v",
         "pointpos": 0,
         "showlegend": true,
         "type": "box",
         "x": [
          0.6
         ],
         "x0": " ",
         "xaxis": "x",
         "y": [
          0.5
         ],
         "y0": " ",
         "yaxis": "y"
        },
        {
         "alignmentgroup": "True",
         "boxpoints": "all",
         "customdata": [
          [
           "Plutôt intégrative",
           "Fort",
           "Moyen",
           0.16,
           0.08,
           0.05,
           0.04,
           0.52,
           0.71
          ]
         ],
         "fillcolor": "rgba(255,255,255,0)",
         "hoveron": "points",
         "hovertemplate": "<b>%{hovertext}</b><br><br>id_teacher=9<br>eqc_8_val=%{x}<br>coec_8_val=%{y}<br>st_8=%{customdata[0]}<br>eqc_8_lev=%{customdata[1]}<br>coec_8_lev=%{customdata[2]}<br>rmsd_eqc=%{customdata[3]}<br>rmsd_sr_eqc=%{customdata[4]}<br>rmsd_coec=%{customdata[5]}<br>rmsd_sr_coec=%{customdata[6]}<br>radius_sr_8=%{customdata[7]}<br>radius_8=%{customdata[8]}<extra></extra>",
         "hovertext": [
          9
         ],
         "legendgroup": "9",
         "line": {
          "color": "rgba(255,255,255,0)"
         },
         "marker": {
          "color": "#FF97FF",
          "size": 10
         },
         "name": "9",
         "offsetgroup": "9",
         "orientation": "v",
         "pointpos": 0,
         "showlegend": true,
         "type": "box",
         "x": [
          0.4
         ],
         "x0": " ",
         "xaxis": "x",
         "y": [
          0.35
         ],
         "y0": " ",
         "yaxis": "y"
        },
        {
         "alignmentgroup": "True",
         "boxpoints": "all",
         "customdata": [
          [
           "Plutôt intégrative",
           "Fort",
           "Fort",
           0.05,
           0.03,
           0.05,
           0.09,
           0.31,
           0.11
          ]
         ],
         "fillcolor": "rgba(255,255,255,0)",
         "hoveron": "points",
         "hovertemplate": "<b>%{hovertext}</b><br><br>id_teacher=10<br>eqc_8_val=%{x}<br>coec_8_val=%{y}<br>st_8=%{customdata[0]}<br>eqc_8_lev=%{customdata[1]}<br>coec_8_lev=%{customdata[2]}<br>rmsd_eqc=%{customdata[3]}<br>rmsd_sr_eqc=%{customdata[4]}<br>rmsd_coec=%{customdata[5]}<br>rmsd_sr_coec=%{customdata[6]}<br>radius_sr_8=%{customdata[7]}<br>radius_8=%{customdata[8]}<extra></extra>",
         "hovertext": [
          10
         ],
         "legendgroup": "10",
         "line": {
          "color": "rgba(255,255,255,0)"
         },
         "marker": {
          "color": "#FECB52",
          "size": 10
         },
         "name": "10",
         "offsetgroup": "10",
         "orientation": "v",
         "pointpos": 0,
         "showlegend": true,
         "type": "box",
         "x": [
          0.9
         ],
         "x0": " ",
         "xaxis": "x",
         "y": [
          0.8
         ],
         "y0": " ",
         "yaxis": "y"
        },
        {
         "alignmentgroup": "True",
         "boxpoints": "all",
         "customdata": [
          [
           "Entièrement intégrative",
           "Fort",
           "Fort",
           0.06,
           0.05,
           0.04,
           0.09,
           0.23,
           0.19
          ]
         ],
         "fillcolor": "rgba(255,255,255,0)",
         "hoveron": "points",
         "hovertemplate": "<b>%{hovertext}</b><br><br>id_teacher=11<br>eqc_8_val=%{x}<br>coec_8_val=%{y}<br>st_8=%{customdata[0]}<br>eqc_8_lev=%{customdata[1]}<br>coec_8_lev=%{customdata[2]}<br>rmsd_eqc=%{customdata[3]}<br>rmsd_sr_eqc=%{customdata[4]}<br>rmsd_coec=%{customdata[5]}<br>rmsd_sr_coec=%{customdata[6]}<br>radius_sr_8=%{customdata[7]}<br>radius_8=%{customdata[8]}<extra></extra>",
         "hovertext": [
          11
         ],
         "legendgroup": "11",
         "line": {
          "color": "rgba(255,255,255,0)"
         },
         "marker": {
          "color": "#636efa",
          "size": 10
         },
         "name": "11",
         "offsetgroup": "11",
         "orientation": "v",
         "pointpos": 0,
         "showlegend": true,
         "type": "box",
         "x": [
          0.8
         ],
         "x0": " ",
         "xaxis": "x",
         "y": [
          0.7
         ],
         "y0": " ",
         "yaxis": "y"
        },
        {
         "alignmentgroup": "True",
         "boxpoints": "all",
         "customdata": [
          [
           "Entre sommative et intégrative",
           "Moyen",
           "Moyen",
           0.08,
           0.09,
           0.07,
           0.08,
           0.44,
           0.66
          ]
         ],
         "fillcolor": "rgba(255,255,255,0)",
         "hoveron": "points",
         "hovertemplate": "<b>%{hovertext}</b><br><br>id_teacher=12<br>eqc_8_val=%{x}<br>coec_8_val=%{y}<br>st_8=%{customdata[0]}<br>eqc_8_lev=%{customdata[1]}<br>coec_8_lev=%{customdata[2]}<br>rmsd_eqc=%{customdata[3]}<br>rmsd_sr_eqc=%{customdata[4]}<br>rmsd_coec=%{customdata[5]}<br>rmsd_sr_coec=%{customdata[6]}<br>radius_sr_8=%{customdata[7]}<br>radius_8=%{customdata[8]}<extra></extra>",
         "hovertext": [
          12
         ],
         "legendgroup": "12",
         "line": {
          "color": "rgba(255,255,255,0)"
         },
         "marker": {
          "color": "#EF553B",
          "size": 10
         },
         "name": "12",
         "offsetgroup": "12",
         "orientation": "v",
         "pointpos": 0,
         "showlegend": true,
         "type": "box",
         "x": [
          0.5
         ],
         "x0": " ",
         "xaxis": "x",
         "y": [
          0.3
         ],
         "y0": " ",
         "yaxis": "y"
        },
        {
         "alignmentgroup": "True",
         "boxpoints": "all",
         "customdata": [
          [
           "Entre sommative et intégrative",
           "Fort",
           "Fort",
           0.04,
           0.04,
           0.05,
           0.12,
           0.52,
           0.26
          ]
         ],
         "fillcolor": "rgba(255,255,255,0)",
         "hoveron": "points",
         "hovertemplate": "<b>%{hovertext}</b><br><br>id_teacher=13<br>eqc_8_val=%{x}<br>coec_8_val=%{y}<br>st_8=%{customdata[0]}<br>eqc_8_lev=%{customdata[1]}<br>coec_8_lev=%{customdata[2]}<br>rmsd_eqc=%{customdata[3]}<br>rmsd_sr_eqc=%{customdata[4]}<br>rmsd_coec=%{customdata[5]}<br>rmsd_sr_coec=%{customdata[6]}<br>radius_sr_8=%{customdata[7]}<br>radius_8=%{customdata[8]}<extra></extra>",
         "hovertext": [
          13
         ],
         "legendgroup": "13",
         "line": {
          "color": "rgba(255,255,255,0)"
         },
         "marker": {
          "color": "#00cc96",
          "size": 10
         },
         "name": "13",
         "offsetgroup": "13",
         "orientation": "v",
         "pointpos": 0,
         "showlegend": true,
         "type": "box",
         "x": [
          1
         ],
         "x0": " ",
         "xaxis": "x",
         "y": [
          1
         ],
         "y0": " ",
         "yaxis": "y"
        },
        {
         "alignmentgroup": "True",
         "boxpoints": "all",
         "customdata": [
          [
           "Entièrement intégrative",
           "Fort",
           "Fort",
           0.13,
           0.06,
           0.07,
           0.06,
           0.23,
           0.19
          ]
         ],
         "fillcolor": "rgba(255,255,255,0)",
         "hoveron": "points",
         "hovertemplate": "<b>%{hovertext}</b><br><br>id_teacher=14<br>eqc_8_val=%{x}<br>coec_8_val=%{y}<br>st_8=%{customdata[0]}<br>eqc_8_lev=%{customdata[1]}<br>coec_8_lev=%{customdata[2]}<br>rmsd_eqc=%{customdata[3]}<br>rmsd_sr_eqc=%{customdata[4]}<br>rmsd_coec=%{customdata[5]}<br>rmsd_sr_coec=%{customdata[6]}<br>radius_sr_8=%{customdata[7]}<br>radius_8=%{customdata[8]}<extra></extra>",
         "hovertext": [
          14
         ],
         "legendgroup": "14",
         "line": {
          "color": "rgba(255,255,255,0)"
         },
         "marker": {
          "color": "#ab63fa",
          "size": 10
         },
         "name": "14",
         "offsetgroup": "14",
         "orientation": "v",
         "pointpos": 0,
         "showlegend": true,
         "type": "box",
         "x": [
          0.8
         ],
         "x0": " ",
         "xaxis": "x",
         "y": [
          0.7
         ],
         "y0": " ",
         "yaxis": "y"
        },
        {
         "alignmentgroup": "True",
         "boxpoints": "all",
         "customdata": [
          [
           "Plutôt intégrative",
           "Moyen",
           "Fort",
           0.06,
           0.05,
           0.05,
           0.08,
           0.29,
           0.29
          ]
         ],
         "fillcolor": "rgba(255,255,255,0)",
         "hoveron": "points",
         "hovertemplate": "<b>%{hovertext}</b><br><br>id_teacher=15<br>eqc_8_val=%{x}<br>coec_8_val=%{y}<br>st_8=%{customdata[0]}<br>eqc_8_lev=%{customdata[1]}<br>coec_8_lev=%{customdata[2]}<br>rmsd_eqc=%{customdata[3]}<br>rmsd_sr_eqc=%{customdata[4]}<br>rmsd_coec=%{customdata[5]}<br>rmsd_sr_coec=%{customdata[6]}<br>radius_sr_8=%{customdata[7]}<br>radius_8=%{customdata[8]}<extra></extra>",
         "hovertext": [
          15
         ],
         "legendgroup": "15",
         "line": {
          "color": "rgba(255,255,255,0)"
         },
         "marker": {
          "color": "#FFA15A",
          "size": 10
         },
         "name": "15",
         "offsetgroup": "15",
         "orientation": "v",
         "pointpos": 0,
         "showlegend": true,
         "type": "box",
         "x": [
          0.7
         ],
         "x0": " ",
         "xaxis": "x",
         "y": [
          0.7
         ],
         "y0": " ",
         "yaxis": "y"
        },
        {
         "marker": {
          "color": [
           2,
           3
          ],
          "size": [
           30,
           30
          ]
         },
         "mode": "markers",
         "type": "scatter",
         "x": [
          0.9,
          0.99
         ],
         "y": [
          0.49,
          0.74
         ]
        }
       ],
       "layout": {
        "boxmode": "group",
        "height": 700,
        "legend": {
         "title": {
          "text": "id_teacher"
         },
         "tracegroupgap": 0
        },
        "margin": {
         "t": 60
        },
        "shapes": [
         {
          "type": "line",
          "x0": 0,
          "x1": 1,
          "y0": 0,
          "y1": 1
         },
         {
          "type": "line",
          "x0": 0.5,
          "y0": 0.5
         }
        ],
        "template": {
         "data": {
          "bar": [
           {
            "error_x": {
             "color": "#2a3f5f"
            },
            "error_y": {
             "color": "#2a3f5f"
            },
            "marker": {
             "line": {
              "color": "#E5ECF6",
              "width": 0.5
             },
             "pattern": {
              "fillmode": "overlay",
              "size": 10,
              "solidity": 0.2
             }
            },
            "type": "bar"
           }
          ],
          "barpolar": [
           {
            "marker": {
             "line": {
              "color": "#E5ECF6",
              "width": 0.5
             },
             "pattern": {
              "fillmode": "overlay",
              "size": 10,
              "solidity": 0.2
             }
            },
            "type": "barpolar"
           }
          ],
          "carpet": [
           {
            "aaxis": {
             "endlinecolor": "#2a3f5f",
             "gridcolor": "white",
             "linecolor": "white",
             "minorgridcolor": "white",
             "startlinecolor": "#2a3f5f"
            },
            "baxis": {
             "endlinecolor": "#2a3f5f",
             "gridcolor": "white",
             "linecolor": "white",
             "minorgridcolor": "white",
             "startlinecolor": "#2a3f5f"
            },
            "type": "carpet"
           }
          ],
          "choropleth": [
           {
            "colorbar": {
             "outlinewidth": 0,
             "ticks": ""
            },
            "type": "choropleth"
           }
          ],
          "contour": [
           {
            "colorbar": {
             "outlinewidth": 0,
             "ticks": ""
            },
            "colorscale": [
             [
              0,
              "#0d0887"
             ],
             [
              0.1111111111111111,
              "#46039f"
             ],
             [
              0.2222222222222222,
              "#7201a8"
             ],
             [
              0.3333333333333333,
              "#9c179e"
             ],
             [
              0.4444444444444444,
              "#bd3786"
             ],
             [
              0.5555555555555556,
              "#d8576b"
             ],
             [
              0.6666666666666666,
              "#ed7953"
             ],
             [
              0.7777777777777778,
              "#fb9f3a"
             ],
             [
              0.8888888888888888,
              "#fdca26"
             ],
             [
              1,
              "#f0f921"
             ]
            ],
            "type": "contour"
           }
          ],
          "contourcarpet": [
           {
            "colorbar": {
             "outlinewidth": 0,
             "ticks": ""
            },
            "type": "contourcarpet"
           }
          ],
          "heatmap": [
           {
            "colorbar": {
             "outlinewidth": 0,
             "ticks": ""
            },
            "colorscale": [
             [
              0,
              "#0d0887"
             ],
             [
              0.1111111111111111,
              "#46039f"
             ],
             [
              0.2222222222222222,
              "#7201a8"
             ],
             [
              0.3333333333333333,
              "#9c179e"
             ],
             [
              0.4444444444444444,
              "#bd3786"
             ],
             [
              0.5555555555555556,
              "#d8576b"
             ],
             [
              0.6666666666666666,
              "#ed7953"
             ],
             [
              0.7777777777777778,
              "#fb9f3a"
             ],
             [
              0.8888888888888888,
              "#fdca26"
             ],
             [
              1,
              "#f0f921"
             ]
            ],
            "type": "heatmap"
           }
          ],
          "heatmapgl": [
           {
            "colorbar": {
             "outlinewidth": 0,
             "ticks": ""
            },
            "colorscale": [
             [
              0,
              "#0d0887"
             ],
             [
              0.1111111111111111,
              "#46039f"
             ],
             [
              0.2222222222222222,
              "#7201a8"
             ],
             [
              0.3333333333333333,
              "#9c179e"
             ],
             [
              0.4444444444444444,
              "#bd3786"
             ],
             [
              0.5555555555555556,
              "#d8576b"
             ],
             [
              0.6666666666666666,
              "#ed7953"
             ],
             [
              0.7777777777777778,
              "#fb9f3a"
             ],
             [
              0.8888888888888888,
              "#fdca26"
             ],
             [
              1,
              "#f0f921"
             ]
            ],
            "type": "heatmapgl"
           }
          ],
          "histogram": [
           {
            "marker": {
             "pattern": {
              "fillmode": "overlay",
              "size": 10,
              "solidity": 0.2
             }
            },
            "type": "histogram"
           }
          ],
          "histogram2d": [
           {
            "colorbar": {
             "outlinewidth": 0,
             "ticks": ""
            },
            "colorscale": [
             [
              0,
              "#0d0887"
             ],
             [
              0.1111111111111111,
              "#46039f"
             ],
             [
              0.2222222222222222,
              "#7201a8"
             ],
             [
              0.3333333333333333,
              "#9c179e"
             ],
             [
              0.4444444444444444,
              "#bd3786"
             ],
             [
              0.5555555555555556,
              "#d8576b"
             ],
             [
              0.6666666666666666,
              "#ed7953"
             ],
             [
              0.7777777777777778,
              "#fb9f3a"
             ],
             [
              0.8888888888888888,
              "#fdca26"
             ],
             [
              1,
              "#f0f921"
             ]
            ],
            "type": "histogram2d"
           }
          ],
          "histogram2dcontour": [
           {
            "colorbar": {
             "outlinewidth": 0,
             "ticks": ""
            },
            "colorscale": [
             [
              0,
              "#0d0887"
             ],
             [
              0.1111111111111111,
              "#46039f"
             ],
             [
              0.2222222222222222,
              "#7201a8"
             ],
             [
              0.3333333333333333,
              "#9c179e"
             ],
             [
              0.4444444444444444,
              "#bd3786"
             ],
             [
              0.5555555555555556,
              "#d8576b"
             ],
             [
              0.6666666666666666,
              "#ed7953"
             ],
             [
              0.7777777777777778,
              "#fb9f3a"
             ],
             [
              0.8888888888888888,
              "#fdca26"
             ],
             [
              1,
              "#f0f921"
             ]
            ],
            "type": "histogram2dcontour"
           }
          ],
          "mesh3d": [
           {
            "colorbar": {
             "outlinewidth": 0,
             "ticks": ""
            },
            "type": "mesh3d"
           }
          ],
          "parcoords": [
           {
            "line": {
             "colorbar": {
              "outlinewidth": 0,
              "ticks": ""
             }
            },
            "type": "parcoords"
           }
          ],
          "pie": [
           {
            "automargin": true,
            "type": "pie"
           }
          ],
          "scatter": [
           {
            "marker": {
             "colorbar": {
              "outlinewidth": 0,
              "ticks": ""
             }
            },
            "type": "scatter"
           }
          ],
          "scatter3d": [
           {
            "line": {
             "colorbar": {
              "outlinewidth": 0,
              "ticks": ""
             }
            },
            "marker": {
             "colorbar": {
              "outlinewidth": 0,
              "ticks": ""
             }
            },
            "type": "scatter3d"
           }
          ],
          "scattercarpet": [
           {
            "marker": {
             "colorbar": {
              "outlinewidth": 0,
              "ticks": ""
             }
            },
            "type": "scattercarpet"
           }
          ],
          "scattergeo": [
           {
            "marker": {
             "colorbar": {
              "outlinewidth": 0,
              "ticks": ""
             }
            },
            "type": "scattergeo"
           }
          ],
          "scattergl": [
           {
            "marker": {
             "colorbar": {
              "outlinewidth": 0,
              "ticks": ""
             }
            },
            "type": "scattergl"
           }
          ],
          "scattermapbox": [
           {
            "marker": {
             "colorbar": {
              "outlinewidth": 0,
              "ticks": ""
             }
            },
            "type": "scattermapbox"
           }
          ],
          "scatterpolar": [
           {
            "marker": {
             "colorbar": {
              "outlinewidth": 0,
              "ticks": ""
             }
            },
            "type": "scatterpolar"
           }
          ],
          "scatterpolargl": [
           {
            "marker": {
             "colorbar": {
              "outlinewidth": 0,
              "ticks": ""
             }
            },
            "type": "scatterpolargl"
           }
          ],
          "scatterternary": [
           {
            "marker": {
             "colorbar": {
              "outlinewidth": 0,
              "ticks": ""
             }
            },
            "type": "scatterternary"
           }
          ],
          "surface": [
           {
            "colorbar": {
             "outlinewidth": 0,
             "ticks": ""
            },
            "colorscale": [
             [
              0,
              "#0d0887"
             ],
             [
              0.1111111111111111,
              "#46039f"
             ],
             [
              0.2222222222222222,
              "#7201a8"
             ],
             [
              0.3333333333333333,
              "#9c179e"
             ],
             [
              0.4444444444444444,
              "#bd3786"
             ],
             [
              0.5555555555555556,
              "#d8576b"
             ],
             [
              0.6666666666666666,
              "#ed7953"
             ],
             [
              0.7777777777777778,
              "#fb9f3a"
             ],
             [
              0.8888888888888888,
              "#fdca26"
             ],
             [
              1,
              "#f0f921"
             ]
            ],
            "type": "surface"
           }
          ],
          "table": [
           {
            "cells": {
             "fill": {
              "color": "#EBF0F8"
             },
             "line": {
              "color": "white"
             }
            },
            "header": {
             "fill": {
              "color": "#C8D4E3"
             },
             "line": {
              "color": "white"
             }
            },
            "type": "table"
           }
          ]
         },
         "layout": {
          "annotationdefaults": {
           "arrowcolor": "#2a3f5f",
           "arrowhead": 0,
           "arrowwidth": 1
          },
          "autotypenumbers": "strict",
          "coloraxis": {
           "colorbar": {
            "outlinewidth": 0,
            "ticks": ""
           }
          },
          "colorscale": {
           "diverging": [
            [
             0,
             "#8e0152"
            ],
            [
             0.1,
             "#c51b7d"
            ],
            [
             0.2,
             "#de77ae"
            ],
            [
             0.3,
             "#f1b6da"
            ],
            [
             0.4,
             "#fde0ef"
            ],
            [
             0.5,
             "#f7f7f7"
            ],
            [
             0.6,
             "#e6f5d0"
            ],
            [
             0.7,
             "#b8e186"
            ],
            [
             0.8,
             "#7fbc41"
            ],
            [
             0.9,
             "#4d9221"
            ],
            [
             1,
             "#276419"
            ]
           ],
           "sequential": [
            [
             0,
             "#0d0887"
            ],
            [
             0.1111111111111111,
             "#46039f"
            ],
            [
             0.2222222222222222,
             "#7201a8"
            ],
            [
             0.3333333333333333,
             "#9c179e"
            ],
            [
             0.4444444444444444,
             "#bd3786"
            ],
            [
             0.5555555555555556,
             "#d8576b"
            ],
            [
             0.6666666666666666,
             "#ed7953"
            ],
            [
             0.7777777777777778,
             "#fb9f3a"
            ],
            [
             0.8888888888888888,
             "#fdca26"
            ],
            [
             1,
             "#f0f921"
            ]
           ],
           "sequentialminus": [
            [
             0,
             "#0d0887"
            ],
            [
             0.1111111111111111,
             "#46039f"
            ],
            [
             0.2222222222222222,
             "#7201a8"
            ],
            [
             0.3333333333333333,
             "#9c179e"
            ],
            [
             0.4444444444444444,
             "#bd3786"
            ],
            [
             0.5555555555555556,
             "#d8576b"
            ],
            [
             0.6666666666666666,
             "#ed7953"
            ],
            [
             0.7777777777777778,
             "#fb9f3a"
            ],
            [
             0.8888888888888888,
             "#fdca26"
            ],
            [
             1,
             "#f0f921"
            ]
           ]
          },
          "colorway": [
           "#636efa",
           "#EF553B",
           "#00cc96",
           "#ab63fa",
           "#FFA15A",
           "#19d3f3",
           "#FF6692",
           "#B6E880",
           "#FF97FF",
           "#FECB52"
          ],
          "font": {
           "color": "#2a3f5f"
          },
          "geo": {
           "bgcolor": "white",
           "lakecolor": "white",
           "landcolor": "#E5ECF6",
           "showlakes": true,
           "showland": true,
           "subunitcolor": "white"
          },
          "hoverlabel": {
           "align": "left"
          },
          "hovermode": "closest",
          "mapbox": {
           "style": "light"
          },
          "paper_bgcolor": "white",
          "plot_bgcolor": "#E5ECF6",
          "polar": {
           "angularaxis": {
            "gridcolor": "white",
            "linecolor": "white",
            "ticks": ""
           },
           "bgcolor": "#E5ECF6",
           "radialaxis": {
            "gridcolor": "white",
            "linecolor": "white",
            "ticks": ""
           }
          },
          "scene": {
           "xaxis": {
            "backgroundcolor": "#E5ECF6",
            "gridcolor": "white",
            "gridwidth": 2,
            "linecolor": "white",
            "showbackground": true,
            "ticks": "",
            "zerolinecolor": "white"
           },
           "yaxis": {
            "backgroundcolor": "#E5ECF6",
            "gridcolor": "white",
            "gridwidth": 2,
            "linecolor": "white",
            "showbackground": true,
            "ticks": "",
            "zerolinecolor": "white"
           },
           "zaxis": {
            "backgroundcolor": "#E5ECF6",
            "gridcolor": "white",
            "gridwidth": 2,
            "linecolor": "white",
            "showbackground": true,
            "ticks": "",
            "zerolinecolor": "white"
           }
          },
          "shapedefaults": {
           "line": {
            "color": "#2a3f5f"
           }
          },
          "ternary": {
           "aaxis": {
            "gridcolor": "white",
            "linecolor": "white",
            "ticks": ""
           },
           "baxis": {
            "gridcolor": "white",
            "linecolor": "white",
            "ticks": ""
           },
           "bgcolor": "#E5ECF6",
           "caxis": {
            "gridcolor": "white",
            "linecolor": "white",
            "ticks": ""
           }
          },
          "title": {
           "x": 0.05
          },
          "xaxis": {
           "automargin": true,
           "gridcolor": "white",
           "linecolor": "white",
           "ticks": "",
           "title": {
            "standoff": 15
           },
           "zerolinecolor": "white",
           "zerolinewidth": 2
          },
          "yaxis": {
           "automargin": true,
           "gridcolor": "white",
           "linecolor": "white",
           "ticks": "",
           "title": {
            "standoff": 15
           },
           "zerolinecolor": "white",
           "zerolinewidth": 2
          }
         }
        },
        "title": {
         "text": "LabDoc 8"
        },
        "width": 900,
        "xaxis": {
         "anchor": "y",
         "domain": [
          0,
          1
         ],
         "range": [
          -0.05,
          1.05
         ],
         "title": {
          "text": "eqc_8_val"
         }
        },
        "yaxis": {
         "anchor": "x",
         "domain": [
          0,
          1
         ],
         "range": [
          -0.05,
          1.05
         ],
         "title": {
          "text": "coec_8_val"
         }
        }
       }
      }
     },
     "metadata": {},
     "output_type": "display_data"
    },
    {
     "data": {
      "application/vnd.plotly.v1+json": {
       "config": {
        "plotlyServerURL": "https://plot.ly",
        "scrollZoom": false
       },
       "data": [
        {
         "alignmentgroup": "True",
         "boxpoints": "all",
         "customdata": [
          [
           "Plutôt sommative",
           "Faible",
           "Faible",
           0.09,
           0.06,
           0.04,
           0.06,
           0.14,
           0.28
          ]
         ],
         "fillcolor": "rgba(255,255,255,0)",
         "hoveron": "points",
         "hovertemplate": "<b>%{hovertext}</b><br><br>id_teacher=1<br>eqc_9_val=%{x}<br>coec_9_val=%{y}<br>st_9=%{customdata[0]}<br>eqc_9_lev=%{customdata[1]}<br>coec_9_lev=%{customdata[2]}<br>rmsd_eqc=%{customdata[3]}<br>rmsd_sr_eqc=%{customdata[4]}<br>rmsd_coec=%{customdata[5]}<br>rmsd_sr_coec=%{customdata[6]}<br>radius_sr_9=%{customdata[7]}<br>radius_9=%{customdata[8]}<extra></extra>",
         "hovertext": [
          1
         ],
         "legendgroup": "1",
         "line": {
          "color": "rgba(255,255,255,0)"
         },
         "marker": {
          "color": "#636efa",
          "size": 10
         },
         "name": "1",
         "offsetgroup": "1",
         "orientation": "v",
         "pointpos": 0,
         "showlegend": true,
         "type": "box",
         "x": [
          0.2
         ],
         "x0": " ",
         "xaxis": "x",
         "y": [
          0.2
         ],
         "y0": " ",
         "yaxis": "y"
        },
        {
         "alignmentgroup": "True",
         "boxpoints": "all",
         "customdata": [
          [
           "Entre sommative et intégrative",
           "Faible",
           "Faible",
           0.07,
           0.06,
           0.02,
           0.06,
           0.11,
           0.19
          ]
         ],
         "fillcolor": "rgba(255,255,255,0)",
         "hoveron": "points",
         "hovertemplate": "<b>%{hovertext}</b><br><br>id_teacher=2<br>eqc_9_val=%{x}<br>coec_9_val=%{y}<br>st_9=%{customdata[0]}<br>eqc_9_lev=%{customdata[1]}<br>coec_9_lev=%{customdata[2]}<br>rmsd_eqc=%{customdata[3]}<br>rmsd_sr_eqc=%{customdata[4]}<br>rmsd_coec=%{customdata[5]}<br>rmsd_sr_coec=%{customdata[6]}<br>radius_sr_9=%{customdata[7]}<br>radius_9=%{customdata[8]}<extra></extra>",
         "hovertext": [
          2
         ],
         "legendgroup": "2",
         "line": {
          "color": "rgba(255,255,255,0)"
         },
         "marker": {
          "color": "#EF553B",
          "size": 10
         },
         "name": "2",
         "offsetgroup": "2",
         "orientation": "v",
         "pointpos": 0,
         "showlegend": true,
         "type": "box",
         "x": [
          0.3
         ],
         "x0": " ",
         "xaxis": "x",
         "y": [
          0.2
         ],
         "y0": " ",
         "yaxis": "y"
        },
        {
         "alignmentgroup": "True",
         "boxpoints": "all",
         "customdata": [
          [
           "Plutôt sommative",
           "Faible",
           "Faible",
           0.03,
           0.02,
           0.06,
           0.15,
           0.16,
           0.09
          ]
         ],
         "fillcolor": "rgba(255,255,255,0)",
         "hoveron": "points",
         "hovertemplate": "<b>%{hovertext}</b><br><br>id_teacher=3<br>eqc_9_val=%{x}<br>coec_9_val=%{y}<br>st_9=%{customdata[0]}<br>eqc_9_lev=%{customdata[1]}<br>coec_9_lev=%{customdata[2]}<br>rmsd_eqc=%{customdata[3]}<br>rmsd_sr_eqc=%{customdata[4]}<br>rmsd_coec=%{customdata[5]}<br>rmsd_sr_coec=%{customdata[6]}<br>radius_sr_9=%{customdata[7]}<br>radius_9=%{customdata[8]}<extra></extra>",
         "hovertext": [
          3
         ],
         "legendgroup": "3",
         "line": {
          "color": "rgba(255,255,255,0)"
         },
         "marker": {
          "color": "#00cc96",
          "size": 10
         },
         "name": "3",
         "offsetgroup": "3",
         "orientation": "v",
         "pointpos": 0,
         "showlegend": true,
         "type": "box",
         "x": [
          0.4
         ],
         "x0": " ",
         "xaxis": "x",
         "y": [
          0.2
         ],
         "y0": " ",
         "yaxis": "y"
        },
        {
         "alignmentgroup": "True",
         "boxpoints": "all",
         "customdata": [
          [
           "Plutôt sommative",
           "Faible",
           "Faible",
           0.05,
           0.03,
           0.02,
           0.04,
           0.12,
           0.23
          ]
         ],
         "fillcolor": "rgba(255,255,255,0)",
         "hoveron": "points",
         "hovertemplate": "<b>%{hovertext}</b><br><br>id_teacher=4<br>eqc_9_val=%{x}<br>coec_9_val=%{y}<br>st_9=%{customdata[0]}<br>eqc_9_lev=%{customdata[1]}<br>coec_9_lev=%{customdata[2]}<br>rmsd_eqc=%{customdata[3]}<br>rmsd_sr_eqc=%{customdata[4]}<br>rmsd_coec=%{customdata[5]}<br>rmsd_sr_coec=%{customdata[6]}<br>radius_sr_9=%{customdata[7]}<br>radius_9=%{customdata[8]}<extra></extra>",
         "hovertext": [
          4
         ],
         "legendgroup": "4",
         "line": {
          "color": "rgba(255,255,255,0)"
         },
         "marker": {
          "color": "#ab63fa",
          "size": 10
         },
         "name": "4",
         "offsetgroup": "4",
         "orientation": "v",
         "pointpos": 0,
         "showlegend": true,
         "type": "box",
         "x": [
          0.25
         ],
         "x0": " ",
         "xaxis": "x",
         "y": [
          0.2
         ],
         "y0": " ",
         "yaxis": "y"
        },
        {
         "alignmentgroup": "True",
         "boxpoints": "all",
         "customdata": [
          [
           "Entre sommative et intégrative",
           "Faible",
           "Faible",
           0.05,
           0.07,
           0.04,
           0.1,
           0.21,
           0.22
          ]
         ],
         "fillcolor": "rgba(255,255,255,0)",
         "hoveron": "points",
         "hovertemplate": "<b>%{hovertext}</b><br><br>id_teacher=5<br>eqc_9_val=%{x}<br>coec_9_val=%{y}<br>st_9=%{customdata[0]}<br>eqc_9_lev=%{customdata[1]}<br>coec_9_lev=%{customdata[2]}<br>rmsd_eqc=%{customdata[3]}<br>rmsd_sr_eqc=%{customdata[4]}<br>rmsd_coec=%{customdata[5]}<br>rmsd_sr_coec=%{customdata[6]}<br>radius_sr_9=%{customdata[7]}<br>radius_9=%{customdata[8]}<extra></extra>",
         "hovertext": [
          5
         ],
         "legendgroup": "5",
         "line": {
          "color": "rgba(255,255,255,0)"
         },
         "marker": {
          "color": "#FFA15A",
          "size": 10
         },
         "name": "5",
         "offsetgroup": "5",
         "orientation": "v",
         "pointpos": 0,
         "showlegend": true,
         "type": "box",
         "x": [
          0.3
         ],
         "x0": " ",
         "xaxis": "x",
         "y": [
          0.3
         ],
         "y0": " ",
         "yaxis": "y"
        },
        {
         "alignmentgroup": "True",
         "boxpoints": "all",
         "customdata": [
          [
           "Plutôt sommative",
           "Moyen",
           "Moyen",
           0.03,
           0.03,
           0.03,
           0.03,
           0.29,
           0.2
          ]
         ],
         "fillcolor": "rgba(255,255,255,0)",
         "hoveron": "points",
         "hovertemplate": "<b>%{hovertext}</b><br><br>id_teacher=6<br>eqc_9_val=%{x}<br>coec_9_val=%{y}<br>st_9=%{customdata[0]}<br>eqc_9_lev=%{customdata[1]}<br>coec_9_lev=%{customdata[2]}<br>rmsd_eqc=%{customdata[3]}<br>rmsd_sr_eqc=%{customdata[4]}<br>rmsd_coec=%{customdata[5]}<br>rmsd_sr_coec=%{customdata[6]}<br>radius_sr_9=%{customdata[7]}<br>radius_9=%{customdata[8]}<extra></extra>",
         "hovertext": [
          6
         ],
         "legendgroup": "6",
         "line": {
          "color": "rgba(255,255,255,0)"
         },
         "marker": {
          "color": "#19d3f3",
          "size": 10
         },
         "name": "6",
         "offsetgroup": "6",
         "orientation": "v",
         "pointpos": 0,
         "showlegend": true,
         "type": "box",
         "x": [
          0.4
         ],
         "x0": " ",
         "xaxis": "x",
         "y": [
          0.35
         ],
         "y0": " ",
         "yaxis": "y"
        },
        {
         "alignmentgroup": "True",
         "boxpoints": "all",
         "customdata": [
          [
           "Entre sommative et intégrative",
           "Faible",
           "Faible",
           0.08,
           0.08,
           0.06,
           0.08,
           0.18,
           0.39
          ]
         ],
         "fillcolor": "rgba(255,255,255,0)",
         "hoveron": "points",
         "hovertemplate": "<b>%{hovertext}</b><br><br>id_teacher=7<br>eqc_9_val=%{x}<br>coec_9_val=%{y}<br>st_9=%{customdata[0]}<br>eqc_9_lev=%{customdata[1]}<br>coec_9_lev=%{customdata[2]}<br>rmsd_eqc=%{customdata[3]}<br>rmsd_sr_eqc=%{customdata[4]}<br>rmsd_coec=%{customdata[5]}<br>rmsd_sr_coec=%{customdata[6]}<br>radius_sr_9=%{customdata[7]}<br>radius_9=%{customdata[8]}<extra></extra>",
         "hovertext": [
          7
         ],
         "legendgroup": "7",
         "line": {
          "color": "rgba(255,255,255,0)"
         },
         "marker": {
          "color": "#FF6692",
          "size": 10
         },
         "name": "7",
         "offsetgroup": "7",
         "orientation": "v",
         "pointpos": 0,
         "showlegend": true,
         "type": "box",
         "x": [
          0.1
         ],
         "x0": " ",
         "xaxis": "x",
         "y": [
          0.1
         ],
         "y0": " ",
         "yaxis": "y"
        },
        {
         "alignmentgroup": "True",
         "boxpoints": "all",
         "customdata": [
          [
           "Plutôt sommative",
           "Faible",
           "Faible",
           0.06,
           0.03,
           0.04,
           0.02,
           0.14,
           0.35
          ]
         ],
         "fillcolor": "rgba(255,255,255,0)",
         "hoveron": "points",
         "hovertemplate": "<b>%{hovertext}</b><br><br>id_teacher=8<br>eqc_9_val=%{x}<br>coec_9_val=%{y}<br>st_9=%{customdata[0]}<br>eqc_9_lev=%{customdata[1]}<br>coec_9_lev=%{customdata[2]}<br>rmsd_eqc=%{customdata[3]}<br>rmsd_sr_eqc=%{customdata[4]}<br>rmsd_coec=%{customdata[5]}<br>rmsd_sr_coec=%{customdata[6]}<br>radius_sr_9=%{customdata[7]}<br>radius_9=%{customdata[8]}<extra></extra>",
         "hovertext": [
          8
         ],
         "legendgroup": "8",
         "line": {
          "color": "rgba(255,255,255,0)"
         },
         "marker": {
          "color": "#B6E880",
          "size": 10
         },
         "name": "8",
         "offsetgroup": "8",
         "orientation": "v",
         "pointpos": 0,
         "showlegend": true,
         "type": "box",
         "x": [
          0.15
         ],
         "x0": " ",
         "xaxis": "x",
         "y": [
          0.05
         ],
         "y0": " ",
         "yaxis": "y"
        },
        {
         "alignmentgroup": "True",
         "boxpoints": "all",
         "customdata": [
          [
           "Plutôt sommative",
           "Faible",
           "Faible",
           0.16,
           0.08,
           0.05,
           0.04,
           0.18,
           0.4
          ]
         ],
         "fillcolor": "rgba(255,255,255,0)",
         "hoveron": "points",
         "hovertemplate": "<b>%{hovertext}</b><br><br>id_teacher=9<br>eqc_9_val=%{x}<br>coec_9_val=%{y}<br>st_9=%{customdata[0]}<br>eqc_9_lev=%{customdata[1]}<br>coec_9_lev=%{customdata[2]}<br>rmsd_eqc=%{customdata[3]}<br>rmsd_sr_eqc=%{customdata[4]}<br>rmsd_coec=%{customdata[5]}<br>rmsd_sr_coec=%{customdata[6]}<br>radius_sr_9=%{customdata[7]}<br>radius_9=%{customdata[8]}<extra></extra>",
         "hovertext": [
          9
         ],
         "legendgroup": "9",
         "line": {
          "color": "rgba(255,255,255,0)"
         },
         "marker": {
          "color": "#FF97FF",
          "size": 10
         },
         "name": "9",
         "offsetgroup": "9",
         "orientation": "v",
         "pointpos": 0,
         "showlegend": true,
         "type": "box",
         "x": [
          0.1
         ],
         "x0": " ",
         "xaxis": "x",
         "y": [
          0.05
         ],
         "y0": " ",
         "yaxis": "y"
        },
        {
         "alignmentgroup": "True",
         "boxpoints": "all",
         "customdata": [
          [
           "Entre sommative et intégrative",
           "Faible",
           "Faible",
           0.05,
           0.03,
           0.05,
           0.09,
           0.14,
           0.28
          ]
         ],
         "fillcolor": "rgba(255,255,255,0)",
         "hoveron": "points",
         "hovertemplate": "<b>%{hovertext}</b><br><br>id_teacher=10<br>eqc_9_val=%{x}<br>coec_9_val=%{y}<br>st_9=%{customdata[0]}<br>eqc_9_lev=%{customdata[1]}<br>coec_9_lev=%{customdata[2]}<br>rmsd_eqc=%{customdata[3]}<br>rmsd_sr_eqc=%{customdata[4]}<br>rmsd_coec=%{customdata[5]}<br>rmsd_sr_coec=%{customdata[6]}<br>radius_sr_9=%{customdata[7]}<br>radius_9=%{customdata[8]}<extra></extra>",
         "hovertext": [
          10
         ],
         "legendgroup": "10",
         "line": {
          "color": "rgba(255,255,255,0)"
         },
         "marker": {
          "color": "#FECB52",
          "size": 10
         },
         "name": "10",
         "offsetgroup": "10",
         "orientation": "v",
         "pointpos": 0,
         "showlegend": true,
         "type": "box",
         "x": [
          0.2
         ],
         "x0": " ",
         "xaxis": "x",
         "y": [
          0.2
         ],
         "y0": " ",
         "yaxis": "y"
        },
        {
         "alignmentgroup": "True",
         "boxpoints": "all",
         "customdata": [
          [
           "Je ne sais pas",
           "Faible",
           "Faible",
           0.06,
           0.05,
           0.04,
           0.09,
           0.14,
           0.28
          ]
         ],
         "fillcolor": "rgba(255,255,255,0)",
         "hoveron": "points",
         "hovertemplate": "<b>%{hovertext}</b><br><br>id_teacher=11<br>eqc_9_val=%{x}<br>coec_9_val=%{y}<br>st_9=%{customdata[0]}<br>eqc_9_lev=%{customdata[1]}<br>coec_9_lev=%{customdata[2]}<br>rmsd_eqc=%{customdata[3]}<br>rmsd_sr_eqc=%{customdata[4]}<br>rmsd_coec=%{customdata[5]}<br>rmsd_sr_coec=%{customdata[6]}<br>radius_sr_9=%{customdata[7]}<br>radius_9=%{customdata[8]}<extra></extra>",
         "hovertext": [
          11
         ],
         "legendgroup": "11",
         "line": {
          "color": "rgba(255,255,255,0)"
         },
         "marker": {
          "color": "#636efa",
          "size": 10
         },
         "name": "11",
         "offsetgroup": "11",
         "orientation": "v",
         "pointpos": 0,
         "showlegend": true,
         "type": "box",
         "x": [
          0.2
         ],
         "x0": " ",
         "xaxis": "x",
         "y": [
          0.2
         ],
         "y0": " ",
         "yaxis": "y"
        },
        {
         "alignmentgroup": "True",
         "boxpoints": "all",
         "customdata": [
          [
           "Plutôt sommative",
           "Faible",
           "Faible",
           0.08,
           0.09,
           0.07,
           0.08,
           0.08,
           0.29
          ]
         ],
         "fillcolor": "rgba(255,255,255,0)",
         "hoveron": "points",
         "hovertemplate": "<b>%{hovertext}</b><br><br>id_teacher=12<br>eqc_9_val=%{x}<br>coec_9_val=%{y}<br>st_9=%{customdata[0]}<br>eqc_9_lev=%{customdata[1]}<br>coec_9_lev=%{customdata[2]}<br>rmsd_eqc=%{customdata[3]}<br>rmsd_sr_eqc=%{customdata[4]}<br>rmsd_coec=%{customdata[5]}<br>rmsd_sr_coec=%{customdata[6]}<br>radius_sr_9=%{customdata[7]}<br>radius_9=%{customdata[8]}<extra></extra>",
         "hovertext": [
          12
         ],
         "legendgroup": "12",
         "line": {
          "color": "rgba(255,255,255,0)"
         },
         "marker": {
          "color": "#EF553B",
          "size": 10
         },
         "name": "12",
         "offsetgroup": "12",
         "orientation": "v",
         "pointpos": 0,
         "showlegend": true,
         "type": "box",
         "x": [
          0.2
         ],
         "x0": " ",
         "xaxis": "x",
         "y": [
          0.1
         ],
         "y0": " ",
         "yaxis": "y"
        },
        {
         "alignmentgroup": "True",
         "boxpoints": "all",
         "customdata": [
          [
           "Entre sommative et intégrative",
           "Moyen",
           "Moyen",
           0.04,
           0.04,
           0.05,
           0.12,
           0.41,
           0.38
          ]
         ],
         "fillcolor": "rgba(255,255,255,0)",
         "hoveron": "points",
         "hovertemplate": "<b>%{hovertext}</b><br><br>id_teacher=13<br>eqc_9_val=%{x}<br>coec_9_val=%{y}<br>st_9=%{customdata[0]}<br>eqc_9_lev=%{customdata[1]}<br>coec_9_lev=%{customdata[2]}<br>rmsd_eqc=%{customdata[3]}<br>rmsd_sr_eqc=%{customdata[4]}<br>rmsd_coec=%{customdata[5]}<br>rmsd_sr_coec=%{customdata[6]}<br>radius_sr_9=%{customdata[7]}<br>radius_9=%{customdata[8]}<extra></extra>",
         "hovertext": [
          13
         ],
         "legendgroup": "13",
         "line": {
          "color": "rgba(255,255,255,0)"
         },
         "marker": {
          "color": "#00cc96",
          "size": 10
         },
         "name": "13",
         "offsetgroup": "13",
         "orientation": "v",
         "pointpos": 0,
         "showlegend": true,
         "type": "box",
         "x": [
          0.3
         ],
         "x0": " ",
         "xaxis": "x",
         "y": [
          0.5
         ],
         "y0": " ",
         "yaxis": "y"
        },
        {
         "alignmentgroup": "True",
         "boxpoints": "all",
         "customdata": [
          [
           "Plutôt sommative",
           "Faible",
           "Faible",
           0.13,
           0.06,
           0.07,
           0.06,
           0.2,
           0.42
          ]
         ],
         "fillcolor": "rgba(255,255,255,0)",
         "hoveron": "points",
         "hovertemplate": "<b>%{hovertext}</b><br><br>id_teacher=14<br>eqc_9_val=%{x}<br>coec_9_val=%{y}<br>st_9=%{customdata[0]}<br>eqc_9_lev=%{customdata[1]}<br>coec_9_lev=%{customdata[2]}<br>rmsd_eqc=%{customdata[3]}<br>rmsd_sr_eqc=%{customdata[4]}<br>rmsd_coec=%{customdata[5]}<br>rmsd_sr_coec=%{customdata[6]}<br>radius_sr_9=%{customdata[7]}<br>radius_9=%{customdata[8]}<extra></extra>",
         "hovertext": [
          14
         ],
         "legendgroup": "14",
         "line": {
          "color": "rgba(255,255,255,0)"
         },
         "marker": {
          "color": "#ab63fa",
          "size": 10
         },
         "name": "14",
         "offsetgroup": "14",
         "orientation": "v",
         "pointpos": 0,
         "showlegend": true,
         "type": "box",
         "x": [
          0.1
         ],
         "x0": " ",
         "xaxis": "x",
         "y": [
          0
         ],
         "y0": " ",
         "yaxis": "y"
        },
        {
         "alignmentgroup": "True",
         "boxpoints": "all",
         "customdata": [
          [
           "Plutôt intégrative",
           "Faible",
           "Faible",
           0.06,
           0.05,
           0.05,
           0.08,
           0.14,
           0.28
          ]
         ],
         "fillcolor": "rgba(255,255,255,0)",
         "hoveron": "points",
         "hovertemplate": "<b>%{hovertext}</b><br><br>id_teacher=15<br>eqc_9_val=%{x}<br>coec_9_val=%{y}<br>st_9=%{customdata[0]}<br>eqc_9_lev=%{customdata[1]}<br>coec_9_lev=%{customdata[2]}<br>rmsd_eqc=%{customdata[3]}<br>rmsd_sr_eqc=%{customdata[4]}<br>rmsd_coec=%{customdata[5]}<br>rmsd_sr_coec=%{customdata[6]}<br>radius_sr_9=%{customdata[7]}<br>radius_9=%{customdata[8]}<extra></extra>",
         "hovertext": [
          15
         ],
         "legendgroup": "15",
         "line": {
          "color": "rgba(255,255,255,0)"
         },
         "marker": {
          "color": "#FFA15A",
          "size": 10
         },
         "name": "15",
         "offsetgroup": "15",
         "orientation": "v",
         "pointpos": 0,
         "showlegend": true,
         "type": "box",
         "x": [
          0.2
         ],
         "x0": " ",
         "xaxis": "x",
         "y": [
          0.2
         ],
         "y0": " ",
         "yaxis": "y"
        },
        {
         "marker": {
          "color": [
           2,
           3
          ],
          "size": [
           30,
           30
          ]
         },
         "mode": "markers",
         "type": "scatter",
         "x": [
          0.28,
          0.483
         ],
         "y": [
          0.088,
          0.17
         ]
        }
       ],
       "layout": {
        "boxmode": "group",
        "height": 700,
        "legend": {
         "title": {
          "text": "id_teacher"
         },
         "tracegroupgap": 0
        },
        "margin": {
         "t": 60
        },
        "shapes": [
         {
          "type": "line",
          "x0": 0,
          "x1": 1,
          "y0": 0,
          "y1": 1
         },
         {
          "type": "line",
          "x0": 0.5,
          "y0": 0.5
         }
        ],
        "template": {
         "data": {
          "bar": [
           {
            "error_x": {
             "color": "#2a3f5f"
            },
            "error_y": {
             "color": "#2a3f5f"
            },
            "marker": {
             "line": {
              "color": "#E5ECF6",
              "width": 0.5
             },
             "pattern": {
              "fillmode": "overlay",
              "size": 10,
              "solidity": 0.2
             }
            },
            "type": "bar"
           }
          ],
          "barpolar": [
           {
            "marker": {
             "line": {
              "color": "#E5ECF6",
              "width": 0.5
             },
             "pattern": {
              "fillmode": "overlay",
              "size": 10,
              "solidity": 0.2
             }
            },
            "type": "barpolar"
           }
          ],
          "carpet": [
           {
            "aaxis": {
             "endlinecolor": "#2a3f5f",
             "gridcolor": "white",
             "linecolor": "white",
             "minorgridcolor": "white",
             "startlinecolor": "#2a3f5f"
            },
            "baxis": {
             "endlinecolor": "#2a3f5f",
             "gridcolor": "white",
             "linecolor": "white",
             "minorgridcolor": "white",
             "startlinecolor": "#2a3f5f"
            },
            "type": "carpet"
           }
          ],
          "choropleth": [
           {
            "colorbar": {
             "outlinewidth": 0,
             "ticks": ""
            },
            "type": "choropleth"
           }
          ],
          "contour": [
           {
            "colorbar": {
             "outlinewidth": 0,
             "ticks": ""
            },
            "colorscale": [
             [
              0,
              "#0d0887"
             ],
             [
              0.1111111111111111,
              "#46039f"
             ],
             [
              0.2222222222222222,
              "#7201a8"
             ],
             [
              0.3333333333333333,
              "#9c179e"
             ],
             [
              0.4444444444444444,
              "#bd3786"
             ],
             [
              0.5555555555555556,
              "#d8576b"
             ],
             [
              0.6666666666666666,
              "#ed7953"
             ],
             [
              0.7777777777777778,
              "#fb9f3a"
             ],
             [
              0.8888888888888888,
              "#fdca26"
             ],
             [
              1,
              "#f0f921"
             ]
            ],
            "type": "contour"
           }
          ],
          "contourcarpet": [
           {
            "colorbar": {
             "outlinewidth": 0,
             "ticks": ""
            },
            "type": "contourcarpet"
           }
          ],
          "heatmap": [
           {
            "colorbar": {
             "outlinewidth": 0,
             "ticks": ""
            },
            "colorscale": [
             [
              0,
              "#0d0887"
             ],
             [
              0.1111111111111111,
              "#46039f"
             ],
             [
              0.2222222222222222,
              "#7201a8"
             ],
             [
              0.3333333333333333,
              "#9c179e"
             ],
             [
              0.4444444444444444,
              "#bd3786"
             ],
             [
              0.5555555555555556,
              "#d8576b"
             ],
             [
              0.6666666666666666,
              "#ed7953"
             ],
             [
              0.7777777777777778,
              "#fb9f3a"
             ],
             [
              0.8888888888888888,
              "#fdca26"
             ],
             [
              1,
              "#f0f921"
             ]
            ],
            "type": "heatmap"
           }
          ],
          "heatmapgl": [
           {
            "colorbar": {
             "outlinewidth": 0,
             "ticks": ""
            },
            "colorscale": [
             [
              0,
              "#0d0887"
             ],
             [
              0.1111111111111111,
              "#46039f"
             ],
             [
              0.2222222222222222,
              "#7201a8"
             ],
             [
              0.3333333333333333,
              "#9c179e"
             ],
             [
              0.4444444444444444,
              "#bd3786"
             ],
             [
              0.5555555555555556,
              "#d8576b"
             ],
             [
              0.6666666666666666,
              "#ed7953"
             ],
             [
              0.7777777777777778,
              "#fb9f3a"
             ],
             [
              0.8888888888888888,
              "#fdca26"
             ],
             [
              1,
              "#f0f921"
             ]
            ],
            "type": "heatmapgl"
           }
          ],
          "histogram": [
           {
            "marker": {
             "pattern": {
              "fillmode": "overlay",
              "size": 10,
              "solidity": 0.2
             }
            },
            "type": "histogram"
           }
          ],
          "histogram2d": [
           {
            "colorbar": {
             "outlinewidth": 0,
             "ticks": ""
            },
            "colorscale": [
             [
              0,
              "#0d0887"
             ],
             [
              0.1111111111111111,
              "#46039f"
             ],
             [
              0.2222222222222222,
              "#7201a8"
             ],
             [
              0.3333333333333333,
              "#9c179e"
             ],
             [
              0.4444444444444444,
              "#bd3786"
             ],
             [
              0.5555555555555556,
              "#d8576b"
             ],
             [
              0.6666666666666666,
              "#ed7953"
             ],
             [
              0.7777777777777778,
              "#fb9f3a"
             ],
             [
              0.8888888888888888,
              "#fdca26"
             ],
             [
              1,
              "#f0f921"
             ]
            ],
            "type": "histogram2d"
           }
          ],
          "histogram2dcontour": [
           {
            "colorbar": {
             "outlinewidth": 0,
             "ticks": ""
            },
            "colorscale": [
             [
              0,
              "#0d0887"
             ],
             [
              0.1111111111111111,
              "#46039f"
             ],
             [
              0.2222222222222222,
              "#7201a8"
             ],
             [
              0.3333333333333333,
              "#9c179e"
             ],
             [
              0.4444444444444444,
              "#bd3786"
             ],
             [
              0.5555555555555556,
              "#d8576b"
             ],
             [
              0.6666666666666666,
              "#ed7953"
             ],
             [
              0.7777777777777778,
              "#fb9f3a"
             ],
             [
              0.8888888888888888,
              "#fdca26"
             ],
             [
              1,
              "#f0f921"
             ]
            ],
            "type": "histogram2dcontour"
           }
          ],
          "mesh3d": [
           {
            "colorbar": {
             "outlinewidth": 0,
             "ticks": ""
            },
            "type": "mesh3d"
           }
          ],
          "parcoords": [
           {
            "line": {
             "colorbar": {
              "outlinewidth": 0,
              "ticks": ""
             }
            },
            "type": "parcoords"
           }
          ],
          "pie": [
           {
            "automargin": true,
            "type": "pie"
           }
          ],
          "scatter": [
           {
            "marker": {
             "colorbar": {
              "outlinewidth": 0,
              "ticks": ""
             }
            },
            "type": "scatter"
           }
          ],
          "scatter3d": [
           {
            "line": {
             "colorbar": {
              "outlinewidth": 0,
              "ticks": ""
             }
            },
            "marker": {
             "colorbar": {
              "outlinewidth": 0,
              "ticks": ""
             }
            },
            "type": "scatter3d"
           }
          ],
          "scattercarpet": [
           {
            "marker": {
             "colorbar": {
              "outlinewidth": 0,
              "ticks": ""
             }
            },
            "type": "scattercarpet"
           }
          ],
          "scattergeo": [
           {
            "marker": {
             "colorbar": {
              "outlinewidth": 0,
              "ticks": ""
             }
            },
            "type": "scattergeo"
           }
          ],
          "scattergl": [
           {
            "marker": {
             "colorbar": {
              "outlinewidth": 0,
              "ticks": ""
             }
            },
            "type": "scattergl"
           }
          ],
          "scattermapbox": [
           {
            "marker": {
             "colorbar": {
              "outlinewidth": 0,
              "ticks": ""
             }
            },
            "type": "scattermapbox"
           }
          ],
          "scatterpolar": [
           {
            "marker": {
             "colorbar": {
              "outlinewidth": 0,
              "ticks": ""
             }
            },
            "type": "scatterpolar"
           }
          ],
          "scatterpolargl": [
           {
            "marker": {
             "colorbar": {
              "outlinewidth": 0,
              "ticks": ""
             }
            },
            "type": "scatterpolargl"
           }
          ],
          "scatterternary": [
           {
            "marker": {
             "colorbar": {
              "outlinewidth": 0,
              "ticks": ""
             }
            },
            "type": "scatterternary"
           }
          ],
          "surface": [
           {
            "colorbar": {
             "outlinewidth": 0,
             "ticks": ""
            },
            "colorscale": [
             [
              0,
              "#0d0887"
             ],
             [
              0.1111111111111111,
              "#46039f"
             ],
             [
              0.2222222222222222,
              "#7201a8"
             ],
             [
              0.3333333333333333,
              "#9c179e"
             ],
             [
              0.4444444444444444,
              "#bd3786"
             ],
             [
              0.5555555555555556,
              "#d8576b"
             ],
             [
              0.6666666666666666,
              "#ed7953"
             ],
             [
              0.7777777777777778,
              "#fb9f3a"
             ],
             [
              0.8888888888888888,
              "#fdca26"
             ],
             [
              1,
              "#f0f921"
             ]
            ],
            "type": "surface"
           }
          ],
          "table": [
           {
            "cells": {
             "fill": {
              "color": "#EBF0F8"
             },
             "line": {
              "color": "white"
             }
            },
            "header": {
             "fill": {
              "color": "#C8D4E3"
             },
             "line": {
              "color": "white"
             }
            },
            "type": "table"
           }
          ]
         },
         "layout": {
          "annotationdefaults": {
           "arrowcolor": "#2a3f5f",
           "arrowhead": 0,
           "arrowwidth": 1
          },
          "autotypenumbers": "strict",
          "coloraxis": {
           "colorbar": {
            "outlinewidth": 0,
            "ticks": ""
           }
          },
          "colorscale": {
           "diverging": [
            [
             0,
             "#8e0152"
            ],
            [
             0.1,
             "#c51b7d"
            ],
            [
             0.2,
             "#de77ae"
            ],
            [
             0.3,
             "#f1b6da"
            ],
            [
             0.4,
             "#fde0ef"
            ],
            [
             0.5,
             "#f7f7f7"
            ],
            [
             0.6,
             "#e6f5d0"
            ],
            [
             0.7,
             "#b8e186"
            ],
            [
             0.8,
             "#7fbc41"
            ],
            [
             0.9,
             "#4d9221"
            ],
            [
             1,
             "#276419"
            ]
           ],
           "sequential": [
            [
             0,
             "#0d0887"
            ],
            [
             0.1111111111111111,
             "#46039f"
            ],
            [
             0.2222222222222222,
             "#7201a8"
            ],
            [
             0.3333333333333333,
             "#9c179e"
            ],
            [
             0.4444444444444444,
             "#bd3786"
            ],
            [
             0.5555555555555556,
             "#d8576b"
            ],
            [
             0.6666666666666666,
             "#ed7953"
            ],
            [
             0.7777777777777778,
             "#fb9f3a"
            ],
            [
             0.8888888888888888,
             "#fdca26"
            ],
            [
             1,
             "#f0f921"
            ]
           ],
           "sequentialminus": [
            [
             0,
             "#0d0887"
            ],
            [
             0.1111111111111111,
             "#46039f"
            ],
            [
             0.2222222222222222,
             "#7201a8"
            ],
            [
             0.3333333333333333,
             "#9c179e"
            ],
            [
             0.4444444444444444,
             "#bd3786"
            ],
            [
             0.5555555555555556,
             "#d8576b"
            ],
            [
             0.6666666666666666,
             "#ed7953"
            ],
            [
             0.7777777777777778,
             "#fb9f3a"
            ],
            [
             0.8888888888888888,
             "#fdca26"
            ],
            [
             1,
             "#f0f921"
            ]
           ]
          },
          "colorway": [
           "#636efa",
           "#EF553B",
           "#00cc96",
           "#ab63fa",
           "#FFA15A",
           "#19d3f3",
           "#FF6692",
           "#B6E880",
           "#FF97FF",
           "#FECB52"
          ],
          "font": {
           "color": "#2a3f5f"
          },
          "geo": {
           "bgcolor": "white",
           "lakecolor": "white",
           "landcolor": "#E5ECF6",
           "showlakes": true,
           "showland": true,
           "subunitcolor": "white"
          },
          "hoverlabel": {
           "align": "left"
          },
          "hovermode": "closest",
          "mapbox": {
           "style": "light"
          },
          "paper_bgcolor": "white",
          "plot_bgcolor": "#E5ECF6",
          "polar": {
           "angularaxis": {
            "gridcolor": "white",
            "linecolor": "white",
            "ticks": ""
           },
           "bgcolor": "#E5ECF6",
           "radialaxis": {
            "gridcolor": "white",
            "linecolor": "white",
            "ticks": ""
           }
          },
          "scene": {
           "xaxis": {
            "backgroundcolor": "#E5ECF6",
            "gridcolor": "white",
            "gridwidth": 2,
            "linecolor": "white",
            "showbackground": true,
            "ticks": "",
            "zerolinecolor": "white"
           },
           "yaxis": {
            "backgroundcolor": "#E5ECF6",
            "gridcolor": "white",
            "gridwidth": 2,
            "linecolor": "white",
            "showbackground": true,
            "ticks": "",
            "zerolinecolor": "white"
           },
           "zaxis": {
            "backgroundcolor": "#E5ECF6",
            "gridcolor": "white",
            "gridwidth": 2,
            "linecolor": "white",
            "showbackground": true,
            "ticks": "",
            "zerolinecolor": "white"
           }
          },
          "shapedefaults": {
           "line": {
            "color": "#2a3f5f"
           }
          },
          "ternary": {
           "aaxis": {
            "gridcolor": "white",
            "linecolor": "white",
            "ticks": ""
           },
           "baxis": {
            "gridcolor": "white",
            "linecolor": "white",
            "ticks": ""
           },
           "bgcolor": "#E5ECF6",
           "caxis": {
            "gridcolor": "white",
            "linecolor": "white",
            "ticks": ""
           }
          },
          "title": {
           "x": 0.05
          },
          "xaxis": {
           "automargin": true,
           "gridcolor": "white",
           "linecolor": "white",
           "ticks": "",
           "title": {
            "standoff": 15
           },
           "zerolinecolor": "white",
           "zerolinewidth": 2
          },
          "yaxis": {
           "automargin": true,
           "gridcolor": "white",
           "linecolor": "white",
           "ticks": "",
           "title": {
            "standoff": 15
           },
           "zerolinecolor": "white",
           "zerolinewidth": 2
          }
         }
        },
        "title": {
         "text": "LabDoc 9"
        },
        "width": 900,
        "xaxis": {
         "anchor": "y",
         "domain": [
          0,
          1
         ],
         "range": [
          -0.05,
          1.05
         ],
         "title": {
          "text": "eqc_9_val"
         }
        },
        "yaxis": {
         "anchor": "x",
         "domain": [
          0,
          1
         ],
         "range": [
          -0.05,
          1.05
         ],
         "title": {
          "text": "coec_9_val"
         }
        }
       }
      }
     },
     "metadata": {},
     "output_type": "display_data"
    },
    {
     "data": {
      "application/vnd.plotly.v1+json": {
       "config": {
        "plotlyServerURL": "https://plot.ly",
        "scrollZoom": false
       },
       "data": [
        {
         "alignmentgroup": "True",
         "boxpoints": "all",
         "customdata": [
          [
           "Entièrement sommative",
           "Moyen",
           "Faible",
           0.09,
           0.06,
           0.04,
           0.06,
           0.32,
           0.53
          ]
         ],
         "fillcolor": "rgba(255,255,255,0)",
         "hoveron": "points",
         "hovertemplate": "<b>%{hovertext}</b><br><br>id_teacher=1<br>eqc_10_val=%{x}<br>coec_10_val=%{y}<br>st_10=%{customdata[0]}<br>eqc_10_lev=%{customdata[1]}<br>coec_10_lev=%{customdata[2]}<br>rmsd_eqc=%{customdata[3]}<br>rmsd_sr_eqc=%{customdata[4]}<br>rmsd_coec=%{customdata[5]}<br>rmsd_sr_coec=%{customdata[6]}<br>radius_sr_10=%{customdata[7]}<br>radius_10=%{customdata[8]}<extra></extra>",
         "hovertext": [
          1
         ],
         "legendgroup": "1",
         "line": {
          "color": "rgba(255,255,255,0)"
         },
         "marker": {
          "color": "#636efa",
          "size": 10
         },
         "name": "1",
         "offsetgroup": "1",
         "orientation": "v",
         "pointpos": 0,
         "showlegend": true,
         "type": "box",
         "x": [
          0.4
         ],
         "x0": " ",
         "xaxis": "x",
         "y": [
          0
         ],
         "y0": " ",
         "yaxis": "y"
        },
        {
         "alignmentgroup": "True",
         "boxpoints": "all",
         "customdata": [
          [
           "Entièrement sommative",
           "Moyen",
           "Faible",
           0.07,
           0.06,
           0.02,
           0.06,
           0.22,
           0.43
          ]
         ],
         "fillcolor": "rgba(255,255,255,0)",
         "hoveron": "points",
         "hovertemplate": "<b>%{hovertext}</b><br><br>id_teacher=2<br>eqc_10_val=%{x}<br>coec_10_val=%{y}<br>st_10=%{customdata[0]}<br>eqc_10_lev=%{customdata[1]}<br>coec_10_lev=%{customdata[2]}<br>rmsd_eqc=%{customdata[3]}<br>rmsd_sr_eqc=%{customdata[4]}<br>rmsd_coec=%{customdata[5]}<br>rmsd_sr_coec=%{customdata[6]}<br>radius_sr_10=%{customdata[7]}<br>radius_10=%{customdata[8]}<extra></extra>",
         "hovertext": [
          2
         ],
         "legendgroup": "2",
         "line": {
          "color": "rgba(255,255,255,0)"
         },
         "marker": {
          "color": "#EF553B",
          "size": 10
         },
         "name": "2",
         "offsetgroup": "2",
         "orientation": "v",
         "pointpos": 0,
         "showlegend": true,
         "type": "box",
         "x": [
          0.5
         ],
         "x0": " ",
         "xaxis": "x",
         "y": [
          0
         ],
         "y0": " ",
         "yaxis": "y"
        },
        {
         "alignmentgroup": "True",
         "boxpoints": "all",
         "customdata": [
          [
           "Entièrement sommative",
           "Fort",
           "Faible",
           0.03,
           0.02,
           0.06,
           0.15,
           0.05,
           0.24
          ]
         ],
         "fillcolor": "rgba(255,255,255,0)",
         "hoveron": "points",
         "hovertemplate": "<b>%{hovertext}</b><br><br>id_teacher=3<br>eqc_10_val=%{x}<br>coec_10_val=%{y}<br>st_10=%{customdata[0]}<br>eqc_10_lev=%{customdata[1]}<br>coec_10_lev=%{customdata[2]}<br>rmsd_eqc=%{customdata[3]}<br>rmsd_sr_eqc=%{customdata[4]}<br>rmsd_coec=%{customdata[5]}<br>rmsd_sr_coec=%{customdata[6]}<br>radius_sr_10=%{customdata[7]}<br>radius_10=%{customdata[8]}<extra></extra>",
         "hovertext": [
          3
         ],
         "legendgroup": "3",
         "line": {
          "color": "rgba(255,255,255,0)"
         },
         "marker": {
          "color": "#00cc96",
          "size": 10
         },
         "name": "3",
         "offsetgroup": "3",
         "orientation": "v",
         "pointpos": 0,
         "showlegend": true,
         "type": "box",
         "x": [
          0.7
         ],
         "x0": " ",
         "xaxis": "x",
         "y": [
          0
         ],
         "y0": " ",
         "yaxis": "y"
        },
        {
         "alignmentgroup": "True",
         "boxpoints": "all",
         "customdata": [
          [
           "Entièrement sommative",
           "Moyen",
           "Faible",
           0.05,
           0.03,
           0.02,
           0.04,
           0.22,
           0.42
          ]
         ],
         "fillcolor": "rgba(255,255,255,0)",
         "hoveron": "points",
         "hovertemplate": "<b>%{hovertext}</b><br><br>id_teacher=4<br>eqc_10_val=%{x}<br>coec_10_val=%{y}<br>st_10=%{customdata[0]}<br>eqc_10_lev=%{customdata[1]}<br>coec_10_lev=%{customdata[2]}<br>rmsd_eqc=%{customdata[3]}<br>rmsd_sr_eqc=%{customdata[4]}<br>rmsd_coec=%{customdata[5]}<br>rmsd_sr_coec=%{customdata[6]}<br>radius_sr_10=%{customdata[7]}<br>radius_10=%{customdata[8]}<extra></extra>",
         "hovertext": [
          4
         ],
         "legendgroup": "4",
         "line": {
          "color": "rgba(255,255,255,0)"
         },
         "marker": {
          "color": "#ab63fa",
          "size": 10
         },
         "name": "4",
         "offsetgroup": "4",
         "orientation": "v",
         "pointpos": 0,
         "showlegend": true,
         "type": "box",
         "x": [
          0.5
         ],
         "x0": " ",
         "xaxis": "x",
         "y": [
          0.1
         ],
         "y0": " ",
         "yaxis": "y"
        },
        {
         "alignmentgroup": "True",
         "boxpoints": "all",
         "customdata": [
          [
           "Entièrement sommative",
           "Moyen",
           "Faible",
           0.05,
           0.07,
           0.04,
           0.1,
           0.05,
           0.24
          ]
         ],
         "fillcolor": "rgba(255,255,255,0)",
         "hoveron": "points",
         "hovertemplate": "<b>%{hovertext}</b><br><br>id_teacher=5<br>eqc_10_val=%{x}<br>coec_10_val=%{y}<br>st_10=%{customdata[0]}<br>eqc_10_lev=%{customdata[1]}<br>coec_10_lev=%{customdata[2]}<br>rmsd_eqc=%{customdata[3]}<br>rmsd_sr_eqc=%{customdata[4]}<br>rmsd_coec=%{customdata[5]}<br>rmsd_sr_coec=%{customdata[6]}<br>radius_sr_10=%{customdata[7]}<br>radius_10=%{customdata[8]}<extra></extra>",
         "hovertext": [
          5
         ],
         "legendgroup": "5",
         "line": {
          "color": "rgba(255,255,255,0)"
         },
         "marker": {
          "color": "#FFA15A",
          "size": 10
         },
         "name": "5",
         "offsetgroup": "5",
         "orientation": "v",
         "pointpos": 0,
         "showlegend": true,
         "type": "box",
         "x": [
          0.7
         ],
         "x0": " ",
         "xaxis": "x",
         "y": [
          0
         ],
         "y0": " ",
         "yaxis": "y"
        },
        {
         "alignmentgroup": "True",
         "boxpoints": "all",
         "customdata": [
          [
           "Entièrement sommative",
           "Moyen",
           "Faible",
           0.03,
           0.03,
           0.03,
           0.03,
           0.04,
           0.23
          ]
         ],
         "fillcolor": "rgba(255,255,255,0)",
         "hoveron": "points",
         "hovertemplate": "<b>%{hovertext}</b><br><br>id_teacher=6<br>eqc_10_val=%{x}<br>coec_10_val=%{y}<br>st_10=%{customdata[0]}<br>eqc_10_lev=%{customdata[1]}<br>coec_10_lev=%{customdata[2]}<br>rmsd_eqc=%{customdata[3]}<br>rmsd_sr_eqc=%{customdata[4]}<br>rmsd_coec=%{customdata[5]}<br>rmsd_sr_coec=%{customdata[6]}<br>radius_sr_10=%{customdata[7]}<br>radius_10=%{customdata[8]}<extra></extra>",
         "hovertext": [
          6
         ],
         "legendgroup": "6",
         "line": {
          "color": "rgba(255,255,255,0)"
         },
         "marker": {
          "color": "#19d3f3",
          "size": 10
         },
         "name": "6",
         "offsetgroup": "6",
         "orientation": "v",
         "pointpos": 0,
         "showlegend": true,
         "type": "box",
         "x": [
          0.7
         ],
         "x0": " ",
         "xaxis": "x",
         "y": [
          0.01
         ],
         "y0": " ",
         "yaxis": "y"
        },
        {
         "alignmentgroup": "True",
         "boxpoints": "all",
         "customdata": [
          [
           "Entièrement sommative",
           "Moyen",
           "Faible",
           0.08,
           0.08,
           0.06,
           0.08,
           0.22,
           0.43
          ]
         ],
         "fillcolor": "rgba(255,255,255,0)",
         "hoveron": "points",
         "hovertemplate": "<b>%{hovertext}</b><br><br>id_teacher=7<br>eqc_10_val=%{x}<br>coec_10_val=%{y}<br>st_10=%{customdata[0]}<br>eqc_10_lev=%{customdata[1]}<br>coec_10_lev=%{customdata[2]}<br>rmsd_eqc=%{customdata[3]}<br>rmsd_sr_eqc=%{customdata[4]}<br>rmsd_coec=%{customdata[5]}<br>rmsd_sr_coec=%{customdata[6]}<br>radius_sr_10=%{customdata[7]}<br>radius_10=%{customdata[8]}<extra></extra>",
         "hovertext": [
          7
         ],
         "legendgroup": "7",
         "line": {
          "color": "rgba(255,255,255,0)"
         },
         "marker": {
          "color": "#FF6692",
          "size": 10
         },
         "name": "7",
         "offsetgroup": "7",
         "orientation": "v",
         "pointpos": 0,
         "showlegend": true,
         "type": "box",
         "x": [
          0.5
         ],
         "x0": " ",
         "xaxis": "x",
         "y": [
          0
         ],
         "y0": " ",
         "yaxis": "y"
        },
        {
         "alignmentgroup": "True",
         "boxpoints": "all",
         "customdata": [
          [
           "Entièrement sommative",
           "Moyen",
           "Faible",
           0.06,
           0.03,
           0.04,
           0.02,
           0.05,
           0.24
          ]
         ],
         "fillcolor": "rgba(255,255,255,0)",
         "hoveron": "points",
         "hovertemplate": "<b>%{hovertext}</b><br><br>id_teacher=8<br>eqc_10_val=%{x}<br>coec_10_val=%{y}<br>st_10=%{customdata[0]}<br>eqc_10_lev=%{customdata[1]}<br>coec_10_lev=%{customdata[2]}<br>rmsd_eqc=%{customdata[3]}<br>rmsd_sr_eqc=%{customdata[4]}<br>rmsd_coec=%{customdata[5]}<br>rmsd_sr_coec=%{customdata[6]}<br>radius_sr_10=%{customdata[7]}<br>radius_10=%{customdata[8]}<extra></extra>",
         "hovertext": [
          8
         ],
         "legendgroup": "8",
         "line": {
          "color": "rgba(255,255,255,0)"
         },
         "marker": {
          "color": "#B6E880",
          "size": 10
         },
         "name": "8",
         "offsetgroup": "8",
         "orientation": "v",
         "pointpos": 0,
         "showlegend": true,
         "type": "box",
         "x": [
          0.7
         ],
         "x0": " ",
         "xaxis": "x",
         "y": [
          0
         ],
         "y0": " ",
         "yaxis": "y"
        },
        {
         "alignmentgroup": "True",
         "boxpoints": "all",
         "customdata": [
          [
           "Entièrement sommative",
           "Fort",
           "Moyen",
           0.16,
           0.08,
           0.05,
           0.04,
           0.46,
           0.64
          ]
         ],
         "fillcolor": "rgba(255,255,255,0)",
         "hoveron": "points",
         "hovertemplate": "<b>%{hovertext}</b><br><br>id_teacher=9<br>eqc_10_val=%{x}<br>coec_10_val=%{y}<br>st_10=%{customdata[0]}<br>eqc_10_lev=%{customdata[1]}<br>coec_10_lev=%{customdata[2]}<br>rmsd_eqc=%{customdata[3]}<br>rmsd_sr_eqc=%{customdata[4]}<br>rmsd_coec=%{customdata[5]}<br>rmsd_sr_coec=%{customdata[6]}<br>radius_sr_10=%{customdata[7]}<br>radius_10=%{customdata[8]}<extra></extra>",
         "hovertext": [
          9
         ],
         "legendgroup": "9",
         "line": {
          "color": "rgba(255,255,255,0)"
         },
         "marker": {
          "color": "#FF97FF",
          "size": 10
         },
         "name": "9",
         "offsetgroup": "9",
         "orientation": "v",
         "pointpos": 0,
         "showlegend": true,
         "type": "box",
         "x": [
          0.3
         ],
         "x0": " ",
         "xaxis": "x",
         "y": [
          0.25
         ],
         "y0": " ",
         "yaxis": "y"
        },
        {
         "alignmentgroup": "True",
         "boxpoints": "all",
         "customdata": [
          [
           "Entièrement sommative",
           "Moyen",
           "Faible",
           0.05,
           0.03,
           0.05,
           0.09,
           0.22,
           0.43
          ]
         ],
         "fillcolor": "rgba(255,255,255,0)",
         "hoveron": "points",
         "hovertemplate": "<b>%{hovertext}</b><br><br>id_teacher=10<br>eqc_10_val=%{x}<br>coec_10_val=%{y}<br>st_10=%{customdata[0]}<br>eqc_10_lev=%{customdata[1]}<br>coec_10_lev=%{customdata[2]}<br>rmsd_eqc=%{customdata[3]}<br>rmsd_sr_eqc=%{customdata[4]}<br>rmsd_coec=%{customdata[5]}<br>rmsd_sr_coec=%{customdata[6]}<br>radius_sr_10=%{customdata[7]}<br>radius_10=%{customdata[8]}<extra></extra>",
         "hovertext": [
          10
         ],
         "legendgroup": "10",
         "line": {
          "color": "rgba(255,255,255,0)"
         },
         "marker": {
          "color": "#FECB52",
          "size": 10
         },
         "name": "10",
         "offsetgroup": "10",
         "orientation": "v",
         "pointpos": 0,
         "showlegend": true,
         "type": "box",
         "x": [
          0.5
         ],
         "x0": " ",
         "xaxis": "x",
         "y": [
          0
         ],
         "y0": " ",
         "yaxis": "y"
        },
        {
         "alignmentgroup": "True",
         "boxpoints": "all",
         "customdata": [
          [
           "Entièrement sommative",
           "Faible",
           "Faible",
           0.06,
           0.05,
           0.04,
           0.09,
           0.32,
           0.53
          ]
         ],
         "fillcolor": "rgba(255,255,255,0)",
         "hoveron": "points",
         "hovertemplate": "<b>%{hovertext}</b><br><br>id_teacher=11<br>eqc_10_val=%{x}<br>coec_10_val=%{y}<br>st_10=%{customdata[0]}<br>eqc_10_lev=%{customdata[1]}<br>coec_10_lev=%{customdata[2]}<br>rmsd_eqc=%{customdata[3]}<br>rmsd_sr_eqc=%{customdata[4]}<br>rmsd_coec=%{customdata[5]}<br>rmsd_sr_coec=%{customdata[6]}<br>radius_sr_10=%{customdata[7]}<br>radius_10=%{customdata[8]}<extra></extra>",
         "hovertext": [
          11
         ],
         "legendgroup": "11",
         "line": {
          "color": "rgba(255,255,255,0)"
         },
         "marker": {
          "color": "#636efa",
          "size": 10
         },
         "name": "11",
         "offsetgroup": "11",
         "orientation": "v",
         "pointpos": 0,
         "showlegend": true,
         "type": "box",
         "x": [
          0.4
         ],
         "x0": " ",
         "xaxis": "x",
         "y": [
          0
         ],
         "y0": " ",
         "yaxis": "y"
        },
        {
         "alignmentgroup": "True",
         "boxpoints": "all",
         "customdata": [
          [
           "Entièrement sommative",
           "Moyen",
           "Faible",
           0.08,
           0.09,
           0.07,
           0.08,
           0.13,
           0.32
          ]
         ],
         "fillcolor": "rgba(255,255,255,0)",
         "hoveron": "points",
         "hovertemplate": "<b>%{hovertext}</b><br><br>id_teacher=12<br>eqc_10_val=%{x}<br>coec_10_val=%{y}<br>st_10=%{customdata[0]}<br>eqc_10_lev=%{customdata[1]}<br>coec_10_lev=%{customdata[2]}<br>rmsd_eqc=%{customdata[3]}<br>rmsd_sr_eqc=%{customdata[4]}<br>rmsd_coec=%{customdata[5]}<br>rmsd_sr_coec=%{customdata[6]}<br>radius_sr_10=%{customdata[7]}<br>radius_10=%{customdata[8]}<extra></extra>",
         "hovertext": [
          12
         ],
         "legendgroup": "12",
         "line": {
          "color": "rgba(255,255,255,0)"
         },
         "marker": {
          "color": "#EF553B",
          "size": 10
         },
         "name": "12",
         "offsetgroup": "12",
         "orientation": "v",
         "pointpos": 0,
         "showlegend": true,
         "type": "box",
         "x": [
          0.6
         ],
         "x0": " ",
         "xaxis": "x",
         "y": [
          0.1
         ],
         "y0": " ",
         "yaxis": "y"
        },
        {
         "alignmentgroup": "True",
         "boxpoints": "all",
         "customdata": [
          [
           "Entièrement sommative",
           "Moyen",
           "Faible",
           0.04,
           0.04,
           0.05,
           0.12,
           0.1,
           0.15
          ]
         ],
         "fillcolor": "rgba(255,255,255,0)",
         "hoveron": "points",
         "hovertemplate": "<b>%{hovertext}</b><br><br>id_teacher=13<br>eqc_10_val=%{x}<br>coec_10_val=%{y}<br>st_10=%{customdata[0]}<br>eqc_10_lev=%{customdata[1]}<br>coec_10_lev=%{customdata[2]}<br>rmsd_eqc=%{customdata[3]}<br>rmsd_sr_eqc=%{customdata[4]}<br>rmsd_coec=%{customdata[5]}<br>rmsd_sr_coec=%{customdata[6]}<br>radius_sr_10=%{customdata[7]}<br>radius_10=%{customdata[8]}<extra></extra>",
         "hovertext": [
          13
         ],
         "legendgroup": "13",
         "line": {
          "color": "rgba(255,255,255,0)"
         },
         "marker": {
          "color": "#00cc96",
          "size": 10
         },
         "name": "13",
         "offsetgroup": "13",
         "orientation": "v",
         "pointpos": 0,
         "showlegend": true,
         "type": "box",
         "x": [
          0.8
         ],
         "x0": " ",
         "xaxis": "x",
         "y": [
          0
         ],
         "y0": " ",
         "yaxis": "y"
        },
        {
         "alignmentgroup": "True",
         "boxpoints": "all",
         "customdata": [
          [
           "Entre sommative et intégrative",
           "Moyen",
           "Moyen",
           0.13,
           0.06,
           0.07,
           0.06,
           0.41,
           0.56
          ]
         ],
         "fillcolor": "rgba(255,255,255,0)",
         "hoveron": "points",
         "hovertemplate": "<b>%{hovertext}</b><br><br>id_teacher=14<br>eqc_10_val=%{x}<br>coec_10_val=%{y}<br>st_10=%{customdata[0]}<br>eqc_10_lev=%{customdata[1]}<br>coec_10_lev=%{customdata[2]}<br>rmsd_eqc=%{customdata[3]}<br>rmsd_sr_eqc=%{customdata[4]}<br>rmsd_coec=%{customdata[5]}<br>rmsd_sr_coec=%{customdata[6]}<br>radius_sr_10=%{customdata[7]}<br>radius_10=%{customdata[8]}<extra></extra>",
         "hovertext": [
          14
         ],
         "legendgroup": "14",
         "line": {
          "color": "rgba(255,255,255,0)"
         },
         "marker": {
          "color": "#ab63fa",
          "size": 10
         },
         "name": "14",
         "offsetgroup": "14",
         "orientation": "v",
         "pointpos": 0,
         "showlegend": true,
         "type": "box",
         "x": [
          0.4
         ],
         "x0": " ",
         "xaxis": "x",
         "y": [
          0.3
         ],
         "y0": " ",
         "yaxis": "y"
        },
        {
         "alignmentgroup": "True",
         "boxpoints": "all",
         "customdata": [
          [
           "Entièrement sommative",
           "Fort",
           "Faible",
           0.06,
           0.05,
           0.05,
           0.08,
           0.05,
           0.24
          ]
         ],
         "fillcolor": "rgba(255,255,255,0)",
         "hoveron": "points",
         "hovertemplate": "<b>%{hovertext}</b><br><br>id_teacher=15<br>eqc_10_val=%{x}<br>coec_10_val=%{y}<br>st_10=%{customdata[0]}<br>eqc_10_lev=%{customdata[1]}<br>coec_10_lev=%{customdata[2]}<br>rmsd_eqc=%{customdata[3]}<br>rmsd_sr_eqc=%{customdata[4]}<br>rmsd_coec=%{customdata[5]}<br>rmsd_sr_coec=%{customdata[6]}<br>radius_sr_10=%{customdata[7]}<br>radius_10=%{customdata[8]}<extra></extra>",
         "hovertext": [
          15
         ],
         "legendgroup": "15",
         "line": {
          "color": "rgba(255,255,255,0)"
         },
         "marker": {
          "color": "#FFA15A",
          "size": 10
         },
         "name": "15",
         "offsetgroup": "15",
         "orientation": "v",
         "pointpos": 0,
         "showlegend": true,
         "type": "box",
         "x": [
          0.7
         ],
         "x0": " ",
         "xaxis": "x",
         "y": [
          0
         ],
         "y0": " ",
         "yaxis": "y"
        },
        {
         "marker": {
          "color": [
           2,
           3
          ],
          "size": [
           30,
           30
          ]
         },
         "mode": "markers",
         "type": "scatter",
         "x": [
          0.717,
          0.92
         ],
         "y": [
          0.047,
          0.092
         ]
        }
       ],
       "layout": {
        "boxmode": "group",
        "height": 700,
        "legend": {
         "title": {
          "text": "id_teacher"
         },
         "tracegroupgap": 0
        },
        "margin": {
         "t": 60
        },
        "shapes": [
         {
          "type": "line",
          "x0": 0,
          "x1": 1,
          "y0": 0,
          "y1": 1
         },
         {
          "type": "line",
          "x0": 0.5,
          "y0": 0.5
         }
        ],
        "template": {
         "data": {
          "bar": [
           {
            "error_x": {
             "color": "#2a3f5f"
            },
            "error_y": {
             "color": "#2a3f5f"
            },
            "marker": {
             "line": {
              "color": "#E5ECF6",
              "width": 0.5
             },
             "pattern": {
              "fillmode": "overlay",
              "size": 10,
              "solidity": 0.2
             }
            },
            "type": "bar"
           }
          ],
          "barpolar": [
           {
            "marker": {
             "line": {
              "color": "#E5ECF6",
              "width": 0.5
             },
             "pattern": {
              "fillmode": "overlay",
              "size": 10,
              "solidity": 0.2
             }
            },
            "type": "barpolar"
           }
          ],
          "carpet": [
           {
            "aaxis": {
             "endlinecolor": "#2a3f5f",
             "gridcolor": "white",
             "linecolor": "white",
             "minorgridcolor": "white",
             "startlinecolor": "#2a3f5f"
            },
            "baxis": {
             "endlinecolor": "#2a3f5f",
             "gridcolor": "white",
             "linecolor": "white",
             "minorgridcolor": "white",
             "startlinecolor": "#2a3f5f"
            },
            "type": "carpet"
           }
          ],
          "choropleth": [
           {
            "colorbar": {
             "outlinewidth": 0,
             "ticks": ""
            },
            "type": "choropleth"
           }
          ],
          "contour": [
           {
            "colorbar": {
             "outlinewidth": 0,
             "ticks": ""
            },
            "colorscale": [
             [
              0,
              "#0d0887"
             ],
             [
              0.1111111111111111,
              "#46039f"
             ],
             [
              0.2222222222222222,
              "#7201a8"
             ],
             [
              0.3333333333333333,
              "#9c179e"
             ],
             [
              0.4444444444444444,
              "#bd3786"
             ],
             [
              0.5555555555555556,
              "#d8576b"
             ],
             [
              0.6666666666666666,
              "#ed7953"
             ],
             [
              0.7777777777777778,
              "#fb9f3a"
             ],
             [
              0.8888888888888888,
              "#fdca26"
             ],
             [
              1,
              "#f0f921"
             ]
            ],
            "type": "contour"
           }
          ],
          "contourcarpet": [
           {
            "colorbar": {
             "outlinewidth": 0,
             "ticks": ""
            },
            "type": "contourcarpet"
           }
          ],
          "heatmap": [
           {
            "colorbar": {
             "outlinewidth": 0,
             "ticks": ""
            },
            "colorscale": [
             [
              0,
              "#0d0887"
             ],
             [
              0.1111111111111111,
              "#46039f"
             ],
             [
              0.2222222222222222,
              "#7201a8"
             ],
             [
              0.3333333333333333,
              "#9c179e"
             ],
             [
              0.4444444444444444,
              "#bd3786"
             ],
             [
              0.5555555555555556,
              "#d8576b"
             ],
             [
              0.6666666666666666,
              "#ed7953"
             ],
             [
              0.7777777777777778,
              "#fb9f3a"
             ],
             [
              0.8888888888888888,
              "#fdca26"
             ],
             [
              1,
              "#f0f921"
             ]
            ],
            "type": "heatmap"
           }
          ],
          "heatmapgl": [
           {
            "colorbar": {
             "outlinewidth": 0,
             "ticks": ""
            },
            "colorscale": [
             [
              0,
              "#0d0887"
             ],
             [
              0.1111111111111111,
              "#46039f"
             ],
             [
              0.2222222222222222,
              "#7201a8"
             ],
             [
              0.3333333333333333,
              "#9c179e"
             ],
             [
              0.4444444444444444,
              "#bd3786"
             ],
             [
              0.5555555555555556,
              "#d8576b"
             ],
             [
              0.6666666666666666,
              "#ed7953"
             ],
             [
              0.7777777777777778,
              "#fb9f3a"
             ],
             [
              0.8888888888888888,
              "#fdca26"
             ],
             [
              1,
              "#f0f921"
             ]
            ],
            "type": "heatmapgl"
           }
          ],
          "histogram": [
           {
            "marker": {
             "pattern": {
              "fillmode": "overlay",
              "size": 10,
              "solidity": 0.2
             }
            },
            "type": "histogram"
           }
          ],
          "histogram2d": [
           {
            "colorbar": {
             "outlinewidth": 0,
             "ticks": ""
            },
            "colorscale": [
             [
              0,
              "#0d0887"
             ],
             [
              0.1111111111111111,
              "#46039f"
             ],
             [
              0.2222222222222222,
              "#7201a8"
             ],
             [
              0.3333333333333333,
              "#9c179e"
             ],
             [
              0.4444444444444444,
              "#bd3786"
             ],
             [
              0.5555555555555556,
              "#d8576b"
             ],
             [
              0.6666666666666666,
              "#ed7953"
             ],
             [
              0.7777777777777778,
              "#fb9f3a"
             ],
             [
              0.8888888888888888,
              "#fdca26"
             ],
             [
              1,
              "#f0f921"
             ]
            ],
            "type": "histogram2d"
           }
          ],
          "histogram2dcontour": [
           {
            "colorbar": {
             "outlinewidth": 0,
             "ticks": ""
            },
            "colorscale": [
             [
              0,
              "#0d0887"
             ],
             [
              0.1111111111111111,
              "#46039f"
             ],
             [
              0.2222222222222222,
              "#7201a8"
             ],
             [
              0.3333333333333333,
              "#9c179e"
             ],
             [
              0.4444444444444444,
              "#bd3786"
             ],
             [
              0.5555555555555556,
              "#d8576b"
             ],
             [
              0.6666666666666666,
              "#ed7953"
             ],
             [
              0.7777777777777778,
              "#fb9f3a"
             ],
             [
              0.8888888888888888,
              "#fdca26"
             ],
             [
              1,
              "#f0f921"
             ]
            ],
            "type": "histogram2dcontour"
           }
          ],
          "mesh3d": [
           {
            "colorbar": {
             "outlinewidth": 0,
             "ticks": ""
            },
            "type": "mesh3d"
           }
          ],
          "parcoords": [
           {
            "line": {
             "colorbar": {
              "outlinewidth": 0,
              "ticks": ""
             }
            },
            "type": "parcoords"
           }
          ],
          "pie": [
           {
            "automargin": true,
            "type": "pie"
           }
          ],
          "scatter": [
           {
            "marker": {
             "colorbar": {
              "outlinewidth": 0,
              "ticks": ""
             }
            },
            "type": "scatter"
           }
          ],
          "scatter3d": [
           {
            "line": {
             "colorbar": {
              "outlinewidth": 0,
              "ticks": ""
             }
            },
            "marker": {
             "colorbar": {
              "outlinewidth": 0,
              "ticks": ""
             }
            },
            "type": "scatter3d"
           }
          ],
          "scattercarpet": [
           {
            "marker": {
             "colorbar": {
              "outlinewidth": 0,
              "ticks": ""
             }
            },
            "type": "scattercarpet"
           }
          ],
          "scattergeo": [
           {
            "marker": {
             "colorbar": {
              "outlinewidth": 0,
              "ticks": ""
             }
            },
            "type": "scattergeo"
           }
          ],
          "scattergl": [
           {
            "marker": {
             "colorbar": {
              "outlinewidth": 0,
              "ticks": ""
             }
            },
            "type": "scattergl"
           }
          ],
          "scattermapbox": [
           {
            "marker": {
             "colorbar": {
              "outlinewidth": 0,
              "ticks": ""
             }
            },
            "type": "scattermapbox"
           }
          ],
          "scatterpolar": [
           {
            "marker": {
             "colorbar": {
              "outlinewidth": 0,
              "ticks": ""
             }
            },
            "type": "scatterpolar"
           }
          ],
          "scatterpolargl": [
           {
            "marker": {
             "colorbar": {
              "outlinewidth": 0,
              "ticks": ""
             }
            },
            "type": "scatterpolargl"
           }
          ],
          "scatterternary": [
           {
            "marker": {
             "colorbar": {
              "outlinewidth": 0,
              "ticks": ""
             }
            },
            "type": "scatterternary"
           }
          ],
          "surface": [
           {
            "colorbar": {
             "outlinewidth": 0,
             "ticks": ""
            },
            "colorscale": [
             [
              0,
              "#0d0887"
             ],
             [
              0.1111111111111111,
              "#46039f"
             ],
             [
              0.2222222222222222,
              "#7201a8"
             ],
             [
              0.3333333333333333,
              "#9c179e"
             ],
             [
              0.4444444444444444,
              "#bd3786"
             ],
             [
              0.5555555555555556,
              "#d8576b"
             ],
             [
              0.6666666666666666,
              "#ed7953"
             ],
             [
              0.7777777777777778,
              "#fb9f3a"
             ],
             [
              0.8888888888888888,
              "#fdca26"
             ],
             [
              1,
              "#f0f921"
             ]
            ],
            "type": "surface"
           }
          ],
          "table": [
           {
            "cells": {
             "fill": {
              "color": "#EBF0F8"
             },
             "line": {
              "color": "white"
             }
            },
            "header": {
             "fill": {
              "color": "#C8D4E3"
             },
             "line": {
              "color": "white"
             }
            },
            "type": "table"
           }
          ]
         },
         "layout": {
          "annotationdefaults": {
           "arrowcolor": "#2a3f5f",
           "arrowhead": 0,
           "arrowwidth": 1
          },
          "autotypenumbers": "strict",
          "coloraxis": {
           "colorbar": {
            "outlinewidth": 0,
            "ticks": ""
           }
          },
          "colorscale": {
           "diverging": [
            [
             0,
             "#8e0152"
            ],
            [
             0.1,
             "#c51b7d"
            ],
            [
             0.2,
             "#de77ae"
            ],
            [
             0.3,
             "#f1b6da"
            ],
            [
             0.4,
             "#fde0ef"
            ],
            [
             0.5,
             "#f7f7f7"
            ],
            [
             0.6,
             "#e6f5d0"
            ],
            [
             0.7,
             "#b8e186"
            ],
            [
             0.8,
             "#7fbc41"
            ],
            [
             0.9,
             "#4d9221"
            ],
            [
             1,
             "#276419"
            ]
           ],
           "sequential": [
            [
             0,
             "#0d0887"
            ],
            [
             0.1111111111111111,
             "#46039f"
            ],
            [
             0.2222222222222222,
             "#7201a8"
            ],
            [
             0.3333333333333333,
             "#9c179e"
            ],
            [
             0.4444444444444444,
             "#bd3786"
            ],
            [
             0.5555555555555556,
             "#d8576b"
            ],
            [
             0.6666666666666666,
             "#ed7953"
            ],
            [
             0.7777777777777778,
             "#fb9f3a"
            ],
            [
             0.8888888888888888,
             "#fdca26"
            ],
            [
             1,
             "#f0f921"
            ]
           ],
           "sequentialminus": [
            [
             0,
             "#0d0887"
            ],
            [
             0.1111111111111111,
             "#46039f"
            ],
            [
             0.2222222222222222,
             "#7201a8"
            ],
            [
             0.3333333333333333,
             "#9c179e"
            ],
            [
             0.4444444444444444,
             "#bd3786"
            ],
            [
             0.5555555555555556,
             "#d8576b"
            ],
            [
             0.6666666666666666,
             "#ed7953"
            ],
            [
             0.7777777777777778,
             "#fb9f3a"
            ],
            [
             0.8888888888888888,
             "#fdca26"
            ],
            [
             1,
             "#f0f921"
            ]
           ]
          },
          "colorway": [
           "#636efa",
           "#EF553B",
           "#00cc96",
           "#ab63fa",
           "#FFA15A",
           "#19d3f3",
           "#FF6692",
           "#B6E880",
           "#FF97FF",
           "#FECB52"
          ],
          "font": {
           "color": "#2a3f5f"
          },
          "geo": {
           "bgcolor": "white",
           "lakecolor": "white",
           "landcolor": "#E5ECF6",
           "showlakes": true,
           "showland": true,
           "subunitcolor": "white"
          },
          "hoverlabel": {
           "align": "left"
          },
          "hovermode": "closest",
          "mapbox": {
           "style": "light"
          },
          "paper_bgcolor": "white",
          "plot_bgcolor": "#E5ECF6",
          "polar": {
           "angularaxis": {
            "gridcolor": "white",
            "linecolor": "white",
            "ticks": ""
           },
           "bgcolor": "#E5ECF6",
           "radialaxis": {
            "gridcolor": "white",
            "linecolor": "white",
            "ticks": ""
           }
          },
          "scene": {
           "xaxis": {
            "backgroundcolor": "#E5ECF6",
            "gridcolor": "white",
            "gridwidth": 2,
            "linecolor": "white",
            "showbackground": true,
            "ticks": "",
            "zerolinecolor": "white"
           },
           "yaxis": {
            "backgroundcolor": "#E5ECF6",
            "gridcolor": "white",
            "gridwidth": 2,
            "linecolor": "white",
            "showbackground": true,
            "ticks": "",
            "zerolinecolor": "white"
           },
           "zaxis": {
            "backgroundcolor": "#E5ECF6",
            "gridcolor": "white",
            "gridwidth": 2,
            "linecolor": "white",
            "showbackground": true,
            "ticks": "",
            "zerolinecolor": "white"
           }
          },
          "shapedefaults": {
           "line": {
            "color": "#2a3f5f"
           }
          },
          "ternary": {
           "aaxis": {
            "gridcolor": "white",
            "linecolor": "white",
            "ticks": ""
           },
           "baxis": {
            "gridcolor": "white",
            "linecolor": "white",
            "ticks": ""
           },
           "bgcolor": "#E5ECF6",
           "caxis": {
            "gridcolor": "white",
            "linecolor": "white",
            "ticks": ""
           }
          },
          "title": {
           "x": 0.05
          },
          "xaxis": {
           "automargin": true,
           "gridcolor": "white",
           "linecolor": "white",
           "ticks": "",
           "title": {
            "standoff": 15
           },
           "zerolinecolor": "white",
           "zerolinewidth": 2
          },
          "yaxis": {
           "automargin": true,
           "gridcolor": "white",
           "linecolor": "white",
           "ticks": "",
           "title": {
            "standoff": 15
           },
           "zerolinecolor": "white",
           "zerolinewidth": 2
          }
         }
        },
        "title": {
         "text": "LabDoc 10"
        },
        "width": 900,
        "xaxis": {
         "anchor": "y",
         "domain": [
          0,
          1
         ],
         "range": [
          -0.05,
          1.05
         ],
         "title": {
          "text": "eqc_10_val"
         }
        },
        "yaxis": {
         "anchor": "x",
         "domain": [
          0,
          1
         ],
         "range": [
          -0.05,
          1.05
         ],
         "title": {
          "text": "coec_10_val"
         }
        }
       }
      }
     },
     "metadata": {},
     "output_type": "display_data"
    },
    {
     "data": {
      "application/vnd.plotly.v1+json": {
       "config": {
        "plotlyServerURL": "https://plot.ly",
        "scrollZoom": false
       },
       "data": [
        {
         "alignmentgroup": "True",
         "boxpoints": "all",
         "customdata": [
          [
           "Entièrement sommative",
           "Faible",
           "Faible",
           0.09,
           0.06,
           0.04,
           0.06,
           0.06,
           0.2
          ]
         ],
         "fillcolor": "rgba(255,255,255,0)",
         "hoveron": "points",
         "hovertemplate": "<b>%{hovertext}</b><br><br>id_teacher=1<br>eqc_11_val=%{x}<br>coec_11_val=%{y}<br>st_11=%{customdata[0]}<br>eqc_11_lev=%{customdata[1]}<br>coec_11_lev=%{customdata[2]}<br>rmsd_eqc=%{customdata[3]}<br>rmsd_sr_eqc=%{customdata[4]}<br>rmsd_coec=%{customdata[5]}<br>rmsd_sr_coec=%{customdata[6]}<br>radius_sr_11=%{customdata[7]}<br>radius_11=%{customdata[8]}<extra></extra>",
         "hovertext": [
          1
         ],
         "legendgroup": "1",
         "line": {
          "color": "rgba(255,255,255,0)"
         },
         "marker": {
          "color": "#636efa",
          "size": 10
         },
         "name": "1",
         "offsetgroup": "1",
         "orientation": "v",
         "pointpos": 0,
         "showlegend": true,
         "type": "box",
         "x": [
          0.1
         ],
         "x0": " ",
         "xaxis": "x",
         "y": [
          0
         ],
         "y0": " ",
         "yaxis": "y"
        },
        {
         "alignmentgroup": "True",
         "boxpoints": "all",
         "customdata": [
          [
           "Entièrement sommative",
           "Faible",
           "Faible",
           0.07,
           0.06,
           0.02,
           0.06,
           0.06,
           0.2
          ]
         ],
         "fillcolor": "rgba(255,255,255,0)",
         "hoveron": "points",
         "hovertemplate": "<b>%{hovertext}</b><br><br>id_teacher=2<br>eqc_11_val=%{x}<br>coec_11_val=%{y}<br>st_11=%{customdata[0]}<br>eqc_11_lev=%{customdata[1]}<br>coec_11_lev=%{customdata[2]}<br>rmsd_eqc=%{customdata[3]}<br>rmsd_sr_eqc=%{customdata[4]}<br>rmsd_coec=%{customdata[5]}<br>rmsd_sr_coec=%{customdata[6]}<br>radius_sr_11=%{customdata[7]}<br>radius_11=%{customdata[8]}<extra></extra>",
         "hovertext": [
          2
         ],
         "legendgroup": "2",
         "line": {
          "color": "rgba(255,255,255,0)"
         },
         "marker": {
          "color": "#EF553B",
          "size": 10
         },
         "name": "2",
         "offsetgroup": "2",
         "orientation": "v",
         "pointpos": 0,
         "showlegend": true,
         "type": "box",
         "x": [
          0.1
         ],
         "x0": " ",
         "xaxis": "x",
         "y": [
          0
         ],
         "y0": " ",
         "yaxis": "y"
        },
        {
         "alignmentgroup": "True",
         "boxpoints": "all",
         "customdata": [
          [
           "Entièrement sommative",
           "Faible",
           "Faible",
           0.03,
           0.02,
           0.06,
           0.15,
           0.04,
           0.1
          ]
         ],
         "fillcolor": "rgba(255,255,255,0)",
         "hoveron": "points",
         "hovertemplate": "<b>%{hovertext}</b><br><br>id_teacher=3<br>eqc_11_val=%{x}<br>coec_11_val=%{y}<br>st_11=%{customdata[0]}<br>eqc_11_lev=%{customdata[1]}<br>coec_11_lev=%{customdata[2]}<br>rmsd_eqc=%{customdata[3]}<br>rmsd_sr_eqc=%{customdata[4]}<br>rmsd_coec=%{customdata[5]}<br>rmsd_sr_coec=%{customdata[6]}<br>radius_sr_11=%{customdata[7]}<br>radius_11=%{customdata[8]}<extra></extra>",
         "hovertext": [
          3
         ],
         "legendgroup": "3",
         "line": {
          "color": "rgba(255,255,255,0)"
         },
         "marker": {
          "color": "#00cc96",
          "size": 10
         },
         "name": "3",
         "offsetgroup": "3",
         "orientation": "v",
         "pointpos": 0,
         "showlegend": true,
         "type": "box",
         "x": [
          0.2
         ],
         "x0": " ",
         "xaxis": "x",
         "y": [
          0
         ],
         "y0": " ",
         "yaxis": "y"
        },
        {
         "alignmentgroup": "True",
         "boxpoints": "all",
         "customdata": [
          [
           "Entièrement sommative",
           "Faible",
           "Faible",
           0.05,
           0.03,
           0.02,
           0.04,
           0.06,
           0.2
          ]
         ],
         "fillcolor": "rgba(255,255,255,0)",
         "hoveron": "points",
         "hovertemplate": "<b>%{hovertext}</b><br><br>id_teacher=4<br>eqc_11_val=%{x}<br>coec_11_val=%{y}<br>st_11=%{customdata[0]}<br>eqc_11_lev=%{customdata[1]}<br>coec_11_lev=%{customdata[2]}<br>rmsd_eqc=%{customdata[3]}<br>rmsd_sr_eqc=%{customdata[4]}<br>rmsd_coec=%{customdata[5]}<br>rmsd_sr_coec=%{customdata[6]}<br>radius_sr_11=%{customdata[7]}<br>radius_11=%{customdata[8]}<extra></extra>",
         "hovertext": [
          4
         ],
         "legendgroup": "4",
         "line": {
          "color": "rgba(255,255,255,0)"
         },
         "marker": {
          "color": "#ab63fa",
          "size": 10
         },
         "name": "4",
         "offsetgroup": "4",
         "orientation": "v",
         "pointpos": 0,
         "showlegend": true,
         "type": "box",
         "x": [
          0.1
         ],
         "x0": " ",
         "xaxis": "x",
         "y": [
          0
         ],
         "y0": " ",
         "yaxis": "y"
        },
        {
         "alignmentgroup": "True",
         "boxpoints": "all",
         "customdata": [
          [
           "Entièrement sommative",
           "Faible",
           "Faible",
           0.05,
           0.07,
           0.04,
           0.1,
           0.04,
           0.1
          ]
         ],
         "fillcolor": "rgba(255,255,255,0)",
         "hoveron": "points",
         "hovertemplate": "<b>%{hovertext}</b><br><br>id_teacher=5<br>eqc_11_val=%{x}<br>coec_11_val=%{y}<br>st_11=%{customdata[0]}<br>eqc_11_lev=%{customdata[1]}<br>coec_11_lev=%{customdata[2]}<br>rmsd_eqc=%{customdata[3]}<br>rmsd_sr_eqc=%{customdata[4]}<br>rmsd_coec=%{customdata[5]}<br>rmsd_sr_coec=%{customdata[6]}<br>radius_sr_11=%{customdata[7]}<br>radius_11=%{customdata[8]}<extra></extra>",
         "hovertext": [
          5
         ],
         "legendgroup": "5",
         "line": {
          "color": "rgba(255,255,255,0)"
         },
         "marker": {
          "color": "#FFA15A",
          "size": 10
         },
         "name": "5",
         "offsetgroup": "5",
         "orientation": "v",
         "pointpos": 0,
         "showlegend": true,
         "type": "box",
         "x": [
          0.2
         ],
         "x0": " ",
         "xaxis": "x",
         "y": [
          0
         ],
         "y0": " ",
         "yaxis": "y"
        },
        {
         "alignmentgroup": "True",
         "boxpoints": "all",
         "customdata": [
          [
           "Entièrement sommative",
           "Faible",
           "Faible",
           0.03,
           0.03,
           0.03,
           0.03,
           0.06,
           0.2
          ]
         ],
         "fillcolor": "rgba(255,255,255,0)",
         "hoveron": "points",
         "hovertemplate": "<b>%{hovertext}</b><br><br>id_teacher=6<br>eqc_11_val=%{x}<br>coec_11_val=%{y}<br>st_11=%{customdata[0]}<br>eqc_11_lev=%{customdata[1]}<br>coec_11_lev=%{customdata[2]}<br>rmsd_eqc=%{customdata[3]}<br>rmsd_sr_eqc=%{customdata[4]}<br>rmsd_coec=%{customdata[5]}<br>rmsd_sr_coec=%{customdata[6]}<br>radius_sr_11=%{customdata[7]}<br>radius_11=%{customdata[8]}<extra></extra>",
         "hovertext": [
          6
         ],
         "legendgroup": "6",
         "line": {
          "color": "rgba(255,255,255,0)"
         },
         "marker": {
          "color": "#19d3f3",
          "size": 10
         },
         "name": "6",
         "offsetgroup": "6",
         "orientation": "v",
         "pointpos": 0,
         "showlegend": true,
         "type": "box",
         "x": [
          0.1
         ],
         "x0": " ",
         "xaxis": "x",
         "y": [
          0
         ],
         "y0": " ",
         "yaxis": "y"
        },
        {
         "alignmentgroup": "True",
         "boxpoints": "all",
         "customdata": [
          [
           "Entièrement sommative",
           "Faible",
           "Faible",
           0.08,
           0.08,
           0.06,
           0.08,
           0.11,
           0.25
          ]
         ],
         "fillcolor": "rgba(255,255,255,0)",
         "hoveron": "points",
         "hovertemplate": "<b>%{hovertext}</b><br><br>id_teacher=7<br>eqc_11_val=%{x}<br>coec_11_val=%{y}<br>st_11=%{customdata[0]}<br>eqc_11_lev=%{customdata[1]}<br>coec_11_lev=%{customdata[2]}<br>rmsd_eqc=%{customdata[3]}<br>rmsd_sr_eqc=%{customdata[4]}<br>rmsd_coec=%{customdata[5]}<br>rmsd_sr_coec=%{customdata[6]}<br>radius_sr_11=%{customdata[7]}<br>radius_11=%{customdata[8]}<extra></extra>",
         "hovertext": [
          7
         ],
         "legendgroup": "7",
         "line": {
          "color": "rgba(255,255,255,0)"
         },
         "marker": {
          "color": "#FF6692",
          "size": 10
         },
         "name": "7",
         "offsetgroup": "7",
         "orientation": "v",
         "pointpos": 0,
         "showlegend": true,
         "type": "box",
         "x": [
          0.05
         ],
         "x0": " ",
         "xaxis": "x",
         "y": [
          0
         ],
         "y0": " ",
         "yaxis": "y"
        },
        {
         "alignmentgroup": "True",
         "boxpoints": "all",
         "customdata": [
          [
           "Entièrement sommative",
           "Faible",
           "Faible",
           0.06,
           0.03,
           0.04,
           0.02,
           0.06,
           0.2
          ]
         ],
         "fillcolor": "rgba(255,255,255,0)",
         "hoveron": "points",
         "hovertemplate": "<b>%{hovertext}</b><br><br>id_teacher=8<br>eqc_11_val=%{x}<br>coec_11_val=%{y}<br>st_11=%{customdata[0]}<br>eqc_11_lev=%{customdata[1]}<br>coec_11_lev=%{customdata[2]}<br>rmsd_eqc=%{customdata[3]}<br>rmsd_sr_eqc=%{customdata[4]}<br>rmsd_coec=%{customdata[5]}<br>rmsd_sr_coec=%{customdata[6]}<br>radius_sr_11=%{customdata[7]}<br>radius_11=%{customdata[8]}<extra></extra>",
         "hovertext": [
          8
         ],
         "legendgroup": "8",
         "line": {
          "color": "rgba(255,255,255,0)"
         },
         "marker": {
          "color": "#B6E880",
          "size": 10
         },
         "name": "8",
         "offsetgroup": "8",
         "orientation": "v",
         "pointpos": 0,
         "showlegend": true,
         "type": "box",
         "x": [
          0.1
         ],
         "x0": " ",
         "xaxis": "x",
         "y": [
          0
         ],
         "y0": " ",
         "yaxis": "y"
        },
        {
         "alignmentgroup": "True",
         "boxpoints": "all",
         "customdata": [
          [
           "Plutôt sommative",
           "Faible",
           "Faible",
           0.16,
           0.08,
           0.05,
           0.04,
           0.09,
           0.2
          ]
         ],
         "fillcolor": "rgba(255,255,255,0)",
         "hoveron": "points",
         "hovertemplate": "<b>%{hovertext}</b><br><br>id_teacher=9<br>eqc_11_val=%{x}<br>coec_11_val=%{y}<br>st_11=%{customdata[0]}<br>eqc_11_lev=%{customdata[1]}<br>coec_11_lev=%{customdata[2]}<br>rmsd_eqc=%{customdata[3]}<br>rmsd_sr_eqc=%{customdata[4]}<br>rmsd_coec=%{customdata[5]}<br>rmsd_sr_coec=%{customdata[6]}<br>radius_sr_11=%{customdata[7]}<br>radius_11=%{customdata[8]}<extra></extra>",
         "hovertext": [
          9
         ],
         "legendgroup": "9",
         "line": {
          "color": "rgba(255,255,255,0)"
         },
         "marker": {
          "color": "#FF97FF",
          "size": 10
         },
         "name": "9",
         "offsetgroup": "9",
         "orientation": "v",
         "pointpos": 0,
         "showlegend": true,
         "type": "box",
         "x": [
          0.1
         ],
         "x0": " ",
         "xaxis": "x",
         "y": [
          0.09
         ],
         "y0": " ",
         "yaxis": "y"
        },
        {
         "alignmentgroup": "True",
         "boxpoints": "all",
         "customdata": [
          [
           "Entièrement sommative",
           "Faible",
           "Faible",
           0.05,
           0.03,
           0.05,
           0.09,
           0.06,
           0.2
          ]
         ],
         "fillcolor": "rgba(255,255,255,0)",
         "hoveron": "points",
         "hovertemplate": "<b>%{hovertext}</b><br><br>id_teacher=10<br>eqc_11_val=%{x}<br>coec_11_val=%{y}<br>st_11=%{customdata[0]}<br>eqc_11_lev=%{customdata[1]}<br>coec_11_lev=%{customdata[2]}<br>rmsd_eqc=%{customdata[3]}<br>rmsd_sr_eqc=%{customdata[4]}<br>rmsd_coec=%{customdata[5]}<br>rmsd_sr_coec=%{customdata[6]}<br>radius_sr_11=%{customdata[7]}<br>radius_11=%{customdata[8]}<extra></extra>",
         "hovertext": [
          10
         ],
         "legendgroup": "10",
         "line": {
          "color": "rgba(255,255,255,0)"
         },
         "marker": {
          "color": "#FECB52",
          "size": 10
         },
         "name": "10",
         "offsetgroup": "10",
         "orientation": "v",
         "pointpos": 0,
         "showlegend": true,
         "type": "box",
         "x": [
          0.1
         ],
         "x0": " ",
         "xaxis": "x",
         "y": [
          0
         ],
         "y0": " ",
         "yaxis": "y"
        },
        {
         "alignmentgroup": "True",
         "boxpoints": "all",
         "customdata": [
          [
           "Entièrement sommative",
           "Faible",
           "Faible",
           0.06,
           0.05,
           0.04,
           0.09,
           0.06,
           0.2
          ]
         ],
         "fillcolor": "rgba(255,255,255,0)",
         "hoveron": "points",
         "hovertemplate": "<b>%{hovertext}</b><br><br>id_teacher=11<br>eqc_11_val=%{x}<br>coec_11_val=%{y}<br>st_11=%{customdata[0]}<br>eqc_11_lev=%{customdata[1]}<br>coec_11_lev=%{customdata[2]}<br>rmsd_eqc=%{customdata[3]}<br>rmsd_sr_eqc=%{customdata[4]}<br>rmsd_coec=%{customdata[5]}<br>rmsd_sr_coec=%{customdata[6]}<br>radius_sr_11=%{customdata[7]}<br>radius_11=%{customdata[8]}<extra></extra>",
         "hovertext": [
          11
         ],
         "legendgroup": "11",
         "line": {
          "color": "rgba(255,255,255,0)"
         },
         "marker": {
          "color": "#636efa",
          "size": 10
         },
         "name": "11",
         "offsetgroup": "11",
         "orientation": "v",
         "pointpos": 0,
         "showlegend": true,
         "type": "box",
         "x": [
          0.1
         ],
         "x0": " ",
         "xaxis": "x",
         "y": [
          0
         ],
         "y0": " ",
         "yaxis": "y"
        },
        {
         "alignmentgroup": "True",
         "boxpoints": "all",
         "customdata": [
          [
           "Entièrement sommative",
           "Faible",
           "Faible",
           0.08,
           0.09,
           0.07,
           0.08,
           0.04,
           0.1
          ]
         ],
         "fillcolor": "rgba(255,255,255,0)",
         "hoveron": "points",
         "hovertemplate": "<b>%{hovertext}</b><br><br>id_teacher=12<br>eqc_11_val=%{x}<br>coec_11_val=%{y}<br>st_11=%{customdata[0]}<br>eqc_11_lev=%{customdata[1]}<br>coec_11_lev=%{customdata[2]}<br>rmsd_eqc=%{customdata[3]}<br>rmsd_sr_eqc=%{customdata[4]}<br>rmsd_coec=%{customdata[5]}<br>rmsd_sr_coec=%{customdata[6]}<br>radius_sr_11=%{customdata[7]}<br>radius_11=%{customdata[8]}<extra></extra>",
         "hovertext": [
          12
         ],
         "legendgroup": "12",
         "line": {
          "color": "rgba(255,255,255,0)"
         },
         "marker": {
          "color": "#EF553B",
          "size": 10
         },
         "name": "12",
         "offsetgroup": "12",
         "orientation": "v",
         "pointpos": 0,
         "showlegend": true,
         "type": "box",
         "x": [
          0.2
         ],
         "x0": " ",
         "xaxis": "x",
         "y": [
          0
         ],
         "y0": " ",
         "yaxis": "y"
        },
        {
         "alignmentgroup": "True",
         "boxpoints": "all",
         "customdata": [
          [
           "Entièrement sommative",
           "Faible",
           "Faible",
           0.04,
           0.04,
           0.05,
           0.12,
           0.06,
           0.2
          ]
         ],
         "fillcolor": "rgba(255,255,255,0)",
         "hoveron": "points",
         "hovertemplate": "<b>%{hovertext}</b><br><br>id_teacher=13<br>eqc_11_val=%{x}<br>coec_11_val=%{y}<br>st_11=%{customdata[0]}<br>eqc_11_lev=%{customdata[1]}<br>coec_11_lev=%{customdata[2]}<br>rmsd_eqc=%{customdata[3]}<br>rmsd_sr_eqc=%{customdata[4]}<br>rmsd_coec=%{customdata[5]}<br>rmsd_sr_coec=%{customdata[6]}<br>radius_sr_11=%{customdata[7]}<br>radius_11=%{customdata[8]}<extra></extra>",
         "hovertext": [
          13
         ],
         "legendgroup": "13",
         "line": {
          "color": "rgba(255,255,255,0)"
         },
         "marker": {
          "color": "#00cc96",
          "size": 10
         },
         "name": "13",
         "offsetgroup": "13",
         "orientation": "v",
         "pointpos": 0,
         "showlegend": true,
         "type": "box",
         "x": [
          0.1
         ],
         "x0": " ",
         "xaxis": "x",
         "y": [
          0
         ],
         "y0": " ",
         "yaxis": "y"
        },
        {
         "alignmentgroup": "True",
         "boxpoints": "all",
         "customdata": [
          [
           "Entièrement sommative",
           "Faible",
           "Faible",
           0.13,
           0.06,
           0.07,
           0.06,
           0.16,
           0.3
          ]
         ],
         "fillcolor": "rgba(255,255,255,0)",
         "hoveron": "points",
         "hovertemplate": "<b>%{hovertext}</b><br><br>id_teacher=14<br>eqc_11_val=%{x}<br>coec_11_val=%{y}<br>st_11=%{customdata[0]}<br>eqc_11_lev=%{customdata[1]}<br>coec_11_lev=%{customdata[2]}<br>rmsd_eqc=%{customdata[3]}<br>rmsd_sr_eqc=%{customdata[4]}<br>rmsd_coec=%{customdata[5]}<br>rmsd_sr_coec=%{customdata[6]}<br>radius_sr_11=%{customdata[7]}<br>radius_11=%{customdata[8]}<extra></extra>",
         "hovertext": [
          14
         ],
         "legendgroup": "14",
         "line": {
          "color": "rgba(255,255,255,0)"
         },
         "marker": {
          "color": "#ab63fa",
          "size": 10
         },
         "name": "14",
         "offsetgroup": "14",
         "orientation": "v",
         "pointpos": 0,
         "showlegend": true,
         "type": "box",
         "x": [
          0
         ],
         "x0": " ",
         "xaxis": "x",
         "y": [
          0
         ],
         "y0": " ",
         "yaxis": "y"
        },
        {
         "alignmentgroup": "True",
         "boxpoints": "all",
         "customdata": [
          [
           "Entièrement sommative",
           "Faible",
           "Faible",
           0.06,
           0.05,
           0.05,
           0.08,
           0.06,
           0.2
          ]
         ],
         "fillcolor": "rgba(255,255,255,0)",
         "hoveron": "points",
         "hovertemplate": "<b>%{hovertext}</b><br><br>id_teacher=15<br>eqc_11_val=%{x}<br>coec_11_val=%{y}<br>st_11=%{customdata[0]}<br>eqc_11_lev=%{customdata[1]}<br>coec_11_lev=%{customdata[2]}<br>rmsd_eqc=%{customdata[3]}<br>rmsd_sr_eqc=%{customdata[4]}<br>rmsd_coec=%{customdata[5]}<br>rmsd_sr_coec=%{customdata[6]}<br>radius_sr_11=%{customdata[7]}<br>radius_11=%{customdata[8]}<extra></extra>",
         "hovertext": [
          15
         ],
         "legendgroup": "15",
         "line": {
          "color": "rgba(255,255,255,0)"
         },
         "marker": {
          "color": "#FFA15A",
          "size": 10
         },
         "name": "15",
         "offsetgroup": "15",
         "orientation": "v",
         "pointpos": 0,
         "showlegend": true,
         "type": "box",
         "x": [
          0.1
         ],
         "x0": " ",
         "xaxis": "x",
         "y": [
          0
         ],
         "y0": " ",
         "yaxis": "y"
        },
        {
         "marker": {
          "color": [
           2,
           3
          ],
          "size": [
           30,
           30
          ]
         },
         "mode": "markers",
         "type": "scatter",
         "x": [
          0.16,
          0.296
         ],
         "y": [
          0.02,
          0.041
         ]
        }
       ],
       "layout": {
        "boxmode": "group",
        "height": 700,
        "legend": {
         "title": {
          "text": "id_teacher"
         },
         "tracegroupgap": 0
        },
        "margin": {
         "t": 60
        },
        "shapes": [
         {
          "type": "line",
          "x0": 0,
          "x1": 1,
          "y0": 0,
          "y1": 1
         },
         {
          "type": "line",
          "x0": 0.5,
          "y0": 0.5
         }
        ],
        "template": {
         "data": {
          "bar": [
           {
            "error_x": {
             "color": "#2a3f5f"
            },
            "error_y": {
             "color": "#2a3f5f"
            },
            "marker": {
             "line": {
              "color": "#E5ECF6",
              "width": 0.5
             },
             "pattern": {
              "fillmode": "overlay",
              "size": 10,
              "solidity": 0.2
             }
            },
            "type": "bar"
           }
          ],
          "barpolar": [
           {
            "marker": {
             "line": {
              "color": "#E5ECF6",
              "width": 0.5
             },
             "pattern": {
              "fillmode": "overlay",
              "size": 10,
              "solidity": 0.2
             }
            },
            "type": "barpolar"
           }
          ],
          "carpet": [
           {
            "aaxis": {
             "endlinecolor": "#2a3f5f",
             "gridcolor": "white",
             "linecolor": "white",
             "minorgridcolor": "white",
             "startlinecolor": "#2a3f5f"
            },
            "baxis": {
             "endlinecolor": "#2a3f5f",
             "gridcolor": "white",
             "linecolor": "white",
             "minorgridcolor": "white",
             "startlinecolor": "#2a3f5f"
            },
            "type": "carpet"
           }
          ],
          "choropleth": [
           {
            "colorbar": {
             "outlinewidth": 0,
             "ticks": ""
            },
            "type": "choropleth"
           }
          ],
          "contour": [
           {
            "colorbar": {
             "outlinewidth": 0,
             "ticks": ""
            },
            "colorscale": [
             [
              0,
              "#0d0887"
             ],
             [
              0.1111111111111111,
              "#46039f"
             ],
             [
              0.2222222222222222,
              "#7201a8"
             ],
             [
              0.3333333333333333,
              "#9c179e"
             ],
             [
              0.4444444444444444,
              "#bd3786"
             ],
             [
              0.5555555555555556,
              "#d8576b"
             ],
             [
              0.6666666666666666,
              "#ed7953"
             ],
             [
              0.7777777777777778,
              "#fb9f3a"
             ],
             [
              0.8888888888888888,
              "#fdca26"
             ],
             [
              1,
              "#f0f921"
             ]
            ],
            "type": "contour"
           }
          ],
          "contourcarpet": [
           {
            "colorbar": {
             "outlinewidth": 0,
             "ticks": ""
            },
            "type": "contourcarpet"
           }
          ],
          "heatmap": [
           {
            "colorbar": {
             "outlinewidth": 0,
             "ticks": ""
            },
            "colorscale": [
             [
              0,
              "#0d0887"
             ],
             [
              0.1111111111111111,
              "#46039f"
             ],
             [
              0.2222222222222222,
              "#7201a8"
             ],
             [
              0.3333333333333333,
              "#9c179e"
             ],
             [
              0.4444444444444444,
              "#bd3786"
             ],
             [
              0.5555555555555556,
              "#d8576b"
             ],
             [
              0.6666666666666666,
              "#ed7953"
             ],
             [
              0.7777777777777778,
              "#fb9f3a"
             ],
             [
              0.8888888888888888,
              "#fdca26"
             ],
             [
              1,
              "#f0f921"
             ]
            ],
            "type": "heatmap"
           }
          ],
          "heatmapgl": [
           {
            "colorbar": {
             "outlinewidth": 0,
             "ticks": ""
            },
            "colorscale": [
             [
              0,
              "#0d0887"
             ],
             [
              0.1111111111111111,
              "#46039f"
             ],
             [
              0.2222222222222222,
              "#7201a8"
             ],
             [
              0.3333333333333333,
              "#9c179e"
             ],
             [
              0.4444444444444444,
              "#bd3786"
             ],
             [
              0.5555555555555556,
              "#d8576b"
             ],
             [
              0.6666666666666666,
              "#ed7953"
             ],
             [
              0.7777777777777778,
              "#fb9f3a"
             ],
             [
              0.8888888888888888,
              "#fdca26"
             ],
             [
              1,
              "#f0f921"
             ]
            ],
            "type": "heatmapgl"
           }
          ],
          "histogram": [
           {
            "marker": {
             "pattern": {
              "fillmode": "overlay",
              "size": 10,
              "solidity": 0.2
             }
            },
            "type": "histogram"
           }
          ],
          "histogram2d": [
           {
            "colorbar": {
             "outlinewidth": 0,
             "ticks": ""
            },
            "colorscale": [
             [
              0,
              "#0d0887"
             ],
             [
              0.1111111111111111,
              "#46039f"
             ],
             [
              0.2222222222222222,
              "#7201a8"
             ],
             [
              0.3333333333333333,
              "#9c179e"
             ],
             [
              0.4444444444444444,
              "#bd3786"
             ],
             [
              0.5555555555555556,
              "#d8576b"
             ],
             [
              0.6666666666666666,
              "#ed7953"
             ],
             [
              0.7777777777777778,
              "#fb9f3a"
             ],
             [
              0.8888888888888888,
              "#fdca26"
             ],
             [
              1,
              "#f0f921"
             ]
            ],
            "type": "histogram2d"
           }
          ],
          "histogram2dcontour": [
           {
            "colorbar": {
             "outlinewidth": 0,
             "ticks": ""
            },
            "colorscale": [
             [
              0,
              "#0d0887"
             ],
             [
              0.1111111111111111,
              "#46039f"
             ],
             [
              0.2222222222222222,
              "#7201a8"
             ],
             [
              0.3333333333333333,
              "#9c179e"
             ],
             [
              0.4444444444444444,
              "#bd3786"
             ],
             [
              0.5555555555555556,
              "#d8576b"
             ],
             [
              0.6666666666666666,
              "#ed7953"
             ],
             [
              0.7777777777777778,
              "#fb9f3a"
             ],
             [
              0.8888888888888888,
              "#fdca26"
             ],
             [
              1,
              "#f0f921"
             ]
            ],
            "type": "histogram2dcontour"
           }
          ],
          "mesh3d": [
           {
            "colorbar": {
             "outlinewidth": 0,
             "ticks": ""
            },
            "type": "mesh3d"
           }
          ],
          "parcoords": [
           {
            "line": {
             "colorbar": {
              "outlinewidth": 0,
              "ticks": ""
             }
            },
            "type": "parcoords"
           }
          ],
          "pie": [
           {
            "automargin": true,
            "type": "pie"
           }
          ],
          "scatter": [
           {
            "marker": {
             "colorbar": {
              "outlinewidth": 0,
              "ticks": ""
             }
            },
            "type": "scatter"
           }
          ],
          "scatter3d": [
           {
            "line": {
             "colorbar": {
              "outlinewidth": 0,
              "ticks": ""
             }
            },
            "marker": {
             "colorbar": {
              "outlinewidth": 0,
              "ticks": ""
             }
            },
            "type": "scatter3d"
           }
          ],
          "scattercarpet": [
           {
            "marker": {
             "colorbar": {
              "outlinewidth": 0,
              "ticks": ""
             }
            },
            "type": "scattercarpet"
           }
          ],
          "scattergeo": [
           {
            "marker": {
             "colorbar": {
              "outlinewidth": 0,
              "ticks": ""
             }
            },
            "type": "scattergeo"
           }
          ],
          "scattergl": [
           {
            "marker": {
             "colorbar": {
              "outlinewidth": 0,
              "ticks": ""
             }
            },
            "type": "scattergl"
           }
          ],
          "scattermapbox": [
           {
            "marker": {
             "colorbar": {
              "outlinewidth": 0,
              "ticks": ""
             }
            },
            "type": "scattermapbox"
           }
          ],
          "scatterpolar": [
           {
            "marker": {
             "colorbar": {
              "outlinewidth": 0,
              "ticks": ""
             }
            },
            "type": "scatterpolar"
           }
          ],
          "scatterpolargl": [
           {
            "marker": {
             "colorbar": {
              "outlinewidth": 0,
              "ticks": ""
             }
            },
            "type": "scatterpolargl"
           }
          ],
          "scatterternary": [
           {
            "marker": {
             "colorbar": {
              "outlinewidth": 0,
              "ticks": ""
             }
            },
            "type": "scatterternary"
           }
          ],
          "surface": [
           {
            "colorbar": {
             "outlinewidth": 0,
             "ticks": ""
            },
            "colorscale": [
             [
              0,
              "#0d0887"
             ],
             [
              0.1111111111111111,
              "#46039f"
             ],
             [
              0.2222222222222222,
              "#7201a8"
             ],
             [
              0.3333333333333333,
              "#9c179e"
             ],
             [
              0.4444444444444444,
              "#bd3786"
             ],
             [
              0.5555555555555556,
              "#d8576b"
             ],
             [
              0.6666666666666666,
              "#ed7953"
             ],
             [
              0.7777777777777778,
              "#fb9f3a"
             ],
             [
              0.8888888888888888,
              "#fdca26"
             ],
             [
              1,
              "#f0f921"
             ]
            ],
            "type": "surface"
           }
          ],
          "table": [
           {
            "cells": {
             "fill": {
              "color": "#EBF0F8"
             },
             "line": {
              "color": "white"
             }
            },
            "header": {
             "fill": {
              "color": "#C8D4E3"
             },
             "line": {
              "color": "white"
             }
            },
            "type": "table"
           }
          ]
         },
         "layout": {
          "annotationdefaults": {
           "arrowcolor": "#2a3f5f",
           "arrowhead": 0,
           "arrowwidth": 1
          },
          "autotypenumbers": "strict",
          "coloraxis": {
           "colorbar": {
            "outlinewidth": 0,
            "ticks": ""
           }
          },
          "colorscale": {
           "diverging": [
            [
             0,
             "#8e0152"
            ],
            [
             0.1,
             "#c51b7d"
            ],
            [
             0.2,
             "#de77ae"
            ],
            [
             0.3,
             "#f1b6da"
            ],
            [
             0.4,
             "#fde0ef"
            ],
            [
             0.5,
             "#f7f7f7"
            ],
            [
             0.6,
             "#e6f5d0"
            ],
            [
             0.7,
             "#b8e186"
            ],
            [
             0.8,
             "#7fbc41"
            ],
            [
             0.9,
             "#4d9221"
            ],
            [
             1,
             "#276419"
            ]
           ],
           "sequential": [
            [
             0,
             "#0d0887"
            ],
            [
             0.1111111111111111,
             "#46039f"
            ],
            [
             0.2222222222222222,
             "#7201a8"
            ],
            [
             0.3333333333333333,
             "#9c179e"
            ],
            [
             0.4444444444444444,
             "#bd3786"
            ],
            [
             0.5555555555555556,
             "#d8576b"
            ],
            [
             0.6666666666666666,
             "#ed7953"
            ],
            [
             0.7777777777777778,
             "#fb9f3a"
            ],
            [
             0.8888888888888888,
             "#fdca26"
            ],
            [
             1,
             "#f0f921"
            ]
           ],
           "sequentialminus": [
            [
             0,
             "#0d0887"
            ],
            [
             0.1111111111111111,
             "#46039f"
            ],
            [
             0.2222222222222222,
             "#7201a8"
            ],
            [
             0.3333333333333333,
             "#9c179e"
            ],
            [
             0.4444444444444444,
             "#bd3786"
            ],
            [
             0.5555555555555556,
             "#d8576b"
            ],
            [
             0.6666666666666666,
             "#ed7953"
            ],
            [
             0.7777777777777778,
             "#fb9f3a"
            ],
            [
             0.8888888888888888,
             "#fdca26"
            ],
            [
             1,
             "#f0f921"
            ]
           ]
          },
          "colorway": [
           "#636efa",
           "#EF553B",
           "#00cc96",
           "#ab63fa",
           "#FFA15A",
           "#19d3f3",
           "#FF6692",
           "#B6E880",
           "#FF97FF",
           "#FECB52"
          ],
          "font": {
           "color": "#2a3f5f"
          },
          "geo": {
           "bgcolor": "white",
           "lakecolor": "white",
           "landcolor": "#E5ECF6",
           "showlakes": true,
           "showland": true,
           "subunitcolor": "white"
          },
          "hoverlabel": {
           "align": "left"
          },
          "hovermode": "closest",
          "mapbox": {
           "style": "light"
          },
          "paper_bgcolor": "white",
          "plot_bgcolor": "#E5ECF6",
          "polar": {
           "angularaxis": {
            "gridcolor": "white",
            "linecolor": "white",
            "ticks": ""
           },
           "bgcolor": "#E5ECF6",
           "radialaxis": {
            "gridcolor": "white",
            "linecolor": "white",
            "ticks": ""
           }
          },
          "scene": {
           "xaxis": {
            "backgroundcolor": "#E5ECF6",
            "gridcolor": "white",
            "gridwidth": 2,
            "linecolor": "white",
            "showbackground": true,
            "ticks": "",
            "zerolinecolor": "white"
           },
           "yaxis": {
            "backgroundcolor": "#E5ECF6",
            "gridcolor": "white",
            "gridwidth": 2,
            "linecolor": "white",
            "showbackground": true,
            "ticks": "",
            "zerolinecolor": "white"
           },
           "zaxis": {
            "backgroundcolor": "#E5ECF6",
            "gridcolor": "white",
            "gridwidth": 2,
            "linecolor": "white",
            "showbackground": true,
            "ticks": "",
            "zerolinecolor": "white"
           }
          },
          "shapedefaults": {
           "line": {
            "color": "#2a3f5f"
           }
          },
          "ternary": {
           "aaxis": {
            "gridcolor": "white",
            "linecolor": "white",
            "ticks": ""
           },
           "baxis": {
            "gridcolor": "white",
            "linecolor": "white",
            "ticks": ""
           },
           "bgcolor": "#E5ECF6",
           "caxis": {
            "gridcolor": "white",
            "linecolor": "white",
            "ticks": ""
           }
          },
          "title": {
           "x": 0.05
          },
          "xaxis": {
           "automargin": true,
           "gridcolor": "white",
           "linecolor": "white",
           "ticks": "",
           "title": {
            "standoff": 15
           },
           "zerolinecolor": "white",
           "zerolinewidth": 2
          },
          "yaxis": {
           "automargin": true,
           "gridcolor": "white",
           "linecolor": "white",
           "ticks": "",
           "title": {
            "standoff": 15
           },
           "zerolinecolor": "white",
           "zerolinewidth": 2
          }
         }
        },
        "title": {
         "text": "LabDoc 11"
        },
        "width": 900,
        "xaxis": {
         "anchor": "y",
         "domain": [
          0,
          1
         ],
         "range": [
          -0.05,
          1.05
         ],
         "title": {
          "text": "eqc_11_val"
         }
        },
        "yaxis": {
         "anchor": "x",
         "domain": [
          0,
          1
         ],
         "range": [
          -0.05,
          1.05
         ],
         "title": {
          "text": "coec_11_val"
         }
        }
       }
      }
     },
     "metadata": {},
     "output_type": "display_data"
    },
    {
     "data": {
      "application/vnd.plotly.v1+json": {
       "config": {
        "plotlyServerURL": "https://plot.ly",
        "scrollZoom": false
       },
       "data": [
        {
         "alignmentgroup": "True",
         "boxpoints": "all",
         "customdata": [
          [
           "Entièrement intégrative",
           "Faible",
           "Faible",
           0.09,
           0.06,
           0.04,
           0.06,
           0.15,
           0.11
          ]
         ],
         "fillcolor": "rgba(255,255,255,0)",
         "hoveron": "points",
         "hovertemplate": "<b>%{hovertext}</b><br><br>id_teacher=1<br>eqc_12_val=%{x}<br>coec_12_val=%{y}<br>st_12=%{customdata[0]}<br>eqc_12_lev=%{customdata[1]}<br>coec_12_lev=%{customdata[2]}<br>rmsd_eqc=%{customdata[3]}<br>rmsd_sr_eqc=%{customdata[4]}<br>rmsd_coec=%{customdata[5]}<br>rmsd_sr_coec=%{customdata[6]}<br>radius_sr_12=%{customdata[7]}<br>radius_12=%{customdata[8]}<extra></extra>",
         "hovertext": [
          1
         ],
         "legendgroup": "1",
         "line": {
          "color": "rgba(255,255,255,0)"
         },
         "marker": {
          "color": "#636efa",
          "size": 10
         },
         "name": "1",
         "offsetgroup": "1",
         "orientation": "v",
         "pointpos": 0,
         "showlegend": true,
         "type": "box",
         "x": [
          0.1
         ],
         "x0": " ",
         "xaxis": "x",
         "y": [
          0.2
         ],
         "y0": " ",
         "yaxis": "y"
        },
        {
         "alignmentgroup": "True",
         "boxpoints": "all",
         "customdata": [
          [
           "Plutôt sommative",
           "Faible",
           "Faible",
           0.07,
           0.06,
           0.02,
           0.06,
           0.15,
           0.11
          ]
         ],
         "fillcolor": "rgba(255,255,255,0)",
         "hoveron": "points",
         "hovertemplate": "<b>%{hovertext}</b><br><br>id_teacher=2<br>eqc_12_val=%{x}<br>coec_12_val=%{y}<br>st_12=%{customdata[0]}<br>eqc_12_lev=%{customdata[1]}<br>coec_12_lev=%{customdata[2]}<br>rmsd_eqc=%{customdata[3]}<br>rmsd_sr_eqc=%{customdata[4]}<br>rmsd_coec=%{customdata[5]}<br>rmsd_sr_coec=%{customdata[6]}<br>radius_sr_12=%{customdata[7]}<br>radius_12=%{customdata[8]}<extra></extra>",
         "hovertext": [
          2
         ],
         "legendgroup": "2",
         "line": {
          "color": "rgba(255,255,255,0)"
         },
         "marker": {
          "color": "#EF553B",
          "size": 10
         },
         "name": "2",
         "offsetgroup": "2",
         "orientation": "v",
         "pointpos": 0,
         "showlegend": true,
         "type": "box",
         "x": [
          0.1
         ],
         "x0": " ",
         "xaxis": "x",
         "y": [
          0.2
         ],
         "y0": " ",
         "yaxis": "y"
        },
        {
         "alignmentgroup": "True",
         "boxpoints": "all",
         "customdata": [
          [
           "Entièrement intégrative",
           "Faible",
           "Faible",
           0.03,
           0.02,
           0.06,
           0.15,
           0.28,
           0.21
          ]
         ],
         "fillcolor": "rgba(255,255,255,0)",
         "hoveron": "points",
         "hovertemplate": "<b>%{hovertext}</b><br><br>id_teacher=3<br>eqc_12_val=%{x}<br>coec_12_val=%{y}<br>st_12=%{customdata[0]}<br>eqc_12_lev=%{customdata[1]}<br>coec_12_lev=%{customdata[2]}<br>rmsd_eqc=%{customdata[3]}<br>rmsd_sr_eqc=%{customdata[4]}<br>rmsd_coec=%{customdata[5]}<br>rmsd_sr_coec=%{customdata[6]}<br>radius_sr_12=%{customdata[7]}<br>radius_12=%{customdata[8]}<extra></extra>",
         "hovertext": [
          3
         ],
         "legendgroup": "3",
         "line": {
          "color": "rgba(255,255,255,0)"
         },
         "marker": {
          "color": "#00cc96",
          "size": 10
         },
         "name": "3",
         "offsetgroup": "3",
         "orientation": "v",
         "pointpos": 0,
         "showlegend": true,
         "type": "box",
         "x": [
          0.2
         ],
         "x0": " ",
         "xaxis": "x",
         "y": [
          0.3
         ],
         "y0": " ",
         "yaxis": "y"
        },
        {
         "alignmentgroup": "True",
         "boxpoints": "all",
         "customdata": [
          [
           "Plutôt sommative",
           "Faible",
           "Faible",
           0.05,
           0.03,
           0.02,
           0.04,
           0.06,
           0.04
          ]
         ],
         "fillcolor": "rgba(255,255,255,0)",
         "hoveron": "points",
         "hovertemplate": "<b>%{hovertext}</b><br><br>id_teacher=4<br>eqc_12_val=%{x}<br>coec_12_val=%{y}<br>st_12=%{customdata[0]}<br>eqc_12_lev=%{customdata[1]}<br>coec_12_lev=%{customdata[2]}<br>rmsd_eqc=%{customdata[3]}<br>rmsd_sr_eqc=%{customdata[4]}<br>rmsd_coec=%{customdata[5]}<br>rmsd_sr_coec=%{customdata[6]}<br>radius_sr_12=%{customdata[7]}<br>radius_12=%{customdata[8]}<extra></extra>",
         "hovertext": [
          4
         ],
         "legendgroup": "4",
         "line": {
          "color": "rgba(255,255,255,0)"
         },
         "marker": {
          "color": "#ab63fa",
          "size": 10
         },
         "name": "4",
         "offsetgroup": "4",
         "orientation": "v",
         "pointpos": 0,
         "showlegend": true,
         "type": "box",
         "x": [
          0.1
         ],
         "x0": " ",
         "xaxis": "x",
         "y": [
          0.1
         ],
         "y0": " ",
         "yaxis": "y"
        },
        {
         "alignmentgroup": "True",
         "boxpoints": "all",
         "customdata": [
          [
           "Entièrement intégrative",
           "Faible",
           "Faible",
           0.05,
           0.07,
           0.04,
           0.1,
           0.06,
           0.04
          ]
         ],
         "fillcolor": "rgba(255,255,255,0)",
         "hoveron": "points",
         "hovertemplate": "<b>%{hovertext}</b><br><br>id_teacher=5<br>eqc_12_val=%{x}<br>coec_12_val=%{y}<br>st_12=%{customdata[0]}<br>eqc_12_lev=%{customdata[1]}<br>coec_12_lev=%{customdata[2]}<br>rmsd_eqc=%{customdata[3]}<br>rmsd_sr_eqc=%{customdata[4]}<br>rmsd_coec=%{customdata[5]}<br>rmsd_sr_coec=%{customdata[6]}<br>radius_sr_12=%{customdata[7]}<br>radius_12=%{customdata[8]}<extra></extra>",
         "hovertext": [
          5
         ],
         "legendgroup": "5",
         "line": {
          "color": "rgba(255,255,255,0)"
         },
         "marker": {
          "color": "#FFA15A",
          "size": 10
         },
         "name": "5",
         "offsetgroup": "5",
         "orientation": "v",
         "pointpos": 0,
         "showlegend": true,
         "type": "box",
         "x": [
          0.1
         ],
         "x0": " ",
         "xaxis": "x",
         "y": [
          0.1
         ],
         "y0": " ",
         "yaxis": "y"
        },
        {
         "alignmentgroup": "True",
         "boxpoints": "all",
         "customdata": [
          [
           "Plutôt intégrative",
           "Faible",
           "Faible",
           0.03,
           0.03,
           0.03,
           0.03,
           0.14,
           0.06
          ]
         ],
         "fillcolor": "rgba(255,255,255,0)",
         "hoveron": "points",
         "hovertemplate": "<b>%{hovertext}</b><br><br>id_teacher=6<br>eqc_12_val=%{x}<br>coec_12_val=%{y}<br>st_12=%{customdata[0]}<br>eqc_12_lev=%{customdata[1]}<br>coec_12_lev=%{customdata[2]}<br>rmsd_eqc=%{customdata[3]}<br>rmsd_sr_eqc=%{customdata[4]}<br>rmsd_coec=%{customdata[5]}<br>rmsd_sr_coec=%{customdata[6]}<br>radius_sr_12=%{customdata[7]}<br>radius_12=%{customdata[8]}<extra></extra>",
         "hovertext": [
          6
         ],
         "legendgroup": "6",
         "line": {
          "color": "rgba(255,255,255,0)"
         },
         "marker": {
          "color": "#19d3f3",
          "size": 10
         },
         "name": "6",
         "offsetgroup": "6",
         "orientation": "v",
         "pointpos": 0,
         "showlegend": true,
         "type": "box",
         "x": [
          0.2
         ],
         "x0": " ",
         "xaxis": "x",
         "y": [
          0.1
         ],
         "y0": " ",
         "yaxis": "y"
        },
        {
         "alignmentgroup": "True",
         "boxpoints": "all",
         "customdata": [
          [
           "Entre sommative et intégrative",
           "Faible",
           "Faible",
           0.08,
           0.08,
           0.06,
           0.08,
           0.02,
           0.1
          ]
         ],
         "fillcolor": "rgba(255,255,255,0)",
         "hoveron": "points",
         "hovertemplate": "<b>%{hovertext}</b><br><br>id_teacher=7<br>eqc_12_val=%{x}<br>coec_12_val=%{y}<br>st_12=%{customdata[0]}<br>eqc_12_lev=%{customdata[1]}<br>coec_12_lev=%{customdata[2]}<br>rmsd_eqc=%{customdata[3]}<br>rmsd_sr_eqc=%{customdata[4]}<br>rmsd_coec=%{customdata[5]}<br>rmsd_sr_coec=%{customdata[6]}<br>radius_sr_12=%{customdata[7]}<br>radius_12=%{customdata[8]}<extra></extra>",
         "hovertext": [
          7
         ],
         "legendgroup": "7",
         "line": {
          "color": "rgba(255,255,255,0)"
         },
         "marker": {
          "color": "#FF6692",
          "size": 10
         },
         "name": "7",
         "offsetgroup": "7",
         "orientation": "v",
         "pointpos": 0,
         "showlegend": true,
         "type": "box",
         "x": [
          0.05
         ],
         "x0": " ",
         "xaxis": "x",
         "y": [
          0.05
         ],
         "y0": " ",
         "yaxis": "y"
        },
        {
         "alignmentgroup": "True",
         "boxpoints": "all",
         "customdata": [
          [
           "Plutôt sommative",
           "Faible",
           "Faible",
           0.06,
           0.03,
           0.04,
           0.02,
           0.02,
           0.1
          ]
         ],
         "fillcolor": "rgba(255,255,255,0)",
         "hoveron": "points",
         "hovertemplate": "<b>%{hovertext}</b><br><br>id_teacher=8<br>eqc_12_val=%{x}<br>coec_12_val=%{y}<br>st_12=%{customdata[0]}<br>eqc_12_lev=%{customdata[1]}<br>coec_12_lev=%{customdata[2]}<br>rmsd_eqc=%{customdata[3]}<br>rmsd_sr_eqc=%{customdata[4]}<br>rmsd_coec=%{customdata[5]}<br>rmsd_sr_coec=%{customdata[6]}<br>radius_sr_12=%{customdata[7]}<br>radius_12=%{customdata[8]}<extra></extra>",
         "hovertext": [
          8
         ],
         "legendgroup": "8",
         "line": {
          "color": "rgba(255,255,255,0)"
         },
         "marker": {
          "color": "#B6E880",
          "size": 10
         },
         "name": "8",
         "offsetgroup": "8",
         "orientation": "v",
         "pointpos": 0,
         "showlegend": true,
         "type": "box",
         "x": [
          0.05
         ],
         "x0": " ",
         "xaxis": "x",
         "y": [
          0.05
         ],
         "y0": " ",
         "yaxis": "y"
        },
        {
         "alignmentgroup": "True",
         "boxpoints": "all",
         "customdata": [
          [
           "Je ne sais pas",
           "Faible",
           "Faible",
           0.16,
           0.08,
           0.05,
           0.04,
           0.02,
           0.11
          ]
         ],
         "fillcolor": "rgba(255,255,255,0)",
         "hoveron": "points",
         "hovertemplate": "<b>%{hovertext}</b><br><br>id_teacher=9<br>eqc_12_val=%{x}<br>coec_12_val=%{y}<br>st_12=%{customdata[0]}<br>eqc_12_lev=%{customdata[1]}<br>coec_12_lev=%{customdata[2]}<br>rmsd_eqc=%{customdata[3]}<br>rmsd_sr_eqc=%{customdata[4]}<br>rmsd_coec=%{customdata[5]}<br>rmsd_sr_coec=%{customdata[6]}<br>radius_sr_12=%{customdata[7]}<br>radius_12=%{customdata[8]}<extra></extra>",
         "hovertext": [
          9
         ],
         "legendgroup": "9",
         "line": {
          "color": "rgba(255,255,255,0)"
         },
         "marker": {
          "color": "#FF97FF",
          "size": 10
         },
         "name": "9",
         "offsetgroup": "9",
         "orientation": "v",
         "pointpos": 0,
         "showlegend": true,
         "type": "box",
         "x": [
          0.05
         ],
         "x0": " ",
         "xaxis": "x",
         "y": [
          0.04
         ],
         "y0": " ",
         "yaxis": "y"
        },
        {
         "alignmentgroup": "True",
         "boxpoints": "all",
         "customdata": [
          [
           "Entièrement intégrative",
           "Faible",
           "Faible",
           0.05,
           0.03,
           0.05,
           0.09,
           0.14,
           0.06
          ]
         ],
         "fillcolor": "rgba(255,255,255,0)",
         "hoveron": "points",
         "hovertemplate": "<b>%{hovertext}</b><br><br>id_teacher=10<br>eqc_12_val=%{x}<br>coec_12_val=%{y}<br>st_12=%{customdata[0]}<br>eqc_12_lev=%{customdata[1]}<br>coec_12_lev=%{customdata[2]}<br>rmsd_eqc=%{customdata[3]}<br>rmsd_sr_eqc=%{customdata[4]}<br>rmsd_coec=%{customdata[5]}<br>rmsd_sr_coec=%{customdata[6]}<br>radius_sr_12=%{customdata[7]}<br>radius_12=%{customdata[8]}<extra></extra>",
         "hovertext": [
          10
         ],
         "legendgroup": "10",
         "line": {
          "color": "rgba(255,255,255,0)"
         },
         "marker": {
          "color": "#FECB52",
          "size": 10
         },
         "name": "10",
         "offsetgroup": "10",
         "orientation": "v",
         "pointpos": 0,
         "showlegend": true,
         "type": "box",
         "x": [
          0.2
         ],
         "x0": " ",
         "xaxis": "x",
         "y": [
          0.1
         ],
         "y0": " ",
         "yaxis": "y"
        },
        {
         "alignmentgroup": "True",
         "boxpoints": "all",
         "customdata": [
          [
           "Plutôt intégrative",
           "Faible",
           "Faible",
           0.06,
           0.05,
           0.04,
           0.09,
           0.06,
           0.04
          ]
         ],
         "fillcolor": "rgba(255,255,255,0)",
         "hoveron": "points",
         "hovertemplate": "<b>%{hovertext}</b><br><br>id_teacher=11<br>eqc_12_val=%{x}<br>coec_12_val=%{y}<br>st_12=%{customdata[0]}<br>eqc_12_lev=%{customdata[1]}<br>coec_12_lev=%{customdata[2]}<br>rmsd_eqc=%{customdata[3]}<br>rmsd_sr_eqc=%{customdata[4]}<br>rmsd_coec=%{customdata[5]}<br>rmsd_sr_coec=%{customdata[6]}<br>radius_sr_12=%{customdata[7]}<br>radius_12=%{customdata[8]}<extra></extra>",
         "hovertext": [
          11
         ],
         "legendgroup": "11",
         "line": {
          "color": "rgba(255,255,255,0)"
         },
         "marker": {
          "color": "#636efa",
          "size": 10
         },
         "name": "11",
         "offsetgroup": "11",
         "orientation": "v",
         "pointpos": 0,
         "showlegend": true,
         "type": "box",
         "x": [
          0.1
         ],
         "x0": " ",
         "xaxis": "x",
         "y": [
          0.1
         ],
         "y0": " ",
         "yaxis": "y"
        },
        {
         "alignmentgroup": "True",
         "boxpoints": "all",
         "customdata": [
          [
           "Plutôt sommative",
           "Faible",
           "Faible",
           0.08,
           0.09,
           0.07,
           0.08,
           0.14,
           0.06
          ]
         ],
         "fillcolor": "rgba(255,255,255,0)",
         "hoveron": "points",
         "hovertemplate": "<b>%{hovertext}</b><br><br>id_teacher=12<br>eqc_12_val=%{x}<br>coec_12_val=%{y}<br>st_12=%{customdata[0]}<br>eqc_12_lev=%{customdata[1]}<br>coec_12_lev=%{customdata[2]}<br>rmsd_eqc=%{customdata[3]}<br>rmsd_sr_eqc=%{customdata[4]}<br>rmsd_coec=%{customdata[5]}<br>rmsd_sr_coec=%{customdata[6]}<br>radius_sr_12=%{customdata[7]}<br>radius_12=%{customdata[8]}<extra></extra>",
         "hovertext": [
          12
         ],
         "legendgroup": "12",
         "line": {
          "color": "rgba(255,255,255,0)"
         },
         "marker": {
          "color": "#EF553B",
          "size": 10
         },
         "name": "12",
         "offsetgroup": "12",
         "orientation": "v",
         "pointpos": 0,
         "showlegend": true,
         "type": "box",
         "x": [
          0.2
         ],
         "x0": " ",
         "xaxis": "x",
         "y": [
          0.1
         ],
         "y0": " ",
         "yaxis": "y"
        },
        {
         "alignmentgroup": "True",
         "boxpoints": "all",
         "customdata": [
          [
           "Entièrement intégrative",
           "Faible",
           "Moyen",
           0.04,
           0.04,
           0.05,
           0.12,
           0.25,
           0.21
          ]
         ],
         "fillcolor": "rgba(255,255,255,0)",
         "hoveron": "points",
         "hovertemplate": "<b>%{hovertext}</b><br><br>id_teacher=13<br>eqc_12_val=%{x}<br>coec_12_val=%{y}<br>st_12=%{customdata[0]}<br>eqc_12_lev=%{customdata[1]}<br>coec_12_lev=%{customdata[2]}<br>rmsd_eqc=%{customdata[3]}<br>rmsd_sr_eqc=%{customdata[4]}<br>rmsd_coec=%{customdata[5]}<br>rmsd_sr_coec=%{customdata[6]}<br>radius_sr_12=%{customdata[7]}<br>radius_12=%{customdata[8]}<extra></extra>",
         "hovertext": [
          13
         ],
         "legendgroup": "13",
         "line": {
          "color": "rgba(255,255,255,0)"
         },
         "marker": {
          "color": "#00cc96",
          "size": 10
         },
         "name": "13",
         "offsetgroup": "13",
         "orientation": "v",
         "pointpos": 0,
         "showlegend": true,
         "type": "box",
         "x": [
          0.1
         ],
         "x0": " ",
         "xaxis": "x",
         "y": [
          0.3
         ],
         "y0": " ",
         "yaxis": "y"
        },
        {
         "alignmentgroup": "True",
         "boxpoints": "all",
         "customdata": [
          [
           "Entièrement sommative",
           "Faible",
           "Faible",
           0.13,
           0.06,
           0.07,
           0.06,
           0.09,
           0.17
          ]
         ],
         "fillcolor": "rgba(255,255,255,0)",
         "hoveron": "points",
         "hovertemplate": "<b>%{hovertext}</b><br><br>id_teacher=14<br>eqc_12_val=%{x}<br>coec_12_val=%{y}<br>st_12=%{customdata[0]}<br>eqc_12_lev=%{customdata[1]}<br>coec_12_lev=%{customdata[2]}<br>rmsd_eqc=%{customdata[3]}<br>rmsd_sr_eqc=%{customdata[4]}<br>rmsd_coec=%{customdata[5]}<br>rmsd_sr_coec=%{customdata[6]}<br>radius_sr_12=%{customdata[7]}<br>radius_12=%{customdata[8]}<extra></extra>",
         "hovertext": [
          14
         ],
         "legendgroup": "14",
         "line": {
          "color": "rgba(255,255,255,0)"
         },
         "marker": {
          "color": "#ab63fa",
          "size": 10
         },
         "name": "14",
         "offsetgroup": "14",
         "orientation": "v",
         "pointpos": 0,
         "showlegend": true,
         "type": "box",
         "x": [
          0
         ],
         "x0": " ",
         "xaxis": "x",
         "y": [
          0
         ],
         "y0": " ",
         "yaxis": "y"
        },
        {
         "alignmentgroup": "True",
         "boxpoints": "all",
         "customdata": [
          [
           "Entre sommative et intégrative",
           "Faible",
           "Faible",
           0.06,
           0.05,
           0.05,
           0.08,
           0.14,
           0.06
          ]
         ],
         "fillcolor": "rgba(255,255,255,0)",
         "hoveron": "points",
         "hovertemplate": "<b>%{hovertext}</b><br><br>id_teacher=15<br>eqc_12_val=%{x}<br>coec_12_val=%{y}<br>st_12=%{customdata[0]}<br>eqc_12_lev=%{customdata[1]}<br>coec_12_lev=%{customdata[2]}<br>rmsd_eqc=%{customdata[3]}<br>rmsd_sr_eqc=%{customdata[4]}<br>rmsd_coec=%{customdata[5]}<br>rmsd_sr_coec=%{customdata[6]}<br>radius_sr_12=%{customdata[7]}<br>radius_12=%{customdata[8]}<extra></extra>",
         "hovertext": [
          15
         ],
         "legendgroup": "15",
         "line": {
          "color": "rgba(255,255,255,0)"
         },
         "marker": {
          "color": "#FFA15A",
          "size": 10
         },
         "name": "15",
         "offsetgroup": "15",
         "orientation": "v",
         "pointpos": 0,
         "showlegend": true,
         "type": "box",
         "x": [
          0.2
         ],
         "x0": " ",
         "xaxis": "x",
         "y": [
          0.1
         ],
         "y0": " ",
         "yaxis": "y"
        },
        {
         "marker": {
          "color": [
           2,
           3
          ],
          "size": [
           30,
           30
          ]
         },
         "mode": "markers",
         "type": "scatter",
         "x": [
          0.072,
          0.14
         ],
         "y": [
          0.048,
          0.095
         ]
        }
       ],
       "layout": {
        "boxmode": "group",
        "height": 700,
        "legend": {
         "title": {
          "text": "id_teacher"
         },
         "tracegroupgap": 0
        },
        "margin": {
         "t": 60
        },
        "shapes": [
         {
          "type": "line",
          "x0": 0,
          "x1": 1,
          "y0": 0,
          "y1": 1
         },
         {
          "type": "line",
          "x0": 0.5,
          "y0": 0.5
         }
        ],
        "template": {
         "data": {
          "bar": [
           {
            "error_x": {
             "color": "#2a3f5f"
            },
            "error_y": {
             "color": "#2a3f5f"
            },
            "marker": {
             "line": {
              "color": "#E5ECF6",
              "width": 0.5
             },
             "pattern": {
              "fillmode": "overlay",
              "size": 10,
              "solidity": 0.2
             }
            },
            "type": "bar"
           }
          ],
          "barpolar": [
           {
            "marker": {
             "line": {
              "color": "#E5ECF6",
              "width": 0.5
             },
             "pattern": {
              "fillmode": "overlay",
              "size": 10,
              "solidity": 0.2
             }
            },
            "type": "barpolar"
           }
          ],
          "carpet": [
           {
            "aaxis": {
             "endlinecolor": "#2a3f5f",
             "gridcolor": "white",
             "linecolor": "white",
             "minorgridcolor": "white",
             "startlinecolor": "#2a3f5f"
            },
            "baxis": {
             "endlinecolor": "#2a3f5f",
             "gridcolor": "white",
             "linecolor": "white",
             "minorgridcolor": "white",
             "startlinecolor": "#2a3f5f"
            },
            "type": "carpet"
           }
          ],
          "choropleth": [
           {
            "colorbar": {
             "outlinewidth": 0,
             "ticks": ""
            },
            "type": "choropleth"
           }
          ],
          "contour": [
           {
            "colorbar": {
             "outlinewidth": 0,
             "ticks": ""
            },
            "colorscale": [
             [
              0,
              "#0d0887"
             ],
             [
              0.1111111111111111,
              "#46039f"
             ],
             [
              0.2222222222222222,
              "#7201a8"
             ],
             [
              0.3333333333333333,
              "#9c179e"
             ],
             [
              0.4444444444444444,
              "#bd3786"
             ],
             [
              0.5555555555555556,
              "#d8576b"
             ],
             [
              0.6666666666666666,
              "#ed7953"
             ],
             [
              0.7777777777777778,
              "#fb9f3a"
             ],
             [
              0.8888888888888888,
              "#fdca26"
             ],
             [
              1,
              "#f0f921"
             ]
            ],
            "type": "contour"
           }
          ],
          "contourcarpet": [
           {
            "colorbar": {
             "outlinewidth": 0,
             "ticks": ""
            },
            "type": "contourcarpet"
           }
          ],
          "heatmap": [
           {
            "colorbar": {
             "outlinewidth": 0,
             "ticks": ""
            },
            "colorscale": [
             [
              0,
              "#0d0887"
             ],
             [
              0.1111111111111111,
              "#46039f"
             ],
             [
              0.2222222222222222,
              "#7201a8"
             ],
             [
              0.3333333333333333,
              "#9c179e"
             ],
             [
              0.4444444444444444,
              "#bd3786"
             ],
             [
              0.5555555555555556,
              "#d8576b"
             ],
             [
              0.6666666666666666,
              "#ed7953"
             ],
             [
              0.7777777777777778,
              "#fb9f3a"
             ],
             [
              0.8888888888888888,
              "#fdca26"
             ],
             [
              1,
              "#f0f921"
             ]
            ],
            "type": "heatmap"
           }
          ],
          "heatmapgl": [
           {
            "colorbar": {
             "outlinewidth": 0,
             "ticks": ""
            },
            "colorscale": [
             [
              0,
              "#0d0887"
             ],
             [
              0.1111111111111111,
              "#46039f"
             ],
             [
              0.2222222222222222,
              "#7201a8"
             ],
             [
              0.3333333333333333,
              "#9c179e"
             ],
             [
              0.4444444444444444,
              "#bd3786"
             ],
             [
              0.5555555555555556,
              "#d8576b"
             ],
             [
              0.6666666666666666,
              "#ed7953"
             ],
             [
              0.7777777777777778,
              "#fb9f3a"
             ],
             [
              0.8888888888888888,
              "#fdca26"
             ],
             [
              1,
              "#f0f921"
             ]
            ],
            "type": "heatmapgl"
           }
          ],
          "histogram": [
           {
            "marker": {
             "pattern": {
              "fillmode": "overlay",
              "size": 10,
              "solidity": 0.2
             }
            },
            "type": "histogram"
           }
          ],
          "histogram2d": [
           {
            "colorbar": {
             "outlinewidth": 0,
             "ticks": ""
            },
            "colorscale": [
             [
              0,
              "#0d0887"
             ],
             [
              0.1111111111111111,
              "#46039f"
             ],
             [
              0.2222222222222222,
              "#7201a8"
             ],
             [
              0.3333333333333333,
              "#9c179e"
             ],
             [
              0.4444444444444444,
              "#bd3786"
             ],
             [
              0.5555555555555556,
              "#d8576b"
             ],
             [
              0.6666666666666666,
              "#ed7953"
             ],
             [
              0.7777777777777778,
              "#fb9f3a"
             ],
             [
              0.8888888888888888,
              "#fdca26"
             ],
             [
              1,
              "#f0f921"
             ]
            ],
            "type": "histogram2d"
           }
          ],
          "histogram2dcontour": [
           {
            "colorbar": {
             "outlinewidth": 0,
             "ticks": ""
            },
            "colorscale": [
             [
              0,
              "#0d0887"
             ],
             [
              0.1111111111111111,
              "#46039f"
             ],
             [
              0.2222222222222222,
              "#7201a8"
             ],
             [
              0.3333333333333333,
              "#9c179e"
             ],
             [
              0.4444444444444444,
              "#bd3786"
             ],
             [
              0.5555555555555556,
              "#d8576b"
             ],
             [
              0.6666666666666666,
              "#ed7953"
             ],
             [
              0.7777777777777778,
              "#fb9f3a"
             ],
             [
              0.8888888888888888,
              "#fdca26"
             ],
             [
              1,
              "#f0f921"
             ]
            ],
            "type": "histogram2dcontour"
           }
          ],
          "mesh3d": [
           {
            "colorbar": {
             "outlinewidth": 0,
             "ticks": ""
            },
            "type": "mesh3d"
           }
          ],
          "parcoords": [
           {
            "line": {
             "colorbar": {
              "outlinewidth": 0,
              "ticks": ""
             }
            },
            "type": "parcoords"
           }
          ],
          "pie": [
           {
            "automargin": true,
            "type": "pie"
           }
          ],
          "scatter": [
           {
            "marker": {
             "colorbar": {
              "outlinewidth": 0,
              "ticks": ""
             }
            },
            "type": "scatter"
           }
          ],
          "scatter3d": [
           {
            "line": {
             "colorbar": {
              "outlinewidth": 0,
              "ticks": ""
             }
            },
            "marker": {
             "colorbar": {
              "outlinewidth": 0,
              "ticks": ""
             }
            },
            "type": "scatter3d"
           }
          ],
          "scattercarpet": [
           {
            "marker": {
             "colorbar": {
              "outlinewidth": 0,
              "ticks": ""
             }
            },
            "type": "scattercarpet"
           }
          ],
          "scattergeo": [
           {
            "marker": {
             "colorbar": {
              "outlinewidth": 0,
              "ticks": ""
             }
            },
            "type": "scattergeo"
           }
          ],
          "scattergl": [
           {
            "marker": {
             "colorbar": {
              "outlinewidth": 0,
              "ticks": ""
             }
            },
            "type": "scattergl"
           }
          ],
          "scattermapbox": [
           {
            "marker": {
             "colorbar": {
              "outlinewidth": 0,
              "ticks": ""
             }
            },
            "type": "scattermapbox"
           }
          ],
          "scatterpolar": [
           {
            "marker": {
             "colorbar": {
              "outlinewidth": 0,
              "ticks": ""
             }
            },
            "type": "scatterpolar"
           }
          ],
          "scatterpolargl": [
           {
            "marker": {
             "colorbar": {
              "outlinewidth": 0,
              "ticks": ""
             }
            },
            "type": "scatterpolargl"
           }
          ],
          "scatterternary": [
           {
            "marker": {
             "colorbar": {
              "outlinewidth": 0,
              "ticks": ""
             }
            },
            "type": "scatterternary"
           }
          ],
          "surface": [
           {
            "colorbar": {
             "outlinewidth": 0,
             "ticks": ""
            },
            "colorscale": [
             [
              0,
              "#0d0887"
             ],
             [
              0.1111111111111111,
              "#46039f"
             ],
             [
              0.2222222222222222,
              "#7201a8"
             ],
             [
              0.3333333333333333,
              "#9c179e"
             ],
             [
              0.4444444444444444,
              "#bd3786"
             ],
             [
              0.5555555555555556,
              "#d8576b"
             ],
             [
              0.6666666666666666,
              "#ed7953"
             ],
             [
              0.7777777777777778,
              "#fb9f3a"
             ],
             [
              0.8888888888888888,
              "#fdca26"
             ],
             [
              1,
              "#f0f921"
             ]
            ],
            "type": "surface"
           }
          ],
          "table": [
           {
            "cells": {
             "fill": {
              "color": "#EBF0F8"
             },
             "line": {
              "color": "white"
             }
            },
            "header": {
             "fill": {
              "color": "#C8D4E3"
             },
             "line": {
              "color": "white"
             }
            },
            "type": "table"
           }
          ]
         },
         "layout": {
          "annotationdefaults": {
           "arrowcolor": "#2a3f5f",
           "arrowhead": 0,
           "arrowwidth": 1
          },
          "autotypenumbers": "strict",
          "coloraxis": {
           "colorbar": {
            "outlinewidth": 0,
            "ticks": ""
           }
          },
          "colorscale": {
           "diverging": [
            [
             0,
             "#8e0152"
            ],
            [
             0.1,
             "#c51b7d"
            ],
            [
             0.2,
             "#de77ae"
            ],
            [
             0.3,
             "#f1b6da"
            ],
            [
             0.4,
             "#fde0ef"
            ],
            [
             0.5,
             "#f7f7f7"
            ],
            [
             0.6,
             "#e6f5d0"
            ],
            [
             0.7,
             "#b8e186"
            ],
            [
             0.8,
             "#7fbc41"
            ],
            [
             0.9,
             "#4d9221"
            ],
            [
             1,
             "#276419"
            ]
           ],
           "sequential": [
            [
             0,
             "#0d0887"
            ],
            [
             0.1111111111111111,
             "#46039f"
            ],
            [
             0.2222222222222222,
             "#7201a8"
            ],
            [
             0.3333333333333333,
             "#9c179e"
            ],
            [
             0.4444444444444444,
             "#bd3786"
            ],
            [
             0.5555555555555556,
             "#d8576b"
            ],
            [
             0.6666666666666666,
             "#ed7953"
            ],
            [
             0.7777777777777778,
             "#fb9f3a"
            ],
            [
             0.8888888888888888,
             "#fdca26"
            ],
            [
             1,
             "#f0f921"
            ]
           ],
           "sequentialminus": [
            [
             0,
             "#0d0887"
            ],
            [
             0.1111111111111111,
             "#46039f"
            ],
            [
             0.2222222222222222,
             "#7201a8"
            ],
            [
             0.3333333333333333,
             "#9c179e"
            ],
            [
             0.4444444444444444,
             "#bd3786"
            ],
            [
             0.5555555555555556,
             "#d8576b"
            ],
            [
             0.6666666666666666,
             "#ed7953"
            ],
            [
             0.7777777777777778,
             "#fb9f3a"
            ],
            [
             0.8888888888888888,
             "#fdca26"
            ],
            [
             1,
             "#f0f921"
            ]
           ]
          },
          "colorway": [
           "#636efa",
           "#EF553B",
           "#00cc96",
           "#ab63fa",
           "#FFA15A",
           "#19d3f3",
           "#FF6692",
           "#B6E880",
           "#FF97FF",
           "#FECB52"
          ],
          "font": {
           "color": "#2a3f5f"
          },
          "geo": {
           "bgcolor": "white",
           "lakecolor": "white",
           "landcolor": "#E5ECF6",
           "showlakes": true,
           "showland": true,
           "subunitcolor": "white"
          },
          "hoverlabel": {
           "align": "left"
          },
          "hovermode": "closest",
          "mapbox": {
           "style": "light"
          },
          "paper_bgcolor": "white",
          "plot_bgcolor": "#E5ECF6",
          "polar": {
           "angularaxis": {
            "gridcolor": "white",
            "linecolor": "white",
            "ticks": ""
           },
           "bgcolor": "#E5ECF6",
           "radialaxis": {
            "gridcolor": "white",
            "linecolor": "white",
            "ticks": ""
           }
          },
          "scene": {
           "xaxis": {
            "backgroundcolor": "#E5ECF6",
            "gridcolor": "white",
            "gridwidth": 2,
            "linecolor": "white",
            "showbackground": true,
            "ticks": "",
            "zerolinecolor": "white"
           },
           "yaxis": {
            "backgroundcolor": "#E5ECF6",
            "gridcolor": "white",
            "gridwidth": 2,
            "linecolor": "white",
            "showbackground": true,
            "ticks": "",
            "zerolinecolor": "white"
           },
           "zaxis": {
            "backgroundcolor": "#E5ECF6",
            "gridcolor": "white",
            "gridwidth": 2,
            "linecolor": "white",
            "showbackground": true,
            "ticks": "",
            "zerolinecolor": "white"
           }
          },
          "shapedefaults": {
           "line": {
            "color": "#2a3f5f"
           }
          },
          "ternary": {
           "aaxis": {
            "gridcolor": "white",
            "linecolor": "white",
            "ticks": ""
           },
           "baxis": {
            "gridcolor": "white",
            "linecolor": "white",
            "ticks": ""
           },
           "bgcolor": "#E5ECF6",
           "caxis": {
            "gridcolor": "white",
            "linecolor": "white",
            "ticks": ""
           }
          },
          "title": {
           "x": 0.05
          },
          "xaxis": {
           "automargin": true,
           "gridcolor": "white",
           "linecolor": "white",
           "ticks": "",
           "title": {
            "standoff": 15
           },
           "zerolinecolor": "white",
           "zerolinewidth": 2
          },
          "yaxis": {
           "automargin": true,
           "gridcolor": "white",
           "linecolor": "white",
           "ticks": "",
           "title": {
            "standoff": 15
           },
           "zerolinecolor": "white",
           "zerolinewidth": 2
          }
         }
        },
        "title": {
         "text": "LabDoc 12"
        },
        "width": 900,
        "xaxis": {
         "anchor": "y",
         "domain": [
          0,
          1
         ],
         "range": [
          -0.05,
          1.05
         ],
         "title": {
          "text": "eqc_12_val"
         }
        },
        "yaxis": {
         "anchor": "x",
         "domain": [
          0,
          1
         ],
         "range": [
          -0.05,
          1.05
         ],
         "title": {
          "text": "coec_12_val"
         }
        }
       }
      }
     },
     "metadata": {},
     "output_type": "display_data"
    }
   ],
   "source": [
    "for i in range(1,13):\n",
    "    lds = lds_new_radius\n",
    "    ld = lds[[\"id_teacher\",f'st_{i}',f'eqc_{i}_lev',f'eqc_{i}_val',f'coec_{i}_lev',f'coec_{i}_val',\n",
    "             'rmsd_eqc', 'rmsd_sr_eqc', 'rmsd_coec', 'rmsd_sr_coec',f'radius_sr_{i}',f'radius_{i}']]\n",
    "\n",
    "    fig = px.strip(ld, x=f'eqc_{i}_val', y=f\"coec_{i}_val\" ,color=\"id_teacher\",range_x=[-0.05,1.05],range_y=[-0.05,1.05],hover_name =\"id_teacher\",\n",
    "                   hover_data=[f'st_{i}',f'eqc_{i}_lev',f'coec_{i}_lev','rmsd_eqc', 'rmsd_sr_eqc', 'rmsd_coec', 'rmsd_sr_coec',f'radius_sr_{i}',f'radius_{i}'])\n",
    "    fig.update_layout(width=900, height=700,title = f\"LabDoc {i}\")\n",
    "    fig.add_shape(type=\"line\",\n",
    "                  x0=0, \n",
    "                  y0=0, \n",
    "                  x1=1, \n",
    "                  y1=1)\n",
    "\n",
    "    fig.add_shape(type='line',x0=.5,y0=.5)\n",
    "    fig.update_traces(marker_size=10)\n",
    "\n",
    "\n",
    "\n",
    "    eqc = list(val[[f'eqc_{i}']].iloc[0]) + list(val[[f'eqc_{i}']].iloc[2])\n",
    "    coec = list(val[[f'coec_{i}']].iloc[0]) + list(val[[f'coec_{i}']].iloc[2])\n",
    "\n",
    "    fig.add_trace(go.Scatter(x=eqc,y=coec, mode='markers', marker=dict(size=[30, 30],\n",
    "                    color=[2, 3]))\n",
    "    )\n",
    "\n",
    "\n",
    "\n",
    "    config = dict({'scrollZoom': False})\n",
    "    fig.show(config=config)\n",
    "\n",
    "    fig.write_html(f\"labdocs_vizu/labdoc_{i}.html\")\n"
   ]
  },
  {
   "cell_type": "code",
   "execution_count": 11,
   "id": "9ce410a9",
   "metadata": {},
   "outputs": [
    {
     "data": {
      "text/plain": [
       "[0.048, 0.095]"
      ]
     },
     "execution_count": 11,
     "metadata": {},
     "output_type": "execute_result"
    }
   ],
   "source": [
    "list(val[[f'coec_{i}']].iloc[0]) + list(val[[f'coec_{i}']].iloc[2])"
   ]
  },
  {
   "cell_type": "code",
   "execution_count": 12,
   "id": "4ddd5751",
   "metadata": {},
   "outputs": [
    {
     "data": {
      "text/html": [
       "<div><div id=9dc5b65a-7aac-4021-a5d5-a92cddb8ebbd style=\"display:none; background-color:#9D6CFF; color:white; width:200px; height:30px; padding-left:5px; border-radius:4px; flex-direction:row; justify-content:space-around; align-items:center;\" onmouseover=\"this.style.backgroundColor='#BA9BF8'\" onmouseout=\"this.style.backgroundColor='#9D6CFF'\" onclick=\"window.commands?.execute('create-mitosheet-from-dataframe-output');\">See Full Dataframe in Mito</div> <script> if (window.commands.hasCommand('create-mitosheet-from-dataframe-output')) document.getElementById('9dc5b65a-7aac-4021-a5d5-a92cddb8ebbd').style.display = 'flex' </script> <table border=\"1\" class=\"dataframe\">\n",
       "  <thead>\n",
       "    <tr style=\"text-align: right;\">\n",
       "      <th></th>\n",
       "      <th>eqc_1</th>\n",
       "      <th>coec_1</th>\n",
       "      <th>eqc_2</th>\n",
       "      <th>coec_2</th>\n",
       "      <th>eqc_3</th>\n",
       "      <th>coec_3</th>\n",
       "      <th>eqc_4</th>\n",
       "      <th>coec_4</th>\n",
       "      <th>eqc_5</th>\n",
       "      <th>coec_5</th>\n",
       "      <th>...</th>\n",
       "      <th>eqc_8</th>\n",
       "      <th>coec_8</th>\n",
       "      <th>eqc_9</th>\n",
       "      <th>coec_9</th>\n",
       "      <th>eqc_10</th>\n",
       "      <th>coec_10</th>\n",
       "      <th>eqc_11</th>\n",
       "      <th>coec_11</th>\n",
       "      <th>eqc_12</th>\n",
       "      <th>coec_12</th>\n",
       "    </tr>\n",
       "  </thead>\n",
       "  <tbody>\n",
       "    <tr>\n",
       "      <th>0</th>\n",
       "      <td>0.289</td>\n",
       "      <td>0.233</td>\n",
       "      <td>0.639</td>\n",
       "      <td>0.058</td>\n",
       "      <td>0.603</td>\n",
       "      <td>0.516</td>\n",
       "      <td>0.96</td>\n",
       "      <td>0.234</td>\n",
       "      <td>0.286</td>\n",
       "      <td>0.252</td>\n",
       "      <td>...</td>\n",
       "      <td>0.90</td>\n",
       "      <td>0.49</td>\n",
       "      <td>0.280</td>\n",
       "      <td>0.088</td>\n",
       "      <td>0.717</td>\n",
       "      <td>0.047</td>\n",
       "      <td>0.160</td>\n",
       "      <td>0.020</td>\n",
       "      <td>0.072</td>\n",
       "      <td>0.048</td>\n",
       "    </tr>\n",
       "    <tr>\n",
       "      <th>1</th>\n",
       "      <td>0.470</td>\n",
       "      <td>0.550</td>\n",
       "      <td>0.220</td>\n",
       "      <td>0.160</td>\n",
       "      <td>0.350</td>\n",
       "      <td>0.440</td>\n",
       "      <td>0.20</td>\n",
       "      <td>0.320</td>\n",
       "      <td>0.160</td>\n",
       "      <td>0.300</td>\n",
       "      <td>...</td>\n",
       "      <td>0.23</td>\n",
       "      <td>0.23</td>\n",
       "      <td>0.110</td>\n",
       "      <td>0.160</td>\n",
       "      <td>0.210</td>\n",
       "      <td>0.090</td>\n",
       "      <td>0.070</td>\n",
       "      <td>0.030</td>\n",
       "      <td>0.080</td>\n",
       "      <td>0.110</td>\n",
       "    </tr>\n",
       "    <tr>\n",
       "      <th>0</th>\n",
       "      <td>0.490</td>\n",
       "      <td>0.410</td>\n",
       "      <td>0.870</td>\n",
       "      <td>0.113</td>\n",
       "      <td>0.842</td>\n",
       "      <td>0.766</td>\n",
       "      <td>0.99</td>\n",
       "      <td>0.414</td>\n",
       "      <td>0.490</td>\n",
       "      <td>0.440</td>\n",
       "      <td>...</td>\n",
       "      <td>0.99</td>\n",
       "      <td>0.74</td>\n",
       "      <td>0.483</td>\n",
       "      <td>0.170</td>\n",
       "      <td>0.920</td>\n",
       "      <td>0.092</td>\n",
       "      <td>0.296</td>\n",
       "      <td>0.041</td>\n",
       "      <td>0.140</td>\n",
       "      <td>0.095</td>\n",
       "    </tr>\n",
       "    <tr>\n",
       "      <th>1</th>\n",
       "      <td>0.290</td>\n",
       "      <td>0.400</td>\n",
       "      <td>0.200</td>\n",
       "      <td>0.150</td>\n",
       "      <td>0.240</td>\n",
       "      <td>0.280</td>\n",
       "      <td>0.21</td>\n",
       "      <td>0.220</td>\n",
       "      <td>0.360</td>\n",
       "      <td>0.350</td>\n",
       "      <td>...</td>\n",
       "      <td>0.30</td>\n",
       "      <td>0.21</td>\n",
       "      <td>0.270</td>\n",
       "      <td>0.120</td>\n",
       "      <td>0.390</td>\n",
       "      <td>0.100</td>\n",
       "      <td>0.190</td>\n",
       "      <td>0.040</td>\n",
       "      <td>0.070</td>\n",
       "      <td>0.090</td>\n",
       "    </tr>\n",
       "  </tbody>\n",
       "</table></div>"
      ],
      "text/plain": [
       "   eqc_1  coec_1  eqc_2  coec_2  eqc_3  coec_3  eqc_4  coec_4  eqc_5  coec_5  \\\n",
       "0  0.289   0.233  0.639   0.058  0.603   0.516   0.96   0.234  0.286   0.252   \n",
       "1  0.470   0.550  0.220   0.160  0.350   0.440   0.20   0.320  0.160   0.300   \n",
       "0  0.490   0.410  0.870   0.113  0.842   0.766   0.99   0.414  0.490   0.440   \n",
       "1  0.290   0.400  0.200   0.150  0.240   0.280   0.21   0.220  0.360   0.350   \n",
       "\n",
       "   ...  eqc_8  coec_8  eqc_9  coec_9  eqc_10  coec_10  eqc_11  coec_11  \\\n",
       "0  ...   0.90    0.49  0.280   0.088   0.717    0.047   0.160    0.020   \n",
       "1  ...   0.23    0.23  0.110   0.160   0.210    0.090   0.070    0.030   \n",
       "0  ...   0.99    0.74  0.483   0.170   0.920    0.092   0.296    0.041   \n",
       "1  ...   0.30    0.21  0.270   0.120   0.390    0.100   0.190    0.040   \n",
       "\n",
       "   eqc_12  coec_12  \n",
       "0   0.072    0.048  \n",
       "1   0.080    0.110  \n",
       "0   0.140    0.095  \n",
       "1   0.070    0.090  \n",
       "\n",
       "[4 rows x 24 columns]"
      ]
     },
     "execution_count": 12,
     "metadata": {},
     "output_type": "execute_result"
    }
   ],
   "source": [
    "val"
   ]
  },
  {
   "cell_type": "code",
   "execution_count": 13,
   "id": "8535df34",
   "metadata": {},
   "outputs": [
    {
     "data": {
      "application/vnd.plotly.v1+json": {
       "config": {
        "plotlyServerURL": "https://plot.ly"
       },
       "data": [
        {
         "fill": "toself",
         "name": "teacher 1",
         "r": [
          0.5,
          0.29,
          0.28,
          0.29,
          0.46,
          0.4,
          0.22,
          0.45,
          0.28,
          0.53,
          0.2,
          0.11
         ],
         "theta": [
          "labdoc_1",
          "labdoc_2",
          "labdoc_3",
          "labdoc_4",
          "labdoc_5",
          "labdoc_6",
          "labdoc_7",
          "labdoc_8",
          "labdoc_9",
          "labdoc_10",
          "labdoc_11",
          "labdoc_12"
         ],
         "type": "scatterpolar"
        },
        {
         "fill": "toself",
         "name": "teacher 2",
         "r": [
          0.5,
          0.2,
          0.28,
          0.09,
          0.32,
          0.01,
          0.37,
          0.49,
          0.19,
          0.43,
          0.2,
          0.11
         ],
         "theta": [
          "labdoc_1",
          "labdoc_2",
          "labdoc_3",
          "labdoc_4",
          "labdoc_5",
          "labdoc_6",
          "labdoc_7",
          "labdoc_8",
          "labdoc_9",
          "labdoc_10",
          "labdoc_11",
          "labdoc_12"
         ],
         "type": "scatterpolar"
        },
        {
         "fill": "toself",
         "name": "teacher 3",
         "r": [
          0.53,
          0.29,
          0.27,
          0.4,
          0.6,
          0.19,
          0.22,
          0.11,
          0.09,
          0.24,
          0.1,
          0.21
         ],
         "theta": [
          "labdoc_1",
          "labdoc_2",
          "labdoc_3",
          "labdoc_4",
          "labdoc_5",
          "labdoc_6",
          "labdoc_7",
          "labdoc_8",
          "labdoc_9",
          "labdoc_10",
          "labdoc_11",
          "labdoc_12"
         ],
         "type": "scatterpolar"
        },
        {
         "fill": "toself",
         "name": "teacher 4",
         "r": [
          0.22,
          0.2,
          0.28,
          0.25,
          0.45,
          0.26,
          0.27,
          0.25,
          0.23,
          0.42,
          0.2,
          0.04
         ],
         "theta": [
          "labdoc_1",
          "labdoc_2",
          "labdoc_3",
          "labdoc_4",
          "labdoc_5",
          "labdoc_6",
          "labdoc_7",
          "labdoc_8",
          "labdoc_9",
          "labdoc_10",
          "labdoc_11",
          "labdoc_12"
         ],
         "type": "scatterpolar"
        },
        {
         "fill": "toself",
         "name": "teacher 5",
         "r": [
          0.78,
          0.17,
          0.28,
          0.09,
          0.24,
          0.19,
          0.42,
          0.1,
          0.22,
          0.24,
          0.1,
          0.04
         ],
         "theta": [
          "labdoc_1",
          "labdoc_2",
          "labdoc_3",
          "labdoc_4",
          "labdoc_5",
          "labdoc_6",
          "labdoc_7",
          "labdoc_8",
          "labdoc_9",
          "labdoc_10",
          "labdoc_11",
          "labdoc_12"
         ],
         "type": "scatterpolar"
        },
        {
         "fill": "toself",
         "name": "teacher 6",
         "r": [
          0.14,
          0.13,
          0.07,
          0.21,
          0.48,
          0.31,
          0.22,
          0.24,
          0.2,
          0.23,
          0.2,
          0.06
         ],
         "theta": [
          "labdoc_1",
          "labdoc_2",
          "labdoc_3",
          "labdoc_4",
          "labdoc_5",
          "labdoc_6",
          "labdoc_7",
          "labdoc_8",
          "labdoc_9",
          "labdoc_10",
          "labdoc_11",
          "labdoc_12"
         ],
         "type": "scatterpolar"
        },
        {
         "fill": "toself",
         "name": "teacher 7",
         "r": [
          0.78,
          0.17,
          0.28,
          0.09,
          0.52,
          0.26,
          0.27,
          0.31,
          0.39,
          0.43,
          0.25,
          0.1
         ],
         "theta": [
          "labdoc_1",
          "labdoc_2",
          "labdoc_3",
          "labdoc_4",
          "labdoc_5",
          "labdoc_6",
          "labdoc_7",
          "labdoc_8",
          "labdoc_9",
          "labdoc_10",
          "labdoc_11",
          "labdoc_12"
         ],
         "type": "scatterpolar"
        },
        {
         "fill": "toself",
         "name": "teacher 8",
         "r": [
          0.14,
          0.09,
          0.22,
          0.36,
          0.59,
          0.41,
          0.32,
          0.46,
          0.35,
          0.24,
          0.2,
          0.1
         ],
         "theta": [
          "labdoc_1",
          "labdoc_2",
          "labdoc_3",
          "labdoc_4",
          "labdoc_5",
          "labdoc_6",
          "labdoc_7",
          "labdoc_8",
          "labdoc_9",
          "labdoc_10",
          "labdoc_11",
          "labdoc_12"
         ],
         "type": "scatterpolar"
        },
        {
         "fill": "toself",
         "name": "teacher 9",
         "r": [
          0.09,
          0.55,
          0.44,
          0.5,
          0.58,
          0.49,
          0.3,
          0.71,
          0.4,
          0.64,
          0.2,
          0.11
         ],
         "theta": [
          "labdoc_1",
          "labdoc_2",
          "labdoc_3",
          "labdoc_4",
          "labdoc_5",
          "labdoc_6",
          "labdoc_7",
          "labdoc_8",
          "labdoc_9",
          "labdoc_10",
          "labdoc_11",
          "labdoc_12"
         ],
         "type": "scatterpolar"
        },
        {
         "fill": "toself",
         "name": "teacher 10",
         "r": [
          0.16,
          0.33,
          0.28,
          0.59,
          0.52,
          0.01,
          0.07,
          0.11,
          0.28,
          0.43,
          0.2,
          0.06
         ],
         "theta": [
          "labdoc_1",
          "labdoc_2",
          "labdoc_3",
          "labdoc_4",
          "labdoc_5",
          "labdoc_6",
          "labdoc_7",
          "labdoc_8",
          "labdoc_9",
          "labdoc_10",
          "labdoc_11",
          "labdoc_12"
         ],
         "type": "scatterpolar"
        },
        {
         "fill": "toself",
         "name": "teacher 11",
         "r": [
          0.69,
          0.07,
          0.28,
          0.09,
          0.3,
          0.01,
          0.32,
          0.19,
          0.28,
          0.53,
          0.2,
          0.04
         ],
         "theta": [
          "labdoc_1",
          "labdoc_2",
          "labdoc_3",
          "labdoc_4",
          "labdoc_5",
          "labdoc_6",
          "labdoc_7",
          "labdoc_8",
          "labdoc_9",
          "labdoc_10",
          "labdoc_11",
          "labdoc_12"
         ],
         "type": "scatterpolar"
        },
        {
         "fill": "toself",
         "name": "teacher 12",
         "r": [
          0.78,
          0.13,
          0.28,
          0.11,
          0.45,
          0.31,
          0.32,
          0.66,
          0.29,
          0.32,
          0.1,
          0.06
         ],
         "theta": [
          "labdoc_1",
          "labdoc_2",
          "labdoc_3",
          "labdoc_4",
          "labdoc_5",
          "labdoc_6",
          "labdoc_7",
          "labdoc_8",
          "labdoc_9",
          "labdoc_10",
          "labdoc_11",
          "labdoc_12"
         ],
         "type": "scatterpolar"
        },
        {
         "fill": "toself",
         "name": "teacher 13",
         "r": [
          0.09,
          0.13,
          0.28,
          0.09,
          0.68,
          0.01,
          0.42,
          0.26,
          0.38,
          0.15,
          0.2,
          0.21
         ],
         "theta": [
          "labdoc_1",
          "labdoc_2",
          "labdoc_3",
          "labdoc_4",
          "labdoc_5",
          "labdoc_6",
          "labdoc_7",
          "labdoc_8",
          "labdoc_9",
          "labdoc_10",
          "labdoc_11",
          "labdoc_12"
         ],
         "type": "scatterpolar"
        },
        {
         "fill": "toself",
         "name": "teacher 14",
         "r": [
          0.11,
          0.42,
          0.93,
          0.49,
          0.59,
          0.3,
          0.31,
          0.19,
          0.42,
          0.56,
          0.3,
          0.17
         ],
         "theta": [
          "labdoc_1",
          "labdoc_2",
          "labdoc_3",
          "labdoc_4",
          "labdoc_5",
          "labdoc_6",
          "labdoc_7",
          "labdoc_8",
          "labdoc_9",
          "labdoc_10",
          "labdoc_11",
          "labdoc_12"
         ],
         "type": "scatterpolar"
        },
        {
         "fill": "toself",
         "name": "teacher 15",
         "r": [
          0.67,
          0.13,
          0.28,
          0.21,
          0.52,
          0.21,
          0.42,
          0.29,
          0.28,
          0.24,
          0.2,
          0.06
         ],
         "theta": [
          "labdoc_1",
          "labdoc_2",
          "labdoc_3",
          "labdoc_4",
          "labdoc_5",
          "labdoc_6",
          "labdoc_7",
          "labdoc_8",
          "labdoc_9",
          "labdoc_10",
          "labdoc_11",
          "labdoc_12"
         ],
         "type": "scatterpolar"
        }
       ],
       "layout": {
        "height": 700,
        "polar": {
         "radialaxis": {
          "visible": true
         }
        },
        "showlegend": true,
        "template": {
         "data": {
          "bar": [
           {
            "error_x": {
             "color": "#2a3f5f"
            },
            "error_y": {
             "color": "#2a3f5f"
            },
            "marker": {
             "line": {
              "color": "#E5ECF6",
              "width": 0.5
             },
             "pattern": {
              "fillmode": "overlay",
              "size": 10,
              "solidity": 0.2
             }
            },
            "type": "bar"
           }
          ],
          "barpolar": [
           {
            "marker": {
             "line": {
              "color": "#E5ECF6",
              "width": 0.5
             },
             "pattern": {
              "fillmode": "overlay",
              "size": 10,
              "solidity": 0.2
             }
            },
            "type": "barpolar"
           }
          ],
          "carpet": [
           {
            "aaxis": {
             "endlinecolor": "#2a3f5f",
             "gridcolor": "white",
             "linecolor": "white",
             "minorgridcolor": "white",
             "startlinecolor": "#2a3f5f"
            },
            "baxis": {
             "endlinecolor": "#2a3f5f",
             "gridcolor": "white",
             "linecolor": "white",
             "minorgridcolor": "white",
             "startlinecolor": "#2a3f5f"
            },
            "type": "carpet"
           }
          ],
          "choropleth": [
           {
            "colorbar": {
             "outlinewidth": 0,
             "ticks": ""
            },
            "type": "choropleth"
           }
          ],
          "contour": [
           {
            "colorbar": {
             "outlinewidth": 0,
             "ticks": ""
            },
            "colorscale": [
             [
              0,
              "#0d0887"
             ],
             [
              0.1111111111111111,
              "#46039f"
             ],
             [
              0.2222222222222222,
              "#7201a8"
             ],
             [
              0.3333333333333333,
              "#9c179e"
             ],
             [
              0.4444444444444444,
              "#bd3786"
             ],
             [
              0.5555555555555556,
              "#d8576b"
             ],
             [
              0.6666666666666666,
              "#ed7953"
             ],
             [
              0.7777777777777778,
              "#fb9f3a"
             ],
             [
              0.8888888888888888,
              "#fdca26"
             ],
             [
              1,
              "#f0f921"
             ]
            ],
            "type": "contour"
           }
          ],
          "contourcarpet": [
           {
            "colorbar": {
             "outlinewidth": 0,
             "ticks": ""
            },
            "type": "contourcarpet"
           }
          ],
          "heatmap": [
           {
            "colorbar": {
             "outlinewidth": 0,
             "ticks": ""
            },
            "colorscale": [
             [
              0,
              "#0d0887"
             ],
             [
              0.1111111111111111,
              "#46039f"
             ],
             [
              0.2222222222222222,
              "#7201a8"
             ],
             [
              0.3333333333333333,
              "#9c179e"
             ],
             [
              0.4444444444444444,
              "#bd3786"
             ],
             [
              0.5555555555555556,
              "#d8576b"
             ],
             [
              0.6666666666666666,
              "#ed7953"
             ],
             [
              0.7777777777777778,
              "#fb9f3a"
             ],
             [
              0.8888888888888888,
              "#fdca26"
             ],
             [
              1,
              "#f0f921"
             ]
            ],
            "type": "heatmap"
           }
          ],
          "heatmapgl": [
           {
            "colorbar": {
             "outlinewidth": 0,
             "ticks": ""
            },
            "colorscale": [
             [
              0,
              "#0d0887"
             ],
             [
              0.1111111111111111,
              "#46039f"
             ],
             [
              0.2222222222222222,
              "#7201a8"
             ],
             [
              0.3333333333333333,
              "#9c179e"
             ],
             [
              0.4444444444444444,
              "#bd3786"
             ],
             [
              0.5555555555555556,
              "#d8576b"
             ],
             [
              0.6666666666666666,
              "#ed7953"
             ],
             [
              0.7777777777777778,
              "#fb9f3a"
             ],
             [
              0.8888888888888888,
              "#fdca26"
             ],
             [
              1,
              "#f0f921"
             ]
            ],
            "type": "heatmapgl"
           }
          ],
          "histogram": [
           {
            "marker": {
             "pattern": {
              "fillmode": "overlay",
              "size": 10,
              "solidity": 0.2
             }
            },
            "type": "histogram"
           }
          ],
          "histogram2d": [
           {
            "colorbar": {
             "outlinewidth": 0,
             "ticks": ""
            },
            "colorscale": [
             [
              0,
              "#0d0887"
             ],
             [
              0.1111111111111111,
              "#46039f"
             ],
             [
              0.2222222222222222,
              "#7201a8"
             ],
             [
              0.3333333333333333,
              "#9c179e"
             ],
             [
              0.4444444444444444,
              "#bd3786"
             ],
             [
              0.5555555555555556,
              "#d8576b"
             ],
             [
              0.6666666666666666,
              "#ed7953"
             ],
             [
              0.7777777777777778,
              "#fb9f3a"
             ],
             [
              0.8888888888888888,
              "#fdca26"
             ],
             [
              1,
              "#f0f921"
             ]
            ],
            "type": "histogram2d"
           }
          ],
          "histogram2dcontour": [
           {
            "colorbar": {
             "outlinewidth": 0,
             "ticks": ""
            },
            "colorscale": [
             [
              0,
              "#0d0887"
             ],
             [
              0.1111111111111111,
              "#46039f"
             ],
             [
              0.2222222222222222,
              "#7201a8"
             ],
             [
              0.3333333333333333,
              "#9c179e"
             ],
             [
              0.4444444444444444,
              "#bd3786"
             ],
             [
              0.5555555555555556,
              "#d8576b"
             ],
             [
              0.6666666666666666,
              "#ed7953"
             ],
             [
              0.7777777777777778,
              "#fb9f3a"
             ],
             [
              0.8888888888888888,
              "#fdca26"
             ],
             [
              1,
              "#f0f921"
             ]
            ],
            "type": "histogram2dcontour"
           }
          ],
          "mesh3d": [
           {
            "colorbar": {
             "outlinewidth": 0,
             "ticks": ""
            },
            "type": "mesh3d"
           }
          ],
          "parcoords": [
           {
            "line": {
             "colorbar": {
              "outlinewidth": 0,
              "ticks": ""
             }
            },
            "type": "parcoords"
           }
          ],
          "pie": [
           {
            "automargin": true,
            "type": "pie"
           }
          ],
          "scatter": [
           {
            "marker": {
             "colorbar": {
              "outlinewidth": 0,
              "ticks": ""
             }
            },
            "type": "scatter"
           }
          ],
          "scatter3d": [
           {
            "line": {
             "colorbar": {
              "outlinewidth": 0,
              "ticks": ""
             }
            },
            "marker": {
             "colorbar": {
              "outlinewidth": 0,
              "ticks": ""
             }
            },
            "type": "scatter3d"
           }
          ],
          "scattercarpet": [
           {
            "marker": {
             "colorbar": {
              "outlinewidth": 0,
              "ticks": ""
             }
            },
            "type": "scattercarpet"
           }
          ],
          "scattergeo": [
           {
            "marker": {
             "colorbar": {
              "outlinewidth": 0,
              "ticks": ""
             }
            },
            "type": "scattergeo"
           }
          ],
          "scattergl": [
           {
            "marker": {
             "colorbar": {
              "outlinewidth": 0,
              "ticks": ""
             }
            },
            "type": "scattergl"
           }
          ],
          "scattermapbox": [
           {
            "marker": {
             "colorbar": {
              "outlinewidth": 0,
              "ticks": ""
             }
            },
            "type": "scattermapbox"
           }
          ],
          "scatterpolar": [
           {
            "marker": {
             "colorbar": {
              "outlinewidth": 0,
              "ticks": ""
             }
            },
            "type": "scatterpolar"
           }
          ],
          "scatterpolargl": [
           {
            "marker": {
             "colorbar": {
              "outlinewidth": 0,
              "ticks": ""
             }
            },
            "type": "scatterpolargl"
           }
          ],
          "scatterternary": [
           {
            "marker": {
             "colorbar": {
              "outlinewidth": 0,
              "ticks": ""
             }
            },
            "type": "scatterternary"
           }
          ],
          "surface": [
           {
            "colorbar": {
             "outlinewidth": 0,
             "ticks": ""
            },
            "colorscale": [
             [
              0,
              "#0d0887"
             ],
             [
              0.1111111111111111,
              "#46039f"
             ],
             [
              0.2222222222222222,
              "#7201a8"
             ],
             [
              0.3333333333333333,
              "#9c179e"
             ],
             [
              0.4444444444444444,
              "#bd3786"
             ],
             [
              0.5555555555555556,
              "#d8576b"
             ],
             [
              0.6666666666666666,
              "#ed7953"
             ],
             [
              0.7777777777777778,
              "#fb9f3a"
             ],
             [
              0.8888888888888888,
              "#fdca26"
             ],
             [
              1,
              "#f0f921"
             ]
            ],
            "type": "surface"
           }
          ],
          "table": [
           {
            "cells": {
             "fill": {
              "color": "#EBF0F8"
             },
             "line": {
              "color": "white"
             }
            },
            "header": {
             "fill": {
              "color": "#C8D4E3"
             },
             "line": {
              "color": "white"
             }
            },
            "type": "table"
           }
          ]
         },
         "layout": {
          "annotationdefaults": {
           "arrowcolor": "#2a3f5f",
           "arrowhead": 0,
           "arrowwidth": 1
          },
          "autotypenumbers": "strict",
          "coloraxis": {
           "colorbar": {
            "outlinewidth": 0,
            "ticks": ""
           }
          },
          "colorscale": {
           "diverging": [
            [
             0,
             "#8e0152"
            ],
            [
             0.1,
             "#c51b7d"
            ],
            [
             0.2,
             "#de77ae"
            ],
            [
             0.3,
             "#f1b6da"
            ],
            [
             0.4,
             "#fde0ef"
            ],
            [
             0.5,
             "#f7f7f7"
            ],
            [
             0.6,
             "#e6f5d0"
            ],
            [
             0.7,
             "#b8e186"
            ],
            [
             0.8,
             "#7fbc41"
            ],
            [
             0.9,
             "#4d9221"
            ],
            [
             1,
             "#276419"
            ]
           ],
           "sequential": [
            [
             0,
             "#0d0887"
            ],
            [
             0.1111111111111111,
             "#46039f"
            ],
            [
             0.2222222222222222,
             "#7201a8"
            ],
            [
             0.3333333333333333,
             "#9c179e"
            ],
            [
             0.4444444444444444,
             "#bd3786"
            ],
            [
             0.5555555555555556,
             "#d8576b"
            ],
            [
             0.6666666666666666,
             "#ed7953"
            ],
            [
             0.7777777777777778,
             "#fb9f3a"
            ],
            [
             0.8888888888888888,
             "#fdca26"
            ],
            [
             1,
             "#f0f921"
            ]
           ],
           "sequentialminus": [
            [
             0,
             "#0d0887"
            ],
            [
             0.1111111111111111,
             "#46039f"
            ],
            [
             0.2222222222222222,
             "#7201a8"
            ],
            [
             0.3333333333333333,
             "#9c179e"
            ],
            [
             0.4444444444444444,
             "#bd3786"
            ],
            [
             0.5555555555555556,
             "#d8576b"
            ],
            [
             0.6666666666666666,
             "#ed7953"
            ],
            [
             0.7777777777777778,
             "#fb9f3a"
            ],
            [
             0.8888888888888888,
             "#fdca26"
            ],
            [
             1,
             "#f0f921"
            ]
           ]
          },
          "colorway": [
           "#636efa",
           "#EF553B",
           "#00cc96",
           "#ab63fa",
           "#FFA15A",
           "#19d3f3",
           "#FF6692",
           "#B6E880",
           "#FF97FF",
           "#FECB52"
          ],
          "font": {
           "color": "#2a3f5f"
          },
          "geo": {
           "bgcolor": "white",
           "lakecolor": "white",
           "landcolor": "#E5ECF6",
           "showlakes": true,
           "showland": true,
           "subunitcolor": "white"
          },
          "hoverlabel": {
           "align": "left"
          },
          "hovermode": "closest",
          "mapbox": {
           "style": "light"
          },
          "paper_bgcolor": "white",
          "plot_bgcolor": "#E5ECF6",
          "polar": {
           "angularaxis": {
            "gridcolor": "white",
            "linecolor": "white",
            "ticks": ""
           },
           "bgcolor": "#E5ECF6",
           "radialaxis": {
            "gridcolor": "white",
            "linecolor": "white",
            "ticks": ""
           }
          },
          "scene": {
           "xaxis": {
            "backgroundcolor": "#E5ECF6",
            "gridcolor": "white",
            "gridwidth": 2,
            "linecolor": "white",
            "showbackground": true,
            "ticks": "",
            "zerolinecolor": "white"
           },
           "yaxis": {
            "backgroundcolor": "#E5ECF6",
            "gridcolor": "white",
            "gridwidth": 2,
            "linecolor": "white",
            "showbackground": true,
            "ticks": "",
            "zerolinecolor": "white"
           },
           "zaxis": {
            "backgroundcolor": "#E5ECF6",
            "gridcolor": "white",
            "gridwidth": 2,
            "linecolor": "white",
            "showbackground": true,
            "ticks": "",
            "zerolinecolor": "white"
           }
          },
          "shapedefaults": {
           "line": {
            "color": "#2a3f5f"
           }
          },
          "ternary": {
           "aaxis": {
            "gridcolor": "white",
            "linecolor": "white",
            "ticks": ""
           },
           "baxis": {
            "gridcolor": "white",
            "linecolor": "white",
            "ticks": ""
           },
           "bgcolor": "#E5ECF6",
           "caxis": {
            "gridcolor": "white",
            "linecolor": "white",
            "ticks": ""
           }
          },
          "title": {
           "x": 0.05
          },
          "xaxis": {
           "automargin": true,
           "gridcolor": "white",
           "linecolor": "white",
           "ticks": "",
           "title": {
            "standoff": 15
           },
           "zerolinecolor": "white",
           "zerolinewidth": 2
          },
          "yaxis": {
           "automargin": true,
           "gridcolor": "white",
           "linecolor": "white",
           "ticks": "",
           "title": {
            "standoff": 15
           },
           "zerolinecolor": "white",
           "zerolinewidth": 2
          }
         }
        },
        "title": {
         "text": "Radius"
        },
        "width": 900
       }
      }
     },
     "metadata": {},
     "output_type": "display_data"
    }
   ],
   "source": [
    "import plotly.graph_objects as go\n",
    "\n",
    "#categories = ['processing cost','mechanical properties','chemical stability',\n",
    "#              'thermal stability', 'device integration']\n",
    "\n",
    "categories = [f'labdoc_{i}' for i in range(1,13) ]\n",
    "#lds_new_radius[f'radius_{i}']\n",
    "\n",
    "\n",
    "fig = go.Figure()\n",
    "\n",
    "for i in range(0,15):\n",
    "    fig.add_trace(go.Scatterpolar(\n",
    "          r=lds_new_radius.loc[i][[f'radius_{j}' for j in range(1,13)]],\n",
    "          theta=categories,\n",
    "            fill='toself',\n",
    "            name=f'teacher {i+1}'\n",
    "            ))\n",
    "    #fig.add_trace(go.Scatterpolar(\n",
    "    #      r=[4, 3, 2.5, 1, 2],\n",
    "    #      theta=categories,\n",
    "    #      fill='toself',\n",
    "    #      name='Product B'\n",
    "    #))\n",
    "\n",
    "    fig.update_layout(\n",
    "      polar=dict(\n",
    "        radialaxis=dict(\n",
    "          visible=True,\n",
    "          #range=list(np.arange(0,1,.1))\n",
    "        )),\n",
    "      showlegend=True, title =\"Radius\", width=900, height=700\n",
    "    )\n",
    "\n",
    "fig.show()\n",
    "fig.write_html(f\"labdocs_vizu/teachers_labdocs_radius.html\")\n"
   ]
  },
  {
   "cell_type": "code",
   "execution_count": 14,
   "id": "a00a7f81",
   "metadata": {},
   "outputs": [
    {
     "data": {
      "application/vnd.plotly.v1+json": {
       "config": {
        "plotlyServerURL": "https://plot.ly"
       },
       "data": [
        {
         "fill": "toself",
         "name": "teacher 1",
         "r": [
          0.76,
          0.07,
          0.63,
          0.16,
          0.19,
          0.42,
          0.04,
          0.22,
          0.14,
          0.32,
          0.06,
          0.15
         ],
         "theta": [
          "labdoc_1",
          "labdoc_2",
          "labdoc_3",
          "labdoc_4",
          "labdoc_5",
          "labdoc_6",
          "labdoc_7",
          "labdoc_8",
          "labdoc_9",
          "labdoc_10",
          "labdoc_11",
          "labdoc_12"
         ],
         "type": "scatterpolar"
        },
        {
         "fill": "toself",
         "name": "teacher 2",
         "r": [
          0.76,
          0.08,
          0.63,
          0.27,
          0.1,
          0.22,
          0.15,
          0.45,
          0.11,
          0.22,
          0.06,
          0.15
         ],
         "theta": [
          "labdoc_1",
          "labdoc_2",
          "labdoc_3",
          "labdoc_4",
          "labdoc_5",
          "labdoc_6",
          "labdoc_7",
          "labdoc_8",
          "labdoc_9",
          "labdoc_10",
          "labdoc_11",
          "labdoc_12"
         ],
         "type": "scatterpolar"
        },
        {
         "fill": "toself",
         "name": "teacher 3",
         "r": [
          0.78,
          0.07,
          0.49,
          0.57,
          0.67,
          0.41,
          0.04,
          0.31,
          0.16,
          0.05,
          0.04,
          0.28
         ],
         "theta": [
          "labdoc_1",
          "labdoc_2",
          "labdoc_3",
          "labdoc_4",
          "labdoc_5",
          "labdoc_6",
          "labdoc_7",
          "labdoc_8",
          "labdoc_9",
          "labdoc_10",
          "labdoc_11",
          "labdoc_12"
         ],
         "type": "scatterpolar"
        },
        {
         "fill": "toself",
         "name": "teacher 4",
         "r": [
          0.48,
          0.05,
          0.63,
          0.34,
          0.17,
          0.1,
          0.06,
          0.23,
          0.12,
          0.22,
          0.06,
          0.06
         ],
         "theta": [
          "labdoc_1",
          "labdoc_2",
          "labdoc_3",
          "labdoc_4",
          "labdoc_5",
          "labdoc_6",
          "labdoc_7",
          "labdoc_8",
          "labdoc_9",
          "labdoc_10",
          "labdoc_11",
          "labdoc_12"
         ],
         "type": "scatterpolar"
        },
        {
         "fill": "toself",
         "name": "teacher 5",
         "r": [
          1.05,
          0.37,
          0.63,
          0.27,
          0.05,
          0.41,
          0.2,
          0.21,
          0.21,
          0.05,
          0.04,
          0.06
         ],
         "theta": [
          "labdoc_1",
          "labdoc_2",
          "labdoc_3",
          "labdoc_4",
          "labdoc_5",
          "labdoc_6",
          "labdoc_7",
          "labdoc_8",
          "labdoc_9",
          "labdoc_10",
          "labdoc_11",
          "labdoc_12"
         ],
         "type": "scatterpolar"
        },
        {
         "fill": "toself",
         "name": "teacher 6",
         "r": [
          0.41,
          0.17,
          0.41,
          0.31,
          0.2,
          0.11,
          0.04,
          0.15,
          0.29,
          0.04,
          0.06,
          0.14
         ],
         "theta": [
          "labdoc_1",
          "labdoc_2",
          "labdoc_3",
          "labdoc_4",
          "labdoc_5",
          "labdoc_6",
          "labdoc_7",
          "labdoc_8",
          "labdoc_9",
          "labdoc_10",
          "labdoc_11",
          "labdoc_12"
         ],
         "type": "scatterpolar"
        },
        {
         "fill": "toself",
         "name": "teacher 7",
         "r": [
          1.05,
          0.37,
          0.63,
          0.27,
          0.24,
          0.11,
          0.06,
          0.1,
          0.18,
          0.22,
          0.11,
          0.02
         ],
         "theta": [
          "labdoc_1",
          "labdoc_2",
          "labdoc_3",
          "labdoc_4",
          "labdoc_5",
          "labdoc_6",
          "labdoc_7",
          "labdoc_8",
          "labdoc_9",
          "labdoc_10",
          "labdoc_11",
          "labdoc_12"
         ],
         "type": "scatterpolar"
        },
        {
         "fill": "toself",
         "name": "teacher 8",
         "r": [
          0.41,
          0.16,
          0.14,
          0.23,
          0.31,
          0.22,
          0.11,
          0.3,
          0.14,
          0.05,
          0.06,
          0.02
         ],
         "theta": [
          "labdoc_1",
          "labdoc_2",
          "labdoc_3",
          "labdoc_4",
          "labdoc_5",
          "labdoc_6",
          "labdoc_7",
          "labdoc_8",
          "labdoc_9",
          "labdoc_10",
          "labdoc_11",
          "labdoc_12"
         ],
         "type": "scatterpolar"
        },
        {
         "fill": "toself",
         "name": "teacher 9",
         "r": [
          0.34,
          0.41,
          0.11,
          0.53,
          0.31,
          0.44,
          0.26,
          0.52,
          0.18,
          0.46,
          0.09,
          0.02
         ],
         "theta": [
          "labdoc_1",
          "labdoc_2",
          "labdoc_3",
          "labdoc_4",
          "labdoc_5",
          "labdoc_6",
          "labdoc_7",
          "labdoc_8",
          "labdoc_9",
          "labdoc_10",
          "labdoc_11",
          "labdoc_12"
         ],
         "type": "scatterpolar"
        },
        {
         "fill": "toself",
         "name": "teacher 10",
         "r": [
          0.32,
          0.25,
          0.63,
          0.77,
          0.24,
          0.22,
          0.2,
          0.31,
          0.14,
          0.22,
          0.06,
          0.14
         ],
         "theta": [
          "labdoc_1",
          "labdoc_2",
          "labdoc_3",
          "labdoc_4",
          "labdoc_5",
          "labdoc_6",
          "labdoc_7",
          "labdoc_8",
          "labdoc_9",
          "labdoc_10",
          "labdoc_11",
          "labdoc_12"
         ],
         "type": "scatterpolar"
        },
        {
         "fill": "toself",
         "name": "teacher 11",
         "r": [
          0.95,
          0.17,
          0.63,
          0.27,
          0.26,
          0.22,
          0.11,
          0.23,
          0.14,
          0.32,
          0.06,
          0.06
         ],
         "theta": [
          "labdoc_1",
          "labdoc_2",
          "labdoc_3",
          "labdoc_4",
          "labdoc_5",
          "labdoc_6",
          "labdoc_7",
          "labdoc_8",
          "labdoc_9",
          "labdoc_10",
          "labdoc_11",
          "labdoc_12"
         ],
         "type": "scatterpolar"
        },
        {
         "fill": "toself",
         "name": "teacher 12",
         "r": [
          1.05,
          0.36,
          0.63,
          0.08,
          0.17,
          0.14,
          0.11,
          0.44,
          0.08,
          0.13,
          0.04,
          0.14
         ],
         "theta": [
          "labdoc_1",
          "labdoc_2",
          "labdoc_3",
          "labdoc_4",
          "labdoc_5",
          "labdoc_6",
          "labdoc_7",
          "labdoc_8",
          "labdoc_9",
          "labdoc_10",
          "labdoc_11",
          "labdoc_12"
         ],
         "type": "scatterpolar"
        },
        {
         "fill": "toself",
         "name": "teacher 13",
         "r": [
          0.34,
          0.36,
          0.63,
          0.27,
          0.77,
          0.22,
          0.2,
          0.52,
          0.41,
          0.1,
          0.06,
          0.25
         ],
         "theta": [
          "labdoc_1",
          "labdoc_2",
          "labdoc_3",
          "labdoc_4",
          "labdoc_5",
          "labdoc_6",
          "labdoc_7",
          "labdoc_8",
          "labdoc_9",
          "labdoc_10",
          "labdoc_11",
          "labdoc_12"
         ],
         "type": "scatterpolar"
        },
        {
         "fill": "toself",
         "name": "teacher 14",
         "r": [
          0.35,
          0.45,
          0.58,
          0.49,
          0.31,
          0.36,
          0.12,
          0.23,
          0.2,
          0.41,
          0.16,
          0.09
         ],
         "theta": [
          "labdoc_1",
          "labdoc_2",
          "labdoc_3",
          "labdoc_4",
          "labdoc_5",
          "labdoc_6",
          "labdoc_7",
          "labdoc_8",
          "labdoc_9",
          "labdoc_10",
          "labdoc_11",
          "labdoc_12"
         ],
         "type": "scatterpolar"
        },
        {
         "fill": "toself",
         "name": "teacher 15",
         "r": [
          0.92,
          0.17,
          0.63,
          0.05,
          0.24,
          0.1,
          0.2,
          0.29,
          0.14,
          0.05,
          0.06,
          0.14
         ],
         "theta": [
          "labdoc_1",
          "labdoc_2",
          "labdoc_3",
          "labdoc_4",
          "labdoc_5",
          "labdoc_6",
          "labdoc_7",
          "labdoc_8",
          "labdoc_9",
          "labdoc_10",
          "labdoc_11",
          "labdoc_12"
         ],
         "type": "scatterpolar"
        }
       ],
       "layout": {
        "height": 700,
        "polar": {
         "radialaxis": {
          "visible": true
         }
        },
        "showlegend": true,
        "template": {
         "data": {
          "bar": [
           {
            "error_x": {
             "color": "#2a3f5f"
            },
            "error_y": {
             "color": "#2a3f5f"
            },
            "marker": {
             "line": {
              "color": "#E5ECF6",
              "width": 0.5
             },
             "pattern": {
              "fillmode": "overlay",
              "size": 10,
              "solidity": 0.2
             }
            },
            "type": "bar"
           }
          ],
          "barpolar": [
           {
            "marker": {
             "line": {
              "color": "#E5ECF6",
              "width": 0.5
             },
             "pattern": {
              "fillmode": "overlay",
              "size": 10,
              "solidity": 0.2
             }
            },
            "type": "barpolar"
           }
          ],
          "carpet": [
           {
            "aaxis": {
             "endlinecolor": "#2a3f5f",
             "gridcolor": "white",
             "linecolor": "white",
             "minorgridcolor": "white",
             "startlinecolor": "#2a3f5f"
            },
            "baxis": {
             "endlinecolor": "#2a3f5f",
             "gridcolor": "white",
             "linecolor": "white",
             "minorgridcolor": "white",
             "startlinecolor": "#2a3f5f"
            },
            "type": "carpet"
           }
          ],
          "choropleth": [
           {
            "colorbar": {
             "outlinewidth": 0,
             "ticks": ""
            },
            "type": "choropleth"
           }
          ],
          "contour": [
           {
            "colorbar": {
             "outlinewidth": 0,
             "ticks": ""
            },
            "colorscale": [
             [
              0,
              "#0d0887"
             ],
             [
              0.1111111111111111,
              "#46039f"
             ],
             [
              0.2222222222222222,
              "#7201a8"
             ],
             [
              0.3333333333333333,
              "#9c179e"
             ],
             [
              0.4444444444444444,
              "#bd3786"
             ],
             [
              0.5555555555555556,
              "#d8576b"
             ],
             [
              0.6666666666666666,
              "#ed7953"
             ],
             [
              0.7777777777777778,
              "#fb9f3a"
             ],
             [
              0.8888888888888888,
              "#fdca26"
             ],
             [
              1,
              "#f0f921"
             ]
            ],
            "type": "contour"
           }
          ],
          "contourcarpet": [
           {
            "colorbar": {
             "outlinewidth": 0,
             "ticks": ""
            },
            "type": "contourcarpet"
           }
          ],
          "heatmap": [
           {
            "colorbar": {
             "outlinewidth": 0,
             "ticks": ""
            },
            "colorscale": [
             [
              0,
              "#0d0887"
             ],
             [
              0.1111111111111111,
              "#46039f"
             ],
             [
              0.2222222222222222,
              "#7201a8"
             ],
             [
              0.3333333333333333,
              "#9c179e"
             ],
             [
              0.4444444444444444,
              "#bd3786"
             ],
             [
              0.5555555555555556,
              "#d8576b"
             ],
             [
              0.6666666666666666,
              "#ed7953"
             ],
             [
              0.7777777777777778,
              "#fb9f3a"
             ],
             [
              0.8888888888888888,
              "#fdca26"
             ],
             [
              1,
              "#f0f921"
             ]
            ],
            "type": "heatmap"
           }
          ],
          "heatmapgl": [
           {
            "colorbar": {
             "outlinewidth": 0,
             "ticks": ""
            },
            "colorscale": [
             [
              0,
              "#0d0887"
             ],
             [
              0.1111111111111111,
              "#46039f"
             ],
             [
              0.2222222222222222,
              "#7201a8"
             ],
             [
              0.3333333333333333,
              "#9c179e"
             ],
             [
              0.4444444444444444,
              "#bd3786"
             ],
             [
              0.5555555555555556,
              "#d8576b"
             ],
             [
              0.6666666666666666,
              "#ed7953"
             ],
             [
              0.7777777777777778,
              "#fb9f3a"
             ],
             [
              0.8888888888888888,
              "#fdca26"
             ],
             [
              1,
              "#f0f921"
             ]
            ],
            "type": "heatmapgl"
           }
          ],
          "histogram": [
           {
            "marker": {
             "pattern": {
              "fillmode": "overlay",
              "size": 10,
              "solidity": 0.2
             }
            },
            "type": "histogram"
           }
          ],
          "histogram2d": [
           {
            "colorbar": {
             "outlinewidth": 0,
             "ticks": ""
            },
            "colorscale": [
             [
              0,
              "#0d0887"
             ],
             [
              0.1111111111111111,
              "#46039f"
             ],
             [
              0.2222222222222222,
              "#7201a8"
             ],
             [
              0.3333333333333333,
              "#9c179e"
             ],
             [
              0.4444444444444444,
              "#bd3786"
             ],
             [
              0.5555555555555556,
              "#d8576b"
             ],
             [
              0.6666666666666666,
              "#ed7953"
             ],
             [
              0.7777777777777778,
              "#fb9f3a"
             ],
             [
              0.8888888888888888,
              "#fdca26"
             ],
             [
              1,
              "#f0f921"
             ]
            ],
            "type": "histogram2d"
           }
          ],
          "histogram2dcontour": [
           {
            "colorbar": {
             "outlinewidth": 0,
             "ticks": ""
            },
            "colorscale": [
             [
              0,
              "#0d0887"
             ],
             [
              0.1111111111111111,
              "#46039f"
             ],
             [
              0.2222222222222222,
              "#7201a8"
             ],
             [
              0.3333333333333333,
              "#9c179e"
             ],
             [
              0.4444444444444444,
              "#bd3786"
             ],
             [
              0.5555555555555556,
              "#d8576b"
             ],
             [
              0.6666666666666666,
              "#ed7953"
             ],
             [
              0.7777777777777778,
              "#fb9f3a"
             ],
             [
              0.8888888888888888,
              "#fdca26"
             ],
             [
              1,
              "#f0f921"
             ]
            ],
            "type": "histogram2dcontour"
           }
          ],
          "mesh3d": [
           {
            "colorbar": {
             "outlinewidth": 0,
             "ticks": ""
            },
            "type": "mesh3d"
           }
          ],
          "parcoords": [
           {
            "line": {
             "colorbar": {
              "outlinewidth": 0,
              "ticks": ""
             }
            },
            "type": "parcoords"
           }
          ],
          "pie": [
           {
            "automargin": true,
            "type": "pie"
           }
          ],
          "scatter": [
           {
            "marker": {
             "colorbar": {
              "outlinewidth": 0,
              "ticks": ""
             }
            },
            "type": "scatter"
           }
          ],
          "scatter3d": [
           {
            "line": {
             "colorbar": {
              "outlinewidth": 0,
              "ticks": ""
             }
            },
            "marker": {
             "colorbar": {
              "outlinewidth": 0,
              "ticks": ""
             }
            },
            "type": "scatter3d"
           }
          ],
          "scattercarpet": [
           {
            "marker": {
             "colorbar": {
              "outlinewidth": 0,
              "ticks": ""
             }
            },
            "type": "scattercarpet"
           }
          ],
          "scattergeo": [
           {
            "marker": {
             "colorbar": {
              "outlinewidth": 0,
              "ticks": ""
             }
            },
            "type": "scattergeo"
           }
          ],
          "scattergl": [
           {
            "marker": {
             "colorbar": {
              "outlinewidth": 0,
              "ticks": ""
             }
            },
            "type": "scattergl"
           }
          ],
          "scattermapbox": [
           {
            "marker": {
             "colorbar": {
              "outlinewidth": 0,
              "ticks": ""
             }
            },
            "type": "scattermapbox"
           }
          ],
          "scatterpolar": [
           {
            "marker": {
             "colorbar": {
              "outlinewidth": 0,
              "ticks": ""
             }
            },
            "type": "scatterpolar"
           }
          ],
          "scatterpolargl": [
           {
            "marker": {
             "colorbar": {
              "outlinewidth": 0,
              "ticks": ""
             }
            },
            "type": "scatterpolargl"
           }
          ],
          "scatterternary": [
           {
            "marker": {
             "colorbar": {
              "outlinewidth": 0,
              "ticks": ""
             }
            },
            "type": "scatterternary"
           }
          ],
          "surface": [
           {
            "colorbar": {
             "outlinewidth": 0,
             "ticks": ""
            },
            "colorscale": [
             [
              0,
              "#0d0887"
             ],
             [
              0.1111111111111111,
              "#46039f"
             ],
             [
              0.2222222222222222,
              "#7201a8"
             ],
             [
              0.3333333333333333,
              "#9c179e"
             ],
             [
              0.4444444444444444,
              "#bd3786"
             ],
             [
              0.5555555555555556,
              "#d8576b"
             ],
             [
              0.6666666666666666,
              "#ed7953"
             ],
             [
              0.7777777777777778,
              "#fb9f3a"
             ],
             [
              0.8888888888888888,
              "#fdca26"
             ],
             [
              1,
              "#f0f921"
             ]
            ],
            "type": "surface"
           }
          ],
          "table": [
           {
            "cells": {
             "fill": {
              "color": "#EBF0F8"
             },
             "line": {
              "color": "white"
             }
            },
            "header": {
             "fill": {
              "color": "#C8D4E3"
             },
             "line": {
              "color": "white"
             }
            },
            "type": "table"
           }
          ]
         },
         "layout": {
          "annotationdefaults": {
           "arrowcolor": "#2a3f5f",
           "arrowhead": 0,
           "arrowwidth": 1
          },
          "autotypenumbers": "strict",
          "coloraxis": {
           "colorbar": {
            "outlinewidth": 0,
            "ticks": ""
           }
          },
          "colorscale": {
           "diverging": [
            [
             0,
             "#8e0152"
            ],
            [
             0.1,
             "#c51b7d"
            ],
            [
             0.2,
             "#de77ae"
            ],
            [
             0.3,
             "#f1b6da"
            ],
            [
             0.4,
             "#fde0ef"
            ],
            [
             0.5,
             "#f7f7f7"
            ],
            [
             0.6,
             "#e6f5d0"
            ],
            [
             0.7,
             "#b8e186"
            ],
            [
             0.8,
             "#7fbc41"
            ],
            [
             0.9,
             "#4d9221"
            ],
            [
             1,
             "#276419"
            ]
           ],
           "sequential": [
            [
             0,
             "#0d0887"
            ],
            [
             0.1111111111111111,
             "#46039f"
            ],
            [
             0.2222222222222222,
             "#7201a8"
            ],
            [
             0.3333333333333333,
             "#9c179e"
            ],
            [
             0.4444444444444444,
             "#bd3786"
            ],
            [
             0.5555555555555556,
             "#d8576b"
            ],
            [
             0.6666666666666666,
             "#ed7953"
            ],
            [
             0.7777777777777778,
             "#fb9f3a"
            ],
            [
             0.8888888888888888,
             "#fdca26"
            ],
            [
             1,
             "#f0f921"
            ]
           ],
           "sequentialminus": [
            [
             0,
             "#0d0887"
            ],
            [
             0.1111111111111111,
             "#46039f"
            ],
            [
             0.2222222222222222,
             "#7201a8"
            ],
            [
             0.3333333333333333,
             "#9c179e"
            ],
            [
             0.4444444444444444,
             "#bd3786"
            ],
            [
             0.5555555555555556,
             "#d8576b"
            ],
            [
             0.6666666666666666,
             "#ed7953"
            ],
            [
             0.7777777777777778,
             "#fb9f3a"
            ],
            [
             0.8888888888888888,
             "#fdca26"
            ],
            [
             1,
             "#f0f921"
            ]
           ]
          },
          "colorway": [
           "#636efa",
           "#EF553B",
           "#00cc96",
           "#ab63fa",
           "#FFA15A",
           "#19d3f3",
           "#FF6692",
           "#B6E880",
           "#FF97FF",
           "#FECB52"
          ],
          "font": {
           "color": "#2a3f5f"
          },
          "geo": {
           "bgcolor": "white",
           "lakecolor": "white",
           "landcolor": "#E5ECF6",
           "showlakes": true,
           "showland": true,
           "subunitcolor": "white"
          },
          "hoverlabel": {
           "align": "left"
          },
          "hovermode": "closest",
          "mapbox": {
           "style": "light"
          },
          "paper_bgcolor": "white",
          "plot_bgcolor": "#E5ECF6",
          "polar": {
           "angularaxis": {
            "gridcolor": "white",
            "linecolor": "white",
            "ticks": ""
           },
           "bgcolor": "#E5ECF6",
           "radialaxis": {
            "gridcolor": "white",
            "linecolor": "white",
            "ticks": ""
           }
          },
          "scene": {
           "xaxis": {
            "backgroundcolor": "#E5ECF6",
            "gridcolor": "white",
            "gridwidth": 2,
            "linecolor": "white",
            "showbackground": true,
            "ticks": "",
            "zerolinecolor": "white"
           },
           "yaxis": {
            "backgroundcolor": "#E5ECF6",
            "gridcolor": "white",
            "gridwidth": 2,
            "linecolor": "white",
            "showbackground": true,
            "ticks": "",
            "zerolinecolor": "white"
           },
           "zaxis": {
            "backgroundcolor": "#E5ECF6",
            "gridcolor": "white",
            "gridwidth": 2,
            "linecolor": "white",
            "showbackground": true,
            "ticks": "",
            "zerolinecolor": "white"
           }
          },
          "shapedefaults": {
           "line": {
            "color": "#2a3f5f"
           }
          },
          "ternary": {
           "aaxis": {
            "gridcolor": "white",
            "linecolor": "white",
            "ticks": ""
           },
           "baxis": {
            "gridcolor": "white",
            "linecolor": "white",
            "ticks": ""
           },
           "bgcolor": "#E5ECF6",
           "caxis": {
            "gridcolor": "white",
            "linecolor": "white",
            "ticks": ""
           }
          },
          "title": {
           "x": 0.05
          },
          "xaxis": {
           "automargin": true,
           "gridcolor": "white",
           "linecolor": "white",
           "ticks": "",
           "title": {
            "standoff": 15
           },
           "zerolinecolor": "white",
           "zerolinewidth": 2
          },
          "yaxis": {
           "automargin": true,
           "gridcolor": "white",
           "linecolor": "white",
           "ticks": "",
           "title": {
            "standoff": 15
           },
           "zerolinecolor": "white",
           "zerolinewidth": 2
          }
         }
        },
        "title": {
         "text": "Radius_sr"
        },
        "width": 900
       }
      }
     },
     "metadata": {},
     "output_type": "display_data"
    }
   ],
   "source": [
    "import plotly.graph_objects as go\n",
    "\n",
    "#categories = ['processing cost','mechanical properties','chemical stability',\n",
    "#              'thermal stability', 'device integration']\n",
    "\n",
    "categories = [f'labdoc_{i}' for i in range(1,13) ]\n",
    "#lds_new_radius[f'radius_{i}']\n",
    "\n",
    "\n",
    "fig = go.Figure()\n",
    "\n",
    "for i in range(0,15):\n",
    "    fig.add_trace(go.Scatterpolar(\n",
    "          r=lds_new_radius.loc[i][[f'radius_sr_{j}' for j in range(1,13)]],\n",
    "          theta=categories,\n",
    "            fill='toself',\n",
    "            name=f'teacher {i+1}'\n",
    "            ))\n",
    "    #fig.add_trace(go.Scatterpolar(\n",
    "    #      r=[4, 3, 2.5, 1, 2],\n",
    "    #      theta=categories,\n",
    "    #      fill='toself',\n",
    "    #      name='Product B'\n",
    "    #))\n",
    "\n",
    "    fig.update_layout(\n",
    "      polar=dict(\n",
    "        radialaxis=dict(\n",
    "          visible=True,\n",
    "          #range=list(np.arange(0,1,.1))\n",
    "        )),\n",
    "      showlegend=True, title =\"Radius_sr\", width=900, height=700\n",
    "    )\n",
    "\n",
    "fig.show()\n",
    "fig.write_html(f\"labdocs_vizu/teachers_labdocs_radius_sr.html\")\n"
   ]
  },
  {
   "cell_type": "code",
   "execution_count": 15,
   "id": "004498b5",
   "metadata": {
    "scrolled": true
   },
   "outputs": [],
   "source": [
    "eqc = val[[f'eqc_{i}' for i in range(1,13)]].iloc[2]\n",
    "eqc_object = Fuzzify(eqc, 0, 1, 0.45)\n",
    "fuzzified_eqc = eqc_object.get_membership()\n",
    "\n",
    "\n",
    "eqc_sr = val[[f'eqc_{i}' for i in range(1,13)]].iloc[0]\n",
    "eqc_object_sr = Fuzzify(eqc_sr, 0, 1, 0.45)\n",
    "fuzzified_eqc_sr = eqc_object_sr.get_membership()\n",
    "\n",
    "\n",
    "coec_sr = val[[f'coec_{i}' for i in range(1,13)]].iloc[0]\n",
    "coec_object_sr = Fuzzify(coec_sr, 0, 1, 0.45)\n",
    "fuzzified_coec_sr = coec_object_sr.get_membership()\n",
    "\n",
    "coec = val[[f'coec_{i}' for i in range(1,13)]].iloc[2]\n",
    "coec_object = Fuzzify(coec, 0, 1, 0.45)\n",
    "fuzzified_coec = coec_object.get_membership()\n",
    "\n",
    "fuzzy = pd.DataFrame(index= range(1,13))\n",
    "\n",
    "\n",
    "fuzzy['membership_coec_sr']  = fuzzified_coec_sr['membership'].values\n",
    "fuzzy['degree_coec_sr']  = fuzzified_coec_sr['degree'].values\n",
    "\n",
    "fuzzy['membership_eqc_sr']  = fuzzified_eqc_sr['membership'].values\n",
    "fuzzy['degree_eqc_sr']  = fuzzified_eqc_sr['degree'].values\n",
    "\n",
    "fuzzy['membership_coec']  = fuzzified_coec['membership'].values\n",
    "fuzzy['degree_coec']  = fuzzified_coec['degree'].values\n",
    "\n",
    "fuzzy['membership_eqc']  =  fuzzified_eqc['membership'].values\n",
    "fuzzy['degree_eqc']  = fuzzified_eqc['degree'].values\n",
    "\n"
   ]
  },
  {
   "cell_type": "code",
   "execution_count": 16,
   "id": "b30cbfc7",
   "metadata": {},
   "outputs": [
    {
     "data": {
      "application/vnd.plotly.v1+json": {
       "config": {
        "plotlyServerURL": "https://plot.ly"
       },
       "data": [
        {
         "alignmentgroup": "True",
         "hovertemplate": "variable=degree_coec_sr<br>index=%{x}<br>value=%{y}<extra></extra>",
         "legendgroup": "degree_coec_sr",
         "marker": {
          "color": "#636efa",
          "pattern": {
           "shape": ""
          }
         },
         "name": "degree_coec_sr",
         "offsetgroup": "degree_coec_sr",
         "orientation": "v",
         "showlegend": true,
         "textposition": "auto",
         "type": "bar",
         "x": [
          1,
          2,
          3,
          4,
          5,
          6,
          7,
          8,
          9,
          10,
          11,
          12
         ],
         "xaxis": "x",
         "y": [
          0.5177777777777778,
          0.8711111111111111,
          0.8984615384615384,
          0.52,
          0.56,
          0.6644444444444444,
          0.9222222222222222,
          0.9196581196581196,
          0.8044444444444444,
          0.8955555555555555,
          0.9555555555555555,
          0.8933333333333333
         ],
         "yaxis": "y"
        },
        {
         "alignmentgroup": "True",
         "hovertemplate": "variable=degree_coec<br>index=%{x}<br>value=%{y}<extra></extra>",
         "legendgroup": "degree_coec",
         "marker": {
          "color": "#EF553B",
          "pattern": {
           "shape": ""
          }
         },
         "name": "degree_coec",
         "offsetgroup": "degree_coec",
         "orientation": "v",
         "showlegend": true,
         "textposition": "auto",
         "type": "bar",
         "x": [
          1,
          2,
          3,
          4,
          5,
          6,
          7,
          8,
          9,
          10,
          11,
          12
         ],
         "xaxis": "x",
         "y": [
          0.8923076923076924,
          0.7488888888888888,
          0.5138461538461538,
          0.8936752136752137,
          0.9025641025641026,
          0.9107692307692307,
          0.8444444444444443,
          0.5538461538461539,
          0.6222222222222222,
          0.7955555555555555,
          0.9088888888888889,
          0.7888888888888888
         ],
         "yaxis": "y"
        },
        {
         "alignmentgroup": "True",
         "hovertemplate": "variable=degree_eqc_sr<br>index=%{x}<br>value=%{y}<extra></extra>",
         "legendgroup": "degree_eqc_sr",
         "marker": {
          "color": "#00cc96",
          "pattern": {
           "shape": ""
          }
         },
         "name": "degree_eqc_sr",
         "offsetgroup": "degree_eqc_sr",
         "orientation": "v",
         "showlegend": true,
         "textposition": "auto",
         "type": "bar",
         "x": [
          1,
          2,
          3,
          4,
          5,
          6,
          7,
          8,
          9,
          10,
          11,
          12
         ],
         "xaxis": "x",
         "y": [
          0.6422222222222221,
          0.7092307692307692,
          0.7646153846153846,
          0.7846153846153845,
          0.6355555555555554,
          0.6923076923076922,
          0.6666666666666666,
          0.6923076923076922,
          0.6222222222222222,
          0.5892307692307693,
          0.6444444444444444,
          0.84
         ],
         "yaxis": "y"
        },
        {
         "alignmentgroup": "True",
         "hovertemplate": "variable=degree_eqc<br>index=%{x}<br>value=%{y}<extra></extra>",
         "legendgroup": "degree_eqc",
         "marker": {
          "color": "#ab63fa",
          "pattern": {
           "shape": ""
          }
         },
         "name": "degree_eqc",
         "offsetgroup": "degree_eqc",
         "orientation": "v",
         "showlegend": true,
         "textposition": "auto",
         "type": "bar",
         "x": [
          1,
          2,
          3,
          4,
          5,
          6,
          7,
          8,
          9,
          10,
          11,
          12
         ],
         "xaxis": "x",
         "y": [
          0.9196581196581196,
          0.646153846153846,
          0.603076923076923,
          0.8307692307692307,
          0.9196581196581196,
          0.8307692307692307,
          0.9076923076923076,
          0.8307692307692307,
          0.9172649572649573,
          0.723076923076923,
          0.6577777777777777,
          0.6888888888888889
         ],
         "yaxis": "y"
        }
       ],
       "layout": {
        "barmode": "group",
        "height": 400,
        "legend": {
         "title": {
          "text": "variable"
         },
         "tracegroupgap": 0
        },
        "margin": {
         "t": 60
        },
        "paper_bgcolor": "#FFFFFF",
        "showlegend": true,
        "template": {
         "data": {
          "bar": [
           {
            "error_x": {
             "color": "#2a3f5f"
            },
            "error_y": {
             "color": "#2a3f5f"
            },
            "marker": {
             "line": {
              "color": "#E5ECF6",
              "width": 0.5
             },
             "pattern": {
              "fillmode": "overlay",
              "size": 10,
              "solidity": 0.2
             }
            },
            "type": "bar"
           }
          ],
          "barpolar": [
           {
            "marker": {
             "line": {
              "color": "#E5ECF6",
              "width": 0.5
             },
             "pattern": {
              "fillmode": "overlay",
              "size": 10,
              "solidity": 0.2
             }
            },
            "type": "barpolar"
           }
          ],
          "carpet": [
           {
            "aaxis": {
             "endlinecolor": "#2a3f5f",
             "gridcolor": "white",
             "linecolor": "white",
             "minorgridcolor": "white",
             "startlinecolor": "#2a3f5f"
            },
            "baxis": {
             "endlinecolor": "#2a3f5f",
             "gridcolor": "white",
             "linecolor": "white",
             "minorgridcolor": "white",
             "startlinecolor": "#2a3f5f"
            },
            "type": "carpet"
           }
          ],
          "choropleth": [
           {
            "colorbar": {
             "outlinewidth": 0,
             "ticks": ""
            },
            "type": "choropleth"
           }
          ],
          "contour": [
           {
            "colorbar": {
             "outlinewidth": 0,
             "ticks": ""
            },
            "colorscale": [
             [
              0,
              "#0d0887"
             ],
             [
              0.1111111111111111,
              "#46039f"
             ],
             [
              0.2222222222222222,
              "#7201a8"
             ],
             [
              0.3333333333333333,
              "#9c179e"
             ],
             [
              0.4444444444444444,
              "#bd3786"
             ],
             [
              0.5555555555555556,
              "#d8576b"
             ],
             [
              0.6666666666666666,
              "#ed7953"
             ],
             [
              0.7777777777777778,
              "#fb9f3a"
             ],
             [
              0.8888888888888888,
              "#fdca26"
             ],
             [
              1,
              "#f0f921"
             ]
            ],
            "type": "contour"
           }
          ],
          "contourcarpet": [
           {
            "colorbar": {
             "outlinewidth": 0,
             "ticks": ""
            },
            "type": "contourcarpet"
           }
          ],
          "heatmap": [
           {
            "colorbar": {
             "outlinewidth": 0,
             "ticks": ""
            },
            "colorscale": [
             [
              0,
              "#0d0887"
             ],
             [
              0.1111111111111111,
              "#46039f"
             ],
             [
              0.2222222222222222,
              "#7201a8"
             ],
             [
              0.3333333333333333,
              "#9c179e"
             ],
             [
              0.4444444444444444,
              "#bd3786"
             ],
             [
              0.5555555555555556,
              "#d8576b"
             ],
             [
              0.6666666666666666,
              "#ed7953"
             ],
             [
              0.7777777777777778,
              "#fb9f3a"
             ],
             [
              0.8888888888888888,
              "#fdca26"
             ],
             [
              1,
              "#f0f921"
             ]
            ],
            "type": "heatmap"
           }
          ],
          "heatmapgl": [
           {
            "colorbar": {
             "outlinewidth": 0,
             "ticks": ""
            },
            "colorscale": [
             [
              0,
              "#0d0887"
             ],
             [
              0.1111111111111111,
              "#46039f"
             ],
             [
              0.2222222222222222,
              "#7201a8"
             ],
             [
              0.3333333333333333,
              "#9c179e"
             ],
             [
              0.4444444444444444,
              "#bd3786"
             ],
             [
              0.5555555555555556,
              "#d8576b"
             ],
             [
              0.6666666666666666,
              "#ed7953"
             ],
             [
              0.7777777777777778,
              "#fb9f3a"
             ],
             [
              0.8888888888888888,
              "#fdca26"
             ],
             [
              1,
              "#f0f921"
             ]
            ],
            "type": "heatmapgl"
           }
          ],
          "histogram": [
           {
            "marker": {
             "pattern": {
              "fillmode": "overlay",
              "size": 10,
              "solidity": 0.2
             }
            },
            "type": "histogram"
           }
          ],
          "histogram2d": [
           {
            "colorbar": {
             "outlinewidth": 0,
             "ticks": ""
            },
            "colorscale": [
             [
              0,
              "#0d0887"
             ],
             [
              0.1111111111111111,
              "#46039f"
             ],
             [
              0.2222222222222222,
              "#7201a8"
             ],
             [
              0.3333333333333333,
              "#9c179e"
             ],
             [
              0.4444444444444444,
              "#bd3786"
             ],
             [
              0.5555555555555556,
              "#d8576b"
             ],
             [
              0.6666666666666666,
              "#ed7953"
             ],
             [
              0.7777777777777778,
              "#fb9f3a"
             ],
             [
              0.8888888888888888,
              "#fdca26"
             ],
             [
              1,
              "#f0f921"
             ]
            ],
            "type": "histogram2d"
           }
          ],
          "histogram2dcontour": [
           {
            "colorbar": {
             "outlinewidth": 0,
             "ticks": ""
            },
            "colorscale": [
             [
              0,
              "#0d0887"
             ],
             [
              0.1111111111111111,
              "#46039f"
             ],
             [
              0.2222222222222222,
              "#7201a8"
             ],
             [
              0.3333333333333333,
              "#9c179e"
             ],
             [
              0.4444444444444444,
              "#bd3786"
             ],
             [
              0.5555555555555556,
              "#d8576b"
             ],
             [
              0.6666666666666666,
              "#ed7953"
             ],
             [
              0.7777777777777778,
              "#fb9f3a"
             ],
             [
              0.8888888888888888,
              "#fdca26"
             ],
             [
              1,
              "#f0f921"
             ]
            ],
            "type": "histogram2dcontour"
           }
          ],
          "mesh3d": [
           {
            "colorbar": {
             "outlinewidth": 0,
             "ticks": ""
            },
            "type": "mesh3d"
           }
          ],
          "parcoords": [
           {
            "line": {
             "colorbar": {
              "outlinewidth": 0,
              "ticks": ""
             }
            },
            "type": "parcoords"
           }
          ],
          "pie": [
           {
            "automargin": true,
            "type": "pie"
           }
          ],
          "scatter": [
           {
            "marker": {
             "colorbar": {
              "outlinewidth": 0,
              "ticks": ""
             }
            },
            "type": "scatter"
           }
          ],
          "scatter3d": [
           {
            "line": {
             "colorbar": {
              "outlinewidth": 0,
              "ticks": ""
             }
            },
            "marker": {
             "colorbar": {
              "outlinewidth": 0,
              "ticks": ""
             }
            },
            "type": "scatter3d"
           }
          ],
          "scattercarpet": [
           {
            "marker": {
             "colorbar": {
              "outlinewidth": 0,
              "ticks": ""
             }
            },
            "type": "scattercarpet"
           }
          ],
          "scattergeo": [
           {
            "marker": {
             "colorbar": {
              "outlinewidth": 0,
              "ticks": ""
             }
            },
            "type": "scattergeo"
           }
          ],
          "scattergl": [
           {
            "marker": {
             "colorbar": {
              "outlinewidth": 0,
              "ticks": ""
             }
            },
            "type": "scattergl"
           }
          ],
          "scattermapbox": [
           {
            "marker": {
             "colorbar": {
              "outlinewidth": 0,
              "ticks": ""
             }
            },
            "type": "scattermapbox"
           }
          ],
          "scatterpolar": [
           {
            "marker": {
             "colorbar": {
              "outlinewidth": 0,
              "ticks": ""
             }
            },
            "type": "scatterpolar"
           }
          ],
          "scatterpolargl": [
           {
            "marker": {
             "colorbar": {
              "outlinewidth": 0,
              "ticks": ""
             }
            },
            "type": "scatterpolargl"
           }
          ],
          "scatterternary": [
           {
            "marker": {
             "colorbar": {
              "outlinewidth": 0,
              "ticks": ""
             }
            },
            "type": "scatterternary"
           }
          ],
          "surface": [
           {
            "colorbar": {
             "outlinewidth": 0,
             "ticks": ""
            },
            "colorscale": [
             [
              0,
              "#0d0887"
             ],
             [
              0.1111111111111111,
              "#46039f"
             ],
             [
              0.2222222222222222,
              "#7201a8"
             ],
             [
              0.3333333333333333,
              "#9c179e"
             ],
             [
              0.4444444444444444,
              "#bd3786"
             ],
             [
              0.5555555555555556,
              "#d8576b"
             ],
             [
              0.6666666666666666,
              "#ed7953"
             ],
             [
              0.7777777777777778,
              "#fb9f3a"
             ],
             [
              0.8888888888888888,
              "#fdca26"
             ],
             [
              1,
              "#f0f921"
             ]
            ],
            "type": "surface"
           }
          ],
          "table": [
           {
            "cells": {
             "fill": {
              "color": "#EBF0F8"
             },
             "line": {
              "color": "white"
             }
            },
            "header": {
             "fill": {
              "color": "#C8D4E3"
             },
             "line": {
              "color": "white"
             }
            },
            "type": "table"
           }
          ]
         },
         "layout": {
          "annotationdefaults": {
           "arrowcolor": "#2a3f5f",
           "arrowhead": 0,
           "arrowwidth": 1
          },
          "autotypenumbers": "strict",
          "coloraxis": {
           "colorbar": {
            "outlinewidth": 0,
            "ticks": ""
           }
          },
          "colorscale": {
           "diverging": [
            [
             0,
             "#8e0152"
            ],
            [
             0.1,
             "#c51b7d"
            ],
            [
             0.2,
             "#de77ae"
            ],
            [
             0.3,
             "#f1b6da"
            ],
            [
             0.4,
             "#fde0ef"
            ],
            [
             0.5,
             "#f7f7f7"
            ],
            [
             0.6,
             "#e6f5d0"
            ],
            [
             0.7,
             "#b8e186"
            ],
            [
             0.8,
             "#7fbc41"
            ],
            [
             0.9,
             "#4d9221"
            ],
            [
             1,
             "#276419"
            ]
           ],
           "sequential": [
            [
             0,
             "#0d0887"
            ],
            [
             0.1111111111111111,
             "#46039f"
            ],
            [
             0.2222222222222222,
             "#7201a8"
            ],
            [
             0.3333333333333333,
             "#9c179e"
            ],
            [
             0.4444444444444444,
             "#bd3786"
            ],
            [
             0.5555555555555556,
             "#d8576b"
            ],
            [
             0.6666666666666666,
             "#ed7953"
            ],
            [
             0.7777777777777778,
             "#fb9f3a"
            ],
            [
             0.8888888888888888,
             "#fdca26"
            ],
            [
             1,
             "#f0f921"
            ]
           ],
           "sequentialminus": [
            [
             0,
             "#0d0887"
            ],
            [
             0.1111111111111111,
             "#46039f"
            ],
            [
             0.2222222222222222,
             "#7201a8"
            ],
            [
             0.3333333333333333,
             "#9c179e"
            ],
            [
             0.4444444444444444,
             "#bd3786"
            ],
            [
             0.5555555555555556,
             "#d8576b"
            ],
            [
             0.6666666666666666,
             "#ed7953"
            ],
            [
             0.7777777777777778,
             "#fb9f3a"
            ],
            [
             0.8888888888888888,
             "#fdca26"
            ],
            [
             1,
             "#f0f921"
            ]
           ]
          },
          "colorway": [
           "#636efa",
           "#EF553B",
           "#00cc96",
           "#ab63fa",
           "#FFA15A",
           "#19d3f3",
           "#FF6692",
           "#B6E880",
           "#FF97FF",
           "#FECB52"
          ],
          "font": {
           "color": "#2a3f5f"
          },
          "geo": {
           "bgcolor": "white",
           "lakecolor": "white",
           "landcolor": "#E5ECF6",
           "showlakes": true,
           "showland": true,
           "subunitcolor": "white"
          },
          "hoverlabel": {
           "align": "left"
          },
          "hovermode": "closest",
          "mapbox": {
           "style": "light"
          },
          "paper_bgcolor": "white",
          "plot_bgcolor": "#E5ECF6",
          "polar": {
           "angularaxis": {
            "gridcolor": "white",
            "linecolor": "white",
            "ticks": ""
           },
           "bgcolor": "#E5ECF6",
           "radialaxis": {
            "gridcolor": "white",
            "linecolor": "white",
            "ticks": ""
           }
          },
          "scene": {
           "xaxis": {
            "backgroundcolor": "#E5ECF6",
            "gridcolor": "white",
            "gridwidth": 2,
            "linecolor": "white",
            "showbackground": true,
            "ticks": "",
            "zerolinecolor": "white"
           },
           "yaxis": {
            "backgroundcolor": "#E5ECF6",
            "gridcolor": "white",
            "gridwidth": 2,
            "linecolor": "white",
            "showbackground": true,
            "ticks": "",
            "zerolinecolor": "white"
           },
           "zaxis": {
            "backgroundcolor": "#E5ECF6",
            "gridcolor": "white",
            "gridwidth": 2,
            "linecolor": "white",
            "showbackground": true,
            "ticks": "",
            "zerolinecolor": "white"
           }
          },
          "shapedefaults": {
           "line": {
            "color": "#2a3f5f"
           }
          },
          "ternary": {
           "aaxis": {
            "gridcolor": "white",
            "linecolor": "white",
            "ticks": ""
           },
           "baxis": {
            "gridcolor": "white",
            "linecolor": "white",
            "ticks": ""
           },
           "bgcolor": "#E5ECF6",
           "caxis": {
            "gridcolor": "white",
            "linecolor": "white",
            "ticks": ""
           }
          },
          "title": {
           "x": 0.05
          },
          "xaxis": {
           "automargin": true,
           "gridcolor": "white",
           "linecolor": "white",
           "ticks": "",
           "title": {
            "standoff": 15
           },
           "zerolinecolor": "white",
           "zerolinewidth": 2
          },
          "yaxis": {
           "automargin": true,
           "gridcolor": "white",
           "linecolor": "white",
           "ticks": "",
           "title": {
            "standoff": 15
           },
           "zerolinecolor": "white",
           "zerolinewidth": 2
          }
         }
        },
        "title": {
         "text": "Labdoc membership degrees"
        },
        "width": 900,
        "xaxis": {
         "anchor": "y",
         "domain": [
          0,
          1
         ],
         "rangeslider": {
          "thickness": 0.05,
          "visible": true
         },
         "title": {
          "text": "index"
         }
        },
        "yaxis": {
         "anchor": "x",
         "domain": [
          0,
          1
         ],
         "title": {
          "text": "value"
         }
        }
       }
      }
     },
     "metadata": {},
     "output_type": "display_data"
    }
   ],
   "source": [
    "import plotly.express as px\n",
    "# Construct the graph and style it. Further customize your graph by editing this code.\n",
    "# See Plotly Documentation for help: https://plotly.com/python/plotly-express/\n",
    "fig = px.bar(fuzzy, y=['degree_coec_sr', 'degree_coec', 'degree_eqc_sr', 'degree_eqc'])\n",
    "fig.update_layout(\n",
    "    title='Labdoc membership degrees', \n",
    "    xaxis = dict(\n",
    "        rangeslider = dict(\n",
    "            visible=True, \n",
    "            thickness=0.05\n",
    "        )\n",
    "    ), \n",
    "    yaxis = dict(\n",
    "\n",
    "    ), \n",
    "    barmode='group', \n",
    "    paper_bgcolor='#FFFFFF', \n",
    "    showlegend=True, width=900, height=400,        \n",
    "\n",
    ")\n",
    "fig.show()\n",
    "fig.write_html(f\"labdocs_vizu/labdoc_membership_degrees.html\")\n"
   ]
  },
  {
   "cell_type": "code",
   "execution_count": 17,
   "id": "c430cdeb",
   "metadata": {},
   "outputs": [
    {
     "data": {
      "application/vnd.plotly.v1+json": {
       "config": {
        "plotlyServerURL": "https://plot.ly"
       },
       "data": [
        {
         "alignmentgroup": "True",
         "hovertemplate": "variable=radius_1<br>index=%{x}<br>value=%{y}<extra></extra>",
         "legendgroup": "radius_1",
         "marker": {
          "color": "#636efa",
          "pattern": {
           "shape": ""
          }
         },
         "name": "radius_1",
         "offsetgroup": "radius_1",
         "orientation": "v",
         "showlegend": true,
         "textposition": "auto",
         "type": "bar",
         "x": [
          0,
          1,
          2,
          3,
          4,
          5,
          6,
          7,
          8,
          9,
          10,
          11,
          12,
          13,
          14
         ],
         "xaxis": "x",
         "y": [
          0.5,
          0.5,
          0.53,
          0.22,
          0.78,
          0.14,
          0.78,
          0.14,
          0.09,
          0.16,
          0.69,
          0.78,
          0.09,
          0.11,
          0.67
         ],
         "yaxis": "y"
        },
        {
         "alignmentgroup": "True",
         "hovertemplate": "variable=radius_sr_1<br>index=%{x}<br>value=%{y}<extra></extra>",
         "legendgroup": "radius_sr_1",
         "marker": {
          "color": "#EF553B",
          "pattern": {
           "shape": ""
          }
         },
         "name": "radius_sr_1",
         "offsetgroup": "radius_sr_1",
         "orientation": "v",
         "showlegend": true,
         "textposition": "auto",
         "type": "bar",
         "x": [
          0,
          1,
          2,
          3,
          4,
          5,
          6,
          7,
          8,
          9,
          10,
          11,
          12,
          13,
          14
         ],
         "xaxis": "x",
         "y": [
          0.76,
          0.76,
          0.78,
          0.48,
          1.05,
          0.41,
          1.05,
          0.41,
          0.34,
          0.32,
          0.95,
          1.05,
          0.34,
          0.35,
          0.92
         ],
         "yaxis": "y"
        },
        {
         "alignmentgroup": "True",
         "hovertemplate": "variable=radius_2<br>index=%{x}<br>value=%{y}<extra></extra>",
         "legendgroup": "radius_2",
         "marker": {
          "color": "#00cc96",
          "pattern": {
           "shape": ""
          }
         },
         "name": "radius_2",
         "offsetgroup": "radius_2",
         "orientation": "v",
         "showlegend": true,
         "textposition": "auto",
         "type": "bar",
         "x": [
          0,
          1,
          2,
          3,
          4,
          5,
          6,
          7,
          8,
          9,
          10,
          11,
          12,
          13,
          14
         ],
         "xaxis": "x",
         "y": [
          0.29,
          0.2,
          0.29,
          0.2,
          0.17,
          0.13,
          0.17,
          0.09,
          0.55,
          0.33,
          0.07,
          0.13,
          0.13,
          0.42,
          0.13
         ],
         "yaxis": "y"
        },
        {
         "alignmentgroup": "True",
         "hovertemplate": "variable=radius_sr_2<br>index=%{x}<br>value=%{y}<extra></extra>",
         "legendgroup": "radius_sr_2",
         "marker": {
          "color": "#ab63fa",
          "pattern": {
           "shape": ""
          }
         },
         "name": "radius_sr_2",
         "offsetgroup": "radius_sr_2",
         "orientation": "v",
         "showlegend": true,
         "textposition": "auto",
         "type": "bar",
         "x": [
          0,
          1,
          2,
          3,
          4,
          5,
          6,
          7,
          8,
          9,
          10,
          11,
          12,
          13,
          14
         ],
         "xaxis": "x",
         "y": [
          0.07,
          0.08,
          0.07,
          0.05,
          0.37,
          0.17,
          0.37,
          0.16,
          0.41,
          0.25,
          0.17,
          0.36,
          0.36,
          0.45,
          0.17
         ],
         "yaxis": "y"
        },
        {
         "alignmentgroup": "True",
         "hovertemplate": "variable=radius_3<br>index=%{x}<br>value=%{y}<extra></extra>",
         "legendgroup": "radius_3",
         "marker": {
          "color": "#FFA15A",
          "pattern": {
           "shape": ""
          }
         },
         "name": "radius_3",
         "offsetgroup": "radius_3",
         "orientation": "v",
         "showlegend": true,
         "textposition": "auto",
         "type": "bar",
         "x": [
          0,
          1,
          2,
          3,
          4,
          5,
          6,
          7,
          8,
          9,
          10,
          11,
          12,
          13,
          14
         ],
         "xaxis": "x",
         "y": [
          0.28,
          0.28,
          0.27,
          0.28,
          0.28,
          0.07,
          0.28,
          0.22,
          0.44,
          0.28,
          0.28,
          0.28,
          0.28,
          0.93,
          0.28
         ],
         "yaxis": "y"
        },
        {
         "alignmentgroup": "True",
         "hovertemplate": "variable=radius_sr_3<br>index=%{x}<br>value=%{y}<extra></extra>",
         "legendgroup": "radius_sr_3",
         "marker": {
          "color": "#19d3f3",
          "pattern": {
           "shape": ""
          }
         },
         "name": "radius_sr_3",
         "offsetgroup": "radius_sr_3",
         "orientation": "v",
         "showlegend": true,
         "textposition": "auto",
         "type": "bar",
         "x": [
          0,
          1,
          2,
          3,
          4,
          5,
          6,
          7,
          8,
          9,
          10,
          11,
          12,
          13,
          14
         ],
         "xaxis": "x",
         "y": [
          0.63,
          0.63,
          0.49,
          0.63,
          0.63,
          0.41,
          0.63,
          0.14,
          0.11,
          0.63,
          0.63,
          0.63,
          0.63,
          0.58,
          0.63
         ],
         "yaxis": "y"
        },
        {
         "alignmentgroup": "True",
         "hovertemplate": "variable=radius_4<br>index=%{x}<br>value=%{y}<extra></extra>",
         "legendgroup": "radius_4",
         "marker": {
          "color": "#FF6692",
          "pattern": {
           "shape": ""
          }
         },
         "name": "radius_4",
         "offsetgroup": "radius_4",
         "orientation": "v",
         "showlegend": true,
         "textposition": "auto",
         "type": "bar",
         "x": [
          0,
          1,
          2,
          3,
          4,
          5,
          6,
          7,
          8,
          9,
          10,
          11,
          12,
          13,
          14
         ],
         "xaxis": "x",
         "y": [
          0.29,
          0.09,
          0.4,
          0.25,
          0.09,
          0.21,
          0.09,
          0.36,
          0.5,
          0.59,
          0.09,
          0.11,
          0.09,
          0.49,
          0.21
         ],
         "yaxis": "y"
        },
        {
         "alignmentgroup": "True",
         "hovertemplate": "variable=radius_sr_4<br>index=%{x}<br>value=%{y}<extra></extra>",
         "legendgroup": "radius_sr_4",
         "marker": {
          "color": "#B6E880",
          "pattern": {
           "shape": ""
          }
         },
         "name": "radius_sr_4",
         "offsetgroup": "radius_sr_4",
         "orientation": "v",
         "showlegend": true,
         "textposition": "auto",
         "type": "bar",
         "x": [
          0,
          1,
          2,
          3,
          4,
          5,
          6,
          7,
          8,
          9,
          10,
          11,
          12,
          13,
          14
         ],
         "xaxis": "x",
         "y": [
          0.16,
          0.27,
          0.57,
          0.34,
          0.27,
          0.31,
          0.27,
          0.23,
          0.53,
          0.77,
          0.27,
          0.08,
          0.27,
          0.49,
          0.05
         ],
         "yaxis": "y"
        },
        {
         "alignmentgroup": "True",
         "hovertemplate": "variable=radius_5<br>index=%{x}<br>value=%{y}<extra></extra>",
         "legendgroup": "radius_5",
         "marker": {
          "color": "#FF97FF",
          "pattern": {
           "shape": ""
          }
         },
         "name": "radius_5",
         "offsetgroup": "radius_5",
         "orientation": "v",
         "showlegend": true,
         "textposition": "auto",
         "type": "bar",
         "x": [
          0,
          1,
          2,
          3,
          4,
          5,
          6,
          7,
          8,
          9,
          10,
          11,
          12,
          13,
          14
         ],
         "xaxis": "x",
         "y": [
          0.46,
          0.32,
          0.6,
          0.45,
          0.24,
          0.48,
          0.52,
          0.59,
          0.58,
          0.52,
          0.3,
          0.45,
          0.68,
          0.59,
          0.52
         ],
         "yaxis": "y"
        },
        {
         "alignmentgroup": "True",
         "hovertemplate": "variable=radius_sr_5<br>index=%{x}<br>value=%{y}<extra></extra>",
         "legendgroup": "radius_sr_5",
         "marker": {
          "color": "#FECB52",
          "pattern": {
           "shape": ""
          }
         },
         "name": "radius_sr_5",
         "offsetgroup": "radius_sr_5",
         "orientation": "v",
         "showlegend": true,
         "textposition": "auto",
         "type": "bar",
         "x": [
          0,
          1,
          2,
          3,
          4,
          5,
          6,
          7,
          8,
          9,
          10,
          11,
          12,
          13,
          14
         ],
         "xaxis": "x",
         "y": [
          0.19,
          0.1,
          0.67,
          0.17,
          0.05,
          0.2,
          0.24,
          0.31,
          0.31,
          0.24,
          0.26,
          0.17,
          0.77,
          0.31,
          0.24
         ],
         "yaxis": "y"
        },
        {
         "alignmentgroup": "True",
         "hovertemplate": "variable=radius_6<br>index=%{x}<br>value=%{y}<extra></extra>",
         "legendgroup": "radius_6",
         "marker": {
          "color": "#636efa",
          "pattern": {
           "shape": ""
          }
         },
         "name": "radius_6",
         "offsetgroup": "radius_6",
         "orientation": "v",
         "showlegend": true,
         "textposition": "auto",
         "type": "bar",
         "x": [
          0,
          1,
          2,
          3,
          4,
          5,
          6,
          7,
          8,
          9,
          10,
          11,
          12,
          13,
          14
         ],
         "xaxis": "x",
         "y": [
          0.4,
          0.01,
          0.19,
          0.26,
          0.19,
          0.31,
          0.26,
          0.41,
          0.49,
          0.01,
          0.01,
          0.31,
          0.01,
          0.3,
          0.21
         ],
         "yaxis": "y"
        },
        {
         "alignmentgroup": "True",
         "hovertemplate": "variable=radius_sr_6<br>index=%{x}<br>value=%{y}<extra></extra>",
         "legendgroup": "radius_sr_6",
         "marker": {
          "color": "#EF553B",
          "pattern": {
           "shape": ""
          }
         },
         "name": "radius_sr_6",
         "offsetgroup": "radius_sr_6",
         "orientation": "v",
         "showlegend": true,
         "textposition": "auto",
         "type": "bar",
         "x": [
          0,
          1,
          2,
          3,
          4,
          5,
          6,
          7,
          8,
          9,
          10,
          11,
          12,
          13,
          14
         ],
         "xaxis": "x",
         "y": [
          0.42,
          0.22,
          0.41,
          0.1,
          0.41,
          0.11,
          0.11,
          0.22,
          0.44,
          0.22,
          0.22,
          0.14,
          0.22,
          0.36,
          0.1
         ],
         "yaxis": "y"
        },
        {
         "alignmentgroup": "True",
         "hovertemplate": "variable=radius_7<br>index=%{x}<br>value=%{y}<extra></extra>",
         "legendgroup": "radius_7",
         "marker": {
          "color": "#00cc96",
          "pattern": {
           "shape": ""
          }
         },
         "name": "radius_7",
         "offsetgroup": "radius_7",
         "orientation": "v",
         "showlegend": true,
         "textposition": "auto",
         "type": "bar",
         "x": [
          0,
          1,
          2,
          3,
          4,
          5,
          6,
          7,
          8,
          9,
          10,
          11,
          12,
          13,
          14
         ],
         "xaxis": "x",
         "y": [
          0.22,
          0.37,
          0.22,
          0.27,
          0.42,
          0.22,
          0.27,
          0.32,
          0.3,
          0.07,
          0.32,
          0.32,
          0.42,
          0.31,
          0.42
         ],
         "yaxis": "y"
        },
        {
         "alignmentgroup": "True",
         "hovertemplate": "variable=radius_sr_7<br>index=%{x}<br>value=%{y}<extra></extra>",
         "legendgroup": "radius_sr_7",
         "marker": {
          "color": "#ab63fa",
          "pattern": {
           "shape": ""
          }
         },
         "name": "radius_sr_7",
         "offsetgroup": "radius_sr_7",
         "orientation": "v",
         "showlegend": true,
         "textposition": "auto",
         "type": "bar",
         "x": [
          0,
          1,
          2,
          3,
          4,
          5,
          6,
          7,
          8,
          9,
          10,
          11,
          12,
          13,
          14
         ],
         "xaxis": "x",
         "y": [
          0.04,
          0.15,
          0.04,
          0.06,
          0.2,
          0.04,
          0.06,
          0.11,
          0.26,
          0.2,
          0.11,
          0.11,
          0.2,
          0.12,
          0.2
         ],
         "yaxis": "y"
        },
        {
         "alignmentgroup": "True",
         "hovertemplate": "variable=radius_8<br>index=%{x}<br>value=%{y}<extra></extra>",
         "legendgroup": "radius_8",
         "marker": {
          "color": "#FFA15A",
          "pattern": {
           "shape": ""
          }
         },
         "name": "radius_8",
         "offsetgroup": "radius_8",
         "orientation": "v",
         "showlegend": true,
         "textposition": "auto",
         "type": "bar",
         "x": [
          0,
          1,
          2,
          3,
          4,
          5,
          6,
          7,
          8,
          9,
          10,
          11,
          12,
          13,
          14
         ],
         "xaxis": "x",
         "y": [
          0.45,
          0.49,
          0.11,
          0.25,
          0.1,
          0.24,
          0.31,
          0.46,
          0.71,
          0.11,
          0.19,
          0.66,
          0.26,
          0.19,
          0.29
         ],
         "yaxis": "y"
        },
        {
         "alignmentgroup": "True",
         "hovertemplate": "variable=radius_sr_8<br>index=%{x}<br>value=%{y}<extra></extra>",
         "legendgroup": "radius_sr_8",
         "marker": {
          "color": "#19d3f3",
          "pattern": {
           "shape": ""
          }
         },
         "name": "radius_sr_8",
         "offsetgroup": "radius_sr_8",
         "orientation": "v",
         "showlegend": true,
         "textposition": "auto",
         "type": "bar",
         "x": [
          0,
          1,
          2,
          3,
          4,
          5,
          6,
          7,
          8,
          9,
          10,
          11,
          12,
          13,
          14
         ],
         "xaxis": "x",
         "y": [
          0.22,
          0.45,
          0.31,
          0.23,
          0.21,
          0.15,
          0.1,
          0.3,
          0.52,
          0.31,
          0.23,
          0.44,
          0.52,
          0.23,
          0.29
         ],
         "yaxis": "y"
        },
        {
         "alignmentgroup": "True",
         "hovertemplate": "variable=radius_9<br>index=%{x}<br>value=%{y}<extra></extra>",
         "legendgroup": "radius_9",
         "marker": {
          "color": "#FF6692",
          "pattern": {
           "shape": ""
          }
         },
         "name": "radius_9",
         "offsetgroup": "radius_9",
         "orientation": "v",
         "showlegend": true,
         "textposition": "auto",
         "type": "bar",
         "x": [
          0,
          1,
          2,
          3,
          4,
          5,
          6,
          7,
          8,
          9,
          10,
          11,
          12,
          13,
          14
         ],
         "xaxis": "x",
         "y": [
          0.28,
          0.19,
          0.09,
          0.23,
          0.22,
          0.2,
          0.39,
          0.35,
          0.4,
          0.28,
          0.28,
          0.29,
          0.38,
          0.42,
          0.28
         ],
         "yaxis": "y"
        },
        {
         "alignmentgroup": "True",
         "hovertemplate": "variable=radius_sr_9<br>index=%{x}<br>value=%{y}<extra></extra>",
         "legendgroup": "radius_sr_9",
         "marker": {
          "color": "#B6E880",
          "pattern": {
           "shape": ""
          }
         },
         "name": "radius_sr_9",
         "offsetgroup": "radius_sr_9",
         "orientation": "v",
         "showlegend": true,
         "textposition": "auto",
         "type": "bar",
         "x": [
          0,
          1,
          2,
          3,
          4,
          5,
          6,
          7,
          8,
          9,
          10,
          11,
          12,
          13,
          14
         ],
         "xaxis": "x",
         "y": [
          0.14,
          0.11,
          0.16,
          0.12,
          0.21,
          0.29,
          0.18,
          0.14,
          0.18,
          0.14,
          0.14,
          0.08,
          0.41,
          0.2,
          0.14
         ],
         "yaxis": "y"
        },
        {
         "alignmentgroup": "True",
         "hovertemplate": "variable=radius_10<br>index=%{x}<br>value=%{y}<extra></extra>",
         "legendgroup": "radius_10",
         "marker": {
          "color": "#FF97FF",
          "pattern": {
           "shape": ""
          }
         },
         "name": "radius_10",
         "offsetgroup": "radius_10",
         "orientation": "v",
         "showlegend": true,
         "textposition": "auto",
         "type": "bar",
         "x": [
          0,
          1,
          2,
          3,
          4,
          5,
          6,
          7,
          8,
          9,
          10,
          11,
          12,
          13,
          14
         ],
         "xaxis": "x",
         "y": [
          0.53,
          0.43,
          0.24,
          0.42,
          0.24,
          0.23,
          0.43,
          0.24,
          0.64,
          0.43,
          0.53,
          0.32,
          0.15,
          0.56,
          0.24
         ],
         "yaxis": "y"
        },
        {
         "alignmentgroup": "True",
         "hovertemplate": "variable=radius_sr_10<br>index=%{x}<br>value=%{y}<extra></extra>",
         "legendgroup": "radius_sr_10",
         "marker": {
          "color": "#FECB52",
          "pattern": {
           "shape": ""
          }
         },
         "name": "radius_sr_10",
         "offsetgroup": "radius_sr_10",
         "orientation": "v",
         "showlegend": true,
         "textposition": "auto",
         "type": "bar",
         "x": [
          0,
          1,
          2,
          3,
          4,
          5,
          6,
          7,
          8,
          9,
          10,
          11,
          12,
          13,
          14
         ],
         "xaxis": "x",
         "y": [
          0.32,
          0.22,
          0.05,
          0.22,
          0.05,
          0.04,
          0.22,
          0.05,
          0.46,
          0.22,
          0.32,
          0.13,
          0.1,
          0.41,
          0.05
         ],
         "yaxis": "y"
        },
        {
         "alignmentgroup": "True",
         "hovertemplate": "variable=radius_11<br>index=%{x}<br>value=%{y}<extra></extra>",
         "legendgroup": "radius_11",
         "marker": {
          "color": "#636efa",
          "pattern": {
           "shape": ""
          }
         },
         "name": "radius_11",
         "offsetgroup": "radius_11",
         "orientation": "v",
         "showlegend": true,
         "textposition": "auto",
         "type": "bar",
         "x": [
          0,
          1,
          2,
          3,
          4,
          5,
          6,
          7,
          8,
          9,
          10,
          11,
          12,
          13,
          14
         ],
         "xaxis": "x",
         "y": [
          0.2,
          0.2,
          0.1,
          0.2,
          0.1,
          0.2,
          0.25,
          0.2,
          0.2,
          0.2,
          0.2,
          0.1,
          0.2,
          0.3,
          0.2
         ],
         "yaxis": "y"
        },
        {
         "alignmentgroup": "True",
         "hovertemplate": "variable=radius_sr_11<br>index=%{x}<br>value=%{y}<extra></extra>",
         "legendgroup": "radius_sr_11",
         "marker": {
          "color": "#EF553B",
          "pattern": {
           "shape": ""
          }
         },
         "name": "radius_sr_11",
         "offsetgroup": "radius_sr_11",
         "orientation": "v",
         "showlegend": true,
         "textposition": "auto",
         "type": "bar",
         "x": [
          0,
          1,
          2,
          3,
          4,
          5,
          6,
          7,
          8,
          9,
          10,
          11,
          12,
          13,
          14
         ],
         "xaxis": "x",
         "y": [
          0.06,
          0.06,
          0.04,
          0.06,
          0.04,
          0.06,
          0.11,
          0.06,
          0.09,
          0.06,
          0.06,
          0.04,
          0.06,
          0.16,
          0.06
         ],
         "yaxis": "y"
        },
        {
         "alignmentgroup": "True",
         "hovertemplate": "variable=radius_12<br>index=%{x}<br>value=%{y}<extra></extra>",
         "legendgroup": "radius_12",
         "marker": {
          "color": "#00cc96",
          "pattern": {
           "shape": ""
          }
         },
         "name": "radius_12",
         "offsetgroup": "radius_12",
         "orientation": "v",
         "showlegend": true,
         "textposition": "auto",
         "type": "bar",
         "x": [
          0,
          1,
          2,
          3,
          4,
          5,
          6,
          7,
          8,
          9,
          10,
          11,
          12,
          13,
          14
         ],
         "xaxis": "x",
         "y": [
          0.11,
          0.11,
          0.21,
          0.04,
          0.04,
          0.06,
          0.1,
          0.1,
          0.11,
          0.06,
          0.04,
          0.06,
          0.21,
          0.17,
          0.06
         ],
         "yaxis": "y"
        },
        {
         "alignmentgroup": "True",
         "hovertemplate": "variable=radius_sr_12<br>index=%{x}<br>value=%{y}<extra></extra>",
         "legendgroup": "radius_sr_12",
         "marker": {
          "color": "#ab63fa",
          "pattern": {
           "shape": ""
          }
         },
         "name": "radius_sr_12",
         "offsetgroup": "radius_sr_12",
         "orientation": "v",
         "showlegend": true,
         "textposition": "auto",
         "type": "bar",
         "x": [
          0,
          1,
          2,
          3,
          4,
          5,
          6,
          7,
          8,
          9,
          10,
          11,
          12,
          13,
          14
         ],
         "xaxis": "x",
         "y": [
          0.15,
          0.15,
          0.28,
          0.06,
          0.06,
          0.14,
          0.02,
          0.02,
          0.02,
          0.14,
          0.06,
          0.14,
          0.25,
          0.09,
          0.14
         ],
         "yaxis": "y"
        }
       ],
       "layout": {
        "barmode": "group",
        "height": 800,
        "legend": {
         "title": {
          "text": "variable"
         },
         "tracegroupgap": 0
        },
        "margin": {
         "t": 60
        },
        "paper_bgcolor": "#FFFFFF",
        "showlegend": true,
        "template": {
         "data": {
          "bar": [
           {
            "error_x": {
             "color": "#2a3f5f"
            },
            "error_y": {
             "color": "#2a3f5f"
            },
            "marker": {
             "line": {
              "color": "#E5ECF6",
              "width": 0.5
             },
             "pattern": {
              "fillmode": "overlay",
              "size": 10,
              "solidity": 0.2
             }
            },
            "type": "bar"
           }
          ],
          "barpolar": [
           {
            "marker": {
             "line": {
              "color": "#E5ECF6",
              "width": 0.5
             },
             "pattern": {
              "fillmode": "overlay",
              "size": 10,
              "solidity": 0.2
             }
            },
            "type": "barpolar"
           }
          ],
          "carpet": [
           {
            "aaxis": {
             "endlinecolor": "#2a3f5f",
             "gridcolor": "white",
             "linecolor": "white",
             "minorgridcolor": "white",
             "startlinecolor": "#2a3f5f"
            },
            "baxis": {
             "endlinecolor": "#2a3f5f",
             "gridcolor": "white",
             "linecolor": "white",
             "minorgridcolor": "white",
             "startlinecolor": "#2a3f5f"
            },
            "type": "carpet"
           }
          ],
          "choropleth": [
           {
            "colorbar": {
             "outlinewidth": 0,
             "ticks": ""
            },
            "type": "choropleth"
           }
          ],
          "contour": [
           {
            "colorbar": {
             "outlinewidth": 0,
             "ticks": ""
            },
            "colorscale": [
             [
              0,
              "#0d0887"
             ],
             [
              0.1111111111111111,
              "#46039f"
             ],
             [
              0.2222222222222222,
              "#7201a8"
             ],
             [
              0.3333333333333333,
              "#9c179e"
             ],
             [
              0.4444444444444444,
              "#bd3786"
             ],
             [
              0.5555555555555556,
              "#d8576b"
             ],
             [
              0.6666666666666666,
              "#ed7953"
             ],
             [
              0.7777777777777778,
              "#fb9f3a"
             ],
             [
              0.8888888888888888,
              "#fdca26"
             ],
             [
              1,
              "#f0f921"
             ]
            ],
            "type": "contour"
           }
          ],
          "contourcarpet": [
           {
            "colorbar": {
             "outlinewidth": 0,
             "ticks": ""
            },
            "type": "contourcarpet"
           }
          ],
          "heatmap": [
           {
            "colorbar": {
             "outlinewidth": 0,
             "ticks": ""
            },
            "colorscale": [
             [
              0,
              "#0d0887"
             ],
             [
              0.1111111111111111,
              "#46039f"
             ],
             [
              0.2222222222222222,
              "#7201a8"
             ],
             [
              0.3333333333333333,
              "#9c179e"
             ],
             [
              0.4444444444444444,
              "#bd3786"
             ],
             [
              0.5555555555555556,
              "#d8576b"
             ],
             [
              0.6666666666666666,
              "#ed7953"
             ],
             [
              0.7777777777777778,
              "#fb9f3a"
             ],
             [
              0.8888888888888888,
              "#fdca26"
             ],
             [
              1,
              "#f0f921"
             ]
            ],
            "type": "heatmap"
           }
          ],
          "heatmapgl": [
           {
            "colorbar": {
             "outlinewidth": 0,
             "ticks": ""
            },
            "colorscale": [
             [
              0,
              "#0d0887"
             ],
             [
              0.1111111111111111,
              "#46039f"
             ],
             [
              0.2222222222222222,
              "#7201a8"
             ],
             [
              0.3333333333333333,
              "#9c179e"
             ],
             [
              0.4444444444444444,
              "#bd3786"
             ],
             [
              0.5555555555555556,
              "#d8576b"
             ],
             [
              0.6666666666666666,
              "#ed7953"
             ],
             [
              0.7777777777777778,
              "#fb9f3a"
             ],
             [
              0.8888888888888888,
              "#fdca26"
             ],
             [
              1,
              "#f0f921"
             ]
            ],
            "type": "heatmapgl"
           }
          ],
          "histogram": [
           {
            "marker": {
             "pattern": {
              "fillmode": "overlay",
              "size": 10,
              "solidity": 0.2
             }
            },
            "type": "histogram"
           }
          ],
          "histogram2d": [
           {
            "colorbar": {
             "outlinewidth": 0,
             "ticks": ""
            },
            "colorscale": [
             [
              0,
              "#0d0887"
             ],
             [
              0.1111111111111111,
              "#46039f"
             ],
             [
              0.2222222222222222,
              "#7201a8"
             ],
             [
              0.3333333333333333,
              "#9c179e"
             ],
             [
              0.4444444444444444,
              "#bd3786"
             ],
             [
              0.5555555555555556,
              "#d8576b"
             ],
             [
              0.6666666666666666,
              "#ed7953"
             ],
             [
              0.7777777777777778,
              "#fb9f3a"
             ],
             [
              0.8888888888888888,
              "#fdca26"
             ],
             [
              1,
              "#f0f921"
             ]
            ],
            "type": "histogram2d"
           }
          ],
          "histogram2dcontour": [
           {
            "colorbar": {
             "outlinewidth": 0,
             "ticks": ""
            },
            "colorscale": [
             [
              0,
              "#0d0887"
             ],
             [
              0.1111111111111111,
              "#46039f"
             ],
             [
              0.2222222222222222,
              "#7201a8"
             ],
             [
              0.3333333333333333,
              "#9c179e"
             ],
             [
              0.4444444444444444,
              "#bd3786"
             ],
             [
              0.5555555555555556,
              "#d8576b"
             ],
             [
              0.6666666666666666,
              "#ed7953"
             ],
             [
              0.7777777777777778,
              "#fb9f3a"
             ],
             [
              0.8888888888888888,
              "#fdca26"
             ],
             [
              1,
              "#f0f921"
             ]
            ],
            "type": "histogram2dcontour"
           }
          ],
          "mesh3d": [
           {
            "colorbar": {
             "outlinewidth": 0,
             "ticks": ""
            },
            "type": "mesh3d"
           }
          ],
          "parcoords": [
           {
            "line": {
             "colorbar": {
              "outlinewidth": 0,
              "ticks": ""
             }
            },
            "type": "parcoords"
           }
          ],
          "pie": [
           {
            "automargin": true,
            "type": "pie"
           }
          ],
          "scatter": [
           {
            "marker": {
             "colorbar": {
              "outlinewidth": 0,
              "ticks": ""
             }
            },
            "type": "scatter"
           }
          ],
          "scatter3d": [
           {
            "line": {
             "colorbar": {
              "outlinewidth": 0,
              "ticks": ""
             }
            },
            "marker": {
             "colorbar": {
              "outlinewidth": 0,
              "ticks": ""
             }
            },
            "type": "scatter3d"
           }
          ],
          "scattercarpet": [
           {
            "marker": {
             "colorbar": {
              "outlinewidth": 0,
              "ticks": ""
             }
            },
            "type": "scattercarpet"
           }
          ],
          "scattergeo": [
           {
            "marker": {
             "colorbar": {
              "outlinewidth": 0,
              "ticks": ""
             }
            },
            "type": "scattergeo"
           }
          ],
          "scattergl": [
           {
            "marker": {
             "colorbar": {
              "outlinewidth": 0,
              "ticks": ""
             }
            },
            "type": "scattergl"
           }
          ],
          "scattermapbox": [
           {
            "marker": {
             "colorbar": {
              "outlinewidth": 0,
              "ticks": ""
             }
            },
            "type": "scattermapbox"
           }
          ],
          "scatterpolar": [
           {
            "marker": {
             "colorbar": {
              "outlinewidth": 0,
              "ticks": ""
             }
            },
            "type": "scatterpolar"
           }
          ],
          "scatterpolargl": [
           {
            "marker": {
             "colorbar": {
              "outlinewidth": 0,
              "ticks": ""
             }
            },
            "type": "scatterpolargl"
           }
          ],
          "scatterternary": [
           {
            "marker": {
             "colorbar": {
              "outlinewidth": 0,
              "ticks": ""
             }
            },
            "type": "scatterternary"
           }
          ],
          "surface": [
           {
            "colorbar": {
             "outlinewidth": 0,
             "ticks": ""
            },
            "colorscale": [
             [
              0,
              "#0d0887"
             ],
             [
              0.1111111111111111,
              "#46039f"
             ],
             [
              0.2222222222222222,
              "#7201a8"
             ],
             [
              0.3333333333333333,
              "#9c179e"
             ],
             [
              0.4444444444444444,
              "#bd3786"
             ],
             [
              0.5555555555555556,
              "#d8576b"
             ],
             [
              0.6666666666666666,
              "#ed7953"
             ],
             [
              0.7777777777777778,
              "#fb9f3a"
             ],
             [
              0.8888888888888888,
              "#fdca26"
             ],
             [
              1,
              "#f0f921"
             ]
            ],
            "type": "surface"
           }
          ],
          "table": [
           {
            "cells": {
             "fill": {
              "color": "#EBF0F8"
             },
             "line": {
              "color": "white"
             }
            },
            "header": {
             "fill": {
              "color": "#C8D4E3"
             },
             "line": {
              "color": "white"
             }
            },
            "type": "table"
           }
          ]
         },
         "layout": {
          "annotationdefaults": {
           "arrowcolor": "#2a3f5f",
           "arrowhead": 0,
           "arrowwidth": 1
          },
          "autotypenumbers": "strict",
          "coloraxis": {
           "colorbar": {
            "outlinewidth": 0,
            "ticks": ""
           }
          },
          "colorscale": {
           "diverging": [
            [
             0,
             "#8e0152"
            ],
            [
             0.1,
             "#c51b7d"
            ],
            [
             0.2,
             "#de77ae"
            ],
            [
             0.3,
             "#f1b6da"
            ],
            [
             0.4,
             "#fde0ef"
            ],
            [
             0.5,
             "#f7f7f7"
            ],
            [
             0.6,
             "#e6f5d0"
            ],
            [
             0.7,
             "#b8e186"
            ],
            [
             0.8,
             "#7fbc41"
            ],
            [
             0.9,
             "#4d9221"
            ],
            [
             1,
             "#276419"
            ]
           ],
           "sequential": [
            [
             0,
             "#0d0887"
            ],
            [
             0.1111111111111111,
             "#46039f"
            ],
            [
             0.2222222222222222,
             "#7201a8"
            ],
            [
             0.3333333333333333,
             "#9c179e"
            ],
            [
             0.4444444444444444,
             "#bd3786"
            ],
            [
             0.5555555555555556,
             "#d8576b"
            ],
            [
             0.6666666666666666,
             "#ed7953"
            ],
            [
             0.7777777777777778,
             "#fb9f3a"
            ],
            [
             0.8888888888888888,
             "#fdca26"
            ],
            [
             1,
             "#f0f921"
            ]
           ],
           "sequentialminus": [
            [
             0,
             "#0d0887"
            ],
            [
             0.1111111111111111,
             "#46039f"
            ],
            [
             0.2222222222222222,
             "#7201a8"
            ],
            [
             0.3333333333333333,
             "#9c179e"
            ],
            [
             0.4444444444444444,
             "#bd3786"
            ],
            [
             0.5555555555555556,
             "#d8576b"
            ],
            [
             0.6666666666666666,
             "#ed7953"
            ],
            [
             0.7777777777777778,
             "#fb9f3a"
            ],
            [
             0.8888888888888888,
             "#fdca26"
            ],
            [
             1,
             "#f0f921"
            ]
           ]
          },
          "colorway": [
           "#636efa",
           "#EF553B",
           "#00cc96",
           "#ab63fa",
           "#FFA15A",
           "#19d3f3",
           "#FF6692",
           "#B6E880",
           "#FF97FF",
           "#FECB52"
          ],
          "font": {
           "color": "#2a3f5f"
          },
          "geo": {
           "bgcolor": "white",
           "lakecolor": "white",
           "landcolor": "#E5ECF6",
           "showlakes": true,
           "showland": true,
           "subunitcolor": "white"
          },
          "hoverlabel": {
           "align": "left"
          },
          "hovermode": "closest",
          "mapbox": {
           "style": "light"
          },
          "paper_bgcolor": "white",
          "plot_bgcolor": "#E5ECF6",
          "polar": {
           "angularaxis": {
            "gridcolor": "white",
            "linecolor": "white",
            "ticks": ""
           },
           "bgcolor": "#E5ECF6",
           "radialaxis": {
            "gridcolor": "white",
            "linecolor": "white",
            "ticks": ""
           }
          },
          "scene": {
           "xaxis": {
            "backgroundcolor": "#E5ECF6",
            "gridcolor": "white",
            "gridwidth": 2,
            "linecolor": "white",
            "showbackground": true,
            "ticks": "",
            "zerolinecolor": "white"
           },
           "yaxis": {
            "backgroundcolor": "#E5ECF6",
            "gridcolor": "white",
            "gridwidth": 2,
            "linecolor": "white",
            "showbackground": true,
            "ticks": "",
            "zerolinecolor": "white"
           },
           "zaxis": {
            "backgroundcolor": "#E5ECF6",
            "gridcolor": "white",
            "gridwidth": 2,
            "linecolor": "white",
            "showbackground": true,
            "ticks": "",
            "zerolinecolor": "white"
           }
          },
          "shapedefaults": {
           "line": {
            "color": "#2a3f5f"
           }
          },
          "ternary": {
           "aaxis": {
            "gridcolor": "white",
            "linecolor": "white",
            "ticks": ""
           },
           "baxis": {
            "gridcolor": "white",
            "linecolor": "white",
            "ticks": ""
           },
           "bgcolor": "#E5ECF6",
           "caxis": {
            "gridcolor": "white",
            "linecolor": "white",
            "ticks": ""
           }
          },
          "title": {
           "x": 0.05
          },
          "xaxis": {
           "automargin": true,
           "gridcolor": "white",
           "linecolor": "white",
           "ticks": "",
           "title": {
            "standoff": 15
           },
           "zerolinecolor": "white",
           "zerolinewidth": 2
          },
          "yaxis": {
           "automargin": true,
           "gridcolor": "white",
           "linecolor": "white",
           "ticks": "",
           "title": {
            "standoff": 15
           },
           "zerolinecolor": "white",
           "zerolinewidth": 2
          }
         }
        },
        "title": {
         "text": "Radius / labdoc"
        },
        "width": 3200,
        "xaxis": {
         "anchor": "y",
         "domain": [
          0,
          1
         ],
         "rangeslider": {
          "thickness": 0.05,
          "visible": true
         },
         "title": {
          "text": "index"
         }
        },
        "yaxis": {
         "anchor": "x",
         "domain": [
          0,
          1
         ],
         "title": {
          "text": "value"
         }
        }
       }
      }
     },
     "metadata": {},
     "output_type": "display_data"
    }
   ],
   "source": [
    "import plotly.express as px\n",
    "# Construct the graph and style it. Further customize your graph by editing this code.\n",
    "# See Plotly Documentation for help: https://plotly.com/python/plotly-express/\n",
    "fig = px.bar(lds_new_radius, y=['radius_1', 'radius_sr_1', 'radius_2', 'radius_sr_2', 'radius_3',\n",
    "       'radius_sr_3', 'radius_4', 'radius_sr_4', 'radius_5', 'radius_sr_5',\n",
    "       'radius_6', 'radius_sr_6', 'radius_7', 'radius_sr_7', 'radius_8',\n",
    "       'radius_sr_8', 'radius_9', 'radius_sr_9', 'radius_10', 'radius_sr_10',\n",
    "       'radius_11', 'radius_sr_11', 'radius_12', 'radius_sr_12'])\n",
    "fig.update_layout(\n",
    "    xaxis = dict(\n",
    "        rangeslider = dict(\n",
    "            visible=True, \n",
    "            thickness=0.05\n",
    "        )\n",
    "    ), \n",
    "    yaxis = dict(\n",
    "\n",
    "    ), \n",
    "    barmode='group', \n",
    "    paper_bgcolor='#FFFFFF', \n",
    "    showlegend=True, width=3200, height=800,title = \"Radius / labdoc\"      \n",
    "\n",
    ")\n",
    "fig.show()\n",
    "\n",
    "fig.write_html(f\"labdocs_vizu/labdoc_radius.html\")\n"
   ]
  },
  {
   "cell_type": "code",
   "execution_count": 18,
   "id": "f9a257cb",
   "metadata": {},
   "outputs": [
    {
     "data": {
      "text/html": [
       "<div><div id=c5dd4ede-5945-459f-aed7-c36c308d208d style=\"display:none; background-color:#9D6CFF; color:white; width:200px; height:30px; padding-left:5px; border-radius:4px; flex-direction:row; justify-content:space-around; align-items:center;\" onmouseover=\"this.style.backgroundColor='#BA9BF8'\" onmouseout=\"this.style.backgroundColor='#9D6CFF'\" onclick=\"window.commands?.execute('create-mitosheet-from-dataframe-output');\">See Full Dataframe in Mito</div> <script> if (window.commands.hasCommand('create-mitosheet-from-dataframe-output')) document.getElementById('c5dd4ede-5945-459f-aed7-c36c308d208d').style.display = 'flex' </script> <table border=\"1\" class=\"dataframe\">\n",
       "  <thead>\n",
       "    <tr style=\"text-align: right;\">\n",
       "      <th></th>\n",
       "      <th>membership_coec_sr</th>\n",
       "      <th>degree_coec_sr</th>\n",
       "      <th>membership_eqc_sr</th>\n",
       "      <th>degree_eqc_sr</th>\n",
       "      <th>membership_coec</th>\n",
       "      <th>degree_coec</th>\n",
       "      <th>membership_eqc</th>\n",
       "      <th>degree_eqc</th>\n",
       "    </tr>\n",
       "  </thead>\n",
       "  <tbody>\n",
       "    <tr>\n",
       "      <th>1</th>\n",
       "      <td>mid</td>\n",
       "      <td>0.517778</td>\n",
       "      <td>mid</td>\n",
       "      <td>0.642222</td>\n",
       "      <td>mid</td>\n",
       "      <td>0.892308</td>\n",
       "      <td>mid</td>\n",
       "      <td>0.919658</td>\n",
       "    </tr>\n",
       "    <tr>\n",
       "      <th>2</th>\n",
       "      <td>low</td>\n",
       "      <td>0.871111</td>\n",
       "      <td>mid</td>\n",
       "      <td>0.709231</td>\n",
       "      <td>low</td>\n",
       "      <td>0.748889</td>\n",
       "      <td>high</td>\n",
       "      <td>0.646154</td>\n",
       "    </tr>\n",
       "    <tr>\n",
       "      <th>3</th>\n",
       "      <td>mid</td>\n",
       "      <td>0.898462</td>\n",
       "      <td>mid</td>\n",
       "      <td>0.764615</td>\n",
       "      <td>mid</td>\n",
       "      <td>0.513846</td>\n",
       "      <td>high</td>\n",
       "      <td>0.603077</td>\n",
       "    </tr>\n",
       "    <tr>\n",
       "      <th>4</th>\n",
       "      <td>mid</td>\n",
       "      <td>0.520000</td>\n",
       "      <td>high</td>\n",
       "      <td>0.784615</td>\n",
       "      <td>mid</td>\n",
       "      <td>0.893675</td>\n",
       "      <td>high</td>\n",
       "      <td>0.830769</td>\n",
       "    </tr>\n",
       "    <tr>\n",
       "      <th>5</th>\n",
       "      <td>mid</td>\n",
       "      <td>0.560000</td>\n",
       "      <td>mid</td>\n",
       "      <td>0.635556</td>\n",
       "      <td>mid</td>\n",
       "      <td>0.902564</td>\n",
       "      <td>mid</td>\n",
       "      <td>0.919658</td>\n",
       "    </tr>\n",
       "    <tr>\n",
       "      <th>...</th>\n",
       "      <td>...</td>\n",
       "      <td>...</td>\n",
       "      <td>...</td>\n",
       "      <td>...</td>\n",
       "      <td>...</td>\n",
       "      <td>...</td>\n",
       "      <td>...</td>\n",
       "      <td>...</td>\n",
       "    </tr>\n",
       "    <tr>\n",
       "      <th>8</th>\n",
       "      <td>mid</td>\n",
       "      <td>0.919658</td>\n",
       "      <td>high</td>\n",
       "      <td>0.692308</td>\n",
       "      <td>mid</td>\n",
       "      <td>0.553846</td>\n",
       "      <td>high</td>\n",
       "      <td>0.830769</td>\n",
       "    </tr>\n",
       "    <tr>\n",
       "      <th>9</th>\n",
       "      <td>low</td>\n",
       "      <td>0.804444</td>\n",
       "      <td>mid</td>\n",
       "      <td>0.622222</td>\n",
       "      <td>low</td>\n",
       "      <td>0.622222</td>\n",
       "      <td>mid</td>\n",
       "      <td>0.917265</td>\n",
       "    </tr>\n",
       "    <tr>\n",
       "      <th>10</th>\n",
       "      <td>low</td>\n",
       "      <td>0.895556</td>\n",
       "      <td>mid</td>\n",
       "      <td>0.589231</td>\n",
       "      <td>low</td>\n",
       "      <td>0.795556</td>\n",
       "      <td>high</td>\n",
       "      <td>0.723077</td>\n",
       "    </tr>\n",
       "    <tr>\n",
       "      <th>11</th>\n",
       "      <td>low</td>\n",
       "      <td>0.955556</td>\n",
       "      <td>low</td>\n",
       "      <td>0.644444</td>\n",
       "      <td>low</td>\n",
       "      <td>0.908889</td>\n",
       "      <td>mid</td>\n",
       "      <td>0.657778</td>\n",
       "    </tr>\n",
       "    <tr>\n",
       "      <th>12</th>\n",
       "      <td>low</td>\n",
       "      <td>0.893333</td>\n",
       "      <td>low</td>\n",
       "      <td>0.840000</td>\n",
       "      <td>low</td>\n",
       "      <td>0.788889</td>\n",
       "      <td>low</td>\n",
       "      <td>0.688889</td>\n",
       "    </tr>\n",
       "  </tbody>\n",
       "</table></div>"
      ],
      "text/plain": [
       "   membership_coec_sr  degree_coec_sr membership_eqc_sr  degree_eqc_sr  \\\n",
       "1                 mid        0.517778               mid       0.642222   \n",
       "2                 low        0.871111               mid       0.709231   \n",
       "3                 mid        0.898462               mid       0.764615   \n",
       "4                 mid        0.520000              high       0.784615   \n",
       "5                 mid        0.560000               mid       0.635556   \n",
       "6                 mid        0.664444              high       0.692308   \n",
       "7                 low        0.922222               mid       0.666667   \n",
       "8                 mid        0.919658              high       0.692308   \n",
       "9                 low        0.804444               mid       0.622222   \n",
       "10                low        0.895556               mid       0.589231   \n",
       "11                low        0.955556               low       0.644444   \n",
       "12                low        0.893333               low       0.840000   \n",
       "\n",
       "   membership_coec  degree_coec membership_eqc  degree_eqc  \n",
       "1              mid     0.892308            mid    0.919658  \n",
       "2              low     0.748889           high    0.646154  \n",
       "3              mid     0.513846           high    0.603077  \n",
       "4              mid     0.893675           high    0.830769  \n",
       "5              mid     0.902564            mid    0.919658  \n",
       "6              mid     0.910769           high    0.830769  \n",
       "7              low     0.844444            mid    0.907692  \n",
       "8              mid     0.553846           high    0.830769  \n",
       "9              low     0.622222            mid    0.917265  \n",
       "10             low     0.795556           high    0.723077  \n",
       "11             low     0.908889            mid    0.657778  \n",
       "12             low     0.788889            low    0.688889  "
      ]
     },
     "execution_count": 18,
     "metadata": {},
     "output_type": "execute_result"
    }
   ],
   "source": [
    "fuzzy "
   ]
  }
 ],
 "metadata": {
  "kernelspec": {
   "display_name": "Python 3 (ipykernel)",
   "language": "python",
   "name": "python3"
  },
  "language_info": {
   "codemirror_mode": {
    "name": "ipython",
    "version": 3
   },
   "file_extension": ".py",
   "mimetype": "text/x-python",
   "name": "python",
   "nbconvert_exporter": "python",
   "pygments_lexer": "ipython3",
   "version": "3.9.12"
  },
  "vscode": {
   "interpreter": {
    "hash": "b7bae802a98f43a68296acc593990a17ba8bb804956ac47e96ba419f2775cbfc"
   }
  }
 },
 "nbformat": 4,
 "nbformat_minor": 5
}
