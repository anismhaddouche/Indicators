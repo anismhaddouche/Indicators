{
 "cells": [
  {
   "cell_type": "code",
   "execution_count": 64,
   "metadata": {},
   "outputs": [],
   "source": [
    "\n",
    "import sys\n",
    "sys.path.insert(0, '/Users/anis/test_labnbook/Indicators/scripts')  \n",
    "import json, gzip,ujson\n",
    "import pandas as pd \n",
    "from  utils.utils  import get_authors_changes\n",
    "import numpy as np, toml\n",
    "from typing import Tuple, List, Dict\n",
    "import mysql.connector as mariadb\n",
    "import warnings    \n",
    "warnings.filterwarnings(\"ignore\")\n",
    "pd.set_option('display.max_rows',700)\n",
    "\n",
    "from flow_3 import * \n",
    "from utils.utils import *\n",
    "\n",
    "password = \"11950022\"\n",
    "host = \"localhost\"\n",
    "database_name  = \"Labnbook\"\n",
    "user = 'root'\n",
    "try:\n",
    "    conn = mariadb.connect(user=user, password=password,\n",
    "                           host=host, database=database_name)\n",
    "except mariadb.Error as e:\n",
    "    print(f\"Error connecting to MariaDB Platform: {e}\")\n",
    "\n",
    "# Récupération du curseur\n",
    "cursor = conn.cursor()\n",
    "trace = pd.read_sql(\n",
    "    \" SELECT id_trace, id_labdoc,id_user ,id_action, action_time from trace Order By id_labdoc ASC, action_time ASC\", conn)\n",
    "# WHERE  id_action=9 "
   ]
  },
  {
   "cell_type": "code",
   "execution_count": 81,
   "metadata": {},
   "outputs": [],
   "source": [
    "def get_writing_time(id_labdoc : int, trace : pd.DataFrame)-> pd.DataFrame:\n",
    "    \"\"\"\n",
    "    Calculates the number of modification (trace 9) for each change of authors and also multiplies it by 20 or 30 to have the effective writing time \n",
    "    output: a list of tuples (id_trace, author_id, num_modifications, writing_time).  \n",
    "    ex: [(7481881, 12673, 23, 690),\n",
    "                        (7482763, 12661, 4, 120),\n",
    "                        (7482817, 12673, 14, 420),\n",
    "                        (7482845, 12661, 2, 60),\n",
    "                        [7505160, 12673, 58, 1740]]} \n",
    "    \"\"\" \n",
    "    #TODO: improve this code which is not optimal!\n",
    "    labdoc  = trace[trace['id_labdoc'] == int(id_labdoc)]\n",
    "    labdoc.reset_index(drop=True,inplace=True)\n",
    "    if labdoc.empty:\n",
    "        pass\n",
    "    else:\n",
    "        labdoc_time = labdoc[\"action_time\"].iloc[0]\n",
    "        date_to_compare = pd.Timestamp('2020-05-16')\n",
    "\n",
    "        if labdoc_time.date() < date_to_compare.date():\n",
    "            factor = 20\n",
    "        else:\n",
    "            factor = 30\n",
    "        count_list = []\n",
    "        current_author = None\n",
    "        current_count = 0\n",
    "        for author,id_trace in zip(labdoc['id_user'],labdoc[\"id_trace\"]):\n",
    "            if author == current_author:\n",
    "                current_count += 1\n",
    "            else:\n",
    "                if current_author is not None:\n",
    "                    idx  = labdoc[labdoc[\"id_trace\"]==id_trace].index\n",
    "                    \n",
    "                    count_list.append((int(labdoc.loc[idx-1].id_trace.values[0]),id_labdoc,current_author, current_count,current_count*factor))\n",
    "                current_author = author\n",
    "                current_count = 1\n",
    "        count_list.append([id_trace,id_labdoc,current_author, current_count,current_count*factor])\n",
    "        \n",
    "        return count_list"
   ]
  },
  {
   "cell_type": "code",
   "execution_count": 82,
   "metadata": {},
   "outputs": [
    {
     "data": {
      "text/html": [
       "<div>\n",
       "<style scoped>\n",
       "    .dataframe tbody tr th:only-of-type {\n",
       "        vertical-align: middle;\n",
       "    }\n",
       "\n",
       "    .dataframe tbody tr th {\n",
       "        vertical-align: top;\n",
       "    }\n",
       "\n",
       "    .dataframe thead th {\n",
       "        text-align: right;\n",
       "    }\n",
       "</style>\n",
       "<table border=\"1\" class=\"dataframe\">\n",
       "  <thead>\n",
       "    <tr style=\"text-align: right;\">\n",
       "      <th></th>\n",
       "      <th>id_trace</th>\n",
       "      <th>id_labdoc</th>\n",
       "      <th>id_user</th>\n",
       "      <th>id_action</th>\n",
       "      <th>action_time</th>\n",
       "    </tr>\n",
       "  </thead>\n",
       "  <tbody>\n",
       "    <tr>\n",
       "      <th>7684794</th>\n",
       "      <td>7481881</td>\n",
       "      <td>445494.0</td>\n",
       "      <td>12673</td>\n",
       "      <td>10</td>\n",
       "      <td>2021-03-16 10:05:29</td>\n",
       "    </tr>\n",
       "    <tr>\n",
       "      <th>7684798</th>\n",
       "      <td>7482763</td>\n",
       "      <td>445494.0</td>\n",
       "      <td>12661</td>\n",
       "      <td>10</td>\n",
       "      <td>2021-03-16 11:18:11</td>\n",
       "    </tr>\n",
       "    <tr>\n",
       "      <th>7684812</th>\n",
       "      <td>7482817</td>\n",
       "      <td>445494.0</td>\n",
       "      <td>12673</td>\n",
       "      <td>10</td>\n",
       "      <td>2021-03-16 11:21:13</td>\n",
       "    </tr>\n",
       "    <tr>\n",
       "      <th>7684814</th>\n",
       "      <td>7482845</td>\n",
       "      <td>445494.0</td>\n",
       "      <td>12661</td>\n",
       "      <td>10</td>\n",
       "      <td>2021-03-16 11:22:42</td>\n",
       "    </tr>\n",
       "    <tr>\n",
       "      <th>7684872</th>\n",
       "      <td>7505160</td>\n",
       "      <td>445494.0</td>\n",
       "      <td>12673</td>\n",
       "      <td>10</td>\n",
       "      <td>2021-03-18 08:49:40</td>\n",
       "    </tr>\n",
       "  </tbody>\n",
       "</table>\n",
       "</div>"
      ],
      "text/plain": [
       "         id_trace  id_labdoc  id_user  id_action         action_time\n",
       "7684794   7481881   445494.0    12673         10 2021-03-16 10:05:29\n",
       "7684798   7482763   445494.0    12661         10 2021-03-16 11:18:11\n",
       "7684812   7482817   445494.0    12673         10 2021-03-16 11:21:13\n",
       "7684814   7482845   445494.0    12661         10 2021-03-16 11:22:42\n",
       "7684872   7505160   445494.0    12673         10 2021-03-18 08:49:40"
      ]
     },
     "execution_count": 82,
     "metadata": {},
     "output_type": "execute_result"
    }
   ],
   "source": [
    "id_ld = 445494\n",
    "count_list = get_writing_time(id_ld, trace)\n",
    "labdoc = trace[trace[\"id_labdoc\"]==id_ld]\n",
    "index = get_authors_changes(list(labdoc[\"id_user\"]))\n",
    "ld = labdoc.iloc[index]\n",
    "ld "
   ]
  },
  {
   "cell_type": "code",
   "execution_count": 85,
   "metadata": {},
   "outputs": [],
   "source": [
    "df1 = pd.DataFrame(count_list)\n",
    "df2 =df1.head(2)"
   ]
  },
  {
   "cell_type": "code",
   "execution_count": 87,
   "metadata": {},
   "outputs": [
    {
     "name": "stdout",
     "output_type": "stream",
     "text": [
      "   A  B\n",
      "0  1  3\n",
      "1  2  4\n",
      "2  5  7\n",
      "3  6  8\n"
     ]
    }
   ],
   "source": [
    "import pandas as pd\n",
    "\n",
    "# créer deux dataframes\n",
    "df1 = pd.DataFrame({'A': [1, 2], 'B': [3, 4]})\n",
    "df2 = pd.DataFrame({'A': [5, 6], 'B': [7, 8]})\n",
    "\n",
    "# concaténer les deux dataframes en ligne\n",
    "df_concat = pd.concat([df1, df2], axis=0,ignore_index= True)\n",
    "\n",
    "print(df_concat)\n"
   ]
  },
  {
   "cell_type": "code",
   "execution_count": null,
   "metadata": {},
   "outputs": [],
   "source": []
  }
 ],
 "metadata": {
  "kernelspec": {
   "display_name": "labnbook",
   "language": "python",
   "name": "python3"
  },
  "language_info": {
   "codemirror_mode": {
    "name": "ipython",
    "version": 3
   },
   "file_extension": ".py",
   "mimetype": "text/x-python",
   "name": "python",
   "nbconvert_exporter": "python",
   "pygments_lexer": "ipython3",
   "version": "3.9.15"
  },
  "orig_nbformat": 4,
  "vscode": {
   "interpreter": {
    "hash": "4c6e5863af2999e22a1ba1f538f1209ba2894312193a6b8c9d944f3a9b4325be"
   }
  }
 },
 "nbformat": 4,
 "nbformat_minor": 2
}
