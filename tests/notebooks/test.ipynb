{
 "cells": [
  {
   "cell_type": "code",
   "execution_count": 1,
   "metadata": {},
   "outputs": [],
   "source": [
    "import json, gzip,ujson\n",
    "import pandas as pd \n",
    "import numpy as np, toml\n",
    "from typing import Tuple, List, Dict\n",
    "import mysql.connector as mariadb"
   ]
  },
  {
   "cell_type": "code",
   "execution_count": 23,
   "metadata": {},
   "outputs": [
    {
     "name": "stderr",
     "output_type": "stream",
     "text": [
      "/var/folders/qz/t1vzp79913l2sfbf0b3d9sdr0000gn/T/ipykernel_13220/483277202.py:5: SettingWithCopyWarning: \n",
      "A value is trying to be set on a copy of a slice from a DataFrame.\n",
      "Try using .loc[row_indexer,col_indexer] = value instead\n",
      "\n",
      "See the caveats in the documentation: https://pandas.pydata.org/pandas-docs/stable/user_guide/indexing.html#returning-a-view-versus-a-copy\n",
      "  summary_labdoc['action_time'] = pd.to_datetime(summary_labdoc['action_time'])\n",
      "/var/folders/qz/t1vzp79913l2sfbf0b3d9sdr0000gn/T/ipykernel_13220/483277202.py:6: SettingWithCopyWarning: \n",
      "A value is trying to be set on a copy of a slice from a DataFrame.\n",
      "Try using .loc[row_indexer,col_indexer] = value instead\n",
      "\n",
      "See the caveats in the documentation: https://pandas.pydata.org/pandas-docs/stable/user_guide/indexing.html#returning-a-view-versus-a-copy\n",
      "  summary_labdoc['edition_time'] = summary_labdoc['action_time'].diff()\n",
      "/var/folders/qz/t1vzp79913l2sfbf0b3d9sdr0000gn/T/ipykernel_13220/483277202.py:8: SettingWithCopyWarning: \n",
      "A value is trying to be set on a copy of a slice from a DataFrame.\n",
      "Try using .loc[row_indexer,col_indexer] = value instead\n",
      "\n",
      "See the caveats in the documentation: https://pandas.pydata.org/pandas-docs/stable/user_guide/indexing.html#returning-a-view-versus-a-copy\n",
      "  summary_labdoc[\"edition_time\"] = summary_labdoc[\"edition_time\"]\n"
     ]
    },
    {
     "data": {
      "text/plain": [
       "7089               NaT\n",
       "7090               NaT\n",
       "7091   0 days 01:12:42\n",
       "7092   0 days 00:03:02\n",
       "7093   0 days 00:01:29\n",
       "7094   1 days 21:26:58\n",
       "Name: edition_time, dtype: timedelta64[ns]"
      ]
     },
     "execution_count": 23,
     "metadata": {},
     "output_type": "execute_result"
    }
   ],
   "source": [
    "selected_labdoc = 445494\n",
    "\n",
    "summary_all  = pd.read_csv('/Users/anis/test_labnbook/semantic_indicator/data/tmp/reports/summary_all.csv', index_col = [0])\n",
    "summary_labdoc = summary_all[summary_all[\"id_labdoc\"] == int(selected_labdoc)]\n",
    "summary_labdoc['action_time'] = pd.to_datetime(summary_labdoc['action_time'])\n",
    "summary_labdoc['edition_time'] = summary_labdoc['action_time'].diff()\n",
    "# Convert to integer value:\n",
    "summary_labdoc[\"edition_time\"] = summary_labdoc[\"edition_time\"]\n",
    "summary_labdoc[\"edition_time\"] "
   ]
  },
  {
   "cell_type": "code",
   "execution_count": 22,
   "metadata": {},
   "outputs": [
    {
     "data": {
      "text/plain": [
       "7089               NaT\n",
       "7090               NaT\n",
       "7091   0 days 01:12:42\n",
       "7092   0 days 00:03:02\n",
       "7093   0 days 00:01:29\n",
       "7094   1 days 21:26:58\n",
       "Name: edition_time, dtype: timedelta64[ns]"
      ]
     },
     "execution_count": 22,
     "metadata": {},
     "output_type": "execute_result"
    }
   ],
   "source": [
    "summary_labdoc['edition_time'] =pd.to_timedelta(summary_labdoc['edition_time'])"
   ]
  },
  {
   "cell_type": "markdown",
   "metadata": {},
   "source": []
  },
  {
   "cell_type": "code",
   "execution_count": 25,
   "metadata": {},
   "outputs": [
    {
     "data": {
      "text/plain": [
       "7089            NaN\n",
       "7090            NaN\n",
       "7091      72.700000\n",
       "7092       3.033333\n",
       "7093       1.483333\n",
       "7094    2726.966667\n",
       "Name: edition_time, dtype: float64"
      ]
     },
     "execution_count": 25,
     "metadata": {},
     "output_type": "execute_result"
    }
   ],
   "source": [
    "summary_labdoc['edition_time'] "
   ]
  },
  {
   "cell_type": "code",
   "execution_count": 26,
   "metadata": {},
   "outputs": [
    {
     "data": {
      "text/html": [
       "<div>\n",
       "<style scoped>\n",
       "    .dataframe tbody tr th:only-of-type {\n",
       "        vertical-align: middle;\n",
       "    }\n",
       "\n",
       "    .dataframe tbody tr th {\n",
       "        vertical-align: top;\n",
       "    }\n",
       "\n",
       "    .dataframe thead th {\n",
       "        text-align: right;\n",
       "    }\n",
       "</style>\n",
       "<table border=\"1\" class=\"dataframe\">\n",
       "  <thead>\n",
       "    <tr style=\"text-align: right;\">\n",
       "      <th></th>\n",
       "      <th>eqc</th>\n",
       "      <th>coec</th>\n",
       "    </tr>\n",
       "  </thead>\n",
       "  <tbody>\n",
       "    <tr>\n",
       "      <th>7089</th>\n",
       "      <td>0.000000</td>\n",
       "      <td>0.000000</td>\n",
       "    </tr>\n",
       "    <tr>\n",
       "      <th>7090</th>\n",
       "      <td>0.000000</td>\n",
       "      <td>0.000000</td>\n",
       "    </tr>\n",
       "    <tr>\n",
       "      <th>7091</th>\n",
       "      <td>0.042793</td>\n",
       "      <td>0.045333</td>\n",
       "    </tr>\n",
       "    <tr>\n",
       "      <th>7092</th>\n",
       "      <td>0.066413</td>\n",
       "      <td>0.070133</td>\n",
       "    </tr>\n",
       "    <tr>\n",
       "      <th>7093</th>\n",
       "      <td>0.066413</td>\n",
       "      <td>0.070133</td>\n",
       "    </tr>\n",
       "    <tr>\n",
       "      <th>7094</th>\n",
       "      <td>0.118471</td>\n",
       "      <td>0.150075</td>\n",
       "    </tr>\n",
       "  </tbody>\n",
       "</table>\n",
       "</div>"
      ],
      "text/plain": [
       "           eqc      coec\n",
       "7089  0.000000  0.000000\n",
       "7090  0.000000  0.000000\n",
       "7091  0.042793  0.045333\n",
       "7092  0.066413  0.070133\n",
       "7093  0.066413  0.070133\n",
       "7094  0.118471  0.150075"
      ]
     },
     "execution_count": 26,
     "metadata": {},
     "output_type": "execute_result"
    }
   ],
   "source": [
    "summary_labdoc[['eqc','coec']]"
   ]
  },
  {
   "cell_type": "code",
   "execution_count": 28,
   "metadata": {},
   "outputs": [
    {
     "name": "stderr",
     "output_type": "stream",
     "text": [
      "/var/folders/qz/t1vzp79913l2sfbf0b3d9sdr0000gn/T/ipykernel_13220/3131653315.py:1: SettingWithCopyWarning: \n",
      "A value is trying to be set on a copy of a slice from a DataFrame\n",
      "\n",
      "See the caveats in the documentation: https://pandas.pydata.org/pandas-docs/stable/user_guide/indexing.html#returning-a-view-versus-a-copy\n",
      "  summary_labdoc.drop(['id_mission','id_report'],axis =1, inplace = True)\n"
     ]
    }
   ],
   "source": [
    "summary_labdoc.drop(['id_mission','id_report'],axis =1, inplace = True)\n"
   ]
  },
  {
   "cell_type": "code",
   "execution_count": 29,
   "metadata": {},
   "outputs": [
    {
     "data": {
      "text/html": [
       "<div>\n",
       "<style scoped>\n",
       "    .dataframe tbody tr th:only-of-type {\n",
       "        vertical-align: middle;\n",
       "    }\n",
       "\n",
       "    .dataframe tbody tr th {\n",
       "        vertical-align: top;\n",
       "    }\n",
       "\n",
       "    .dataframe thead th {\n",
       "        text-align: right;\n",
       "    }\n",
       "</style>\n",
       "<table border=\"1\" class=\"dataframe\">\n",
       "  <thead>\n",
       "    <tr style=\"text-align: right;\">\n",
       "      <th></th>\n",
       "      <th>id_labdoc</th>\n",
       "      <th>id_trace</th>\n",
       "      <th>action_time</th>\n",
       "      <th>n_users</th>\n",
       "      <th>teacher</th>\n",
       "      <th>n_tokens</th>\n",
       "      <th>n_segments</th>\n",
       "      <th>eqc</th>\n",
       "      <th>coec</th>\n",
       "      <th>user</th>\n",
       "      <th>sim</th>\n",
       "      <th>edition_time</th>\n",
       "    </tr>\n",
       "  </thead>\n",
       "  <tbody>\n",
       "    <tr>\n",
       "      <th>7089</th>\n",
       "      <td>445494</td>\n",
       "      <td>0</td>\n",
       "      <td>NaT</td>\n",
       "      <td>1</td>\n",
       "      <td>1</td>\n",
       "      <td>86</td>\n",
       "      <td>1</td>\n",
       "      <td>0.000000</td>\n",
       "      <td>0.000000</td>\n",
       "      <td>ens</td>\n",
       "      <td>1.00</td>\n",
       "      <td>NaN</td>\n",
       "    </tr>\n",
       "    <tr>\n",
       "      <th>7090</th>\n",
       "      <td>445494</td>\n",
       "      <td>7481881</td>\n",
       "      <td>2021-03-16 10:05:29</td>\n",
       "      <td>2</td>\n",
       "      <td>1</td>\n",
       "      <td>112</td>\n",
       "      <td>3</td>\n",
       "      <td>0.000000</td>\n",
       "      <td>0.000000</td>\n",
       "      <td>12673</td>\n",
       "      <td>0.69</td>\n",
       "      <td>NaN</td>\n",
       "    </tr>\n",
       "    <tr>\n",
       "      <th>7091</th>\n",
       "      <td>445494</td>\n",
       "      <td>7482763</td>\n",
       "      <td>2021-03-16 11:18:11</td>\n",
       "      <td>3</td>\n",
       "      <td>1</td>\n",
       "      <td>111</td>\n",
       "      <td>3</td>\n",
       "      <td>0.042793</td>\n",
       "      <td>0.045333</td>\n",
       "      <td>12661</td>\n",
       "      <td>1.00</td>\n",
       "      <td>72.700000</td>\n",
       "    </tr>\n",
       "    <tr>\n",
       "      <th>7092</th>\n",
       "      <td>445494</td>\n",
       "      <td>7482817</td>\n",
       "      <td>2021-03-16 11:21:13</td>\n",
       "      <td>3</td>\n",
       "      <td>1</td>\n",
       "      <td>121</td>\n",
       "      <td>6</td>\n",
       "      <td>0.066413</td>\n",
       "      <td>0.070133</td>\n",
       "      <td>12673</td>\n",
       "      <td>1.00</td>\n",
       "      <td>3.033333</td>\n",
       "    </tr>\n",
       "    <tr>\n",
       "      <th>7093</th>\n",
       "      <td>445494</td>\n",
       "      <td>7482845</td>\n",
       "      <td>2021-03-16 11:22:42</td>\n",
       "      <td>3</td>\n",
       "      <td>1</td>\n",
       "      <td>121</td>\n",
       "      <td>6</td>\n",
       "      <td>0.066413</td>\n",
       "      <td>0.070133</td>\n",
       "      <td>12661</td>\n",
       "      <td>1.00</td>\n",
       "      <td>1.483333</td>\n",
       "    </tr>\n",
       "    <tr>\n",
       "      <th>7094</th>\n",
       "      <td>445494</td>\n",
       "      <td>7505160</td>\n",
       "      <td>2021-03-18 08:49:40</td>\n",
       "      <td>3</td>\n",
       "      <td>1</td>\n",
       "      <td>150</td>\n",
       "      <td>8</td>\n",
       "      <td>0.118471</td>\n",
       "      <td>0.150075</td>\n",
       "      <td>12673</td>\n",
       "      <td>0.98</td>\n",
       "      <td>2726.966667</td>\n",
       "    </tr>\n",
       "  </tbody>\n",
       "</table>\n",
       "</div>"
      ],
      "text/plain": [
       "      id_labdoc  id_trace         action_time  n_users  teacher  n_tokens  \\\n",
       "7089     445494         0                 NaT        1        1        86   \n",
       "7090     445494   7481881 2021-03-16 10:05:29        2        1       112   \n",
       "7091     445494   7482763 2021-03-16 11:18:11        3        1       111   \n",
       "7092     445494   7482817 2021-03-16 11:21:13        3        1       121   \n",
       "7093     445494   7482845 2021-03-16 11:22:42        3        1       121   \n",
       "7094     445494   7505160 2021-03-18 08:49:40        3        1       150   \n",
       "\n",
       "      n_segments       eqc      coec   user   sim  edition_time  \n",
       "7089           1  0.000000  0.000000    ens  1.00           NaN  \n",
       "7090           3  0.000000  0.000000  12673  0.69           NaN  \n",
       "7091           3  0.042793  0.045333  12661  1.00     72.700000  \n",
       "7092           6  0.066413  0.070133  12673  1.00      3.033333  \n",
       "7093           6  0.066413  0.070133  12661  1.00      1.483333  \n",
       "7094           8  0.118471  0.150075  12673  0.98   2726.966667  "
      ]
     },
     "execution_count": 29,
     "metadata": {},
     "output_type": "execute_result"
    }
   ],
   "source": [
    "summary_labdoc"
   ]
  },
  {
   "cell_type": "code",
   "execution_count": 35,
   "metadata": {},
   "outputs": [
    {
     "data": {
      "text/plain": [
       "array([35531, 35532, 35533, 35534, 35535, 35536, 35549, 35550, 35551,\n",
       "       35552, 35553, 35554, 35567, 35568, 35569, 35570, 35571, 35572,\n",
       "       35585, 35586, 35587, 35588, 35589, 35590, 35693, 35694, 35695,\n",
       "       35696, 35697, 35698, 35797, 35798, 35799, 35800, 35801, 35802,\n",
       "       35815, 35816, 35817, 35818, 35819, 35820, 35917, 35918, 35919,\n",
       "       35920, 35921, 35922, 35936, 35937, 35938, 35939, 35940, 35941,\n",
       "       36453, 36454, 36455, 36456, 36457, 36458])"
      ]
     },
     "execution_count": 35,
     "metadata": {},
     "output_type": "execute_result"
    }
   ],
   "source": [
    "selected_mission =451\n"
   ]
  },
  {
   "cell_type": "code",
   "execution_count": 51,
   "metadata": {},
   "outputs": [
    {
     "data": {
      "text/html": [
       "<div>\n",
       "<style scoped>\n",
       "    .dataframe tbody tr th:only-of-type {\n",
       "        vertical-align: middle;\n",
       "    }\n",
       "\n",
       "    .dataframe tbody tr th {\n",
       "        vertical-align: top;\n",
       "    }\n",
       "\n",
       "    .dataframe thead th {\n",
       "        text-align: right;\n",
       "    }\n",
       "</style>\n",
       "<table border=\"1\" class=\"dataframe\">\n",
       "  <thead>\n",
       "    <tr style=\"text-align: right;\">\n",
       "      <th></th>\n",
       "      <th>0</th>\n",
       "    </tr>\n",
       "  </thead>\n",
       "  <tbody>\n",
       "    <tr>\n",
       "      <th>0</th>\n",
       "      <td>NaN</td>\n",
       "    </tr>\n",
       "    <tr>\n",
       "      <th>1</th>\n",
       "      <td>NaN</td>\n",
       "    </tr>\n",
       "    <tr>\n",
       "      <th>2</th>\n",
       "      <td>NaN</td>\n",
       "    </tr>\n",
       "  </tbody>\n",
       "</table>\n",
       "</div>"
      ],
      "text/plain": [
       "     0\n",
       "0  NaN\n",
       "1  NaN\n",
       "2  NaN"
      ]
     },
     "execution_count": 51,
     "metadata": {},
     "output_type": "execute_result"
    }
   ],
   "source": [
    "s = pd.Series(['anis@hddgmail.com', 'b2', 'c3'])\n",
    "s.str.extract(r'(/^\\S+@\\S+$/)')\n"
   ]
  },
  {
   "cell_type": "code",
   "execution_count": 52,
   "metadata": {},
   "outputs": [
    {
     "data": {
      "text/plain": [
       "0    anis@hddgmail.com\n",
       "1                   b2\n",
       "2                   c3\n",
       "dtype: object"
      ]
     },
     "execution_count": 52,
     "metadata": {},
     "output_type": "execute_result"
    }
   ],
   "source": [
    "s"
   ]
  },
  {
   "cell_type": "code",
   "execution_count": null,
   "metadata": {},
   "outputs": [],
   "source": []
  }
 ],
 "metadata": {
  "kernelspec": {
   "display_name": "labnbook",
   "language": "python",
   "name": "python3"
  },
  "language_info": {
   "codemirror_mode": {
    "name": "ipython",
    "version": 3
   },
   "file_extension": ".py",
   "mimetype": "text/x-python",
   "name": "python",
   "nbconvert_exporter": "python",
   "pygments_lexer": "ipython3",
   "version": "3.9.15"
  },
  "orig_nbformat": 4,
  "vscode": {
   "interpreter": {
    "hash": "4c6e5863af2999e22a1ba1f538f1209ba2894312193a6b8c9d944f3a9b4325be"
   }
  }
 },
 "nbformat": 4,
 "nbformat_minor": 2
}
