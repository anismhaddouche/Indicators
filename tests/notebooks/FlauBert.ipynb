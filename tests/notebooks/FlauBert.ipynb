{
 "cells": [
  {
   "cell_type": "code",
   "execution_count": 1,
   "metadata": {},
   "outputs": [
    {
     "name": "stderr",
     "output_type": "stream",
     "text": [
      "Some weights of the model checkpoint at flaubert/flaubert_base_cased were not used when initializing FlaubertModel: ['pred_layer.proj.weight', 'pred_layer.proj.bias']\n",
      "- This IS expected if you are initializing FlaubertModel from the checkpoint of a model trained on another task or with another architecture (e.g. initializing a BertForSequenceClassification model from a BertForPreTraining model).\n",
      "- This IS NOT expected if you are initializing FlaubertModel from the checkpoint of a model that you expect to be exactly identical (initializing a BertForSequenceClassification model from a BertForSequenceClassification model).\n"
     ]
    }
   ],
   "source": [
    "# from transformers import FlaubertTokenizer, FlaubertWithLMHeadModel\n",
    "\n",
    "# modelname = 'flaubert/flaubert_base_cased' \n",
    "\n",
    "# tokenizer = FlaubertTokenizer.from_pretrained(modelname)\n",
    "# model = FlaubertWithLMHeadModel.from_pretrained(modelname)\n",
    "\n",
    "\n",
    "import torch\n",
    "from transformers import FlaubertModel, FlaubertTokenizer\n",
    "\n",
    "# Choose among ['flaubert/flaubert_small_cased', 'flaubert/flaubert_base_uncased', \n",
    "#               'flaubert/flaubert_base_cased', 'flaubert/flaubert_large_cased']\n",
    "modelname = 'flaubert/flaubert_base_cased' \n",
    "\n",
    "# Load pretrained model and tokenizer\n",
    "flaubert, log = FlaubertModel.from_pretrained(modelname, output_loading_info=True)\n",
    "flaubert_tokenizer = FlaubertTokenizer.from_pretrained(modelname, do_lowercase=False)"
   ]
  },
  {
   "cell_type": "code",
   "execution_count": 2,
   "metadata": {},
   "outputs": [
    {
     "name": "stdout",
     "output_type": "stream",
     "text": [
      "torch.Size([1, 8, 768])\n"
     ]
    }
   ],
   "source": [
    "sentence = \"Le chat mange une pomme.\"\n",
    "token_ids = torch.tensor([flaubert_tokenizer.encode(sentence)])\n",
    "\n",
    "last_layer = flaubert(token_ids)[0]\n",
    "print(last_layer.shape)\n",
    "# torch.Size([1, 8, 768])  -> (batch size x number of tokens x embedding dimension)\n",
    "\n",
    "# The BERT [CLS] token correspond to the first hidden state of the last layer\n",
    "cls_embedding = last_layer[:, 0, :]"
   ]
  },
  {
   "cell_type": "code",
   "execution_count": null,
   "metadata": {},
   "outputs": [],
   "source": []
  }
 ],
 "metadata": {
  "kernelspec": {
   "display_name": "ml",
   "language": "python",
   "name": "python3"
  },
  "language_info": {
   "codemirror_mode": {
    "name": "ipython",
    "version": 3
   },
   "file_extension": ".py",
   "mimetype": "text/x-python",
   "name": "python",
   "nbconvert_exporter": "python",
   "pygments_lexer": "ipython3",
   "version": "3.9.15"
  },
  "orig_nbformat": 4,
  "vscode": {
   "interpreter": {
    "hash": "6858b1835064cab291101c865415fd356e7546d881ed146b1857a6230f401810"
   }
  }
 },
 "nbformat": 4,
 "nbformat_minor": 2
}
